{
 "cells": [
  {
   "cell_type": "markdown",
   "metadata": {},
   "source": [
    "# Project description"
   ]
  },
  {
   "cell_type": "markdown",
   "metadata": {},
   "source": [
    "Film Junky Union, a cutting-edge new community for classic movie fans, is developing a system for filtering and categorizing movie reviews. Your goal is to train a model to detect negative reviews automatically. To achieve this, you will use a dataset of IMDB movie reviews with polarity legends to build a model to classify positive and negative reviews. This must reach an F1 value of at least 0.85."
   ]
  },
  {
   "cell_type": "markdown",
   "metadata": {},
   "source": [
    "## Initialization"
   ]
  },
  {
   "cell_type": "code",
   "execution_count": 1,
   "metadata": {},
   "outputs": [
    {
     "name": "stderr",
     "output_type": "stream",
     "text": [
      "[nltk_data] Downloading package punkt to /Users/tania/nltk_data...\n",
      "[nltk_data]   Package punkt is already up-to-date!\n",
      "[nltk_data] Downloading package wordnet to /Users/tania/nltk_data...\n",
      "[nltk_data]   Package wordnet is already up-to-date!\n",
      "[nltk_data] Downloading package stopwords to /Users/tania/nltk_data...\n",
      "[nltk_data]   Package stopwords is already up-to-date!\n",
      "[nltk_data] Downloading package punkt to /Users/tania/nltk_data...\n",
      "[nltk_data]   Package punkt is already up-to-date!\n",
      "[nltk_data] Downloading package wordnet to /Users/tania/nltk_data...\n",
      "[nltk_data]   Package wordnet is already up-to-date!\n",
      "[nltk_data] Downloading package stopwords to /Users/tania/nltk_data...\n",
      "[nltk_data]   Package stopwords is already up-to-date!\n"
     ]
    }
   ],
   "source": [
    "import math\n",
    "import numpy as np\n",
    "import pandas as pd\n",
    "#import lightgbm as lgb\n",
    "import matplotlib\n",
    "import matplotlib.pyplot as plt\n",
    "import matplotlib.dates as mdates\n",
    "import seaborn as sns\n",
    "import torch\n",
    "import transformers\n",
    "import logging\n",
    "import re\n",
    "from tqdm.auto import tqdm\n",
    "import nltk\n",
    "nltk.download('punkt')\n",
    "from sklearn.feature_extraction.text import TfidfVectorizer\n",
    "from sklearn.linear_model import LogisticRegression\n",
    "from nltk.stem import WordNetLemmatizer\n",
    "from nltk.tokenize import word_tokenize\n",
    "from nltk.corpus import stopwords\n",
    "from nltk.corpus import stopwords as nltk_stopwords\n",
    "from sklearn.feature_extraction.text import TfidfVectorizer\n",
    "import spacy\n",
    "import random\n",
    "import nltk\n",
    "from nltk.tokenize import word_tokenize\n",
    "from nltk.stem import WordNetLemmatizer\n",
    "nltk.download('wordnet')\n",
    "nltk.data.path.append('python/Proyecto 14')\n",
    "nltk.download('stopwords')\n",
    "from sklearn.dummy import DummyClassifier\n",
    "from sklearn.metrics import f1_score\n",
    "from sklearn import metrics\n",
    "import nltk\n",
    "nltk.download('punkt')\n",
    "nltk.download('wordnet')\n",
    "nltk.download('stopwords')\n",
    "import nltk\n",
    "import spacy\n",
    "nlp = spacy.load('en_core_web_sm') "
   ]
  },
  {
   "cell_type": "code",
   "execution_count": 2,
   "metadata": {},
   "outputs": [],
   "source": [
    "%matplotlib inline\n",
    "%config InlineBackend.figure_format = 'png'\n",
    "#the next line provides better quality graphics on HiDPI displays\n",
    "#%config InlineBackend.figure_format = 'retina'\n",
    "\n",
    "sns.set_style()  # Apply default Seaborn styles"
   ]
  },
  {
   "cell_type": "code",
   "execution_count": 3,
   "metadata": {},
   "outputs": [],
   "source": [
    "#this is to use progress_apply, you can read more at https://pypi.org/project/tqdm/#pandas-integration\n",
    "tqdm.pandas()"
   ]
  },
  {
   "cell_type": "markdown",
   "metadata": {},
   "source": [
    "## Load data"
   ]
  },
  {
   "cell_type": "code",
   "execution_count": 4,
   "metadata": {},
   "outputs": [],
   "source": [
    "# Read the IMDb reviews data from a TSV file into a Pandas DataFrame\n",
    "df_reviews = pd.read_csv('imdb_reviews.tsv', sep='\\t', dtype={'votes': 'Int64'})"
   ]
  },
  {
   "cell_type": "code",
   "execution_count": 5,
   "metadata": {},
   "outputs": [
    {
     "name": "stdout",
     "output_type": "stream",
     "text": [
      "<class 'pandas.core.frame.DataFrame'>\n",
      "RangeIndex: 47331 entries, 0 to 47330\n",
      "Data columns (total 17 columns):\n",
      " #   Column           Non-Null Count  Dtype  \n",
      "---  ------           --------------  -----  \n",
      " 0   tconst           47331 non-null  object \n",
      " 1   title_type       47331 non-null  object \n",
      " 2   primary_title    47331 non-null  object \n",
      " 3   original_title   47331 non-null  object \n",
      " 4   start_year       47331 non-null  int64  \n",
      " 5   end_year         47331 non-null  object \n",
      " 6   runtime_minutes  47331 non-null  object \n",
      " 7   is_adult         47331 non-null  int64  \n",
      " 8   genres           47331 non-null  object \n",
      " 9   average_rating   47329 non-null  float64\n",
      " 10  votes            47329 non-null  Int64  \n",
      " 11  review           47331 non-null  object \n",
      " 12  rating           47331 non-null  int64  \n",
      " 13  sp               47331 non-null  object \n",
      " 14  pos              47331 non-null  int64  \n",
      " 15  ds_part          47331 non-null  object \n",
      " 16  idx              47331 non-null  int64  \n",
      "dtypes: Int64(1), float64(1), int64(5), object(10)\n",
      "memory usage: 6.2+ MB\n"
     ]
    }
   ],
   "source": [
    "#Analyze general information\n",
    "df_reviews.info()"
   ]
  },
  {
   "cell_type": "code",
   "execution_count": 6,
   "metadata": {},
   "outputs": [
    {
     "data": {
      "text/html": [
       "<div>\n",
       "<style scoped>\n",
       "    .dataframe tbody tr th:only-of-type {\n",
       "        vertical-align: middle;\n",
       "    }\n",
       "\n",
       "    .dataframe tbody tr th {\n",
       "        vertical-align: top;\n",
       "    }\n",
       "\n",
       "    .dataframe thead th {\n",
       "        text-align: right;\n",
       "    }\n",
       "</style>\n",
       "<table border=\"1\" class=\"dataframe\">\n",
       "  <thead>\n",
       "    <tr style=\"text-align: right;\">\n",
       "      <th></th>\n",
       "      <th>start_year</th>\n",
       "      <th>is_adult</th>\n",
       "      <th>average_rating</th>\n",
       "      <th>votes</th>\n",
       "      <th>rating</th>\n",
       "      <th>pos</th>\n",
       "      <th>idx</th>\n",
       "    </tr>\n",
       "  </thead>\n",
       "  <tbody>\n",
       "    <tr>\n",
       "      <th>count</th>\n",
       "      <td>47331.000000</td>\n",
       "      <td>47331.000000</td>\n",
       "      <td>47329.000000</td>\n",
       "      <td>47329.0</td>\n",
       "      <td>47331.000000</td>\n",
       "      <td>47331.000000</td>\n",
       "      <td>47331.000000</td>\n",
       "    </tr>\n",
       "    <tr>\n",
       "      <th>mean</th>\n",
       "      <td>1989.631235</td>\n",
       "      <td>0.001732</td>\n",
       "      <td>5.998278</td>\n",
       "      <td>25562.917323</td>\n",
       "      <td>5.484608</td>\n",
       "      <td>0.498954</td>\n",
       "      <td>6279.697999</td>\n",
       "    </tr>\n",
       "    <tr>\n",
       "      <th>std</th>\n",
       "      <td>19.600364</td>\n",
       "      <td>0.041587</td>\n",
       "      <td>1.494289</td>\n",
       "      <td>83670.039163</td>\n",
       "      <td>3.473109</td>\n",
       "      <td>0.500004</td>\n",
       "      <td>3605.702545</td>\n",
       "    </tr>\n",
       "    <tr>\n",
       "      <th>min</th>\n",
       "      <td>1894.000000</td>\n",
       "      <td>0.000000</td>\n",
       "      <td>1.400000</td>\n",
       "      <td>9.0</td>\n",
       "      <td>1.000000</td>\n",
       "      <td>0.000000</td>\n",
       "      <td>0.000000</td>\n",
       "    </tr>\n",
       "    <tr>\n",
       "      <th>25%</th>\n",
       "      <td>1982.000000</td>\n",
       "      <td>0.000000</td>\n",
       "      <td>5.100000</td>\n",
       "      <td>827.0</td>\n",
       "      <td>2.000000</td>\n",
       "      <td>0.000000</td>\n",
       "      <td>3162.000000</td>\n",
       "    </tr>\n",
       "    <tr>\n",
       "      <th>50%</th>\n",
       "      <td>1998.000000</td>\n",
       "      <td>0.000000</td>\n",
       "      <td>6.300000</td>\n",
       "      <td>3197.0</td>\n",
       "      <td>4.000000</td>\n",
       "      <td>0.000000</td>\n",
       "      <td>6299.000000</td>\n",
       "    </tr>\n",
       "    <tr>\n",
       "      <th>75%</th>\n",
       "      <td>2004.000000</td>\n",
       "      <td>0.000000</td>\n",
       "      <td>7.100000</td>\n",
       "      <td>13974.0</td>\n",
       "      <td>9.000000</td>\n",
       "      <td>1.000000</td>\n",
       "      <td>9412.000000</td>\n",
       "    </tr>\n",
       "    <tr>\n",
       "      <th>max</th>\n",
       "      <td>2010.000000</td>\n",
       "      <td>1.000000</td>\n",
       "      <td>9.700000</td>\n",
       "      <td>1739448.0</td>\n",
       "      <td>10.000000</td>\n",
       "      <td>1.000000</td>\n",
       "      <td>12499.000000</td>\n",
       "    </tr>\n",
       "  </tbody>\n",
       "</table>\n",
       "</div>"
      ],
      "text/plain": [
       "         start_year      is_adult  average_rating         votes        rating  \\\n",
       "count  47331.000000  47331.000000    47329.000000       47329.0  47331.000000   \n",
       "mean    1989.631235      0.001732        5.998278  25562.917323      5.484608   \n",
       "std       19.600364      0.041587        1.494289  83670.039163      3.473109   \n",
       "min     1894.000000      0.000000        1.400000           9.0      1.000000   \n",
       "25%     1982.000000      0.000000        5.100000         827.0      2.000000   \n",
       "50%     1998.000000      0.000000        6.300000        3197.0      4.000000   \n",
       "75%     2004.000000      0.000000        7.100000       13974.0      9.000000   \n",
       "max     2010.000000      1.000000        9.700000     1739448.0     10.000000   \n",
       "\n",
       "                pos           idx  \n",
       "count  47331.000000  47331.000000  \n",
       "mean       0.498954   6279.697999  \n",
       "std        0.500004   3605.702545  \n",
       "min        0.000000      0.000000  \n",
       "25%        0.000000   3162.000000  \n",
       "50%        0.000000   6299.000000  \n",
       "75%        1.000000   9412.000000  \n",
       "max        1.000000  12499.000000  "
      ]
     },
     "execution_count": 6,
     "metadata": {},
     "output_type": "execute_result"
    }
   ],
   "source": [
    "#generate descriptive statistics for the numerical columns in the DataFrame \n",
    "df_reviews.describe()"
   ]
  },
  {
   "cell_type": "code",
   "execution_count": 7,
   "metadata": {},
   "outputs": [
    {
     "data": {
      "text/html": [
       "<div>\n",
       "<style scoped>\n",
       "    .dataframe tbody tr th:only-of-type {\n",
       "        vertical-align: middle;\n",
       "    }\n",
       "\n",
       "    .dataframe tbody tr th {\n",
       "        vertical-align: top;\n",
       "    }\n",
       "\n",
       "    .dataframe thead th {\n",
       "        text-align: right;\n",
       "    }\n",
       "</style>\n",
       "<table border=\"1\" class=\"dataframe\">\n",
       "  <thead>\n",
       "    <tr style=\"text-align: right;\">\n",
       "      <th></th>\n",
       "      <th>tconst</th>\n",
       "      <th>title_type</th>\n",
       "      <th>primary_title</th>\n",
       "      <th>original_title</th>\n",
       "      <th>start_year</th>\n",
       "      <th>end_year</th>\n",
       "      <th>runtime_minutes</th>\n",
       "      <th>is_adult</th>\n",
       "      <th>genres</th>\n",
       "      <th>average_rating</th>\n",
       "      <th>votes</th>\n",
       "      <th>review</th>\n",
       "      <th>rating</th>\n",
       "      <th>sp</th>\n",
       "      <th>pos</th>\n",
       "      <th>ds_part</th>\n",
       "      <th>idx</th>\n",
       "    </tr>\n",
       "  </thead>\n",
       "  <tbody>\n",
       "    <tr>\n",
       "      <th>0</th>\n",
       "      <td>tt0068152</td>\n",
       "      <td>movie</td>\n",
       "      <td>$</td>\n",
       "      <td>$</td>\n",
       "      <td>1971</td>\n",
       "      <td>\\N</td>\n",
       "      <td>121</td>\n",
       "      <td>0</td>\n",
       "      <td>Comedy,Crime,Drama</td>\n",
       "      <td>6.3</td>\n",
       "      <td>2218</td>\n",
       "      <td>The pakage implies that Warren Beatty and Gold...</td>\n",
       "      <td>1</td>\n",
       "      <td>neg</td>\n",
       "      <td>0</td>\n",
       "      <td>train</td>\n",
       "      <td>8335</td>\n",
       "    </tr>\n",
       "    <tr>\n",
       "      <th>1</th>\n",
       "      <td>tt0068152</td>\n",
       "      <td>movie</td>\n",
       "      <td>$</td>\n",
       "      <td>$</td>\n",
       "      <td>1971</td>\n",
       "      <td>\\N</td>\n",
       "      <td>121</td>\n",
       "      <td>0</td>\n",
       "      <td>Comedy,Crime,Drama</td>\n",
       "      <td>6.3</td>\n",
       "      <td>2218</td>\n",
       "      <td>How the hell did they get this made?! Presenti...</td>\n",
       "      <td>1</td>\n",
       "      <td>neg</td>\n",
       "      <td>0</td>\n",
       "      <td>train</td>\n",
       "      <td>8336</td>\n",
       "    </tr>\n",
       "    <tr>\n",
       "      <th>2</th>\n",
       "      <td>tt0313150</td>\n",
       "      <td>short</td>\n",
       "      <td>'15'</td>\n",
       "      <td>'15'</td>\n",
       "      <td>2002</td>\n",
       "      <td>\\N</td>\n",
       "      <td>25</td>\n",
       "      <td>0</td>\n",
       "      <td>Comedy,Drama,Short</td>\n",
       "      <td>6.3</td>\n",
       "      <td>184</td>\n",
       "      <td>There is no real story the film seems more lik...</td>\n",
       "      <td>3</td>\n",
       "      <td>neg</td>\n",
       "      <td>0</td>\n",
       "      <td>test</td>\n",
       "      <td>2489</td>\n",
       "    </tr>\n",
       "    <tr>\n",
       "      <th>3</th>\n",
       "      <td>tt0313150</td>\n",
       "      <td>short</td>\n",
       "      <td>'15'</td>\n",
       "      <td>'15'</td>\n",
       "      <td>2002</td>\n",
       "      <td>\\N</td>\n",
       "      <td>25</td>\n",
       "      <td>0</td>\n",
       "      <td>Comedy,Drama,Short</td>\n",
       "      <td>6.3</td>\n",
       "      <td>184</td>\n",
       "      <td>Um .... a serious film about troubled teens in...</td>\n",
       "      <td>7</td>\n",
       "      <td>pos</td>\n",
       "      <td>1</td>\n",
       "      <td>test</td>\n",
       "      <td>9280</td>\n",
       "    </tr>\n",
       "    <tr>\n",
       "      <th>4</th>\n",
       "      <td>tt0313150</td>\n",
       "      <td>short</td>\n",
       "      <td>'15'</td>\n",
       "      <td>'15'</td>\n",
       "      <td>2002</td>\n",
       "      <td>\\N</td>\n",
       "      <td>25</td>\n",
       "      <td>0</td>\n",
       "      <td>Comedy,Drama,Short</td>\n",
       "      <td>6.3</td>\n",
       "      <td>184</td>\n",
       "      <td>I'm totally agree with GarryJohal from Singapo...</td>\n",
       "      <td>9</td>\n",
       "      <td>pos</td>\n",
       "      <td>1</td>\n",
       "      <td>test</td>\n",
       "      <td>9281</td>\n",
       "    </tr>\n",
       "  </tbody>\n",
       "</table>\n",
       "</div>"
      ],
      "text/plain": [
       "      tconst title_type primary_title original_title  start_year end_year  \\\n",
       "0  tt0068152      movie             $              $        1971       \\N   \n",
       "1  tt0068152      movie             $              $        1971       \\N   \n",
       "2  tt0313150      short          '15'           '15'        2002       \\N   \n",
       "3  tt0313150      short          '15'           '15'        2002       \\N   \n",
       "4  tt0313150      short          '15'           '15'        2002       \\N   \n",
       "\n",
       "  runtime_minutes  is_adult              genres  average_rating  votes  \\\n",
       "0             121         0  Comedy,Crime,Drama             6.3   2218   \n",
       "1             121         0  Comedy,Crime,Drama             6.3   2218   \n",
       "2              25         0  Comedy,Drama,Short             6.3    184   \n",
       "3              25         0  Comedy,Drama,Short             6.3    184   \n",
       "4              25         0  Comedy,Drama,Short             6.3    184   \n",
       "\n",
       "                                              review  rating   sp  pos  \\\n",
       "0  The pakage implies that Warren Beatty and Gold...       1  neg    0   \n",
       "1  How the hell did they get this made?! Presenti...       1  neg    0   \n",
       "2  There is no real story the film seems more lik...       3  neg    0   \n",
       "3  Um .... a serious film about troubled teens in...       7  pos    1   \n",
       "4  I'm totally agree with GarryJohal from Singapo...       9  pos    1   \n",
       "\n",
       "  ds_part   idx  \n",
       "0   train  8335  \n",
       "1   train  8336  \n",
       "2    test  2489  \n",
       "3    test  9280  \n",
       "4    test  9281  "
      ]
     },
     "execution_count": 7,
     "metadata": {},
     "output_type": "execute_result"
    }
   ],
   "source": [
    "#Print the first rows of the Dataframe\n",
    "df_reviews.head()"
   ]
  },
  {
   "cell_type": "code",
   "execution_count": 8,
   "metadata": {},
   "outputs": [
    {
     "name": "stdout",
     "output_type": "stream",
     "text": [
      "0\n"
     ]
    }
   ],
   "source": [
    "#Find duplicated values \n",
    "print(df_reviews.duplicated().sum())"
   ]
  },
  {
   "cell_type": "markdown",
   "metadata": {},
   "source": [
    "## EDA"
   ]
  },
  {
   "cell_type": "markdown",
   "metadata": {},
   "source": [
    "Let's look at the number of films and reviews over the years."
   ]
  },
  {
   "cell_type": "code",
   "execution_count": 9,
   "metadata": {},
   "outputs": [],
   "source": [
    "fig, axs = plt.subplots(2, 1, figsize=(16, 8))  # Create a figure with 2 subplots arranged vertically\n",
    "\n",
    "# 1st subplot: Number of movies released per year\n",
    "ax = axs[0]  # Access the first subplot\n",
    "\n",
    "# Count the number of movies released in each year\n",
    "dft1 = df_reviews[['tconst', 'start_year']].drop_duplicates() \\\n",
    "    ['start_year'].value_counts().sort_index()\n",
    "\n",
    "# Fill missing years with zero counts\n",
    "dft1 = dft1.reindex(index=np.arange(dft1.index.min(), max(dft1.index.max(), 2021))).fillna(0)\n",
    "\n",
    "# Plot the number of movies released per year as a bar chart\n",
    "dft1.plot(kind='bar', ax=ax)\n",
    "\n",
    "# Set the title for the first subplot\n",
    "ax.set_title('Number of Movies Released per Year')\n",
    "\n",
    "# 2nd subplot: Number of positive and negative reviews per year\n",
    "ax = axs[1]  # Access the second subplot\n",
    "\n",
    "# Count the number of positive and negative reviews for each year\n",
    "dft2 = df_reviews.groupby(['start_year', 'pos'])['pos'].count().unstack()\n",
    "\n",
    "# Fill missing years with zero counts\n",
    "dft2 = dft2.reindex(index=np.arange(dft2.index.min(), max(dft2.index.max(), 2021))).fillna(0)\n",
    "\n",
    "# Plot the number of positive and negative reviews as stacked bars\n",
    "dft2.plot(kind='bar', stacked=True, label='#reviews (neg, pos)', ax=ax)\n",
    "\n",
    "# Calculate the average number of reviews per movie per year\n",
    "dft2 = df_reviews['start_year'].value_counts().sort_index()\n",
    "dft2 = dft2.reindex(index=np.arange(dft2.index.min(), max(dft2.index.max(), 2021))).fillna(0)\n",
    "dft3 = (dft2/dft1).fillna(0)\n",
    "\n",
    "# Create a secondary y-axis for the average number of reviews per movie\n",
    "axt = ax.twinx() \n",
    "dft3.reset_index(drop=True).rolling(5).mean().plot(color='orange', label='reviews per movie (avg over 5 years)', ax=axt)\n",
    "\n",
    "# Get handles and labels for the legend\n",
    "lines, labels = axt.get_legend_handles_labels()\n",
    "\n",
    "# Set the legend for both subplots\n",
    "ax.legend(lines, labels, loc='upper left')\n",
    "\n",
    "# Set the title for the second subplot\n",
    "ax.set_title('Number of Reviews and Reviews per Movie Over the Years')\n",
    "\n",
    "# Adjust the layout for better readability\n",
    "fig.tight_layout()"
   ]
  },
  {
   "cell_type": "markdown",
   "metadata": {},
   "source": [
    "Let's look at the distribution of the number of reviews per film with the exact counting and KDE (just to know how to differ from the exact counting)"
   ]
  },
  {
   "cell_type": "code",
   "execution_count": 10,
   "metadata": {},
   "outputs": [
    {
     "data": {
      "image/png": "[encoded data removed]",
      "text/plain": [
       "<Figure size 1600x800 with 3 Axes>"
      ]
     },
     "metadata": {},
     "output_type": "display_data"
    },
    {
     "data": {
      "image/png": "[encoded data removed]",
      "text/plain": [
       "<Figure size 1600x500 with 2 Axes>"
      ]
     },
     "metadata": {},
     "output_type": "display_data"
    }
   ],
   "source": [
    "# Create a figure and a 1x2 grid of subplots with a larger figure size\n",
    "fig, axs = plt.subplots(1, 2, figsize=(16, 5))\n",
    "\n",
    "# Subplot 1: Bar chart for review counts\n",
    "ax = axs[0]  # Select the first subplot\n",
    "\n",
    "# Calculate review counts for each movie (tconst) and sort by frequency\n",
    "dft = df_reviews.groupby('tconst')['review'].count() \\\n",
    "    .value_counts() \\\n",
    "    .sort_index()\n",
    "\n",
    "# Create a bar chart to visualize the review count distribution\n",
    "dft.plot.bar(ax=ax)\n",
    "\n",
    "# Set a title for the bar chart\n",
    "ax.set_title('Bar Chart of Reviews per Movie')\n",
    "\n",
    "# Subplot 2: KDE plot for review counts\n",
    "ax = axs[1]  # Select the second subplot\n",
    "\n",
    "# Calculate review counts for each movie (tconst)\n",
    "dft = df_reviews.groupby('tconst')['review'].count()\n",
    "\n",
    "# Create a KDE plot to visualize the density distribution of review counts using seaborn\n",
    "sns.kdeplot(dft, ax=ax)\n",
    "\n",
    "# Set a title for the KDE plot\n",
    "ax.set_title('KDE Plot of Reviews per Movie')\n",
    "\n",
    "# Adjust spacing between subplots to avoid overlapping elements\n",
    "fig.tight_layout()\n",
    "\n",
    "# Display the figure with subplots\n",
    "plt.show()"
   ]
  },
  {
   "cell_type": "code",
   "execution_count": 11,
   "metadata": {},
   "outputs": [
    {
     "data": {
      "text/plain": [
       "pos\n",
       "0    23715\n",
       "1    23616\n",
       "Name: count, dtype: int64"
      ]
     },
     "execution_count": 11,
     "metadata": {},
     "output_type": "execute_result"
    }
   ],
   "source": [
    "#Count the values of the Pos column \n",
    "df_reviews['pos'].value_counts()"
   ]
  },
  {
   "cell_type": "code",
   "execution_count": 12,
   "metadata": {},
   "outputs": [
    {
     "data": {
      "image/png": "[encoded data removed]",
      "text/plain": [
       "<Figure size 1200x400 with 2 Axes>"
      ]
     },
     "metadata": {},
     "output_type": "display_data"
    }
   ],
   "source": [
    "# Create a figure and two subplots (one for training data, one for test data)\n",
    "fig, axs = plt.subplots(1, 2, figsize=(12, 4))  # 1 row, 2 columns, figure size 12x4\n",
    "\n",
    "# Prepare data for training set distribution plot\n",
    "ax = axs[0]  # Select the first subplot (axs[0])\n",
    "dft = df_reviews.query('ds_part == \"train\"')['rating'].value_counts().sort_index()  # Count rating frequencies in training set\n",
    "dft = dft.reindex(index=np.arange(min(dft.index.min(), 1), max(dft.index.max(), 11))).fillna(0)  # Ensure all ratings (1-10) are included, filling missing values with 0\n",
    "dft.plot.bar(ax=ax)  # Create a bar chart to visualize rating distribution on ax\n",
    "\n",
    "# Set limits and title for training set distribution plot\n",
    "ax.set_ylim([0, 5000])  # Set y-axis limits (0 to 5000)\n",
    "ax.set_title('Training Set: Distribution of Ratings')  # Set plot title\n",
    "\n",
    "# Prepare data for test set distribution plot\n",
    "ax = axs[1]  # Select the second subplot (axs[1])\n",
    "dft = df_reviews.query('ds_part == \"test\"')['rating'].value_counts().sort_index()  # Count rating frequencies in test set\n",
    "dft = dft.reindex(index=np.arange(min(dft.index.min(), 1), max(dft.index.max(), 11))).fillna(0)  # Ensure all ratings (1-10) are included, filling missing values with 0\n",
    "dft.plot.bar(ax=ax)  # Create a bar chart to visualize rating distribution on ax\n",
    "\n",
    "# Set limits and title for test set distribution plot\n",
    "ax.set_ylim([0, 5000])  # Set y-axis limits (0 to 5000)\n",
    "ax.set_title('Test Set: Distribution of Ratings')  # Set plot title\n",
    "\n",
    "# Adjust layout to prevent overlapping elements\n",
    "fig.tight_layout()  # Adjust spacing between subplots and labels\n",
    "\n",
    "# Display the plot\n",
    "plt.show()  # You can also save the figure using plt.savefig('rating_distribution.png')"
   ]
  },
  {
   "cell_type": "code",
   "execution_count": null,
   "metadata": {},
   "outputs": [],
   "source": []
  },
  {
   "cell_type": "markdown",
   "metadata": {},
   "source": [
    "Distribution of negative and positive reviews over the years for two parts of the data set"
   ]
  },
  {
   "cell_type": "code",
   "execution_count": 13,
   "metadata": {},
   "outputs": [
    {
     "name": "stderr",
     "output_type": "stream",
     "text": [
      "/var/folders/zz/1lh114c55jj9tjb2vztk4z340000gq/T/ipykernel_41447/4195113331.py:14: UserWarning: \n",
      "\n",
      "Support for alternate kernels has been removed; using Gaussian kernel.\n",
      "This will become an error in seaborn v0.14.0; please update your code.\n",
      "\n",
      "  sns.kdeplot(dft[0], color='blue', label='negative', kernel='epa', ax=ax)\n",
      "/var/folders/zz/1lh114c55jj9tjb2vztk4z340000gq/T/ipykernel_41447/4195113331.py:15: UserWarning: \n",
      "\n",
      "Support for alternate kernels has been removed; using Gaussian kernel.\n",
      "This will become an error in seaborn v0.14.0; please update your code.\n",
      "\n",
      "  sns.kdeplot(dft[1], color='green', label='positive', kernel='epa', ax=ax)\n",
      "/var/folders/zz/1lh114c55jj9tjb2vztk4z340000gq/T/ipykernel_41447/4195113331.py:30: UserWarning: \n",
      "\n",
      "Support for alternate kernels has been removed; using Gaussian kernel.\n",
      "This will become an error in seaborn v0.14.0; please update your code.\n",
      "\n",
      "  sns.kdeplot(dft[0], color='blue', label='negative', kernel='epa', ax=ax)\n",
      "/var/folders/zz/1lh114c55jj9tjb2vztk4z340000gq/T/ipykernel_41447/4195113331.py:31: UserWarning: \n",
      "\n",
      "Support for alternate kernels has been removed; using Gaussian kernel.\n",
      "This will become an error in seaborn v0.14.0; please update your code.\n",
      "\n",
      "  sns.kdeplot(dft[1], color='green', label='positive', kernel='epa', ax=ax)\n"
     ]
    }
   ],
   "source": [
    "fig, axs = plt.subplots(2, 2, figsize=(16, 8), gridspec_kw=dict(width_ratios=(2, 1), height_ratios=(1, 1)))\n",
    "\n",
    "# Top Left: Number of reviews per year and polarity (training set)\n",
    "ax = axs[0][0]\n",
    "dft = df_reviews.query('ds_part == \"train\"').groupby(['start_year', 'pos'])['pos'].count().unstack()\n",
    "dft.index = dft.index.astype('int')\n",
    "dft = dft.reindex(index=np.arange(dft.index.min(), max(dft.index.max(), 2020))).fillna(0)\n",
    "dft.plot(kind='bar', stacked=True, ax=ax)\n",
    "ax.set_title('The training set: number of reviews of different polarities per year')\n",
    "\n",
    "# Top Right: Distribution of polarities per movie (training set)\n",
    "ax = axs[0][1]\n",
    "dft = df_reviews.query('ds_part == \"train\"').groupby(['tconst', 'pos'])['pos'].count().unstack()\n",
    "sns.kdeplot(dft[0], color='blue', label='negative', kernel='epa', ax=ax)\n",
    "sns.kdeplot(dft[1], color='green', label='positive', kernel='epa', ax=ax)\n",
    "ax.legend()\n",
    "ax.set_title('The training set: distribution of different polarities per film')\n",
    "\n",
    "# Bottom Left: Number of reviews per year and polarity (test set)\n",
    "ax = axs[1][0]\n",
    "dft = df_reviews.query('ds_part == \"test\"').groupby(['start_year', 'pos'])['pos'].count().unstack()\n",
    "dft.index = dft.index.astype('int')\n",
    "dft = dft.reindex(index=np.arange(dft.index.min(), max(dft.index.max(), 2020))).fillna(0)\n",
    "dft.plot(kind='bar', stacked=True, ax=ax)\n",
    "ax.set_title('The testing set: number of reviews of different polarities per year ')\n",
    "\n",
    "# Bottom Right: Distribution of polarities per movie (test set)\n",
    "ax = axs[1][1]\n",
    "dft = df_reviews.query('ds_part == \"test\"').groupby(['tconst', 'pos'])['pos'].count().unstack()\n",
    "sns.kdeplot(dft[0], color='blue', label='negative', kernel='epa', ax=ax)\n",
    "sns.kdeplot(dft[1], color='green', label='positive', kernel='epa', ax=ax)\n",
    "ax.legend()\n",
    "ax.set_title ('The testing set: distribution of different polarities per film')\n",
    "\n",
    "fig.tight_layout()"
   ]
  },
  {
   "cell_type": "markdown",
   "metadata": {},
   "source": [
    "## Evaluation procedure"
   ]
  },
  {
   "cell_type": "markdown",
   "metadata": {},
   "source": [
    "Composing an evaluation routine that can be used for all models in this project"
   ]
  },
  {
   "cell_type": "code",
   "execution_count": 14,
   "metadata": {},
   "outputs": [],
   "source": [
    "def evaluate_model(model, train_features, train_target, test_features, test_target):\n",
    "    \"\"\"\n",
    "    This function evaluates the performance of a binary classification model on both training and test data. \n",
    "    It calculates and plots various metrics, including F1-score, ROC AUC, and Average Precision Score.\n",
    "\n",
    "    Args:\n",
    "        model: The trained classification model object.\n",
    "        train_features: Features for the training data.\n",
    "        train_target: True labels for the training data.\n",
    "        test_features: Features for the test data.\n",
    "        test_target: True labels for the test data.\n",
    "\n",
    "    Returns:\n",
    "        A pandas DataFrame containing the calculated evaluation metrics for both training and test data.\n",
    "    \"\"\"\n",
    "\n",
    "    eval_stats = {}\n",
    "\n",
    "    fig, axs = plt.subplots(1, 3, figsize=(20, 6)) \n",
    "\n",
    "    for type, features, target in (('train', train_features, train_target), \n",
    "                                   ('test', test_features, test_target)):\n",
    "\n",
    "        eval_stats[type] = {}\n",
    "\n",
    "        # Predict probabilities for the current data\n",
    "        pred_proba = model.predict_proba(features)[:, 1] \n",
    "        # Predict class labels\n",
    "        pred_target = model.predict(features) \n",
    "\n",
    "        # Calculate F1-score for different thresholds\n",
    "        f1_thresholds = np.arange(0, 1.01, 0.05)\n",
    "        f1_scores = [metrics.f1_score(target, pred_proba >= threshold) for threshold in f1_thresholds]\n",
    "\n",
    "        # Calculate ROC AUC\n",
    "        fpr, tpr, roc_thresholds = metrics.roc_curve(target, pred_proba)\n",
    "        roc_auc = metrics.roc_auc_score(target, pred_proba)    \n",
    "        eval_stats[type]['ROC AUC'] = roc_auc\n",
    "\n",
    "        # Calculate Average Precision Score (APS)\n",
    "        precision, recall, pr_thresholds = metrics.precision_recall_curve(target, pred_proba)\n",
    "        aps = metrics.average_precision_score(target, pred_proba)\n",
    "        eval_stats[type]['APS'] = aps\n",
    "\n",
    "        # Plot F1-score vs. threshold\n",
    "        ax = axs[0]\n",
    "        max_f1_score_idx = np.argmax(f1_scores)\n",
    "        ax.plot(f1_thresholds, f1_scores, color='blue' if type == 'train' else 'green', \n",
    "                label=f'{type}, max={f1_scores[max_f1_score_idx]:.2f} @ {f1_thresholds[max_f1_score_idx]:.2f}')\n",
    "        # Plot markers for specific thresholds\n",
    "        for threshold in (0.2, 0.4, 0.5, 0.6, 0.8):\n",
    "            closest_value_idx = np.argmin(np.abs(f1_thresholds - threshold))\n",
    "            marker_color = 'orange' if threshold != 0.5 else 'red'\n",
    "            ax.plot(f1_thresholds[closest_value_idx], f1_scores[closest_value_idx], \n",
    "                    color=marker_color, marker='X', markersize=7)\n",
    "        ax.set_xlim([-0.02, 1.02])\n",
    "        ax.set_ylim([-0.02, 1.02])\n",
    "        ax.set_xlabel('Threshold')\n",
    "        ax.set_ylabel('F1-score')\n",
    "        ax.legend(loc='lower center')\n",
    "        ax.set_title('F1-score vs. Threshold')\n",
    "\n",
    "        # Plot ROC curve\n",
    "        ax = axs[1]\n",
    "        ax.plot(fpr, tpr, color='blue' if type == 'train' else 'green', \n",
    "                label=f'{type}, ROC AUC={roc_auc:.2f}')\n",
    "        # Plot markers for specific thresholds\n",
    "        for threshold in (0.2, 0.4, 0.5, 0.6, 0.8):\n",
    "            closest_value_idx = np.argmin(np.abs(roc_thresholds - threshold))\n",
    "            marker_color = 'orange' if threshold != 0.5 else 'red'\n",
    "            ax.plot(fpr[closest_value_idx], tpr[closest_value_idx], \n",
    "                    color=marker_color, marker='X', markersize=7)\n",
    "        ax.plot([0, 1], [0, 1], color='grey', linestyle='--')\n",
    "        ax.set_xlim([-0.02, 1.02])\n",
    "        ax.set_ylim([-0.02, 1.02])\n",
    "        ax.set_xlabel('False Positive Rate (FPR)')\n",
    "        ax.set_ylabel('True Positive Rate (TPR)')\n",
    "        ax.legend(loc='lower center')\n",
    "        ax.set_title('ROC Curve')\n",
    "\n",
    "        # Plot Precision-Recall Curve\n",
    "        ax = axs[2]\n",
    "        ax.plot(recall, precision, color='blue' if type == 'train' else 'green', \n",
    "                label=f'{type}, AP={aps:.2f}')\n",
    "        # Plot markers for specific thresholds\n",
    "        for threshold in (0.2, 0.4, 0.5, 0.6, 0.8):\n",
    "            closest_value_idx = np.argmin(np.abs(pr_thresholds - threshold))\n",
    "            marker_color = 'orange' if threshold != 0.5 else 'red'\n",
    "            ax.plot(recall[closest_value_idx], precision[closest_value_idx], \n",
    "                    color=marker_color, marker='X', markersize=7)\n",
    "        ax.set_xlim([-0.02, 1.02])\n",
    "        ax.set_ylim([-0.02, 1.02])\n",
    "        ax.set_xlabel('Recall')\n",
    "        ax.set_ylabel('Precision')\n",
    "        ax.legend(loc='lower center')\n",
    "        ax.set_title('Precision-Recall Curve')\n",
    "\n",
    "        # Calculate Accuracy and F1-score\n",
    "        eval_stats[type]['Accuracy'] = metrics.accuracy_score(target, pred_target)\n",
    "        eval_stats[type]['F1'] = metrics.f1_score(target, pred_target)\n",
    "\n",
    "    # Create a DataFrame to store evaluation metrics\n",
    "    df_eval_stats = pd.DataFrame(eval_stats)\n",
    "    df_eval_stats = df_eval_stats.round(2) \n",
    "    df_eval_stats = df_eval_stats.reindex(index=('Accuracy', 'F1', 'APS', 'ROC AUC')) \n",
    "\n",
    "    print(df_eval_stats)\n",
    "    return df_eval_stats"
   ]
  },
  {
   "cell_type": "markdown",
   "metadata": {},
   "source": [
    "## Normalization"
   ]
  },
  {
   "cell_type": "markdown",
   "metadata": {},
   "source": [
    "We assume that all models below accept texts in lowercase and without digits, punctuation marks, etc."
   ]
  },
  {
   "cell_type": "code",
   "execution_count": 15,
   "metadata": {},
   "outputs": [
    {
     "data": {
      "text/html": [
       "<div>\n",
       "<style scoped>\n",
       "    .dataframe tbody tr th:only-of-type {\n",
       "        vertical-align: middle;\n",
       "    }\n",
       "\n",
       "    .dataframe tbody tr th {\n",
       "        vertical-align: top;\n",
       "    }\n",
       "\n",
       "    .dataframe thead th {\n",
       "        text-align: right;\n",
       "    }\n",
       "</style>\n",
       "<table border=\"1\" class=\"dataframe\">\n",
       "  <thead>\n",
       "    <tr style=\"text-align: right;\">\n",
       "      <th></th>\n",
       "      <th>tconst</th>\n",
       "      <th>title_type</th>\n",
       "      <th>primary_title</th>\n",
       "      <th>original_title</th>\n",
       "      <th>start_year</th>\n",
       "      <th>end_year</th>\n",
       "      <th>runtime_minutes</th>\n",
       "      <th>is_adult</th>\n",
       "      <th>genres</th>\n",
       "      <th>average_rating</th>\n",
       "      <th>votes</th>\n",
       "      <th>review</th>\n",
       "      <th>rating</th>\n",
       "      <th>sp</th>\n",
       "      <th>pos</th>\n",
       "      <th>ds_part</th>\n",
       "      <th>idx</th>\n",
       "    </tr>\n",
       "  </thead>\n",
       "  <tbody>\n",
       "    <tr>\n",
       "      <th>0</th>\n",
       "      <td>tt0068152</td>\n",
       "      <td>movie</td>\n",
       "      <td>$</td>\n",
       "      <td>$</td>\n",
       "      <td>1971</td>\n",
       "      <td>\\N</td>\n",
       "      <td>121</td>\n",
       "      <td>0</td>\n",
       "      <td>Comedy,Crime,Drama</td>\n",
       "      <td>6.3</td>\n",
       "      <td>2218</td>\n",
       "      <td>The pakage implies that Warren Beatty and Gold...</td>\n",
       "      <td>1</td>\n",
       "      <td>neg</td>\n",
       "      <td>0</td>\n",
       "      <td>train</td>\n",
       "      <td>8335</td>\n",
       "    </tr>\n",
       "    <tr>\n",
       "      <th>1</th>\n",
       "      <td>tt0068152</td>\n",
       "      <td>movie</td>\n",
       "      <td>$</td>\n",
       "      <td>$</td>\n",
       "      <td>1971</td>\n",
       "      <td>\\N</td>\n",
       "      <td>121</td>\n",
       "      <td>0</td>\n",
       "      <td>Comedy,Crime,Drama</td>\n",
       "      <td>6.3</td>\n",
       "      <td>2218</td>\n",
       "      <td>How the hell did they get this made?! Presenti...</td>\n",
       "      <td>1</td>\n",
       "      <td>neg</td>\n",
       "      <td>0</td>\n",
       "      <td>train</td>\n",
       "      <td>8336</td>\n",
       "    </tr>\n",
       "    <tr>\n",
       "      <th>2</th>\n",
       "      <td>tt0313150</td>\n",
       "      <td>short</td>\n",
       "      <td>'15'</td>\n",
       "      <td>'15'</td>\n",
       "      <td>2002</td>\n",
       "      <td>\\N</td>\n",
       "      <td>25</td>\n",
       "      <td>0</td>\n",
       "      <td>Comedy,Drama,Short</td>\n",
       "      <td>6.3</td>\n",
       "      <td>184</td>\n",
       "      <td>There is no real story the film seems more lik...</td>\n",
       "      <td>3</td>\n",
       "      <td>neg</td>\n",
       "      <td>0</td>\n",
       "      <td>test</td>\n",
       "      <td>2489</td>\n",
       "    </tr>\n",
       "    <tr>\n",
       "      <th>3</th>\n",
       "      <td>tt0313150</td>\n",
       "      <td>short</td>\n",
       "      <td>'15'</td>\n",
       "      <td>'15'</td>\n",
       "      <td>2002</td>\n",
       "      <td>\\N</td>\n",
       "      <td>25</td>\n",
       "      <td>0</td>\n",
       "      <td>Comedy,Drama,Short</td>\n",
       "      <td>6.3</td>\n",
       "      <td>184</td>\n",
       "      <td>Um .... a serious film about troubled teens in...</td>\n",
       "      <td>7</td>\n",
       "      <td>pos</td>\n",
       "      <td>1</td>\n",
       "      <td>test</td>\n",
       "      <td>9280</td>\n",
       "    </tr>\n",
       "    <tr>\n",
       "      <th>4</th>\n",
       "      <td>tt0313150</td>\n",
       "      <td>short</td>\n",
       "      <td>'15'</td>\n",
       "      <td>'15'</td>\n",
       "      <td>2002</td>\n",
       "      <td>\\N</td>\n",
       "      <td>25</td>\n",
       "      <td>0</td>\n",
       "      <td>Comedy,Drama,Short</td>\n",
       "      <td>6.3</td>\n",
       "      <td>184</td>\n",
       "      <td>I'm totally agree with GarryJohal from Singapo...</td>\n",
       "      <td>9</td>\n",
       "      <td>pos</td>\n",
       "      <td>1</td>\n",
       "      <td>test</td>\n",
       "      <td>9281</td>\n",
       "    </tr>\n",
       "  </tbody>\n",
       "</table>\n",
       "</div>"
      ],
      "text/plain": [
       "      tconst title_type primary_title original_title  start_year end_year  \\\n",
       "0  tt0068152      movie             $              $        1971       \\N   \n",
       "1  tt0068152      movie             $              $        1971       \\N   \n",
       "2  tt0313150      short          '15'           '15'        2002       \\N   \n",
       "3  tt0313150      short          '15'           '15'        2002       \\N   \n",
       "4  tt0313150      short          '15'           '15'        2002       \\N   \n",
       "\n",
       "  runtime_minutes  is_adult              genres  average_rating  votes  \\\n",
       "0             121         0  Comedy,Crime,Drama             6.3   2218   \n",
       "1             121         0  Comedy,Crime,Drama             6.3   2218   \n",
       "2              25         0  Comedy,Drama,Short             6.3    184   \n",
       "3              25         0  Comedy,Drama,Short             6.3    184   \n",
       "4              25         0  Comedy,Drama,Short             6.3    184   \n",
       "\n",
       "                                              review  rating   sp  pos  \\\n",
       "0  The pakage implies that Warren Beatty and Gold...       1  neg    0   \n",
       "1  How the hell did they get this made?! Presenti...       1  neg    0   \n",
       "2  There is no real story the film seems more lik...       3  neg    0   \n",
       "3  Um .... a serious film about troubled teens in...       7  pos    1   \n",
       "4  I'm totally agree with GarryJohal from Singapo...       9  pos    1   \n",
       "\n",
       "  ds_part   idx  \n",
       "0   train  8335  \n",
       "1   train  8336  \n",
       "2    test  2489  \n",
       "3    test  9280  \n",
       "4    test  9281  "
      ]
     },
     "execution_count": 15,
     "metadata": {},
     "output_type": "execute_result"
    }
   ],
   "source": [
    "df_reviews.head()"
   ]
  },
  {
   "cell_type": "code",
   "execution_count": 16,
   "metadata": {},
   "outputs": [
    {
     "data": {
      "text/plain": [
       "0        The pakage implies that Warren Beatty and Gold...\n",
       "1        How the hell did they get this made Presenting...\n",
       "2        There is no real story the film seems more lik...\n",
       "3        Um a serious film about troubled teens in Sing...\n",
       "4        I'm totally agree with GarryJohal from Singapo...\n",
       "                               ...                        \n",
       "47326    This is another of my favorite Columbos It spo...\n",
       "47327    Talk about being boring I got this expecting a...\n",
       "47328    I never thought I'd say this about a biopic bu...\n",
       "47329    Spirit and Chaos is an artistic biopic of Miya...\n",
       "47330    I'll make this brief This was a joy to watch I...\n",
       "Name: review_norm, Length: 47331, dtype: object"
      ]
     },
     "execution_count": 16,
     "metadata": {},
     "output_type": "execute_result"
    }
   ],
   "source": [
    "def clear_text(text):\n",
    "    \"\"\"\n",
    "    This function cleans the input text by removing all characters \n",
    "    except for letters (a-z, A-Z) and single quotes (').\n",
    "\n",
    "    Args:\n",
    "        text (str): The input text string.\n",
    "\n",
    "    Returns:\n",
    "        str: The cleaned text string.\n",
    "    \"\"\"\n",
    "\n",
    "    pattern = r\"[^a-zA-Z']\"  # Regular expression to match any character that is not a letter or single quote\n",
    "    texto = re.sub(pattern, \" \", text)  # Replace all non-letter/non-quote characters with a space\n",
    "    return \" \".join(texto.split())  # Remove extra spaces and return the cleaned text\n",
    "\n",
    "# Apply the clear_text function to the 'review' column of the DataFrame\n",
    "df_reviews['review_norm'] = df_reviews['review'].apply(clear_text) \n",
    "\n",
    "# Display the cleaned 'review_norm' column\n",
    "df_reviews['review_norm']"
   ]
  },
  {
   "cell_type": "markdown",
   "metadata": {},
   "source": [
    "## Training/test division"
   ]
  },
  {
   "cell_type": "markdown",
   "metadata": {},
   "source": [
    "Fortunately, the entire data set is already divided into training/testing parts; 'ds_part' is the corresponding flag."
   ]
  },
  {
   "cell_type": "code",
   "execution_count": 17,
   "metadata": {},
   "outputs": [
    {
     "name": "stdout",
     "output_type": "stream",
     "text": [
      "(23796, 18)\n",
      "(23535, 18)\n"
     ]
    }
   ],
   "source": [
    "# Split data into training and testing sets based on 'ds_part' column\n",
    "df_reviews_train = df_reviews.query('ds_part == \"train\"').copy() \n",
    "df_reviews_test = df_reviews.query('ds_part == \"test\"').copy()\n",
    "\n",
    "# Extract the target variable ('pos') for training and testing sets\n",
    "train_target_complete = df_reviews_train['pos']\n",
    "test_target_complete = df_reviews_test['pos']\n",
    "\n",
    "# Select a subset of data for training and testing \n",
    "train = df_reviews_train['review_norm'].iloc[0:201]\n",
    "test = df_reviews_test['review_norm'].iloc[0:201]\n",
    "\n",
    "# Select the corresponding target variables for the subset\n",
    "train_target = train_target_complete.iloc[0:201]\n",
    "test_target = test_target_complete.iloc[0:201]\n",
    "\n",
    "# Print the shapes of the training and testing sets\n",
    "print(df_reviews_train.shape)\n",
    "print(df_reviews_test.shape)"
   ]
  },
  {
   "cell_type": "markdown",
   "metadata": {},
   "source": [
    "## Work with models"
   ]
  },
  {
   "cell_type": "markdown",
   "metadata": {},
   "source": [
    "### Model 0 -Constant"
   ]
  },
  {
   "cell_type": "code",
   "execution_count": 18,
   "metadata": {},
   "outputs": [
    {
     "name": "stdout",
     "output_type": "stream",
     "text": [
      "F1-score of the constant model: 0.0\n"
     ]
    }
   ],
   "source": [
    "# Create a dummy classifier that predicts the most frequent class\n",
    "model = DummyClassifier(strategy=\"most_frequent\")\n",
    "\n",
    "# Train the dummy classifier on the training data\n",
    "model.fit(train, train_target)\n",
    "\n",
    "# Make predictions on the test data using the dummy classifier\n",
    "dummy_predict = model.predict(test)\n",
    "\n",
    "# Calculate F1-score to evaluate the dummy classifier's performance\n",
    "f1 = f1_score(test_target, dummy_predict)\n",
    "\n",
    "# Print the F1-score of the dummy classifier\n",
    "print(\"F1-score of the constant model:\", f1)\n"
   ]
  },
  {
   "cell_type": "markdown",
   "metadata": {},
   "source": [
    "### Modelo 1 -NLTK, TF-IDF y LR"
   ]
  },
  {
   "cell_type": "markdown",
   "metadata": {},
   "source": [
    "TF-IDF"
   ]
  },
  {
   "cell_type": "code",
   "execution_count": 19,
   "metadata": {},
   "outputs": [],
   "source": [
    "#Creates an object called lemmatizer that will be used to find the base forms of words in the text data\n",
    "lemmatizer  = WordNetLemmatizer()"
   ]
  },
  {
   "cell_type": "code",
   "execution_count": 20,
   "metadata": {},
   "outputs": [],
   "source": [
    "# Select the first 201 rows from the 'review_norm' column in the training and testing DataFrames\n",
    "train1 = df_reviews_train['review_norm'].iloc[0:201]\n",
    "test1 = df_reviews_test['review_norm'].iloc[0:201]"
   ]
  },
  {
   "cell_type": "code",
   "execution_count": 21,
   "metadata": {},
   "outputs": [],
   "source": [
    "\n",
    "# Convert the training and test data to lowercase\n",
    "tokens_train1 = train1.str.lower() \n",
    "tokens_test1 = test1.str.lower() \n",
    "\n",
    "# Tokenize the training and test data into individual words\n",
    "tokens_train1 = tokens_train1.apply(word_tokenize) \n",
    "tokens_test1 = test1.str.lower().apply(word_tokenize)"
   ]
  },
  {
   "cell_type": "code",
   "execution_count": 22,
   "metadata": {},
   "outputs": [],
   "source": [
    "def lemmatize_tokens(token_list):\n",
    "    \"\"\"\n",
    "    Lemmatizes a list of tokens using a given lemmatizer.\n",
    "\n",
    "    Args:\n",
    "        token_list: A list of tokens (words) to be lemmatized.\n",
    "\n",
    "    Returns:\n",
    "        str: A string containing the lemmatized tokens joined by spaces.\n",
    "    \"\"\"\n",
    "    lemmas = []\n",
    "    for token in token_list:\n",
    "        lemma = lemmatizer.lemmatize(token)  # Lemmatize the current token\n",
    "        lemmas.append(lemma)                # Append the lemma to the list\n",
    "    return ' '.join(lemmas)                  # Join the list of lemmas into a single string\n",
    "\n",
    "# Apply the lemmatization function to the training data\n",
    "train['lemmas1'] = tokens_train1.apply(lemmatize_tokens) \n",
    "\n",
    "# Apply the lemmatization function to the test data\n",
    "test['lemmas1'] = tokens_test1.apply(lemmatize_tokens)"
   ]
  },
  {
   "cell_type": "code",
   "execution_count": 23,
   "metadata": {},
   "outputs": [
    {
     "name": "stdout",
     "output_type": "stream",
     "text": [
      "0      the pakage implies that warren beatty and gold...\n",
      "1      how the hell did they get this made presenting...\n",
      "7      this true story of carlson 's raider is more o...\n",
      "8      should have been titled 'balderdash ' little i...\n",
      "9      the movie 'gung ho ' the story of carlson 's m...\n",
      "                             ...                        \n",
      "352    the movie start quite with an intriguing scene...\n",
      "353    this is the perfect example of something great...\n",
      "354    the worst movie i have seen in quite a while i...\n",
      "355    the russian movie follows the life of three no...\n",
      "356    i saw the film at the belgrade film festival l...\n",
      "Name: review_norm, Length: 201, dtype: object\n"
     ]
    }
   ],
   "source": [
    "print(train['lemmas1'])"
   ]
  },
  {
   "cell_type": "code",
   "execution_count": 24,
   "metadata": {},
   "outputs": [
    {
     "name": "stdout",
     "output_type": "stream",
     "text": [
      "Train TF-IDF shape: (201, 5508)\n",
      "Test TF-IDF shape: (201, 5508)\n",
      "[0.13206308 0.11449202 0.06125616 0.1860266  0.14234149 0.08664256\n",
      " 0.14234149 0.11449202 0.11911382 0.07934991 0.09692097 0.09912668\n",
      " 0.09489191 0.10719938 0.15088448 0.10421362 0.19825336 0.17618301\n",
      " 0.07127721 0.08809151 0.13206308 0.11911382 0.09692097 0.11628993\n",
      " 0.11911382 0.05150044 0.14234149 0.12477043 0.10897241 0.0439451\n",
      " 0.13206308 0.08664256 0.10719938 0.12477043 0.13206308 0.0839717\n",
      " 0.08042878 0.09489191 0.13206308 0.04641351 0.15464171 0.07732085\n",
      " 0.13206308 0.06398456 0.09489191 0.08809151 0.05654829 0.09126435\n",
      " 0.06978562 0.12477043 0.12477043 0.14234149 0.06978562 0.11449202\n",
      " 0.09126435 0.11911382 0.07732085 0.09912668 0.14234149 0.10154276\n",
      " 0.05185499 0.11449202 0.09692097 0.14234149 0.23822763 0.13206308\n",
      " 0.11449202 0.09912668 0.05488542 0.28468298 0.10421362]\n"
     ]
    }
   ],
   "source": [
    "# Vectorization\n",
    "\n",
    "stop_words = list(nltk_stopwords.words('english'))\n",
    "count_tf_idf = TfidfVectorizer(stop_words=stop_words) #Calculates TF-IDF values ​​for a set of texts. The IDF measures the importance of a word in the set of documents.\n",
    "#The words that appear in many documents will have a low IDF, while the words that appear in a few documents will have a high IDF.\n",
    "train_tf_idf1 = count_tf_idf.fit_transform(train['lemmas1'])\n",
    "test_tf_idf1 = count_tf_idf.transform(test['lemmas1'])\n",
    "\n",
    "print('Train TF-IDF shape:', train_tf_idf1.shape)\n",
    "print('Test TF-IDF shape:', test_tf_idf1.shape)\n",
    "\n",
    "# Access the first element\n",
    "\n",
    "#Data: Contains non -null values.\n",
    "#indices: Contains the indices of the columns corresponding to the values ​​in data.\n",
    "#indpt: contains pointers at the beginning of each row in data and indices.\n",
    "\n",
    "data = test_tf_idf1.data\n",
    "indices = test_tf_idf1.indices\n",
    "indptr = test_tf_idf1.indptr\n",
    "\n",
    "first_element = data[indptr[0]:indptr[1]]\n",
    "print(first_element)"
   ]
  },
  {
   "cell_type": "code",
   "execution_count": 25,
   "metadata": {},
   "outputs": [],
   "source": [
    "# Create a Logistic Regression model with specified parameters\n",
    "model = LogisticRegression(random_state=54321, solver='liblinear')\n",
    "\n",
    "# Train the model on the training TF-IDF features and target labels\n",
    "model.fit(train_tf_idf1, train_target)\n",
    "\n",
    "# Use the trained model to make predictions on the test TF-IDF features\n",
    "pred_test = model.predict(test_tf_idf1)"
   ]
  },
  {
   "cell_type": "code",
   "execution_count": 26,
   "metadata": {},
   "outputs": [
    {
     "name": "stdout",
     "output_type": "stream",
     "text": [
      "          train  test\n",
      "Accuracy   0.93  0.47\n",
      "F1         0.89  0.00\n",
      "APS        1.00  0.85\n",
      "ROC AUC    1.00  0.84\n"
     ]
    },
    {
     "data": {
      "text/html": [
       "<div>\n",
       "<style scoped>\n",
       "    .dataframe tbody tr th:only-of-type {\n",
       "        vertical-align: middle;\n",
       "    }\n",
       "\n",
       "    .dataframe tbody tr th {\n",
       "        vertical-align: top;\n",
       "    }\n",
       "\n",
       "    .dataframe thead th {\n",
       "        text-align: right;\n",
       "    }\n",
       "</style>\n",
       "<table border=\"1\" class=\"dataframe\">\n",
       "  <thead>\n",
       "    <tr style=\"text-align: right;\">\n",
       "      <th></th>\n",
       "      <th>train</th>\n",
       "      <th>test</th>\n",
       "    </tr>\n",
       "  </thead>\n",
       "  <tbody>\n",
       "    <tr>\n",
       "      <th>Accuracy</th>\n",
       "      <td>0.93</td>\n",
       "      <td>0.47</td>\n",
       "    </tr>\n",
       "    <tr>\n",
       "      <th>F1</th>\n",
       "      <td>0.89</td>\n",
       "      <td>0.00</td>\n",
       "    </tr>\n",
       "    <tr>\n",
       "      <th>APS</th>\n",
       "      <td>1.00</td>\n",
       "      <td>0.85</td>\n",
       "    </tr>\n",
       "    <tr>\n",
       "      <th>ROC AUC</th>\n",
       "      <td>1.00</td>\n",
       "      <td>0.84</td>\n",
       "    </tr>\n",
       "  </tbody>\n",
       "</table>\n",
       "</div>"
      ],
      "text/plain": [
       "          train  test\n",
       "Accuracy   0.93  0.47\n",
       "F1         0.89  0.00\n",
       "APS        1.00  0.85\n",
       "ROC AUC    1.00  0.84"
      ]
     },
     "execution_count": 26,
     "metadata": {},
     "output_type": "execute_result"
    }
   ],
   "source": [
    "# Call the 'evaluate_model' function to assess the performance of the given model \n",
    "evaluate_model(model, train_tf_idf1, train_target, test_tf_idf1, test_target)"
   ]
  },
  {
   "cell_type": "markdown",
   "metadata": {},
   "source": [
    "### Modelo 3 -spaCy, TF-IDF y LR"
   ]
  },
  {
   "cell_type": "code",
   "execution_count": 27,
   "metadata": {},
   "outputs": [],
   "source": [
    "# Select the first 201 elements from the 'review_norm' column of both training and test DataFrames\n",
    "train3 = df_reviews_train['review_norm'].iloc[0:201]\n",
    "test3 = df_reviews_test['review_norm'].iloc[0:201]"
   ]
  },
  {
   "cell_type": "code",
   "execution_count": 28,
   "metadata": {},
   "outputs": [
    {
     "name": "stdout",
     "output_type": "stream",
     "text": [
      "Original text: This true story of Carlson's Raiders is more of a Army training film than anything else Obviously thrown together quickly on a miniscule budget about the only thing it has to recommend it is an early performance by Robert Mitchum who's the only decent actor in the cast and actual footage of the wreckage at Pearl Harbor which gets your blood boiling as it was obviously intended to do\n",
      "\n",
      "Lemmatized text: this true story of carlson 's raider be more of a army training film than anything else obviously throw together quickly on a miniscule budget about the only thing it have to recommend it be an early performance by robert mitchum who be the only decent actor in the cast and actual footage of the wreckage at pearl harbor which get your blood boil as it be obviously intend to do\n"
     ]
    }
   ],
   "source": [
    "# Load the spaCy language model, disabling parser and NER for faster processing\n",
    "nlp = spacy.load('en_core_web_sm', disable=['parser', 'ner']) \n",
    "\n",
    "# Define a function to lemmatize a list of tokens\n",
    "def lemmatize_tokens(tokens):\n",
    "    \"\"\"\n",
    "    Lemmatizes a list of tokens using the spaCy model.\n",
    "\n",
    "    Args:\n",
    "        tokens (str): A string containing the tokens.\n",
    "\n",
    "    Returns:\n",
    "        str: A string containing the lemmatized tokens.\n",
    "    \"\"\"\n",
    "    doc = nlp(tokens.lower())  # Process the tokens with the spaCy model, converting to lowercase\n",
    "    lemmas = [token.lemma_ for token in doc]  # Extract the lemma (base form) of each token\n",
    "    return ' '.join(lemmas)  # Join the lemmatized tokens back into a single string\n",
    "\n",
    "# Apply the lemmatization function to the 'review_norm' column in the training and test sets\n",
    "train3['lemmas'] = train3.apply(lemmatize_tokens)\n",
    "test3['lemmas'] = test3.apply(lemmatize_tokens)\n",
    "\n",
    "# Print an example of the original and lemmatized text\n",
    "print('Original text:', df_reviews_train['review_norm'].iloc[2])\n",
    "print()\n",
    "print('Lemmatized text:', train3['lemmas'].iloc[2])"
   ]
  },
  {
   "cell_type": "code",
   "execution_count": 29,
   "metadata": {},
   "outputs": [
    {
     "name": "stdout",
     "output_type": "stream",
     "text": [
      "Train TF-IDF shape: (201, 4863)\n",
      "Test TF-IDF shape: (201, 4863)\n",
      "[0.13402876 0.11619616 0.18879548 0.12662756 0.08396634 0.14446015\n",
      " 0.11619616 0.12088675 0.08053098 0.09836357 0.09439774 0.09630432\n",
      " 0.10879497 0.10576477 0.20120423 0.17880538 0.07233813 0.08940269\n",
      " 0.13402876 0.11619616 0.09630432 0.15649995 0.05226699 0.14446015\n",
      " 0.12662756 0.09660232 0.12662756 0.08654119 0.10060211 0.12662756\n",
      " 0.13402876 0.08396634 0.08162591 0.10060211 0.13402876 0.04540744\n",
      " 0.15694345 0.07847172 0.13402876 0.06493693 0.09630432 0.08940269\n",
      " 0.05738998 0.09262276 0.06216792 0.12662756 0.12662756 0.14446015\n",
      " 0.07082434 0.11223033 0.08053098 0.12088675 0.06493693 0.14446015\n",
      " 0.10060211 0.14446015 0.10305416 0.05262682 0.11619616 0.09630432\n",
      " 0.14446015 0.2417735  0.13402876 0.11619616 0.10060211 0.09027039\n",
      " 0.2889203  0.09836357]\n"
     ]
    }
   ],
   "source": [
    "# Vectorization\n",
    "stop_words = list(nltk_stopwords.words('english'))\n",
    "count_tf_idf = TfidfVectorizer(stop_words=stop_words)\n",
    "train_tf_idf3 = count_tf_idf.fit_transform(train3['lemmas'])\n",
    "test_tf_idf3 = count_tf_idf.transform(test3['lemmas'])\n",
    "\n",
    "print('Train TF-IDF shape:', train_tf_idf3.shape)\n",
    "print('Test TF-IDF shape:', test_tf_idf3.shape)\n",
    "\n",
    "# Access the first element\n",
    "data = test_tf_idf3.data\n",
    "indices = test_tf_idf3.indices\n",
    "indptr = test_tf_idf3.indptr\n",
    "\n",
    "first_element = data[indptr[0]:indptr[1]]\n",
    "print(first_element)"
   ]
  },
  {
   "cell_type": "code",
   "execution_count": 30,
   "metadata": {},
   "outputs": [],
   "source": [
    "# Create a LogisticRegression model with random state for reproducibility\n",
    "model3 = LogisticRegression(random_state=54321, solver='liblinear')\n",
    "\n",
    "# Train the LogisticRegression model on the TF-IDF features and target labels\n",
    "model3.fit(train_tf_idf3, train_target)\n",
    "\n",
    "# Make predictions on the test data using the trained LogisticRegression model\n",
    "pred_test = model3.predict(test_tf_idf3)"
   ]
  },
  {
   "cell_type": "code",
   "execution_count": 31,
   "metadata": {},
   "outputs": [
    {
     "name": "stdout",
     "output_type": "stream",
     "text": [
      "          train  test\n",
      "Accuracy   0.93  0.47\n",
      "F1         0.89  0.00\n",
      "APS        1.00  0.87\n",
      "ROC AUC    1.00  0.85\n"
     ]
    },
    {
     "data": {
      "text/html": [
       "<div>\n",
       "<style scoped>\n",
       "    .dataframe tbody tr th:only-of-type {\n",
       "        vertical-align: middle;\n",
       "    }\n",
       "\n",
       "    .dataframe tbody tr th {\n",
       "        vertical-align: top;\n",
       "    }\n",
       "\n",
       "    .dataframe thead th {\n",
       "        text-align: right;\n",
       "    }\n",
       "</style>\n",
       "<table border=\"1\" class=\"dataframe\">\n",
       "  <thead>\n",
       "    <tr style=\"text-align: right;\">\n",
       "      <th></th>\n",
       "      <th>train</th>\n",
       "      <th>test</th>\n",
       "    </tr>\n",
       "  </thead>\n",
       "  <tbody>\n",
       "    <tr>\n",
       "      <th>Accuracy</th>\n",
       "      <td>0.93</td>\n",
       "      <td>0.47</td>\n",
       "    </tr>\n",
       "    <tr>\n",
       "      <th>F1</th>\n",
       "      <td>0.89</td>\n",
       "      <td>0.00</td>\n",
       "    </tr>\n",
       "    <tr>\n",
       "      <th>APS</th>\n",
       "      <td>1.00</td>\n",
       "      <td>0.87</td>\n",
       "    </tr>\n",
       "    <tr>\n",
       "      <th>ROC AUC</th>\n",
       "      <td>1.00</td>\n",
       "      <td>0.85</td>\n",
       "    </tr>\n",
       "  </tbody>\n",
       "</table>\n",
       "</div>"
      ],
      "text/plain": [
       "          train  test\n",
       "Accuracy   0.93  0.47\n",
       "F1         0.89  0.00\n",
       "APS        1.00  0.87\n",
       "ROC AUC    1.00  0.85"
      ]
     },
     "execution_count": 31,
     "metadata": {},
     "output_type": "execute_result"
    }
   ],
   "source": [
    "# Evaluate the performance of the given model \n",
    "evaluate_model(model3, train_tf_idf3, train_target, test_tf_idf3, test_target)"
   ]
  },
  {
   "cell_type": "markdown",
   "metadata": {},
   "source": [
    "### Modelo 4 -spaCy, TF-IDF y LGBMClassifier"
   ]
  },
  {
   "cell_type": "code",
   "execution_count": 32,
   "metadata": {},
   "outputs": [],
   "source": [
    "from lightgbm import LGBMClassifier"
   ]
  },
  {
   "cell_type": "code",
   "execution_count": 33,
   "metadata": {},
   "outputs": [],
   "source": [
    "# Create a LightGBM classifier\n",
    "model4 = LGBMClassifier()  "
   ]
  },
  {
   "cell_type": "code",
   "execution_count": null,
   "metadata": {},
   "outputs": [],
   "source": [
    "# Fit the model to the training data (TF-IDF features)\n",
    "model4.fit(train_tf_idf3, train_target)\n",
    "print(\"Modelo entrenado exitosamente\")"
   ]
  },
  {
   "cell_type": "code",
   "execution_count": 34,
   "metadata": {},
   "outputs": [
    {
     "ename": "NotFittedError",
     "evalue": "Estimator not fitted, call fit before exploiting the model.",
     "output_type": "error",
     "traceback": [
      "\u001b[0;31m---------------------------------------------------------------------------\u001b[0m",
      "\u001b[0;31mNotFittedError\u001b[0m                            Traceback (most recent call last)",
      "Cell \u001b[0;32mIn[34], line 2\u001b[0m\n\u001b[1;32m      1\u001b[0m \u001b[38;5;66;03m# Make predictions on the test data using the fitted model\u001b[39;00m\n\u001b[0;32m----> 2\u001b[0m pred_test \u001b[38;5;241m=\u001b[39m model4\u001b[38;5;241m.\u001b[39mpredict(test_tf_idf1)\n",
      "File \u001b[0;32m/opt/anaconda3/lib/python3.12/site-packages/lightgbm/sklearn.py:1321\u001b[0m, in \u001b[0;36mLGBMClassifier.predict\u001b[0;34m(self, X, raw_score, start_iteration, num_iteration, pred_leaf, pred_contrib, validate_features, **kwargs)\u001b[0m\n\u001b[1;32m   1309\u001b[0m \u001b[38;5;28;01mdef\u001b[39;00m \u001b[38;5;21mpredict\u001b[39m(\n\u001b[1;32m   1310\u001b[0m     \u001b[38;5;28mself\u001b[39m,\n\u001b[1;32m   1311\u001b[0m     X: _LGBM_ScikitMatrixLike,\n\u001b[0;32m   (...)\u001b[0m\n\u001b[1;32m   1318\u001b[0m     \u001b[38;5;241m*\u001b[39m\u001b[38;5;241m*\u001b[39mkwargs: Any,\n\u001b[1;32m   1319\u001b[0m ):\n\u001b[1;32m   1320\u001b[0m \u001b[38;5;250m    \u001b[39m\u001b[38;5;124;03m\"\"\"Docstring is inherited from the LGBMModel.\"\"\"\u001b[39;00m\n\u001b[0;32m-> 1321\u001b[0m     result \u001b[38;5;241m=\u001b[39m \u001b[38;5;28mself\u001b[39m\u001b[38;5;241m.\u001b[39mpredict_proba(\n\u001b[1;32m   1322\u001b[0m         X\u001b[38;5;241m=\u001b[39mX,\n\u001b[1;32m   1323\u001b[0m         raw_score\u001b[38;5;241m=\u001b[39mraw_score,\n\u001b[1;32m   1324\u001b[0m         start_iteration\u001b[38;5;241m=\u001b[39mstart_iteration,\n\u001b[1;32m   1325\u001b[0m         num_iteration\u001b[38;5;241m=\u001b[39mnum_iteration,\n\u001b[1;32m   1326\u001b[0m         pred_leaf\u001b[38;5;241m=\u001b[39mpred_leaf,\n\u001b[1;32m   1327\u001b[0m         pred_contrib\u001b[38;5;241m=\u001b[39mpred_contrib,\n\u001b[1;32m   1328\u001b[0m         validate_features\u001b[38;5;241m=\u001b[39mvalidate_features,\n\u001b[1;32m   1329\u001b[0m         \u001b[38;5;241m*\u001b[39m\u001b[38;5;241m*\u001b[39mkwargs,\n\u001b[1;32m   1330\u001b[0m     )\n\u001b[1;32m   1331\u001b[0m     \u001b[38;5;28;01mif\u001b[39;00m \u001b[38;5;28mcallable\u001b[39m(\u001b[38;5;28mself\u001b[39m\u001b[38;5;241m.\u001b[39m_objective) \u001b[38;5;129;01mor\u001b[39;00m raw_score \u001b[38;5;129;01mor\u001b[39;00m pred_leaf \u001b[38;5;129;01mor\u001b[39;00m pred_contrib:\n\u001b[1;32m   1332\u001b[0m         \u001b[38;5;28;01mreturn\u001b[39;00m result\n",
      "File \u001b[0;32m/opt/anaconda3/lib/python3.12/site-packages/lightgbm/sklearn.py:1351\u001b[0m, in \u001b[0;36mLGBMClassifier.predict_proba\u001b[0;34m(self, X, raw_score, start_iteration, num_iteration, pred_leaf, pred_contrib, validate_features, **kwargs)\u001b[0m\n\u001b[1;32m   1339\u001b[0m \u001b[38;5;28;01mdef\u001b[39;00m \u001b[38;5;21mpredict_proba\u001b[39m(\n\u001b[1;32m   1340\u001b[0m     \u001b[38;5;28mself\u001b[39m,\n\u001b[1;32m   1341\u001b[0m     X: _LGBM_ScikitMatrixLike,\n\u001b[0;32m   (...)\u001b[0m\n\u001b[1;32m   1348\u001b[0m     \u001b[38;5;241m*\u001b[39m\u001b[38;5;241m*\u001b[39mkwargs: Any,\n\u001b[1;32m   1349\u001b[0m ):\n\u001b[1;32m   1350\u001b[0m \u001b[38;5;250m    \u001b[39m\u001b[38;5;124;03m\"\"\"Docstring is set after definition, using a template.\"\"\"\u001b[39;00m\n\u001b[0;32m-> 1351\u001b[0m     result \u001b[38;5;241m=\u001b[39m \u001b[38;5;28msuper\u001b[39m()\u001b[38;5;241m.\u001b[39mpredict(\n\u001b[1;32m   1352\u001b[0m         X\u001b[38;5;241m=\u001b[39mX,\n\u001b[1;32m   1353\u001b[0m         raw_score\u001b[38;5;241m=\u001b[39mraw_score,\n\u001b[1;32m   1354\u001b[0m         start_iteration\u001b[38;5;241m=\u001b[39mstart_iteration,\n\u001b[1;32m   1355\u001b[0m         num_iteration\u001b[38;5;241m=\u001b[39mnum_iteration,\n\u001b[1;32m   1356\u001b[0m         pred_leaf\u001b[38;5;241m=\u001b[39mpred_leaf,\n\u001b[1;32m   1357\u001b[0m         pred_contrib\u001b[38;5;241m=\u001b[39mpred_contrib,\n\u001b[1;32m   1358\u001b[0m         validate_features\u001b[38;5;241m=\u001b[39mvalidate_features,\n\u001b[1;32m   1359\u001b[0m         \u001b[38;5;241m*\u001b[39m\u001b[38;5;241m*\u001b[39mkwargs,\n\u001b[1;32m   1360\u001b[0m     )\n\u001b[1;32m   1361\u001b[0m     \u001b[38;5;28;01mif\u001b[39;00m \u001b[38;5;28mcallable\u001b[39m(\u001b[38;5;28mself\u001b[39m\u001b[38;5;241m.\u001b[39m_objective) \u001b[38;5;129;01mand\u001b[39;00m \u001b[38;5;129;01mnot\u001b[39;00m (raw_score \u001b[38;5;129;01mor\u001b[39;00m pred_leaf \u001b[38;5;129;01mor\u001b[39;00m pred_contrib):\n\u001b[1;32m   1362\u001b[0m         _log_warning(\n\u001b[1;32m   1363\u001b[0m             \u001b[38;5;124m\"\u001b[39m\u001b[38;5;124mCannot compute class probabilities or labels \u001b[39m\u001b[38;5;124m\"\u001b[39m\n\u001b[1;32m   1364\u001b[0m             \u001b[38;5;124m\"\u001b[39m\u001b[38;5;124mdue to the usage of customized objective function.\u001b[39m\u001b[38;5;130;01m\\n\u001b[39;00m\u001b[38;5;124m\"\u001b[39m\n\u001b[1;32m   1365\u001b[0m             \u001b[38;5;124m\"\u001b[39m\u001b[38;5;124mReturning raw scores instead.\u001b[39m\u001b[38;5;124m\"\u001b[39m\n\u001b[1;32m   1366\u001b[0m         )\n",
      "File \u001b[0;32m/opt/anaconda3/lib/python3.12/site-packages/lightgbm/sklearn.py:1005\u001b[0m, in \u001b[0;36mLGBMModel.predict\u001b[0;34m(self, X, raw_score, start_iteration, num_iteration, pred_leaf, pred_contrib, validate_features, **kwargs)\u001b[0m\n\u001b[1;32m   1003\u001b[0m \u001b[38;5;250m\u001b[39m\u001b[38;5;124;03m\"\"\"Docstring is set after definition, using a template.\"\"\"\u001b[39;00m\n\u001b[1;32m   1004\u001b[0m \u001b[38;5;28;01mif\u001b[39;00m \u001b[38;5;129;01mnot\u001b[39;00m \u001b[38;5;28mself\u001b[39m\u001b[38;5;241m.\u001b[39m__sklearn_is_fitted__():\n\u001b[0;32m-> 1005\u001b[0m     \u001b[38;5;28;01mraise\u001b[39;00m LGBMNotFittedError(\u001b[38;5;124m\"\u001b[39m\u001b[38;5;124mEstimator not fitted, call fit before exploiting the model.\u001b[39m\u001b[38;5;124m\"\u001b[39m)\n\u001b[1;32m   1006\u001b[0m \u001b[38;5;28;01mif\u001b[39;00m \u001b[38;5;129;01mnot\u001b[39;00m \u001b[38;5;28misinstance\u001b[39m(X, (pd_DataFrame, dt_DataTable)):\n\u001b[1;32m   1007\u001b[0m     X \u001b[38;5;241m=\u001b[39m _LGBMCheckArray(X, accept_sparse\u001b[38;5;241m=\u001b[39m\u001b[38;5;28;01mTrue\u001b[39;00m, force_all_finite\u001b[38;5;241m=\u001b[39m\u001b[38;5;28;01mFalse\u001b[39;00m)\n",
      "\u001b[0;31mNotFittedError\u001b[0m: Estimator not fitted, call fit before exploiting the model."
     ]
    }
   ],
   "source": [
    "# Make predictions on the test data using the fitted model\n",
    "pred_test = model4.predict(test_tf_idf1)"
   ]
  },
  {
   "cell_type": "code",
   "execution_count": null,
   "metadata": {},
   "outputs": [
    {
     "ename": "NotFittedError",
     "evalue": "Estimator not fitted, call fit before exploiting the model.",
     "output_type": "error",
     "traceback": [
      "\u001b[0;31m---------------------------------------------------------------------------\u001b[0m",
      "\u001b[0;31mNotFittedError\u001b[0m                            Traceback (most recent call last)",
      "Cell \u001b[0;32mIn[34], line 2\u001b[0m\n\u001b[1;32m      1\u001b[0m \u001b[38;5;66;03m# Evaluate the performance of the model\u001b[39;00m\n\u001b[0;32m----> 2\u001b[0m evaluate_model(model4, train_tf_idf3, train_target, test_tf_idf3, test_target)\n",
      "Cell \u001b[0;32mIn[14], line 27\u001b[0m, in \u001b[0;36mevaluate_model\u001b[0;34m(model, train_features, train_target, test_features, test_target)\u001b[0m\n\u001b[1;32m     24\u001b[0m eval_stats[\u001b[38;5;28mtype\u001b[39m] \u001b[38;5;241m=\u001b[39m {}\n\u001b[1;32m     26\u001b[0m \u001b[38;5;66;03m# Predict probabilities for the current data\u001b[39;00m\n\u001b[0;32m---> 27\u001b[0m pred_proba \u001b[38;5;241m=\u001b[39m model\u001b[38;5;241m.\u001b[39mpredict_proba(features)[:, \u001b[38;5;241m1\u001b[39m] \n\u001b[1;32m     28\u001b[0m \u001b[38;5;66;03m# Predict class labels\u001b[39;00m\n\u001b[1;32m     29\u001b[0m pred_target \u001b[38;5;241m=\u001b[39m model\u001b[38;5;241m.\u001b[39mpredict(features) \n",
      "File \u001b[0;32m/opt/anaconda3/lib/python3.12/site-packages/lightgbm/sklearn.py:1351\u001b[0m, in \u001b[0;36mLGBMClassifier.predict_proba\u001b[0;34m(self, X, raw_score, start_iteration, num_iteration, pred_leaf, pred_contrib, validate_features, **kwargs)\u001b[0m\n\u001b[1;32m   1339\u001b[0m \u001b[38;5;28;01mdef\u001b[39;00m \u001b[38;5;21mpredict_proba\u001b[39m(\n\u001b[1;32m   1340\u001b[0m     \u001b[38;5;28mself\u001b[39m,\n\u001b[1;32m   1341\u001b[0m     X: _LGBM_ScikitMatrixLike,\n\u001b[0;32m   (...)\u001b[0m\n\u001b[1;32m   1348\u001b[0m     \u001b[38;5;241m*\u001b[39m\u001b[38;5;241m*\u001b[39mkwargs: Any,\n\u001b[1;32m   1349\u001b[0m ):\n\u001b[1;32m   1350\u001b[0m \u001b[38;5;250m    \u001b[39m\u001b[38;5;124;03m\"\"\"Docstring is set after definition, using a template.\"\"\"\u001b[39;00m\n\u001b[0;32m-> 1351\u001b[0m     result \u001b[38;5;241m=\u001b[39m \u001b[38;5;28msuper\u001b[39m()\u001b[38;5;241m.\u001b[39mpredict(\n\u001b[1;32m   1352\u001b[0m         X\u001b[38;5;241m=\u001b[39mX,\n\u001b[1;32m   1353\u001b[0m         raw_score\u001b[38;5;241m=\u001b[39mraw_score,\n\u001b[1;32m   1354\u001b[0m         start_iteration\u001b[38;5;241m=\u001b[39mstart_iteration,\n\u001b[1;32m   1355\u001b[0m         num_iteration\u001b[38;5;241m=\u001b[39mnum_iteration,\n\u001b[1;32m   1356\u001b[0m         pred_leaf\u001b[38;5;241m=\u001b[39mpred_leaf,\n\u001b[1;32m   1357\u001b[0m         pred_contrib\u001b[38;5;241m=\u001b[39mpred_contrib,\n\u001b[1;32m   1358\u001b[0m         validate_features\u001b[38;5;241m=\u001b[39mvalidate_features,\n\u001b[1;32m   1359\u001b[0m         \u001b[38;5;241m*\u001b[39m\u001b[38;5;241m*\u001b[39mkwargs,\n\u001b[1;32m   1360\u001b[0m     )\n\u001b[1;32m   1361\u001b[0m     \u001b[38;5;28;01mif\u001b[39;00m \u001b[38;5;28mcallable\u001b[39m(\u001b[38;5;28mself\u001b[39m\u001b[38;5;241m.\u001b[39m_objective) \u001b[38;5;129;01mand\u001b[39;00m \u001b[38;5;129;01mnot\u001b[39;00m (raw_score \u001b[38;5;129;01mor\u001b[39;00m pred_leaf \u001b[38;5;129;01mor\u001b[39;00m pred_contrib):\n\u001b[1;32m   1362\u001b[0m         _log_warning(\n\u001b[1;32m   1363\u001b[0m             \u001b[38;5;124m\"\u001b[39m\u001b[38;5;124mCannot compute class probabilities or labels \u001b[39m\u001b[38;5;124m\"\u001b[39m\n\u001b[1;32m   1364\u001b[0m             \u001b[38;5;124m\"\u001b[39m\u001b[38;5;124mdue to the usage of customized objective function.\u001b[39m\u001b[38;5;130;01m\\n\u001b[39;00m\u001b[38;5;124m\"\u001b[39m\n\u001b[1;32m   1365\u001b[0m             \u001b[38;5;124m\"\u001b[39m\u001b[38;5;124mReturning raw scores instead.\u001b[39m\u001b[38;5;124m\"\u001b[39m\n\u001b[1;32m   1366\u001b[0m         )\n",
      "File \u001b[0;32m/opt/anaconda3/lib/python3.12/site-packages/lightgbm/sklearn.py:1005\u001b[0m, in \u001b[0;36mLGBMModel.predict\u001b[0;34m(self, X, raw_score, start_iteration, num_iteration, pred_leaf, pred_contrib, validate_features, **kwargs)\u001b[0m\n\u001b[1;32m   1003\u001b[0m \u001b[38;5;250m\u001b[39m\u001b[38;5;124;03m\"\"\"Docstring is set after definition, using a template.\"\"\"\u001b[39;00m\n\u001b[1;32m   1004\u001b[0m \u001b[38;5;28;01mif\u001b[39;00m \u001b[38;5;129;01mnot\u001b[39;00m \u001b[38;5;28mself\u001b[39m\u001b[38;5;241m.\u001b[39m__sklearn_is_fitted__():\n\u001b[0;32m-> 1005\u001b[0m     \u001b[38;5;28;01mraise\u001b[39;00m LGBMNotFittedError(\u001b[38;5;124m\"\u001b[39m\u001b[38;5;124mEstimator not fitted, call fit before exploiting the model.\u001b[39m\u001b[38;5;124m\"\u001b[39m)\n\u001b[1;32m   1006\u001b[0m \u001b[38;5;28;01mif\u001b[39;00m \u001b[38;5;129;01mnot\u001b[39;00m \u001b[38;5;28misinstance\u001b[39m(X, (pd_DataFrame, dt_DataTable)):\n\u001b[1;32m   1007\u001b[0m     X \u001b[38;5;241m=\u001b[39m _LGBMCheckArray(X, accept_sparse\u001b[38;5;241m=\u001b[39m\u001b[38;5;28;01mTrue\u001b[39;00m, force_all_finite\u001b[38;5;241m=\u001b[39m\u001b[38;5;28;01mFalse\u001b[39;00m)\n",
      "\u001b[0;31mNotFittedError\u001b[0m: Estimator not fitted, call fit before exploiting the model."
     ]
    }
   ],
   "source": [
    "# Evaluate the performance of the model\n",
    "evaluate_model(model4, train_tf_idf3, train_target, test_tf_idf3, test_target)"
   ]
  },
  {
   "cell_type": "markdown",
   "metadata": {},
   "source": [
    "### Model 9 -BERT"
   ]
  },
  {
   "cell_type": "code",
   "execution_count": null,
   "metadata": {},
   "outputs": [],
   "source": [
    "import torch\n",
    "import transformers\n",
    "from transformers import BertConfig, BertModel"
   ]
  },
  {
   "cell_type": "code",
   "execution_count": null,
   "metadata": {},
   "outputs": [],
   "source": [
    "# Select the first 10 reviews from the training set\n",
    "train9 = df_reviews_train['review_norm'].iloc[0:10] \n",
    "\n",
    "# Select the first 10 reviews from the test set\n",
    "test9 = df_reviews_test['review_norm'].iloc[0:10]"
   ]
  },
  {
   "cell_type": "code",
   "execution_count": null,
   "metadata": {},
   "outputs": [],
   "source": [
    "# Load the pre-trained BERT tokenizer\n",
    "tokenizer = transformers.BertTokenizer.from_pretrained('bert-base-uncased') \n",
    "\n",
    "# Load the pre-trained BERT configuration \n",
    "config = transformers.BertConfig.from_pretrained('bert-base-uncased')\n",
    "\n",
    "# Load the pre-trained BERT model\n",
    "model = transformers.BertModel.from_pretrained('bert-base-uncased')"
   ]
  },
  {
   "cell_type": "code",
   "execution_count": null,
   "metadata": {},
   "outputs": [],
   "source": [
    "def BERT_text_to_embeddings(texts, max_length=512, batch_size=100, force_device=None, disable_progress_bar=False):\n",
    "    \"\"\"\n",
    "    This function converts a list of text strings into BERT embeddings.\n",
    "\n",
    "    Args:\n",
    "        texts (List[str]): A list of text strings to convert to embeddings.\n",
    "        max_length (int, optional): The maximum length of the tokenized text. Defaults to 512.\n",
    "        batch_size (int, optional): The batch size for processing the text. Defaults to 100.\n",
    "        force_device (str, optional): Force the device to use (e.g., 'cpu' or 'cuda'). Defaults to None.\n",
    "        disable_progress_bar (bool, optional): Disable the progress bar during processing. Defaults to False.\n",
    "\n",
    "    Returns:\n",
    "        numpy.ndarray: A NumPy array containing the BERT embeddings for the input texts.\n",
    "    \"\"\"\n",
    "\n",
    "    ids_list = []\n",
    "    attention_mask_list = []\n",
    "    max_length = 10  # Override the default max_length here (update if needed)\n",
    "\n",
    "    # Convert text to token IDs and attention masks\n",
    "    for text in texts:\n",
    "        encoded_text = tokenizer.encode(text.lower(), add_special_tokens=True, truncation=True, max_length=512)\n",
    "        ids_list.append(encoded_text)\n",
    "\n",
    "    # Create attention masks (0 for padding tokens, 1 for real tokens)\n",
    "    for ids in ids_list:\n",
    "        padded_ids = np.array(ids[:max_length] + [0] * (max_length - len(ids)))\n",
    "        attention_mask = np.where(padded_ids != 0, 1, 0)\n",
    "        attention_mask_list.append(attention_mask)\n",
    "\n",
    "    # Determine device to use (GPU or CPU)\n",
    "    if force_device is not None:\n",
    "        device = torch.device(force_device)\n",
    "    else:\n",
    "        device = torch.device('cuda' if torch.cuda.is_available() else 'cpu')\n",
    "        print(f'Using device: {device}')\n",
    "\n",
    "    # Move the model to the chosen device\n",
    "    model.to(device)\n",
    "\n",
    "    # Print device usage information (unless progress bar is disabled)\n",
    "    if not disable_progress_bar:\n",
    "        print(f'Using device {device}.')\n",
    "\n",
    "    # Find the maximum sequence length in the batch\n",
    "    max_length = max(len(ids) for ids in ids_list)\n",
    "\n",
    "    # Pad sequences to the same length\n",
    "    padded_ids_list_train = [ids + [0] * (max_length - len(ids)) for ids in ids_list]\n",
    "\n",
    "    # Create an empty list to store the embeddings\n",
    "    embeddings = []\n",
    "\n",
    "    # Process the text in batches\n",
    "    for i in tqdm(range(math.ceil(len(padded_ids_list_train) / batch_size)), disable=disable_progress_bar):\n",
    "        # Get a batch of token IDs and attention masks\n",
    "        ids_batch = torch.LongTensor(padded_ids_list_train[batch_size * i: batch_size * (i + 1)]).to(device)\n",
    "        attention_mask_batch = torch.LongTensor(attention_mask_list[batch_size * i: batch_size * (i + 1)]).to(device)\n",
    "\n",
    "        # Set model to evaluation mode (disable dropout layers)\n",
    "        with torch.no_grad():\n",
    "            model.eval()\n",
    "\n",
    "        # Get the embeddings for the current batch\n",
    "        batch_embeddings = model(input_ids=ids_batch, attention_mask=attention_mask_batch)\n",
    "\n",
    "        # Extract the first token embedding from each sequence in the batch\n",
    "        # and convert it back to NumPy arraydef BERT_text_to_embeddings(texts, max_length=512, batch_size=100, force_device=None, disable_progress_bar=False):\n",
    "    \"\"\"\n",
    "    This function converts a list of text strings into BERT embeddings.\n",
    "\n",
    "    Args:\n",
    "        texts (List[str]): A list of text strings to convert to embeddings.\n",
    "        max_length (int, optional): The maximum length of the tokenized text. Defaults to 512.\n",
    "        batch_size (int, optional): The batch size for processing the text. Defaults to 100.\n",
    "        force_device (str, optional): Force the device to use (e.g., 'cpu' or 'cuda'). Defaults to None.\n",
    "        disable_progress_bar (bool, optional): Disable the progress bar during processing. Defaults to False.\n",
    "\n",
    "    Returns:\n",
    "        numpy.ndarray: A NumPy array containing the BERT embeddings for the input texts.\n",
    "    \"\"\"\n",
    "\n",
    "    ids_list = []\n",
    "    attention_mask_list = []\n",
    "    max_length = 10  # Override the default max_length here (update if needed)\n",
    "\n",
    "    # Convert text to token IDs and attention masks\n",
    "    for text in texts:\n",
    "        encoded_text = tokenizer.encode(text.lower(), add_special_tokens=True, truncation=True, max_length=512)\n",
    "        ids_list.append(encoded_text)\n",
    "\n",
    "    # Create attention masks (0 for padding tokens, 1 for real tokens)\n",
    "    for ids in ids_list:\n",
    "        padded_ids = np.array(ids[:max_length] + [0] * (max_length - len(ids)))\n",
    "        attention_mask = np.where(padded_ids != 0, 1, 0)\n",
    "        attention_mask_list.append(attention_mask)\n",
    "\n",
    "    # Determine device to use (GPU or CPU)\n",
    "    if force_device is not None:\n",
    "        device = torch.device(force_device)\n",
    "    else:\n",
    "        device = torch.device('cuda' if torch.cuda.is_available() else 'cpu')\n",
    "        print(f'Using device: {device}')\n",
    "\n",
    "    # Move the model to the chosen device\n",
    "    model.to(device)\n",
    "\n",
    "    # Print device usage information (unless progress bar is disabled)\n",
    "    if not disable_progress_bar:\n",
    "        print(f'Using device {device}.')\n",
    "\n",
    "    # Find the maximum sequence length in the batch\n",
    "    max_length = max(len(ids) for ids in ids_list)\n",
    "\n",
    "    # Pad sequences to the same length\n",
    "    padded_ids_list_train = [ids + [0] * (max_length - len(ids)) for ids in ids_list]\n",
    "\n",
    "    # Create an empty list to store the embeddings\n",
    "    embeddings = []\n",
    "\n",
    "    # Process the text in batches\n",
    "    for i in tqdm(range(math.ceil(len(padded_ids_list_train) / batch_size)), disable=disable_progress_bar):\n",
    "        # Get a batch of token IDs and attention masks\n",
    "        ids_batch = torch.LongTensor(padded_ids_list_train[batch_size * i: batch_size * (i + 1)]).to(device)\n",
    "        attention_mask_batch = torch.LongTensor(attention_mask_list[batch_size * i: batch_size * (i + 1)]).to(device)\n",
    "\n",
    "        # Set model to evaluation mode (disable dropout layers)\n",
    "        with torch.no_grad():\n",
    "            model.eval()\n",
    "\n",
    "        # Get the embeddings for the current batch\n",
    "        batch_embeddings = model(input_ids=ids_batch, attention_mask=attention_mask_batch)\n",
    "\n",
    "        # Extract the first token embedding from each sequence in the batch\n",
    "        # and convert it back to NumPy array\n",
    "        embeddings.append(batch_embeddings[0][:, 0, :].detach().cpu().numpy())\n",
    "\n",
    "    # Concatenate the embeddings from all batches\n",
    "    return np.concatenate(embeddings)\n",
    "        embeddings.append(batch_embeddings[0][:, 0, :].detach().cpu().numpy())\n",
    "\n",
    "    # Concatenate the embeddings from all batches\n",
    "    return np.concatenate(embeddings)"
   ]
  },
  {
   "cell_type": "code",
   "execution_count": null,
   "metadata": {},
   "outputs": [],
   "source": [
    "#Attention! Bert's execution for thousands of texts can take a long time on the CPU, at least several hours\n",
    "train_features_9 = BERT_text_to_embeddings(train9, force_device='cpu')"
   ]
  },
  {
   "cell_type": "code",
   "execution_count": null,
   "metadata": {},
   "outputs": [],
   "source": [
    "test_features_9 = BERT_text_to_embeddings(test9, force_device='cpu')"
   ]
  },
  {
   "cell_type": "code",
   "execution_count": null,
   "metadata": {},
   "outputs": [],
   "source": [
    "print(df_reviews_train['review_norm'].shape)\n",
    "print(train_features_9.shape)\n",
    "print(train_target.shape)"
   ]
  },
  {
   "cell_type": "code",
   "execution_count": null,
   "metadata": {},
   "outputs": [],
   "source": [
    "evaluate_model(model3, train_tf_idf3, train_target, test_tf_idf3, test_target)"
   ]
  },
  {
   "cell_type": "code",
   "execution_count": null,
   "metadata": {},
   "outputs": [],
   "source": []
  },
  {
   "cell_type": "markdown",
   "metadata": {},
   "source": [
    "## My reviews"
   ]
  },
  {
   "cell_type": "code",
   "execution_count": null,
   "metadata": {},
   "outputs": [],
   "source": [
    "# puedes eliminar por completo estas reseñas y probar tus modelos en tus propias reseñas; las que se muestran a continuación son solo ejemplos\n",
    "\n",
    "my_reviews = pd.DataFrame([\n",
    "    'I did not simply like it, not my kind of movie.',\n",
    "    'Well, I was bored and felt asleep in the middle of the movie.',\n",
    "    'I was really fascinated with the movie',    \n",
    "    'Even the actors looked really old and disinterested, and they got paid to be in the movie. What a soulless cash grab.',\n",
    "'I didn\\'t expect the reboot to be so good! Writers really cared about the source material',\n",
    "    'The movie had its upsides and downsides, but I feel like overall it\\'s a decent flick. I could see myself going to see it again.',\n",
    "    'What a rotten attempt at a comedy. Not a single joke lands, everyone acts annoying and loud, even kids won\\'t like this!',\n",
    "'Launching on Netflix was a brave move & i Really Appreciate Being Uble to Binge on Episode After Episode, of this exciting intelligent new drama.'\n",
    "], columns = ['review'])\n",
    "\n",
    "\"\"\n",
    "my_reviews = pd.dataframe ([[\n",
    "    'I just didn't like it, it's not my kind of movie.'\n",
    "    'Well, I was bored and I fell asleep in half movie.'\n",
    "    'I was really fascinated with the movie',\n",
    "'Even the actors seemed very old and disinterested, and they were paid to be in the film. What a heartless robbery.',\n",
    "    'I didn't expect the re-release to be so good! The writers really cared about the source material,'\n",
    "    'The film had its ups and downs, but I feel that overall it is a decent film. Yes I would see her again',\n",
    "'What a lousy attempt at comedy. Not a single joke makes sense, everyone acts irritating and loud, not even kids will like this!',\n",
    "    'It was very brave to launch on Netflix and I really appreciate being able to continue watching episode after episode of this exciting and intelligent new drama.'\n",
    "], columns=['review'])\n",
    "\"\"\"\n",
    "\n",
    "my_reviews['review_norm'] = my_reviews['review'].apply(clear_text)\n",
    "\n",
    "my_reviews"
   ]
  },
  {
   "cell_type": "markdown",
   "metadata": {},
   "source": [
    "### Model 2"
   ]
  },
  {
   "cell_type": "code",
   "execution_count": null,
   "metadata": {},
   "outputs": [],
   "source": [
    "# Extract the 'review_norm' column from the my_reviews DataFrame\n",
    "texts = my_reviews['review_norm'] \n",
    "\n",
    "# Predict the probability of positive sentiment for each review using the trained model\n",
    "my_reviews_pred_prob = model.predict_proba(count_tf_idf.transform(texts))[:, 1] \n",
    "\n",
    "# Iterate through the reviews and print the predicted probability and a snippet of the review\n",
    "for i, review in enumerate(texts.str.slice(0, 100)): \n",
    "    print(f'{my_reviews_pred_prob[i]:.2f}:  {review}')"
   ]
  },
  {
   "cell_type": "markdown",
   "metadata": {},
   "source": [
    "### Model 3"
   ]
  },
  {
   "cell_type": "code",
   "execution_count": null,
   "metadata": {},
   "outputs": [],
   "source": [
    "# Extract the 'review_norm' column from the DataFrame \n",
    "texts = my_reviews['review_norm'] \n",
    "\n",
    "# Predict probabilities for each text using the trained model\n",
    "my_reviews_pred_prob = model3.predict_proba(count_tf_idf.transform(texts.apply(lambda x: lemmatize_tokens(x))))[:, 1] \n",
    "\n",
    "# Iterate through the texts and print the predicted probability and a snippet of each review\n",
    "for i, review in enumerate(texts.str.slice(0, 100)):\n",
    "    print(f'{my_reviews_pred_prob[i]:.2f}:  {review}')"
   ]
  },
  {
   "cell_type": "markdown",
   "metadata": {},
   "source": [
    "### Model 4"
   ]
  },
  {
   "cell_type": "code",
   "execution_count": null,
   "metadata": {},
   "outputs": [],
   "source": [
    "# Extract the normalized reviews from the DataFrame\n",
    "texts = my_reviews['review_norm'] \n",
    "\n",
    "# Use the pre-trained TF-IDF vectorizer to transform the normalized reviews\n",
    "tfidf_vectorizer_4 = count_tf_idf  # Assuming count_tf_idf is a pre-trained TF-IDF vectorizer object\n",
    "my_reviews_pred_prob = model4.predict_proba(tfidf_vectorizer_4.transform(texts.apply(lambda x: lemmatize_tokens(x))))[:, 1]\n",
    "\n",
    "# Iterate through the reviews and print predicted probabilities\n",
    "for i, review in enumerate(texts.str.slice(0, 100)):\n",
    "    print(f'{my_reviews_pred_prob[i]:.2f}:  {review}')"
   ]
  },
  {
   "cell_type": "markdown",
   "metadata": {},
   "source": [
    "### Model 9"
   ]
  },
  {
   "cell_type": "code",
   "execution_count": null,
   "metadata": {},
   "outputs": [],
   "source": [
    "# Extract the normalized reviews from the DataFrame\n",
    "texts = my_reviews['review_norm'] \n",
    "\n",
    "# Generate embeddings for the reviews using the BERT model\n",
    "my_reviews_features_9 = BERT_text_to_embeddings(texts, disable_progress_bar=True) \n",
    "\n",
    "# Get prediction probabilities from the trained model \n",
    "my_reviews_pred_prob = model_9.predict_proba(my_reviews_features_9)[:, 1] \n",
    "\n",
    "# Print the predicted probability and a snippet of each review\n",
    "for i, review in enumerate(texts.str.slice(0, 100)):\n",
    "    print(f'{my_reviews_pred_prob[i]:.2f}:  {review}')"
   ]
  },
  {
   "cell_type": "markdown",
   "metadata": {},
   "source": [
    "## Conclusions"
   ]
  },
  {
   "cell_type": "markdown",
   "metadata": {},
   "source": [
    "\n",
    "This project implemented a feelings classification system for films reviews, with the aim of automatically identifying negative reviews. Several classification models were trained, including traditional models such as logistics regression and gradient strengthening, as well as more advanced Bert models. However, challenges such as overjuste and problems with Bert's burden were found. Despite these obstacles, exploratory analysis of the data were carried out and various hyperparameters prepr Marketing and adjustment techniques were implemented to improve the performance of the models.\n",
    "The models exhibit high performance on the training set (F1, APS and ROC AUC close to 1), but their performance on the test set is significantly lower, especially in terms of F1-score. This suggests severe overfitting in the models. \n",
    "Models 3, 4 and 1, despite having good results on the training set, obtain a very low F1-score on the test set, which indicates a generalization problem."
   ]
  }
 ],
 "metadata": {
  "kernelspec": {
   "display_name": "Python 3 (ipykernel)",
   "language": "python",
   "name": "python3"
  },
  "language_info": {
   "codemirror_mode": {
    "name": "ipython",
    "version": 3
   },
   "file_extension": ".py",
   "mimetype": "text/x-python",
   "name": "python",
   "nbconvert_exporter": "python",
   "pygments_lexer": "ipython3",
   "version": "3.12.2"
  },
  "toc": {
   "base_numbering": 1,
   "nav_menu": {},
   "number_sections": true,
   "sideBar": true,
   "skip_h1_title": true,
   "title_cell": "Table of Contents",
   "title_sidebar": "Contents",
   "toc_cell": false,
   "toc_position": {},
   "toc_section_display": true,
   "toc_window_display": false
  },
  "vscode": {
   "interpreter": {
    "hash": "ac629f305345b17df6668bc9b17021b4f12075c260532782c34ed55a489bc20f"
   }
  }
 },
 "nbformat": 4,
 "nbformat_minor": 4
}
