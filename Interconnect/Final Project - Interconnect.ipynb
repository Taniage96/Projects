{
 "cells": [
  {
   "cell_type": "markdown",
   "metadata": {},
   "source": [
    "# Project description"
   ]
  },
  {
   "cell_type": "markdown",
   "metadata": {},
   "source": [
    "Interconnect's telecommunications operator would like to forecast its customer cancellation rate. If it is discovered that a user or user plans to leave, promotional codes and special plans options will be offered. The Interconnect Marketing team has compiled some of its customer's personal data, including information about their plans and contracts.\n",
    "\n",
    "### Interconnect Services\n",
    "\n",
    "Interconnect mainly provides two types of services:\n",
    "1. Communication by landline. The phone can be connected to several lines simultaneously.\n",
    "2. Internet. The network can be configured through a telephone line (DSL, *digital subscriber *) or through an optical fiber cable.\n",
    "\n",
    "Some other services offered by the company include:\n",
    "\n",
    "-Internet security: Antivirus software (*Dispositive protection*) and a malicious website blocker (*safety clan*).\n",
    "-A technical support line (*Support Technician*).\n",
    "-File storage in the cloud and backup data (*backuponline*).\n",
    "-TV streaming (*streamingtv*) and films directory (*streaming of*)\n",
    "\n",
    "The clientele can choose between a monthly payment or sign a contract of 1 or 2 years. You can use several payment methods and receive an electronic invoice after a transaction.\n",
    "\n",
    "### Data Description\n",
    "\n",
    "The data consists of files obtained from different sources:\n",
    "\n",
    "-`contract.csv` -Contract information;\n",
    "-`Personal.CSV` -customer personal data;\n",
    "-`Internet.CSV` -Information on Internet services;\n",
    "-`Phone.CSV` -Information about telephone services.\n",
    "\n",
    "In each file, the Customerid` (Customer ID) column contains a unique code assigned to each client. The contract information is valid from February 1, 2020.\n",
    "\n",
    "### Criteria to consider\n",
    "\n",
    "Objective characteristic: the `'enddate'` column is equal to`' no'`.\n",
    "\n",
    "Main metric: AUC-ROC.\n",
    "Additional metric: ExactD.\n",
    "\n",
    "Evaluación's Cristarios:\n",
    "\n",
    "-AUC-ROC <0.75-0 SP\n",
    "-0.75 ≤ AUC-ROC <0.81-4 SP\n",
    "-0.81 ≤ AUC-ROC <0.85-4.5 SP\n",
    "-0.85 ≤ AUC-ROC <0.87-5 SP\n",
    "-0.87 ≤ AUC-ROC <0.88-5.5 SP\n",
    "-AUC-ROC ≥ 0.88-6 SP"
   ]
  },
  {
   "cell_type": "markdown",
   "metadata": {},
   "source": [
    "## Work plan for the interconnect customer cancellation prediction project\n",
    "\n",
    "### 1. Data initial collection and exploration (EDA)\n",
    "\n",
    "***Data load **: Load the CSV files (`contract. and pandas).\n",
    "***Initial inspection **:*\n",
    "    *Visualize the first and last rows of each dataframe (`df.head ()`, `df.tail ()`).\n",
    "*Obtain information on the number of rows and columns, and data types (`df.info ()`).\n",
    "    *Identify missing values ​​(`df.isnull (). Sum ()`) and decide how to treat them (imputation or elimination).\n",
    "***Data Union **: Unite the dataraframes in one using `customerid` as key (` pd.merge () `).\n",
    "***Exploratory analysis **:*\n",
    "    ***OBJECTIVE VARIABLE **: Create \"Churn\" based on `enddate` (0: inactive user, 1: active user).\n",
    "***\"Churn\" distribution **: Analyze the balance of classes.\n",
    "    ***Bivariate analysis **: Analyze the relationship between each variable and \"churn\".\n",
    "    ***Visualizations **: Histograms, bar graphs, dispersion diagrams, etc.\n",
    "\n",
    "### 2. Data preprocessing\n",
    "\n",
    "***Characteristics Engineering **:*\n",
    "    *Create new variables (duration of the contract in months, number of services, etc.).\n",
    "    *Consider interactions between variables (Internet type and contract type).\n",
    "***Data transformation **:*\n",
    "    *; Learning\n",
    "***DISBALANCE MANAGEMENT **:*\n",
    "*Given the imbalance identified in the target variable, overmone techniques (such as Smote or Randomoversampler) will be applied to generate new minority class samples (\"yes\") and balance the training set.\n",
    "\n",
    "### 3. Modeling and evaluation\n",
    "***Selection of models **: Consider several classification models that are suitable for the cancellation prediction problem, such as logistics regression, decision trees, Random Forest, Gradient Boosting (XGBoost, Lightgbm), neural networks, etc.\n",
    "***Data Division **: Divide the data set into three parts:*\n",
    "    *  Training.\n",
    "    *Validation.\n",
    "    *  Proof.\n",
    "***Training and adjustment **: Train the models selected in the training set and adjust their hyperparameters using techniques such as cross validation and grid search (Gridsearchcv).\n",
    "***Evaluation metrics **:*\n",
    "    ***AUC-ROC **: It will be used as the main metric to evaluate the performance of the models, since it is a robust metric for classification problems with classes.\n",
    "***Accuracy (ACCURACY) **: The accuracy of the training set will be evaluated versus the test to detect on adjustment.\n",
    "    ***F1-SCORE **: This metric is useful for evaluating the balance between precision and recall, especially in problems with classes.\n",
    "***Model selection **: Select the model that obtains the best performance in the validation set, considering both the AUC-ROC and the accuracy and the F1-Score."
   ]
  },
  {
   "cell_type": "markdown",
   "metadata": {},
   "source": [
    "## Import libreries"
   ]
  },
  {
   "cell_type": "code",
   "execution_count": 2,
   "metadata": {},
   "outputs": [
    {
     "name": "stderr",
     "output_type": "stream",
     "text": [
      "2025-02-11 08:42:50.730525: I tensorflow/core/platform/cpu_feature_guard.cc:210] This TensorFlow binary is optimized to use available CPU instructions in performance-critical operations.\n",
      "To enable the following instructions: AVX2 FMA, in other operations, rebuild TensorFlow with the appropriate compiler flags.\n"
     ]
    }
   ],
   "source": [
    "import math\n",
    "import numpy as np\n",
    "import pandas as pd\n",
    "import lightgbm as lgb\n",
    "import matplotlib\n",
    "import matplotlib.pyplot as plt\n",
    "import matplotlib.ticker as ticker\n",
    "import matplotlib.dates as mdates\n",
    "import seaborn as sns\n",
    "import torch\n",
    "import transformers\n",
    "import logging\n",
    "import re\n",
    "from tqdm.auto import tqdm\n",
    "import nltk\n",
    "from sklearn.feature_extraction.text import TfidfVectorizer\n",
    "from sklearn.linear_model import LogisticRegression\n",
    "from sklearn.model_selection import train_test_split\n",
    "from sklearn.ensemble import RandomForestRegressor\n",
    "from sklearn.metrics import mean_absolute_error\n",
    "from sklearn.metrics import mean_squared_error\n",
    "from nltk.stem import WordNetLemmatizer\n",
    "from nltk.tokenize import word_tokenize\n",
    "from nltk.corpus import stopwords\n",
    "from nltk.corpus import stopwords as nltk_stopwords\n",
    "import xgboost as xgb\n",
    "from sklearn.feature_extraction.text import TfidfVectorizer\n",
    "import spacy\n",
    "import random\n",
    "import nltk\n",
    "from sklearn.metrics import roc_curve, auc\n",
    "from nltk.tokenize import word_tokenize\n",
    "from nltk.stem import WordNetLemmatizer\n",
    "from sklearn.dummy import DummyClassifier\n",
    "from sklearn.metrics import f1_score\n",
    "from sklearn.linear_model import LinearRegression\n",
    "from sklearn.tree import DecisionTreeClassifier\n",
    "from sklearn.tree import DecisionTreeRegressor\n",
    "from sklearn.ensemble import RandomForestClassifier\n",
    "from sklearn.metrics import accuracy_score\n",
    "from sklearn.metrics import confusion_matrix\n",
    "from sklearn.utils import shuffle\n",
    "from sklearn.linear_model import LinearRegression\n",
    "from sklearn.metrics import f1_score\n",
    "from sklearn.metrics import precision_score, recall_score\n",
    "from sklearn.metrics import roc_auc_score\n",
    "import statistics\n",
    "import plotly.express as px\n",
    "from sklearn.preprocessing import StandardScaler\n",
    "from sklearn.impute import SimpleImputer\n",
    "from sklearn.model_selection import GridSearchCV\n",
    "from tensorflow import keras\n",
    "from tensorflow.keras.models import Sequential\n",
    "from scikeras.wrappers import KerasRegressor\n",
    "from tensorflow.keras.layers import Dense, Dropout, Input, ELU, LeakyReLU\n",
    "from tensorflow.keras.callbacks import EarlyStopping\n",
    "from sklearn.neighbors import KNeighborsClassifier\n",
    "from lightgbm import LGBMClassifier\n",
    "from catboost import CatBoostClassifier\n",
    "import lightgbm as lgb\n",
    "from imblearn.over_sampling import SMOTE\n",
    "from sklearn.model_selection import learning_curve\n",
    "from imblearn.over_sampling import RandomOverSampler\n",
    "from collections import Counter\n",
    "import warnings\n",
    "from sklearn.exceptions import ConvergenceWarning  # Importar ConvergenceWarning"
   ]
  },
  {
   "cell_type": "markdown",
   "metadata": {},
   "source": [
    "## Load Data"
   ]
  },
  {
   "cell_type": "code",
   "execution_count": 3,
   "metadata": {},
   "outputs": [],
   "source": [
    "# Read the CSV data into a Pandas DataFrame\n",
    "\n",
    "contract = pd.read_csv('final_provider/contract.csv')\n",
    "personal = pd.read_csv('final_provider/personal.csv')\n",
    "internet = pd.read_csv('final_provider/internet.csv')\n",
    "phone = pd.read_csv('final_provider/phone.csv')"
   ]
  },
  {
   "cell_type": "markdown",
   "metadata": {},
   "source": [
    "## Analyze and correct Data"
   ]
  },
  {
   "cell_type": "markdown",
   "metadata": {},
   "source": [
    "### For Contract"
   ]
  },
  {
   "cell_type": "code",
   "execution_count": 4,
   "metadata": {},
   "outputs": [
    {
     "data": {
      "text/html": [
       "<div>\n",
       "<style scoped>\n",
       "    .dataframe tbody tr th:only-of-type {\n",
       "        vertical-align: middle;\n",
       "    }\n",
       "\n",
       "    .dataframe tbody tr th {\n",
       "        vertical-align: top;\n",
       "    }\n",
       "\n",
       "    .dataframe thead th {\n",
       "        text-align: right;\n",
       "    }\n",
       "</style>\n",
       "<table border=\"1\" class=\"dataframe\">\n",
       "  <thead>\n",
       "    <tr style=\"text-align: right;\">\n",
       "      <th></th>\n",
       "      <th>customerID</th>\n",
       "      <th>BeginDate</th>\n",
       "      <th>EndDate</th>\n",
       "      <th>Type</th>\n",
       "      <th>PaperlessBilling</th>\n",
       "      <th>PaymentMethod</th>\n",
       "      <th>MonthlyCharges</th>\n",
       "      <th>TotalCharges</th>\n",
       "    </tr>\n",
       "  </thead>\n",
       "  <tbody>\n",
       "    <tr>\n",
       "      <th>0</th>\n",
       "      <td>7590-VHVEG</td>\n",
       "      <td>2020-01-01</td>\n",
       "      <td>No</td>\n",
       "      <td>Month-to-month</td>\n",
       "      <td>Yes</td>\n",
       "      <td>Electronic check</td>\n",
       "      <td>29.85</td>\n",
       "      <td>29.85</td>\n",
       "    </tr>\n",
       "    <tr>\n",
       "      <th>1</th>\n",
       "      <td>5575-GNVDE</td>\n",
       "      <td>2017-04-01</td>\n",
       "      <td>No</td>\n",
       "      <td>One year</td>\n",
       "      <td>No</td>\n",
       "      <td>Mailed check</td>\n",
       "      <td>56.95</td>\n",
       "      <td>1889.5</td>\n",
       "    </tr>\n",
       "    <tr>\n",
       "      <th>2</th>\n",
       "      <td>3668-QPYBK</td>\n",
       "      <td>2019-10-01</td>\n",
       "      <td>2019-12-01 00:00:00</td>\n",
       "      <td>Month-to-month</td>\n",
       "      <td>Yes</td>\n",
       "      <td>Mailed check</td>\n",
       "      <td>53.85</td>\n",
       "      <td>108.15</td>\n",
       "    </tr>\n",
       "    <tr>\n",
       "      <th>3</th>\n",
       "      <td>7795-CFOCW</td>\n",
       "      <td>2016-05-01</td>\n",
       "      <td>No</td>\n",
       "      <td>One year</td>\n",
       "      <td>No</td>\n",
       "      <td>Bank transfer (automatic)</td>\n",
       "      <td>42.30</td>\n",
       "      <td>1840.75</td>\n",
       "    </tr>\n",
       "    <tr>\n",
       "      <th>4</th>\n",
       "      <td>9237-HQITU</td>\n",
       "      <td>2019-09-01</td>\n",
       "      <td>2019-11-01 00:00:00</td>\n",
       "      <td>Month-to-month</td>\n",
       "      <td>Yes</td>\n",
       "      <td>Electronic check</td>\n",
       "      <td>70.70</td>\n",
       "      <td>151.65</td>\n",
       "    </tr>\n",
       "  </tbody>\n",
       "</table>\n",
       "</div>"
      ],
      "text/plain": [
       "   customerID   BeginDate              EndDate            Type  \\\n",
       "0  7590-VHVEG  2020-01-01                   No  Month-to-month   \n",
       "1  5575-GNVDE  2017-04-01                   No        One year   \n",
       "2  3668-QPYBK  2019-10-01  2019-12-01 00:00:00  Month-to-month   \n",
       "3  7795-CFOCW  2016-05-01                   No        One year   \n",
       "4  9237-HQITU  2019-09-01  2019-11-01 00:00:00  Month-to-month   \n",
       "\n",
       "  PaperlessBilling              PaymentMethod  MonthlyCharges TotalCharges  \n",
       "0              Yes           Electronic check           29.85        29.85  \n",
       "1               No               Mailed check           56.95       1889.5  \n",
       "2              Yes               Mailed check           53.85       108.15  \n",
       "3               No  Bank transfer (automatic)           42.30      1840.75  \n",
       "4              Yes           Electronic check           70.70       151.65  "
      ]
     },
     "execution_count": 4,
     "metadata": {},
     "output_type": "execute_result"
    }
   ],
   "source": [
    "#Show the first 5 rows of the DataFrame\n",
    "contract.head()"
   ]
  },
  {
   "cell_type": "code",
   "execution_count": 5,
   "metadata": {},
   "outputs": [
    {
     "name": "stdout",
     "output_type": "stream",
     "text": [
      "<class 'pandas.core.frame.DataFrame'>\n",
      "RangeIndex: 7043 entries, 0 to 7042\n",
      "Data columns (total 8 columns):\n",
      " #   Column            Non-Null Count  Dtype  \n",
      "---  ------            --------------  -----  \n",
      " 0   customerID        7043 non-null   object \n",
      " 1   BeginDate         7043 non-null   object \n",
      " 2   EndDate           7043 non-null   object \n",
      " 3   Type              7043 non-null   object \n",
      " 4   PaperlessBilling  7043 non-null   object \n",
      " 5   PaymentMethod     7043 non-null   object \n",
      " 6   MonthlyCharges    7043 non-null   float64\n",
      " 7   TotalCharges      7043 non-null   object \n",
      "dtypes: float64(1), object(7)\n",
      "memory usage: 440.3+ KB\n"
     ]
    }
   ],
   "source": [
    "#Analyze general information for Contrat DataFrame\n",
    "contract.info()"
   ]
  },
  {
   "cell_type": "markdown",
   "metadata": {},
   "source": [
    "We will need to perform some corrections to the data, like changing the data type of the date columns and the total charges. No null values shown."
   ]
  },
  {
   "cell_type": "code",
   "execution_count": 6,
   "metadata": {},
   "outputs": [
    {
     "name": "stdout",
     "output_type": "stream",
     "text": [
      "<class 'pandas.core.frame.DataFrame'>\n",
      "RangeIndex: 7043 entries, 0 to 7042\n",
      "Data columns (total 8 columns):\n",
      " #   Column            Non-Null Count  Dtype         \n",
      "---  ------            --------------  -----         \n",
      " 0   customerID        7043 non-null   object        \n",
      " 1   BeginDate         7043 non-null   datetime64[ns]\n",
      " 2   EndDate           7043 non-null   object        \n",
      " 3   Type              7043 non-null   object        \n",
      " 4   PaperlessBilling  7043 non-null   object        \n",
      " 5   PaymentMethod     7043 non-null   object        \n",
      " 6   MonthlyCharges    7043 non-null   float64       \n",
      " 7   TotalCharges      7032 non-null   float64       \n",
      "dtypes: datetime64[ns](1), float64(2), object(5)\n",
      "memory usage: 440.3+ KB\n"
     ]
    }
   ],
   "source": [
    "#Correct data types\n",
    "contract['BeginDate'] = pd.to_datetime(contract['BeginDate'],format='%Y-%m-%d')\n",
    "\n",
    "# Try converting EndDate to datetime format (handle potential errors)\n",
    "try:\n",
    "    contract['EndDate'] = pd.to_datetime(contract['EndDate'], format='%Y-%m-%d %H:%M:%S')\n",
    "except:\n",
    "    pass  # Do nothing if conversion fails (likely due to no End Dates)\n",
    "\n",
    "#Convert TotalCharges to numeric\n",
    "\n",
    "contract['TotalCharges'] = pd.to_numeric(contract['TotalCharges'], errors='coerce')\n",
    "\n",
    "# Display information about the DataFrame 'contract'\n",
    "contract.info()\n",
    "\n"
   ]
  },
  {
   "cell_type": "code",
   "execution_count": 7,
   "metadata": {},
   "outputs": [
    {
     "data": {
      "text/html": [
       "<div>\n",
       "<style scoped>\n",
       "    .dataframe tbody tr th:only-of-type {\n",
       "        vertical-align: middle;\n",
       "    }\n",
       "\n",
       "    .dataframe tbody tr th {\n",
       "        vertical-align: top;\n",
       "    }\n",
       "\n",
       "    .dataframe thead th {\n",
       "        text-align: right;\n",
       "    }\n",
       "</style>\n",
       "<table border=\"1\" class=\"dataframe\">\n",
       "  <thead>\n",
       "    <tr style=\"text-align: right;\">\n",
       "      <th></th>\n",
       "      <th>BeginDate</th>\n",
       "      <th>MonthlyCharges</th>\n",
       "      <th>TotalCharges</th>\n",
       "    </tr>\n",
       "  </thead>\n",
       "  <tbody>\n",
       "    <tr>\n",
       "      <th>count</th>\n",
       "      <td>7043</td>\n",
       "      <td>7043.000000</td>\n",
       "      <td>7032.000000</td>\n",
       "    </tr>\n",
       "    <tr>\n",
       "      <th>mean</th>\n",
       "      <td>2017-04-30 13:01:50.918642688</td>\n",
       "      <td>64.761692</td>\n",
       "      <td>2283.300441</td>\n",
       "    </tr>\n",
       "    <tr>\n",
       "      <th>min</th>\n",
       "      <td>2013-10-01 00:00:00</td>\n",
       "      <td>18.250000</td>\n",
       "      <td>18.800000</td>\n",
       "    </tr>\n",
       "    <tr>\n",
       "      <th>25%</th>\n",
       "      <td>2015-06-01 00:00:00</td>\n",
       "      <td>35.500000</td>\n",
       "      <td>401.450000</td>\n",
       "    </tr>\n",
       "    <tr>\n",
       "      <th>50%</th>\n",
       "      <td>2017-09-01 00:00:00</td>\n",
       "      <td>70.350000</td>\n",
       "      <td>1397.475000</td>\n",
       "    </tr>\n",
       "    <tr>\n",
       "      <th>75%</th>\n",
       "      <td>2019-04-01 00:00:00</td>\n",
       "      <td>89.850000</td>\n",
       "      <td>3794.737500</td>\n",
       "    </tr>\n",
       "    <tr>\n",
       "      <th>max</th>\n",
       "      <td>2020-02-01 00:00:00</td>\n",
       "      <td>118.750000</td>\n",
       "      <td>8684.800000</td>\n",
       "    </tr>\n",
       "    <tr>\n",
       "      <th>std</th>\n",
       "      <td>NaN</td>\n",
       "      <td>30.090047</td>\n",
       "      <td>2266.771362</td>\n",
       "    </tr>\n",
       "  </tbody>\n",
       "</table>\n",
       "</div>"
      ],
      "text/plain": [
       "                           BeginDate  MonthlyCharges  TotalCharges\n",
       "count                           7043     7043.000000   7032.000000\n",
       "mean   2017-04-30 13:01:50.918642688       64.761692   2283.300441\n",
       "min              2013-10-01 00:00:00       18.250000     18.800000\n",
       "25%              2015-06-01 00:00:00       35.500000    401.450000\n",
       "50%              2017-09-01 00:00:00       70.350000   1397.475000\n",
       "75%              2019-04-01 00:00:00       89.850000   3794.737500\n",
       "max              2020-02-01 00:00:00      118.750000   8684.800000\n",
       "std                              NaN       30.090047   2266.771362"
      ]
     },
     "execution_count": 7,
     "metadata": {},
     "output_type": "execute_result"
    }
   ],
   "source": [
    "#generate descriptive statistics for the numerical columns in the DataFrame \n",
    "contract.describe()"
   ]
  },
  {
   "cell_type": "code",
   "execution_count": 8,
   "metadata": {},
   "outputs": [
    {
     "data": {
      "text/html": [
       "<div>\n",
       "<style scoped>\n",
       "    .dataframe tbody tr th:only-of-type {\n",
       "        vertical-align: middle;\n",
       "    }\n",
       "\n",
       "    .dataframe tbody tr th {\n",
       "        vertical-align: top;\n",
       "    }\n",
       "\n",
       "    .dataframe thead th {\n",
       "        text-align: right;\n",
       "    }\n",
       "</style>\n",
       "<table border=\"1\" class=\"dataframe\">\n",
       "  <thead>\n",
       "    <tr style=\"text-align: right;\">\n",
       "      <th></th>\n",
       "      <th>year</th>\n",
       "      <th>TotalCharges</th>\n",
       "    </tr>\n",
       "  </thead>\n",
       "  <tbody>\n",
       "    <tr>\n",
       "      <th>0</th>\n",
       "      <td>2013</td>\n",
       "      <td>57107.05</td>\n",
       "    </tr>\n",
       "    <tr>\n",
       "      <th>1</th>\n",
       "      <td>2014</td>\n",
       "      <td>7058583.95</td>\n",
       "    </tr>\n",
       "    <tr>\n",
       "      <th>2</th>\n",
       "      <td>2015</td>\n",
       "      <td>10390349.70</td>\n",
       "    </tr>\n",
       "    <tr>\n",
       "      <th>3</th>\n",
       "      <td>2016</td>\n",
       "      <td>12586916.50</td>\n",
       "    </tr>\n",
       "    <tr>\n",
       "      <th>4</th>\n",
       "      <td>2017</td>\n",
       "      <td>14296341.25</td>\n",
       "    </tr>\n",
       "    <tr>\n",
       "      <th>5</th>\n",
       "      <td>2018</td>\n",
       "      <td>15460304.10</td>\n",
       "    </tr>\n",
       "    <tr>\n",
       "      <th>6</th>\n",
       "      <td>2019</td>\n",
       "      <td>16047335.90</td>\n",
       "    </tr>\n",
       "    <tr>\n",
       "      <th>7</th>\n",
       "      <td>2020</td>\n",
       "      <td>13877563.15</td>\n",
       "    </tr>\n",
       "    <tr>\n",
       "      <th>8</th>\n",
       "      <td>2021</td>\n",
       "      <td>13193241.80</td>\n",
       "    </tr>\n",
       "    <tr>\n",
       "      <th>9</th>\n",
       "      <td>2022</td>\n",
       "      <td>13193241.80</td>\n",
       "    </tr>\n",
       "    <tr>\n",
       "      <th>10</th>\n",
       "      <td>2023</td>\n",
       "      <td>13193241.80</td>\n",
       "    </tr>\n",
       "    <tr>\n",
       "      <th>11</th>\n",
       "      <td>2024</td>\n",
       "      <td>13193241.80</td>\n",
       "    </tr>\n",
       "    <tr>\n",
       "      <th>12</th>\n",
       "      <td>2025</td>\n",
       "      <td>13193241.80</td>\n",
       "    </tr>\n",
       "  </tbody>\n",
       "</table>\n",
       "</div>"
      ],
      "text/plain": [
       "    year  TotalCharges\n",
       "0   2013      57107.05\n",
       "1   2014    7058583.95\n",
       "2   2015   10390349.70\n",
       "3   2016   12586916.50\n",
       "4   2017   14296341.25\n",
       "5   2018   15460304.10\n",
       "6   2019   16047335.90\n",
       "7   2020   13877563.15\n",
       "8   2021   13193241.80\n",
       "9   2022   13193241.80\n",
       "10  2023   13193241.80\n",
       "11  2024   13193241.80\n",
       "12  2025   13193241.80"
      ]
     },
     "execution_count": 8,
     "metadata": {},
     "output_type": "execute_result"
    }
   ],
   "source": [
    "def assign_charges(row):\n",
    "    start_year = row['BeginDate'].year\n",
    "    #If enddate is 'no', assign the position until the current year\n",
    "    if row['EndDate'] != 'No':\n",
    "        end_date = pd.to_datetime(row['EndDate'], errors='coerce')  #Convise Datetime\n",
    "        end_year = end_date.year if pd.notna(end_date) else pd.Timestamp.today().year\n",
    "    else:\n",
    "        end_year = pd.Timestamp.today().year \n",
    "    \n",
    "    total_charges = row['TotalCharges']\n",
    "    years = range(start_year, end_year + 1)\n",
    "    \n",
    "    #Calculate the annual position depending on the type\n",
    "    if row['Type'] == 'month-month':\n",
    "        annual_charge = total_charges * 12\n",
    "    else:\n",
    "        annual_charge = total_charges\n",
    "    \n",
    "    #Create a dataframe over the years as index and total charts as a column\n",
    "    df = pd.DataFrame(annual_charge, index=years, columns=['TotalCharges'])\n",
    "    \n",
    "    \n",
    "    return df\n",
    "\n",
    "#Apply the function to each row and concatenate the results\n",
    "contract_expanded = contract.apply(assign_charges, axis=1)\n",
    "\n",
    "#Concatenar Los Dataframes resulting\n",
    "contract_expanded = pd.concat(contract_expanded.to_list())\n",
    "\n",
    "#Reset the index and rename the columns\n",
    "contract_expanded = contract_expanded.reset_index()\n",
    "contract_expanded.columns = ['year', 'TotalCharges']\n",
    "\n",
    "    \n",
    "#Group for 'Year' and add the values ​​of 'Total Charges'\n",
    "contract_expanded_grouped = contract_expanded.groupby('year')['TotalCharges'].sum().reset_index()\n",
    "\n",
    "contract_expanded_grouped"
   ]
  },
  {
   "cell_type": "code",
   "execution_count": null,
   "metadata": {},
   "outputs": [],
   "source": [
    "#Create the bar chart\n",
    "plt.figure(figsize=(10, 6))\n",
    "contract_expanded_grouped.plot(kind='bar',x='year', y='TotalCharges')\n",
    "plt.gca().yaxis.set_major_formatter(ticker.FuncFormatter(lambda x, _: f'{int(x):,}'))\n",
    "plt.xlabel('Year')\n",
    "plt.ylabel('Total Charges')\n",
    "plt.title('Total Charges per year')\n",
    "plt.show()"
   ]
  },
  {
   "cell_type": "code",
   "execution_count": null,
   "metadata": {},
   "outputs": [],
   "source": [
    "#Create a histogram\n",
    "plt.figure(figsize=(10, 6))\n",
    "contract_expanded_grouped['TotalCharges'].plot(kind='hist')\n",
    "plt.title('Histogram for Total Charges')"
   ]
  },
  {
   "cell_type": "markdown",
   "metadata": {},
   "source": [
    "### For personal"
   ]
  },
  {
   "cell_type": "code",
   "execution_count": 11,
   "metadata": {},
   "outputs": [
    {
     "data": {
      "text/html": [
       "<div>\n",
       "<style scoped>\n",
       "    .dataframe tbody tr th:only-of-type {\n",
       "        vertical-align: middle;\n",
       "    }\n",
       "\n",
       "    .dataframe tbody tr th {\n",
       "        vertical-align: top;\n",
       "    }\n",
       "\n",
       "    .dataframe thead th {\n",
       "        text-align: right;\n",
       "    }\n",
       "</style>\n",
       "<table border=\"1\" class=\"dataframe\">\n",
       "  <thead>\n",
       "    <tr style=\"text-align: right;\">\n",
       "      <th></th>\n",
       "      <th>customerID</th>\n",
       "      <th>gender</th>\n",
       "      <th>SeniorCitizen</th>\n",
       "      <th>Partner</th>\n",
       "      <th>Dependents</th>\n",
       "    </tr>\n",
       "  </thead>\n",
       "  <tbody>\n",
       "    <tr>\n",
       "      <th>0</th>\n",
       "      <td>7590-VHVEG</td>\n",
       "      <td>Female</td>\n",
       "      <td>0</td>\n",
       "      <td>Yes</td>\n",
       "      <td>No</td>\n",
       "    </tr>\n",
       "    <tr>\n",
       "      <th>1</th>\n",
       "      <td>5575-GNVDE</td>\n",
       "      <td>Male</td>\n",
       "      <td>0</td>\n",
       "      <td>No</td>\n",
       "      <td>No</td>\n",
       "    </tr>\n",
       "    <tr>\n",
       "      <th>2</th>\n",
       "      <td>3668-QPYBK</td>\n",
       "      <td>Male</td>\n",
       "      <td>0</td>\n",
       "      <td>No</td>\n",
       "      <td>No</td>\n",
       "    </tr>\n",
       "    <tr>\n",
       "      <th>3</th>\n",
       "      <td>7795-CFOCW</td>\n",
       "      <td>Male</td>\n",
       "      <td>0</td>\n",
       "      <td>No</td>\n",
       "      <td>No</td>\n",
       "    </tr>\n",
       "    <tr>\n",
       "      <th>4</th>\n",
       "      <td>9237-HQITU</td>\n",
       "      <td>Female</td>\n",
       "      <td>0</td>\n",
       "      <td>No</td>\n",
       "      <td>No</td>\n",
       "    </tr>\n",
       "  </tbody>\n",
       "</table>\n",
       "</div>"
      ],
      "text/plain": [
       "   customerID  gender  SeniorCitizen Partner Dependents\n",
       "0  7590-VHVEG  Female              0     Yes         No\n",
       "1  5575-GNVDE    Male              0      No         No\n",
       "2  3668-QPYBK    Male              0      No         No\n",
       "3  7795-CFOCW    Male              0      No         No\n",
       "4  9237-HQITU  Female              0      No         No"
      ]
     },
     "execution_count": 11,
     "metadata": {},
     "output_type": "execute_result"
    }
   ],
   "source": [
    "#Show the first 5 rows of the DataFrame\n",
    "personal.head()"
   ]
  },
  {
   "cell_type": "code",
   "execution_count": 12,
   "metadata": {},
   "outputs": [
    {
     "name": "stdout",
     "output_type": "stream",
     "text": [
      "<class 'pandas.core.frame.DataFrame'>\n",
      "RangeIndex: 7043 entries, 0 to 7042\n",
      "Data columns (total 5 columns):\n",
      " #   Column         Non-Null Count  Dtype \n",
      "---  ------         --------------  ----- \n",
      " 0   customerID     7043 non-null   object\n",
      " 1   gender         7043 non-null   object\n",
      " 2   SeniorCitizen  7043 non-null   int64 \n",
      " 3   Partner        7043 non-null   object\n",
      " 4   Dependents     7043 non-null   object\n",
      "dtypes: int64(1), object(4)\n",
      "memory usage: 275.2+ KB\n"
     ]
    }
   ],
   "source": [
    "#Analyze general information for Contrat DataFrame\n",
    "personal.info()"
   ]
  },
  {
   "cell_type": "markdown",
   "metadata": {},
   "source": [
    "There is no need to modiy the data"
   ]
  },
  {
   "cell_type": "markdown",
   "metadata": {},
   "source": [
    "### For internet"
   ]
  },
  {
   "cell_type": "code",
   "execution_count": 13,
   "metadata": {},
   "outputs": [
    {
     "data": {
      "text/html": [
       "<div>\n",
       "<style scoped>\n",
       "    .dataframe tbody tr th:only-of-type {\n",
       "        vertical-align: middle;\n",
       "    }\n",
       "\n",
       "    .dataframe tbody tr th {\n",
       "        vertical-align: top;\n",
       "    }\n",
       "\n",
       "    .dataframe thead th {\n",
       "        text-align: right;\n",
       "    }\n",
       "</style>\n",
       "<table border=\"1\" class=\"dataframe\">\n",
       "  <thead>\n",
       "    <tr style=\"text-align: right;\">\n",
       "      <th></th>\n",
       "      <th>customerID</th>\n",
       "      <th>InternetService</th>\n",
       "      <th>OnlineSecurity</th>\n",
       "      <th>OnlineBackup</th>\n",
       "      <th>DeviceProtection</th>\n",
       "      <th>TechSupport</th>\n",
       "      <th>StreamingTV</th>\n",
       "      <th>StreamingMovies</th>\n",
       "    </tr>\n",
       "  </thead>\n",
       "  <tbody>\n",
       "    <tr>\n",
       "      <th>0</th>\n",
       "      <td>7590-VHVEG</td>\n",
       "      <td>DSL</td>\n",
       "      <td>No</td>\n",
       "      <td>Yes</td>\n",
       "      <td>No</td>\n",
       "      <td>No</td>\n",
       "      <td>No</td>\n",
       "      <td>No</td>\n",
       "    </tr>\n",
       "    <tr>\n",
       "      <th>1</th>\n",
       "      <td>5575-GNVDE</td>\n",
       "      <td>DSL</td>\n",
       "      <td>Yes</td>\n",
       "      <td>No</td>\n",
       "      <td>Yes</td>\n",
       "      <td>No</td>\n",
       "      <td>No</td>\n",
       "      <td>No</td>\n",
       "    </tr>\n",
       "    <tr>\n",
       "      <th>2</th>\n",
       "      <td>3668-QPYBK</td>\n",
       "      <td>DSL</td>\n",
       "      <td>Yes</td>\n",
       "      <td>Yes</td>\n",
       "      <td>No</td>\n",
       "      <td>No</td>\n",
       "      <td>No</td>\n",
       "      <td>No</td>\n",
       "    </tr>\n",
       "    <tr>\n",
       "      <th>3</th>\n",
       "      <td>7795-CFOCW</td>\n",
       "      <td>DSL</td>\n",
       "      <td>Yes</td>\n",
       "      <td>No</td>\n",
       "      <td>Yes</td>\n",
       "      <td>Yes</td>\n",
       "      <td>No</td>\n",
       "      <td>No</td>\n",
       "    </tr>\n",
       "    <tr>\n",
       "      <th>4</th>\n",
       "      <td>9237-HQITU</td>\n",
       "      <td>Fiber optic</td>\n",
       "      <td>No</td>\n",
       "      <td>No</td>\n",
       "      <td>No</td>\n",
       "      <td>No</td>\n",
       "      <td>No</td>\n",
       "      <td>No</td>\n",
       "    </tr>\n",
       "  </tbody>\n",
       "</table>\n",
       "</div>"
      ],
      "text/plain": [
       "   customerID InternetService OnlineSecurity OnlineBackup DeviceProtection  \\\n",
       "0  7590-VHVEG             DSL             No          Yes               No   \n",
       "1  5575-GNVDE             DSL            Yes           No              Yes   \n",
       "2  3668-QPYBK             DSL            Yes          Yes               No   \n",
       "3  7795-CFOCW             DSL            Yes           No              Yes   \n",
       "4  9237-HQITU     Fiber optic             No           No               No   \n",
       "\n",
       "  TechSupport StreamingTV StreamingMovies  \n",
       "0          No          No              No  \n",
       "1          No          No              No  \n",
       "2          No          No              No  \n",
       "3         Yes          No              No  \n",
       "4          No          No              No  "
      ]
     },
     "execution_count": 13,
     "metadata": {},
     "output_type": "execute_result"
    }
   ],
   "source": [
    "#Show the first 5 rows of the DataFrame\n",
    "internet.head()"
   ]
  },
  {
   "cell_type": "code",
   "execution_count": 14,
   "metadata": {},
   "outputs": [
    {
     "name": "stdout",
     "output_type": "stream",
     "text": [
      "<class 'pandas.core.frame.DataFrame'>\n",
      "RangeIndex: 5517 entries, 0 to 5516\n",
      "Data columns (total 8 columns):\n",
      " #   Column            Non-Null Count  Dtype \n",
      "---  ------            --------------  ----- \n",
      " 0   customerID        5517 non-null   object\n",
      " 1   InternetService   5517 non-null   object\n",
      " 2   OnlineSecurity    5517 non-null   object\n",
      " 3   OnlineBackup      5517 non-null   object\n",
      " 4   DeviceProtection  5517 non-null   object\n",
      " 5   TechSupport       5517 non-null   object\n",
      " 6   StreamingTV       5517 non-null   object\n",
      " 7   StreamingMovies   5517 non-null   object\n",
      "dtypes: object(8)\n",
      "memory usage: 344.9+ KB\n"
     ]
    }
   ],
   "source": [
    "#Analyze general information for Internet DataFrame\n",
    "internet.info()"
   ]
  },
  {
   "cell_type": "code",
   "execution_count": 15,
   "metadata": {},
   "outputs": [
    {
     "data": {
      "text/html": [
       "<div>\n",
       "<style scoped>\n",
       "    .dataframe tbody tr th:only-of-type {\n",
       "        vertical-align: middle;\n",
       "    }\n",
       "\n",
       "    .dataframe tbody tr th {\n",
       "        vertical-align: top;\n",
       "    }\n",
       "\n",
       "    .dataframe thead th {\n",
       "        text-align: right;\n",
       "    }\n",
       "</style>\n",
       "<table border=\"1\" class=\"dataframe\">\n",
       "  <thead>\n",
       "    <tr style=\"text-align: right;\">\n",
       "      <th></th>\n",
       "      <th>customerID</th>\n",
       "      <th>InternetService</th>\n",
       "      <th>OnlineSecurity</th>\n",
       "      <th>OnlineBackup</th>\n",
       "      <th>DeviceProtection</th>\n",
       "      <th>TechSupport</th>\n",
       "      <th>StreamingTV</th>\n",
       "      <th>StreamingMovies</th>\n",
       "    </tr>\n",
       "  </thead>\n",
       "  <tbody>\n",
       "    <tr>\n",
       "      <th>count</th>\n",
       "      <td>5517</td>\n",
       "      <td>5517</td>\n",
       "      <td>5517</td>\n",
       "      <td>5517</td>\n",
       "      <td>5517</td>\n",
       "      <td>5517</td>\n",
       "      <td>5517</td>\n",
       "      <td>5517</td>\n",
       "    </tr>\n",
       "    <tr>\n",
       "      <th>unique</th>\n",
       "      <td>5517</td>\n",
       "      <td>2</td>\n",
       "      <td>2</td>\n",
       "      <td>2</td>\n",
       "      <td>2</td>\n",
       "      <td>2</td>\n",
       "      <td>2</td>\n",
       "      <td>2</td>\n",
       "    </tr>\n",
       "    <tr>\n",
       "      <th>top</th>\n",
       "      <td>7590-VHVEG</td>\n",
       "      <td>Fiber optic</td>\n",
       "      <td>No</td>\n",
       "      <td>No</td>\n",
       "      <td>No</td>\n",
       "      <td>No</td>\n",
       "      <td>No</td>\n",
       "      <td>No</td>\n",
       "    </tr>\n",
       "    <tr>\n",
       "      <th>freq</th>\n",
       "      <td>1</td>\n",
       "      <td>3096</td>\n",
       "      <td>3498</td>\n",
       "      <td>3088</td>\n",
       "      <td>3095</td>\n",
       "      <td>3473</td>\n",
       "      <td>2810</td>\n",
       "      <td>2785</td>\n",
       "    </tr>\n",
       "  </tbody>\n",
       "</table>\n",
       "</div>"
      ],
      "text/plain": [
       "        customerID InternetService OnlineSecurity OnlineBackup  \\\n",
       "count         5517            5517           5517         5517   \n",
       "unique        5517               2              2            2   \n",
       "top     7590-VHVEG     Fiber optic             No           No   \n",
       "freq             1            3096           3498         3088   \n",
       "\n",
       "       DeviceProtection TechSupport StreamingTV StreamingMovies  \n",
       "count              5517        5517        5517            5517  \n",
       "unique                2           2           2               2  \n",
       "top                  No          No          No              No  \n",
       "freq               3095        3473        2810            2785  "
      ]
     },
     "execution_count": 15,
     "metadata": {},
     "output_type": "execute_result"
    }
   ],
   "source": [
    "#generate descriptive statistics for the numerical columns in the DataFrame \n",
    "internet.describe()"
   ]
  },
  {
   "cell_type": "markdown",
   "metadata": {},
   "source": [
    "There is no need to modiy the data"
   ]
  },
  {
   "cell_type": "markdown",
   "metadata": {},
   "source": [
    "### For phone"
   ]
  },
  {
   "cell_type": "code",
   "execution_count": 16,
   "metadata": {},
   "outputs": [
    {
     "data": {
      "text/html": [
       "<div>\n",
       "<style scoped>\n",
       "    .dataframe tbody tr th:only-of-type {\n",
       "        vertical-align: middle;\n",
       "    }\n",
       "\n",
       "    .dataframe tbody tr th {\n",
       "        vertical-align: top;\n",
       "    }\n",
       "\n",
       "    .dataframe thead th {\n",
       "        text-align: right;\n",
       "    }\n",
       "</style>\n",
       "<table border=\"1\" class=\"dataframe\">\n",
       "  <thead>\n",
       "    <tr style=\"text-align: right;\">\n",
       "      <th></th>\n",
       "      <th>customerID</th>\n",
       "      <th>MultipleLines</th>\n",
       "    </tr>\n",
       "  </thead>\n",
       "  <tbody>\n",
       "    <tr>\n",
       "      <th>0</th>\n",
       "      <td>5575-GNVDE</td>\n",
       "      <td>No</td>\n",
       "    </tr>\n",
       "    <tr>\n",
       "      <th>1</th>\n",
       "      <td>3668-QPYBK</td>\n",
       "      <td>No</td>\n",
       "    </tr>\n",
       "    <tr>\n",
       "      <th>2</th>\n",
       "      <td>9237-HQITU</td>\n",
       "      <td>No</td>\n",
       "    </tr>\n",
       "    <tr>\n",
       "      <th>3</th>\n",
       "      <td>9305-CDSKC</td>\n",
       "      <td>Yes</td>\n",
       "    </tr>\n",
       "    <tr>\n",
       "      <th>4</th>\n",
       "      <td>1452-KIOVK</td>\n",
       "      <td>Yes</td>\n",
       "    </tr>\n",
       "  </tbody>\n",
       "</table>\n",
       "</div>"
      ],
      "text/plain": [
       "   customerID MultipleLines\n",
       "0  5575-GNVDE            No\n",
       "1  3668-QPYBK            No\n",
       "2  9237-HQITU            No\n",
       "3  9305-CDSKC           Yes\n",
       "4  1452-KIOVK           Yes"
      ]
     },
     "execution_count": 16,
     "metadata": {},
     "output_type": "execute_result"
    }
   ],
   "source": [
    "#Show the first 5 rows of the DataFrame\n",
    "phone.head()"
   ]
  },
  {
   "cell_type": "code",
   "execution_count": 17,
   "metadata": {},
   "outputs": [
    {
     "name": "stdout",
     "output_type": "stream",
     "text": [
      "<class 'pandas.core.frame.DataFrame'>\n",
      "RangeIndex: 6361 entries, 0 to 6360\n",
      "Data columns (total 2 columns):\n",
      " #   Column         Non-Null Count  Dtype \n",
      "---  ------         --------------  ----- \n",
      " 0   customerID     6361 non-null   object\n",
      " 1   MultipleLines  6361 non-null   object\n",
      "dtypes: object(2)\n",
      "memory usage: 99.5+ KB\n"
     ]
    }
   ],
   "source": [
    "#Analyze general information for Phone DataFrame\n",
    "phone.info()"
   ]
  },
  {
   "cell_type": "code",
   "execution_count": 18,
   "metadata": {},
   "outputs": [
    {
     "data": {
      "text/html": [
       "<div>\n",
       "<style scoped>\n",
       "    .dataframe tbody tr th:only-of-type {\n",
       "        vertical-align: middle;\n",
       "    }\n",
       "\n",
       "    .dataframe tbody tr th {\n",
       "        vertical-align: top;\n",
       "    }\n",
       "\n",
       "    .dataframe thead th {\n",
       "        text-align: right;\n",
       "    }\n",
       "</style>\n",
       "<table border=\"1\" class=\"dataframe\">\n",
       "  <thead>\n",
       "    <tr style=\"text-align: right;\">\n",
       "      <th></th>\n",
       "      <th>customerID</th>\n",
       "      <th>InternetService</th>\n",
       "      <th>OnlineSecurity</th>\n",
       "      <th>OnlineBackup</th>\n",
       "      <th>DeviceProtection</th>\n",
       "      <th>TechSupport</th>\n",
       "      <th>StreamingTV</th>\n",
       "      <th>StreamingMovies</th>\n",
       "    </tr>\n",
       "  </thead>\n",
       "  <tbody>\n",
       "    <tr>\n",
       "      <th>count</th>\n",
       "      <td>5517</td>\n",
       "      <td>5517</td>\n",
       "      <td>5517</td>\n",
       "      <td>5517</td>\n",
       "      <td>5517</td>\n",
       "      <td>5517</td>\n",
       "      <td>5517</td>\n",
       "      <td>5517</td>\n",
       "    </tr>\n",
       "    <tr>\n",
       "      <th>unique</th>\n",
       "      <td>5517</td>\n",
       "      <td>2</td>\n",
       "      <td>2</td>\n",
       "      <td>2</td>\n",
       "      <td>2</td>\n",
       "      <td>2</td>\n",
       "      <td>2</td>\n",
       "      <td>2</td>\n",
       "    </tr>\n",
       "    <tr>\n",
       "      <th>top</th>\n",
       "      <td>7590-VHVEG</td>\n",
       "      <td>Fiber optic</td>\n",
       "      <td>No</td>\n",
       "      <td>No</td>\n",
       "      <td>No</td>\n",
       "      <td>No</td>\n",
       "      <td>No</td>\n",
       "      <td>No</td>\n",
       "    </tr>\n",
       "    <tr>\n",
       "      <th>freq</th>\n",
       "      <td>1</td>\n",
       "      <td>3096</td>\n",
       "      <td>3498</td>\n",
       "      <td>3088</td>\n",
       "      <td>3095</td>\n",
       "      <td>3473</td>\n",
       "      <td>2810</td>\n",
       "      <td>2785</td>\n",
       "    </tr>\n",
       "  </tbody>\n",
       "</table>\n",
       "</div>"
      ],
      "text/plain": [
       "        customerID InternetService OnlineSecurity OnlineBackup  \\\n",
       "count         5517            5517           5517         5517   \n",
       "unique        5517               2              2            2   \n",
       "top     7590-VHVEG     Fiber optic             No           No   \n",
       "freq             1            3096           3498         3088   \n",
       "\n",
       "       DeviceProtection TechSupport StreamingTV StreamingMovies  \n",
       "count              5517        5517        5517            5517  \n",
       "unique                2           2           2               2  \n",
       "top                  No          No          No              No  \n",
       "freq               3095        3473        2810            2785  "
      ]
     },
     "execution_count": 18,
     "metadata": {},
     "output_type": "execute_result"
    }
   ],
   "source": [
    "#generate descriptive statistics for the numerical columns in the DataFrame \n",
    "internet.describe()"
   ]
  },
  {
   "cell_type": "markdown",
   "metadata": {},
   "source": [
    "There is no need to modiy the data"
   ]
  },
  {
   "cell_type": "markdown",
   "metadata": {},
   "source": [
    "## Unify Datasets"
   ]
  },
  {
   "cell_type": "code",
   "execution_count": 19,
   "metadata": {},
   "outputs": [
    {
     "data": {
      "text/html": [
       "<div>\n",
       "<style scoped>\n",
       "    .dataframe tbody tr th:only-of-type {\n",
       "        vertical-align: middle;\n",
       "    }\n",
       "\n",
       "    .dataframe tbody tr th {\n",
       "        vertical-align: top;\n",
       "    }\n",
       "\n",
       "    .dataframe thead th {\n",
       "        text-align: right;\n",
       "    }\n",
       "</style>\n",
       "<table border=\"1\" class=\"dataframe\">\n",
       "  <thead>\n",
       "    <tr style=\"text-align: right;\">\n",
       "      <th></th>\n",
       "      <th>customerID</th>\n",
       "      <th>BeginDate</th>\n",
       "      <th>EndDate</th>\n",
       "      <th>Type</th>\n",
       "      <th>PaperlessBilling</th>\n",
       "      <th>PaymentMethod</th>\n",
       "      <th>MonthlyCharges</th>\n",
       "      <th>TotalCharges</th>\n",
       "      <th>gender</th>\n",
       "      <th>SeniorCitizen</th>\n",
       "      <th>Partner</th>\n",
       "      <th>Dependents</th>\n",
       "      <th>InternetService</th>\n",
       "      <th>OnlineSecurity</th>\n",
       "      <th>OnlineBackup</th>\n",
       "      <th>DeviceProtection</th>\n",
       "      <th>TechSupport</th>\n",
       "      <th>StreamingTV</th>\n",
       "      <th>StreamingMovies</th>\n",
       "      <th>MultipleLines</th>\n",
       "    </tr>\n",
       "  </thead>\n",
       "  <tbody>\n",
       "    <tr>\n",
       "      <th>0</th>\n",
       "      <td>5575-GNVDE</td>\n",
       "      <td>2017-04-01</td>\n",
       "      <td>No</td>\n",
       "      <td>One year</td>\n",
       "      <td>No</td>\n",
       "      <td>Mailed check</td>\n",
       "      <td>56.95</td>\n",
       "      <td>1889.50</td>\n",
       "      <td>Male</td>\n",
       "      <td>0</td>\n",
       "      <td>No</td>\n",
       "      <td>No</td>\n",
       "      <td>DSL</td>\n",
       "      <td>Yes</td>\n",
       "      <td>No</td>\n",
       "      <td>Yes</td>\n",
       "      <td>No</td>\n",
       "      <td>No</td>\n",
       "      <td>No</td>\n",
       "      <td>No</td>\n",
       "    </tr>\n",
       "    <tr>\n",
       "      <th>1</th>\n",
       "      <td>3668-QPYBK</td>\n",
       "      <td>2019-10-01</td>\n",
       "      <td>2019-12-01 00:00:00</td>\n",
       "      <td>Month-to-month</td>\n",
       "      <td>Yes</td>\n",
       "      <td>Mailed check</td>\n",
       "      <td>53.85</td>\n",
       "      <td>108.15</td>\n",
       "      <td>Male</td>\n",
       "      <td>0</td>\n",
       "      <td>No</td>\n",
       "      <td>No</td>\n",
       "      <td>DSL</td>\n",
       "      <td>Yes</td>\n",
       "      <td>Yes</td>\n",
       "      <td>No</td>\n",
       "      <td>No</td>\n",
       "      <td>No</td>\n",
       "      <td>No</td>\n",
       "      <td>No</td>\n",
       "    </tr>\n",
       "    <tr>\n",
       "      <th>2</th>\n",
       "      <td>9237-HQITU</td>\n",
       "      <td>2019-09-01</td>\n",
       "      <td>2019-11-01 00:00:00</td>\n",
       "      <td>Month-to-month</td>\n",
       "      <td>Yes</td>\n",
       "      <td>Electronic check</td>\n",
       "      <td>70.70</td>\n",
       "      <td>151.65</td>\n",
       "      <td>Female</td>\n",
       "      <td>0</td>\n",
       "      <td>No</td>\n",
       "      <td>No</td>\n",
       "      <td>Fiber optic</td>\n",
       "      <td>No</td>\n",
       "      <td>No</td>\n",
       "      <td>No</td>\n",
       "      <td>No</td>\n",
       "      <td>No</td>\n",
       "      <td>No</td>\n",
       "      <td>No</td>\n",
       "    </tr>\n",
       "    <tr>\n",
       "      <th>3</th>\n",
       "      <td>9305-CDSKC</td>\n",
       "      <td>2019-03-01</td>\n",
       "      <td>2019-11-01 00:00:00</td>\n",
       "      <td>Month-to-month</td>\n",
       "      <td>Yes</td>\n",
       "      <td>Electronic check</td>\n",
       "      <td>99.65</td>\n",
       "      <td>820.50</td>\n",
       "      <td>Female</td>\n",
       "      <td>0</td>\n",
       "      <td>No</td>\n",
       "      <td>No</td>\n",
       "      <td>Fiber optic</td>\n",
       "      <td>No</td>\n",
       "      <td>No</td>\n",
       "      <td>Yes</td>\n",
       "      <td>No</td>\n",
       "      <td>Yes</td>\n",
       "      <td>Yes</td>\n",
       "      <td>Yes</td>\n",
       "    </tr>\n",
       "    <tr>\n",
       "      <th>4</th>\n",
       "      <td>1452-KIOVK</td>\n",
       "      <td>2018-04-01</td>\n",
       "      <td>No</td>\n",
       "      <td>Month-to-month</td>\n",
       "      <td>Yes</td>\n",
       "      <td>Credit card (automatic)</td>\n",
       "      <td>89.10</td>\n",
       "      <td>1949.40</td>\n",
       "      <td>Male</td>\n",
       "      <td>0</td>\n",
       "      <td>No</td>\n",
       "      <td>Yes</td>\n",
       "      <td>Fiber optic</td>\n",
       "      <td>No</td>\n",
       "      <td>Yes</td>\n",
       "      <td>No</td>\n",
       "      <td>No</td>\n",
       "      <td>Yes</td>\n",
       "      <td>No</td>\n",
       "      <td>Yes</td>\n",
       "    </tr>\n",
       "  </tbody>\n",
       "</table>\n",
       "</div>"
      ],
      "text/plain": [
       "   customerID  BeginDate              EndDate            Type  \\\n",
       "0  5575-GNVDE 2017-04-01                   No        One year   \n",
       "1  3668-QPYBK 2019-10-01  2019-12-01 00:00:00  Month-to-month   \n",
       "2  9237-HQITU 2019-09-01  2019-11-01 00:00:00  Month-to-month   \n",
       "3  9305-CDSKC 2019-03-01  2019-11-01 00:00:00  Month-to-month   \n",
       "4  1452-KIOVK 2018-04-01                   No  Month-to-month   \n",
       "\n",
       "  PaperlessBilling            PaymentMethod  MonthlyCharges  TotalCharges  \\\n",
       "0               No             Mailed check           56.95       1889.50   \n",
       "1              Yes             Mailed check           53.85        108.15   \n",
       "2              Yes         Electronic check           70.70        151.65   \n",
       "3              Yes         Electronic check           99.65        820.50   \n",
       "4              Yes  Credit card (automatic)           89.10       1949.40   \n",
       "\n",
       "   gender  SeniorCitizen Partner Dependents InternetService OnlineSecurity  \\\n",
       "0    Male              0      No         No             DSL            Yes   \n",
       "1    Male              0      No         No             DSL            Yes   \n",
       "2  Female              0      No         No     Fiber optic             No   \n",
       "3  Female              0      No         No     Fiber optic             No   \n",
       "4    Male              0      No        Yes     Fiber optic             No   \n",
       "\n",
       "  OnlineBackup DeviceProtection TechSupport StreamingTV StreamingMovies  \\\n",
       "0           No              Yes          No          No              No   \n",
       "1          Yes               No          No          No              No   \n",
       "2           No               No          No          No              No   \n",
       "3           No              Yes          No         Yes             Yes   \n",
       "4          Yes               No          No         Yes              No   \n",
       "\n",
       "  MultipleLines  \n",
       "0            No  \n",
       "1            No  \n",
       "2            No  \n",
       "3           Yes  \n",
       "4           Yes  "
      ]
     },
     "execution_count": 19,
     "metadata": {},
     "output_type": "execute_result"
    }
   ],
   "source": [
    "#Unify the 3 Datasets with 'merge'\n",
    "df = contract.merge(personal, on= 'customerID')\n",
    "df = df.merge(internet, on = 'customerID')\n",
    "df = df.merge(phone,on = 'customerID')\n",
    "df.head()"
   ]
  },
  {
   "cell_type": "code",
   "execution_count": 20,
   "metadata": {},
   "outputs": [
    {
     "name": "stdout",
     "output_type": "stream",
     "text": [
      "<class 'pandas.core.frame.DataFrame'>\n",
      "RangeIndex: 4835 entries, 0 to 4834\n",
      "Data columns (total 20 columns):\n",
      " #   Column            Non-Null Count  Dtype         \n",
      "---  ------            --------------  -----         \n",
      " 0   customerID        4835 non-null   object        \n",
      " 1   BeginDate         4835 non-null   datetime64[ns]\n",
      " 2   EndDate           4835 non-null   object        \n",
      " 3   Type              4835 non-null   object        \n",
      " 4   PaperlessBilling  4835 non-null   object        \n",
      " 5   PaymentMethod     4835 non-null   object        \n",
      " 6   MonthlyCharges    4835 non-null   float64       \n",
      " 7   TotalCharges      4832 non-null   float64       \n",
      " 8   gender            4835 non-null   object        \n",
      " 9   SeniorCitizen     4835 non-null   int64         \n",
      " 10  Partner           4835 non-null   object        \n",
      " 11  Dependents        4835 non-null   object        \n",
      " 12  InternetService   4835 non-null   object        \n",
      " 13  OnlineSecurity    4835 non-null   object        \n",
      " 14  OnlineBackup      4835 non-null   object        \n",
      " 15  DeviceProtection  4835 non-null   object        \n",
      " 16  TechSupport       4835 non-null   object        \n",
      " 17  StreamingTV       4835 non-null   object        \n",
      " 18  StreamingMovies   4835 non-null   object        \n",
      " 19  MultipleLines     4835 non-null   object        \n",
      "dtypes: datetime64[ns](1), float64(2), int64(1), object(16)\n",
      "memory usage: 755.6+ KB\n"
     ]
    }
   ],
   "source": [
    "#Check new DataFrame info\n",
    "df.info()"
   ]
  },
  {
   "cell_type": "code",
   "execution_count": 21,
   "metadata": {},
   "outputs": [
    {
     "data": {
      "text/plain": [
       "customerID          0\n",
       "BeginDate           0\n",
       "EndDate             0\n",
       "Type                0\n",
       "PaperlessBilling    0\n",
       "PaymentMethod       0\n",
       "MonthlyCharges      0\n",
       "TotalCharges        3\n",
       "gender              0\n",
       "SeniorCitizen       0\n",
       "Partner             0\n",
       "Dependents          0\n",
       "InternetService     0\n",
       "OnlineSecurity      0\n",
       "OnlineBackup        0\n",
       "DeviceProtection    0\n",
       "TechSupport         0\n",
       "StreamingTV         0\n",
       "StreamingMovies     0\n",
       "MultipleLines       0\n",
       "dtype: int64"
      ]
     },
     "execution_count": 21,
     "metadata": {},
     "output_type": "execute_result"
    }
   ],
   "source": [
    "#Check for Nulls\n",
    "df.isnull().sum()"
   ]
  },
  {
   "cell_type": "code",
   "execution_count": 22,
   "metadata": {},
   "outputs": [],
   "source": [
    "#Replace Nulls in TotalCharges field with mean\n",
    "imputer = SimpleImputer(strategy='mean')\n",
    "df['TotalCharges'] = imputer.fit_transform(df[['TotalCharges']])"
   ]
  },
  {
   "cell_type": "code",
   "execution_count": 23,
   "metadata": {},
   "outputs": [],
   "source": [
    "def Contract_duration(row):\n",
    "    \"\"\"\n",
    "    Calculate the anual charges and define if the user is active or not.\n",
    "\n",
    "    Args:\n",
    "        row: A pandas Series representing a single row of the DataFrame.\n",
    "\n",
    "    Returns:\n",
    "        A pandas Series representing a single row of the DataFrame\n",
    "    \"\"\"\n",
    "\n",
    "    start_date = pd.to_datetime(row['BeginDate'])\n",
    "    start = start_date.to_julian_date() \n",
    "\n",
    "    if row['EndDate'] != 'No':\n",
    "        row['Active'] = 'No'\n",
    "    else:\n",
    "        row['Active'] = 'Yes'\n",
    "    \n",
    "    # Calculate annual charge based on contract type\n",
    "    if row['Type'] == 'Month-to-month':\n",
    "        row['annual_charge'] = row['TotalCharges'] * 12\n",
    "    elif row['Type'] == 'Two years':\n",
    "        row['annual_charge'] = row['TotalCharges'] / 2\n",
    "    else: \n",
    "        row['annual_charge'] = row['TotalCharges']  # Assuming 'One year' for other cases\n",
    "\n",
    "    return row"
   ]
  },
  {
   "cell_type": "code",
   "execution_count": 24,
   "metadata": {},
   "outputs": [],
   "source": [
    "#Replace the 'Month-to-month' Type to 'Monthly' to shorten the word and have better visibility\n",
    "df.loc[df['Type'].isin(['Month-to-month']), 'Type'] = 'Monthly' "
   ]
  },
  {
   "cell_type": "code",
   "execution_count": 25,
   "metadata": {},
   "outputs": [
    {
     "data": {
      "text/html": [
       "<div>\n",
       "<style scoped>\n",
       "    .dataframe tbody tr th:only-of-type {\n",
       "        vertical-align: middle;\n",
       "    }\n",
       "\n",
       "    .dataframe tbody tr th {\n",
       "        vertical-align: top;\n",
       "    }\n",
       "\n",
       "    .dataframe thead th {\n",
       "        text-align: right;\n",
       "    }\n",
       "</style>\n",
       "<table border=\"1\" class=\"dataframe\">\n",
       "  <thead>\n",
       "    <tr style=\"text-align: right;\">\n",
       "      <th></th>\n",
       "      <th>customerID</th>\n",
       "      <th>BeginDate</th>\n",
       "      <th>EndDate</th>\n",
       "      <th>Type</th>\n",
       "      <th>PaperlessBilling</th>\n",
       "      <th>PaymentMethod</th>\n",
       "      <th>MonthlyCharges</th>\n",
       "      <th>TotalCharges</th>\n",
       "      <th>gender</th>\n",
       "      <th>SeniorCitizen</th>\n",
       "      <th>...</th>\n",
       "      <th>InternetService</th>\n",
       "      <th>OnlineSecurity</th>\n",
       "      <th>OnlineBackup</th>\n",
       "      <th>DeviceProtection</th>\n",
       "      <th>TechSupport</th>\n",
       "      <th>StreamingTV</th>\n",
       "      <th>StreamingMovies</th>\n",
       "      <th>MultipleLines</th>\n",
       "      <th>Active</th>\n",
       "      <th>annual_charge</th>\n",
       "    </tr>\n",
       "  </thead>\n",
       "  <tbody>\n",
       "    <tr>\n",
       "      <th>0</th>\n",
       "      <td>5575-GNVDE</td>\n",
       "      <td>2017-04-01</td>\n",
       "      <td>No</td>\n",
       "      <td>One year</td>\n",
       "      <td>No</td>\n",
       "      <td>Mailed check</td>\n",
       "      <td>56.95</td>\n",
       "      <td>1889.50</td>\n",
       "      <td>Male</td>\n",
       "      <td>0</td>\n",
       "      <td>...</td>\n",
       "      <td>DSL</td>\n",
       "      <td>Yes</td>\n",
       "      <td>No</td>\n",
       "      <td>Yes</td>\n",
       "      <td>No</td>\n",
       "      <td>No</td>\n",
       "      <td>No</td>\n",
       "      <td>No</td>\n",
       "      <td>Yes</td>\n",
       "      <td>1889.50</td>\n",
       "    </tr>\n",
       "    <tr>\n",
       "      <th>1</th>\n",
       "      <td>3668-QPYBK</td>\n",
       "      <td>2019-10-01</td>\n",
       "      <td>2019-12-01 00:00:00</td>\n",
       "      <td>Monthly</td>\n",
       "      <td>Yes</td>\n",
       "      <td>Mailed check</td>\n",
       "      <td>53.85</td>\n",
       "      <td>108.15</td>\n",
       "      <td>Male</td>\n",
       "      <td>0</td>\n",
       "      <td>...</td>\n",
       "      <td>DSL</td>\n",
       "      <td>Yes</td>\n",
       "      <td>Yes</td>\n",
       "      <td>No</td>\n",
       "      <td>No</td>\n",
       "      <td>No</td>\n",
       "      <td>No</td>\n",
       "      <td>No</td>\n",
       "      <td>No</td>\n",
       "      <td>108.15</td>\n",
       "    </tr>\n",
       "    <tr>\n",
       "      <th>2</th>\n",
       "      <td>9237-HQITU</td>\n",
       "      <td>2019-09-01</td>\n",
       "      <td>2019-11-01 00:00:00</td>\n",
       "      <td>Monthly</td>\n",
       "      <td>Yes</td>\n",
       "      <td>Electronic check</td>\n",
       "      <td>70.70</td>\n",
       "      <td>151.65</td>\n",
       "      <td>Female</td>\n",
       "      <td>0</td>\n",
       "      <td>...</td>\n",
       "      <td>Fiber optic</td>\n",
       "      <td>No</td>\n",
       "      <td>No</td>\n",
       "      <td>No</td>\n",
       "      <td>No</td>\n",
       "      <td>No</td>\n",
       "      <td>No</td>\n",
       "      <td>No</td>\n",
       "      <td>No</td>\n",
       "      <td>151.65</td>\n",
       "    </tr>\n",
       "    <tr>\n",
       "      <th>3</th>\n",
       "      <td>9305-CDSKC</td>\n",
       "      <td>2019-03-01</td>\n",
       "      <td>2019-11-01 00:00:00</td>\n",
       "      <td>Monthly</td>\n",
       "      <td>Yes</td>\n",
       "      <td>Electronic check</td>\n",
       "      <td>99.65</td>\n",
       "      <td>820.50</td>\n",
       "      <td>Female</td>\n",
       "      <td>0</td>\n",
       "      <td>...</td>\n",
       "      <td>Fiber optic</td>\n",
       "      <td>No</td>\n",
       "      <td>No</td>\n",
       "      <td>Yes</td>\n",
       "      <td>No</td>\n",
       "      <td>Yes</td>\n",
       "      <td>Yes</td>\n",
       "      <td>Yes</td>\n",
       "      <td>No</td>\n",
       "      <td>820.50</td>\n",
       "    </tr>\n",
       "    <tr>\n",
       "      <th>4</th>\n",
       "      <td>1452-KIOVK</td>\n",
       "      <td>2018-04-01</td>\n",
       "      <td>No</td>\n",
       "      <td>Monthly</td>\n",
       "      <td>Yes</td>\n",
       "      <td>Credit card (automatic)</td>\n",
       "      <td>89.10</td>\n",
       "      <td>1949.40</td>\n",
       "      <td>Male</td>\n",
       "      <td>0</td>\n",
       "      <td>...</td>\n",
       "      <td>Fiber optic</td>\n",
       "      <td>No</td>\n",
       "      <td>Yes</td>\n",
       "      <td>No</td>\n",
       "      <td>No</td>\n",
       "      <td>Yes</td>\n",
       "      <td>No</td>\n",
       "      <td>Yes</td>\n",
       "      <td>Yes</td>\n",
       "      <td>1949.40</td>\n",
       "    </tr>\n",
       "  </tbody>\n",
       "</table>\n",
       "<p>5 rows × 22 columns</p>\n",
       "</div>"
      ],
      "text/plain": [
       "   customerID  BeginDate              EndDate      Type PaperlessBilling  \\\n",
       "0  5575-GNVDE 2017-04-01                   No  One year               No   \n",
       "1  3668-QPYBK 2019-10-01  2019-12-01 00:00:00   Monthly              Yes   \n",
       "2  9237-HQITU 2019-09-01  2019-11-01 00:00:00   Monthly              Yes   \n",
       "3  9305-CDSKC 2019-03-01  2019-11-01 00:00:00   Monthly              Yes   \n",
       "4  1452-KIOVK 2018-04-01                   No   Monthly              Yes   \n",
       "\n",
       "             PaymentMethod  MonthlyCharges  TotalCharges  gender  \\\n",
       "0             Mailed check           56.95       1889.50    Male   \n",
       "1             Mailed check           53.85        108.15    Male   \n",
       "2         Electronic check           70.70        151.65  Female   \n",
       "3         Electronic check           99.65        820.50  Female   \n",
       "4  Credit card (automatic)           89.10       1949.40    Male   \n",
       "\n",
       "   SeniorCitizen  ... InternetService OnlineSecurity OnlineBackup  \\\n",
       "0              0  ...             DSL            Yes           No   \n",
       "1              0  ...             DSL            Yes          Yes   \n",
       "2              0  ...     Fiber optic             No           No   \n",
       "3              0  ...     Fiber optic             No           No   \n",
       "4              0  ...     Fiber optic             No          Yes   \n",
       "\n",
       "  DeviceProtection TechSupport StreamingTV StreamingMovies MultipleLines  \\\n",
       "0              Yes          No          No              No            No   \n",
       "1               No          No          No              No            No   \n",
       "2               No          No          No              No            No   \n",
       "3              Yes          No         Yes             Yes           Yes   \n",
       "4               No          No         Yes              No           Yes   \n",
       "\n",
       "  Active annual_charge  \n",
       "0    Yes       1889.50  \n",
       "1     No        108.15  \n",
       "2     No        151.65  \n",
       "3     No        820.50  \n",
       "4    Yes       1949.40  \n",
       "\n",
       "[5 rows x 22 columns]"
      ]
     },
     "execution_count": 25,
     "metadata": {},
     "output_type": "execute_result"
    }
   ],
   "source": [
    "#Apply the function to calculate the Anual charge and determin if the user is active or not.\n",
    "df = df.apply(Contract_duration, axis=1)\n",
    "#Show the first rows\n",
    "df.head()"
   ]
  },
  {
   "cell_type": "code",
   "execution_count": 26,
   "metadata": {},
   "outputs": [],
   "source": [
    "#Make a copy of the df in a new variable\n",
    "df_unified = df"
   ]
  },
  {
   "cell_type": "markdown",
   "metadata": {},
   "source": [
    "### Overview of the relation between data"
   ]
  },
  {
   "cell_type": "code",
   "execution_count": 28,
   "metadata": {},
   "outputs": [],
   "source": [
    "#Create a dictionary for payment type\n",
    "Payment_dict = {'Mailed check':1, 'Electronic check':2, 'Credit card (automatic)':3,\n",
    "       'Bank transfer (automatic)':4}\n",
    "df['PaymentMethod'] = df['PaymentMethod'].map(Payment_dict)"
   ]
  },
  {
   "cell_type": "code",
   "execution_count": null,
   "metadata": {},
   "outputs": [],
   "source": [
    "# Create a pairplot using seaborn\n",
    "g = sns.pairplot(df, hue= 'Active', diag_kind=\"hist\", x_vars=['PaymentMethod', 'gender', 'SeniorCitizen','Type'], y_vars=['annual_charge','gender','Partner', 'Dependents', 'PaperlessBilling']) \n",
    "\n",
    "# Set the figure size of the pairplot\n",
    "g.fig.set_size_inches(12, 12)"
   ]
  },
  {
   "cell_type": "code",
   "execution_count": null,
   "metadata": {},
   "outputs": [],
   "source": [
    "# Create a pairplot using seaborn\n",
    "h = sns.pairplot(df, hue= 'Active', diag_kind=\"hist\", x_vars=['PaymentMethod', 'gender', 'SeniorCitizen','Type','annual_charge'], y_vars=['gender','InternetService',\n",
    "       'OnlineSecurity', 'OnlineBackup', 'DeviceProtection',]) \n",
    "\n",
    "# Set the figure size of the pairplot\n",
    "h.fig.set_size_inches(12, 12)"
   ]
  },
  {
   "cell_type": "code",
   "execution_count": null,
   "metadata": {
    "scrolled": true
   },
   "outputs": [],
   "source": [
    "# Create a pairplot using seaborn\n",
    "i = sns.pairplot(df, hue= 'Active', diag_kind=\"hist\", x_vars=['PaymentMethod', 'gender', 'SeniorCitizen','Type','annual_charge'], y_vars=['TechSupport',\n",
    "       'StreamingTV', 'StreamingMovies', 'MultipleLines',]) \n",
    "\n",
    "# Set the figure size of the pairplot\n",
    "i.fig.set_size_inches(12, 12)"
   ]
  },
  {
   "cell_type": "code",
   "execution_count": null,
   "metadata": {},
   "outputs": [],
   "source": [
    "#Count observations by class\n",
    "balance_de_clases = df['Active'].value_counts()\n",
    "\n",
    "#Create the bar chart\n",
    "plt.figure(figsize=(8, 6))\n",
    "sns.countplot(x='Active', data=df) \n",
    "plt.title('Distribución de la variable objetivo: Activo/No Activo')\n",
    "plt.xlabel('Cliente Activo')\n",
    "plt.ylabel('Cantidad de clientes')\n",
    "\n",
    "#Add data labels to each bar\n",
    "for p in plt.gca().patches:\n",
    "    plt.annotate(f'{p.get_height()}', (p.get_x() + p.get_width() / 2., p.get_height()), \n",
    "                ha='center', va='bottom')\n",
    "\n",
    "plt.show()"
   ]
  },
  {
   "cell_type": "markdown",
   "metadata": {},
   "source": [
    "We can conclude that there is an imbalance in the 50%classes, so it will be necessary to apply balance methods to training data"
   ]
  },
  {
   "cell_type": "markdown",
   "metadata": {},
   "source": [
    "## Prepare data"
   ]
  },
  {
   "cell_type": "code",
   "execution_count": 33,
   "metadata": {},
   "outputs": [],
   "source": [
    "activos = df[df['Active']==1]\n",
    "inactivo = df[df['Active']==0]"
   ]
  },
  {
   "cell_type": "code",
   "execution_count": 35,
   "metadata": {},
   "outputs": [
    {
     "name": "stdout",
     "output_type": "stream",
     "text": [
      "<class 'pandas.core.frame.DataFrame'>\n",
      "Index: 290 entries, 2732 to 945\n",
      "Data columns (total 22 columns):\n",
      " #   Column            Non-Null Count  Dtype         \n",
      "---  ------            --------------  -----         \n",
      " 0   customerID        290 non-null    object        \n",
      " 1   BeginDate         290 non-null    datetime64[ns]\n",
      " 2   EndDate           290 non-null    object        \n",
      " 3   Type              290 non-null    object        \n",
      " 4   PaperlessBilling  290 non-null    object        \n",
      " 5   PaymentMethod     290 non-null    int64         \n",
      " 6   MonthlyCharges    290 non-null    float64       \n",
      " 7   TotalCharges      290 non-null    float64       \n",
      " 8   gender            290 non-null    object        \n",
      " 9   SeniorCitizen     290 non-null    int64         \n",
      " 10  Partner           290 non-null    object        \n",
      " 11  Dependents        290 non-null    object        \n",
      " 12  InternetService   290 non-null    object        \n",
      " 13  OnlineSecurity    290 non-null    object        \n",
      " 14  OnlineBackup      290 non-null    object        \n",
      " 15  DeviceProtection  290 non-null    object        \n",
      " 16  TechSupport       290 non-null    object        \n",
      " 17  StreamingTV       290 non-null    object        \n",
      " 18  StreamingMovies   290 non-null    object        \n",
      " 19  MultipleLines     290 non-null    object        \n",
      " 20  Active            290 non-null    object        \n",
      " 21  annual_charge     290 non-null    float64       \n",
      "dtypes: datetime64[ns](1), float64(3), int64(2), object(16)\n",
      "memory usage: 52.1+ KB\n"
     ]
    }
   ],
   "source": [
    "# Aplicar sobremuestro para balancear las clases \n",
    "sobremuestreo = df.sample(n=290,replace=True,random_state=0)\n",
    "sobremuestreo.info()"
   ]
  },
  {
   "cell_type": "code",
   "execution_count": 36,
   "metadata": {},
   "outputs": [],
   "source": [
    "# use Dummies to convert the data into a format that is accepted by the models\n",
    "Type_oh = pd.get_dummies(df['Type']) \n",
    "gender_oh = pd.get_dummies(df['gender']) \n",
    "InternetService_oh = pd.get_dummies(df['InternetService'])"
   ]
  },
  {
   "cell_type": "code",
   "execution_count": null,
   "metadata": {
    "scrolled": true
   },
   "outputs": [],
   "source": [
    "# Add the Dumies to the DataFrame\n",
    "df = pd.concat([df,Type_oh,gender_oh,InternetService_oh],axis=1)"
   ]
  },
  {
   "cell_type": "code",
   "execution_count": 38,
   "metadata": {},
   "outputs": [
    {
     "name": "stderr",
     "output_type": "stream",
     "text": [
      "/var/folders/zz/1lh114c55jj9tjb2vztk4z340000gq/T/ipykernel_2266/3534361578.py:1: FutureWarning: Downcasting behavior in `replace` is deprecated and will be removed in a future version. To retain the old behavior, explicitly call `result.infer_objects(copy=False)`. To opt-in to the future behavior, set `pd.set_option('future.no_silent_downcasting', True)`\n",
      "  df = df.replace({'Yes': 1, 'No': 0})\n"
     ]
    }
   ],
   "source": [
    "#Replace all the Yes with No\n",
    "df = df.replace({'Yes': 1, 'No': 0})"
   ]
  },
  {
   "cell_type": "code",
   "execution_count": 39,
   "metadata": {},
   "outputs": [],
   "source": [
    "# Get rid of all the columns that are not accepted by the models or are irrelevant \n",
    "df = df.drop(['Type','gender','InternetService','EndDate','BeginDate','MonthlyCharges','TotalCharges'],axis=1)"
   ]
  },
  {
   "cell_type": "code",
   "execution_count": 40,
   "metadata": {},
   "outputs": [
    {
     "data": {
      "text/html": [
       "<div>\n",
       "<style scoped>\n",
       "    .dataframe tbody tr th:only-of-type {\n",
       "        vertical-align: middle;\n",
       "    }\n",
       "\n",
       "    .dataframe tbody tr th {\n",
       "        vertical-align: top;\n",
       "    }\n",
       "\n",
       "    .dataframe thead th {\n",
       "        text-align: right;\n",
       "    }\n",
       "</style>\n",
       "<table border=\"1\" class=\"dataframe\">\n",
       "  <thead>\n",
       "    <tr style=\"text-align: right;\">\n",
       "      <th></th>\n",
       "      <th>PaperlessBilling</th>\n",
       "      <th>PaymentMethod</th>\n",
       "      <th>SeniorCitizen</th>\n",
       "      <th>Partner</th>\n",
       "      <th>Dependents</th>\n",
       "      <th>OnlineSecurity</th>\n",
       "      <th>OnlineBackup</th>\n",
       "      <th>DeviceProtection</th>\n",
       "      <th>TechSupport</th>\n",
       "      <th>StreamingTV</th>\n",
       "      <th>...</th>\n",
       "      <th>MultipleLines</th>\n",
       "      <th>Active</th>\n",
       "      <th>annual_charge</th>\n",
       "      <th>Monthly</th>\n",
       "      <th>One year</th>\n",
       "      <th>Two year</th>\n",
       "      <th>Female</th>\n",
       "      <th>Male</th>\n",
       "      <th>DSL</th>\n",
       "      <th>Fiber optic</th>\n",
       "    </tr>\n",
       "    <tr>\n",
       "      <th>customerID</th>\n",
       "      <th></th>\n",
       "      <th></th>\n",
       "      <th></th>\n",
       "      <th></th>\n",
       "      <th></th>\n",
       "      <th></th>\n",
       "      <th></th>\n",
       "      <th></th>\n",
       "      <th></th>\n",
       "      <th></th>\n",
       "      <th></th>\n",
       "      <th></th>\n",
       "      <th></th>\n",
       "      <th></th>\n",
       "      <th></th>\n",
       "      <th></th>\n",
       "      <th></th>\n",
       "      <th></th>\n",
       "      <th></th>\n",
       "      <th></th>\n",
       "      <th></th>\n",
       "    </tr>\n",
       "  </thead>\n",
       "  <tbody>\n",
       "    <tr>\n",
       "      <th>5575-GNVDE</th>\n",
       "      <td>0</td>\n",
       "      <td>1</td>\n",
       "      <td>0</td>\n",
       "      <td>0</td>\n",
       "      <td>0</td>\n",
       "      <td>1</td>\n",
       "      <td>0</td>\n",
       "      <td>1</td>\n",
       "      <td>0</td>\n",
       "      <td>0</td>\n",
       "      <td>...</td>\n",
       "      <td>0</td>\n",
       "      <td>1</td>\n",
       "      <td>1889.50</td>\n",
       "      <td>False</td>\n",
       "      <td>True</td>\n",
       "      <td>False</td>\n",
       "      <td>False</td>\n",
       "      <td>True</td>\n",
       "      <td>True</td>\n",
       "      <td>False</td>\n",
       "    </tr>\n",
       "    <tr>\n",
       "      <th>3668-QPYBK</th>\n",
       "      <td>1</td>\n",
       "      <td>1</td>\n",
       "      <td>0</td>\n",
       "      <td>0</td>\n",
       "      <td>0</td>\n",
       "      <td>1</td>\n",
       "      <td>1</td>\n",
       "      <td>0</td>\n",
       "      <td>0</td>\n",
       "      <td>0</td>\n",
       "      <td>...</td>\n",
       "      <td>0</td>\n",
       "      <td>0</td>\n",
       "      <td>108.15</td>\n",
       "      <td>True</td>\n",
       "      <td>False</td>\n",
       "      <td>False</td>\n",
       "      <td>False</td>\n",
       "      <td>True</td>\n",
       "      <td>True</td>\n",
       "      <td>False</td>\n",
       "    </tr>\n",
       "    <tr>\n",
       "      <th>9237-HQITU</th>\n",
       "      <td>1</td>\n",
       "      <td>2</td>\n",
       "      <td>0</td>\n",
       "      <td>0</td>\n",
       "      <td>0</td>\n",
       "      <td>0</td>\n",
       "      <td>0</td>\n",
       "      <td>0</td>\n",
       "      <td>0</td>\n",
       "      <td>0</td>\n",
       "      <td>...</td>\n",
       "      <td>0</td>\n",
       "      <td>0</td>\n",
       "      <td>151.65</td>\n",
       "      <td>True</td>\n",
       "      <td>False</td>\n",
       "      <td>False</td>\n",
       "      <td>True</td>\n",
       "      <td>False</td>\n",
       "      <td>False</td>\n",
       "      <td>True</td>\n",
       "    </tr>\n",
       "    <tr>\n",
       "      <th>9305-CDSKC</th>\n",
       "      <td>1</td>\n",
       "      <td>2</td>\n",
       "      <td>0</td>\n",
       "      <td>0</td>\n",
       "      <td>0</td>\n",
       "      <td>0</td>\n",
       "      <td>0</td>\n",
       "      <td>1</td>\n",
       "      <td>0</td>\n",
       "      <td>1</td>\n",
       "      <td>...</td>\n",
       "      <td>1</td>\n",
       "      <td>0</td>\n",
       "      <td>820.50</td>\n",
       "      <td>True</td>\n",
       "      <td>False</td>\n",
       "      <td>False</td>\n",
       "      <td>True</td>\n",
       "      <td>False</td>\n",
       "      <td>False</td>\n",
       "      <td>True</td>\n",
       "    </tr>\n",
       "    <tr>\n",
       "      <th>1452-KIOVK</th>\n",
       "      <td>1</td>\n",
       "      <td>3</td>\n",
       "      <td>0</td>\n",
       "      <td>0</td>\n",
       "      <td>1</td>\n",
       "      <td>0</td>\n",
       "      <td>1</td>\n",
       "      <td>0</td>\n",
       "      <td>0</td>\n",
       "      <td>1</td>\n",
       "      <td>...</td>\n",
       "      <td>1</td>\n",
       "      <td>1</td>\n",
       "      <td>1949.40</td>\n",
       "      <td>True</td>\n",
       "      <td>False</td>\n",
       "      <td>False</td>\n",
       "      <td>False</td>\n",
       "      <td>True</td>\n",
       "      <td>False</td>\n",
       "      <td>True</td>\n",
       "    </tr>\n",
       "  </tbody>\n",
       "</table>\n",
       "<p>5 rows × 21 columns</p>\n",
       "</div>"
      ],
      "text/plain": [
       "            PaperlessBilling  PaymentMethod  SeniorCitizen  Partner  \\\n",
       "customerID                                                            \n",
       "5575-GNVDE                 0              1              0        0   \n",
       "3668-QPYBK                 1              1              0        0   \n",
       "9237-HQITU                 1              2              0        0   \n",
       "9305-CDSKC                 1              2              0        0   \n",
       "1452-KIOVK                 1              3              0        0   \n",
       "\n",
       "            Dependents  OnlineSecurity  OnlineBackup  DeviceProtection  \\\n",
       "customerID                                                               \n",
       "5575-GNVDE           0               1             0                 1   \n",
       "3668-QPYBK           0               1             1                 0   \n",
       "9237-HQITU           0               0             0                 0   \n",
       "9305-CDSKC           0               0             0                 1   \n",
       "1452-KIOVK           1               0             1                 0   \n",
       "\n",
       "            TechSupport  StreamingTV  ...  MultipleLines  Active  \\\n",
       "customerID                            ...                          \n",
       "5575-GNVDE            0            0  ...              0       1   \n",
       "3668-QPYBK            0            0  ...              0       0   \n",
       "9237-HQITU            0            0  ...              0       0   \n",
       "9305-CDSKC            0            1  ...              1       0   \n",
       "1452-KIOVK            0            1  ...              1       1   \n",
       "\n",
       "            annual_charge  Monthly  One year  Two year  Female   Male    DSL  \\\n",
       "customerID                                                                     \n",
       "5575-GNVDE        1889.50    False      True     False   False   True   True   \n",
       "3668-QPYBK         108.15     True     False     False   False   True   True   \n",
       "9237-HQITU         151.65     True     False     False    True  False  False   \n",
       "9305-CDSKC         820.50     True     False     False    True  False  False   \n",
       "1452-KIOVK        1949.40     True     False     False   False   True  False   \n",
       "\n",
       "            Fiber optic  \n",
       "customerID               \n",
       "5575-GNVDE        False  \n",
       "3668-QPYBK        False  \n",
       "9237-HQITU         True  \n",
       "9305-CDSKC         True  \n",
       "1452-KIOVK         True  \n",
       "\n",
       "[5 rows x 21 columns]"
      ]
     },
     "execution_count": 40,
     "metadata": {},
     "output_type": "execute_result"
    }
   ],
   "source": [
    "#Set the index of the Dataframe since the customerID column is not accepted by some models ans still we dont want to lose the information\n",
    "df = df.set_index('customerID')\n",
    "df.head()"
   ]
  },
  {
   "cell_type": "markdown",
   "metadata": {},
   "source": [
    "## Class balancing"
   ]
  },
  {
   "cell_type": "code",
   "execution_count": 41,
   "metadata": {},
   "outputs": [],
   "source": [
    "#Define the features and target\n",
    "X = df.drop(columns=['Active'], axis=1)\n",
    "y = df['Active']"
   ]
  },
  {
   "cell_type": "code",
   "execution_count": 42,
   "metadata": {},
   "outputs": [
    {
     "name": "stderr",
     "output_type": "stream",
     "text": [
      "/opt/anaconda3/lib/python3.12/site-packages/sklearn/base.py:484: FutureWarning: `BaseEstimator._check_n_features` is deprecated in 1.6 and will be removed in 1.7. Use `sklearn.utils.validation._check_n_features` instead.\n",
      "  warnings.warn(\n",
      "/opt/anaconda3/lib/python3.12/site-packages/sklearn/base.py:493: FutureWarning: `BaseEstimator._check_feature_names` is deprecated in 1.6 and will be removed in 1.7. Use `sklearn.utils.validation._check_feature_names` instead.\n",
      "  warnings.warn(\n"
     ]
    }
   ],
   "source": [
    "#Balance clases using RandomOverSampler\n",
    "ros = RandomOverSampler(random_state=0)  #Random_state for reproducibility\n",
    "X_resampled, y_resampled = ros.fit_resample(X, y) #Create a new data set where the minority class has the same number of samples as the majority class.\n",
    "#It does it randomly duplicating existing instances of the minority class."
   ]
  },
  {
   "cell_type": "code",
   "execution_count": 43,
   "metadata": {},
   "outputs": [
    {
     "name": "stdout",
     "output_type": "stream",
     "text": [
      "Distribución de clases antes del sobremuestreo: Counter({1: 3249, 0: 1586})\n",
      "Distribución de clases después del sobremuestreo: Counter({1: 3249, 0: 3249})\n"
     ]
    }
   ],
   "source": [
    "#Check the differences (After,Before)\n",
    "print('Distribución de clases antes del sobremuestreo:', Counter(y))\n",
    "print('Distribución de clases después del sobremuestreo:', Counter(y_resampled))"
   ]
  },
  {
   "cell_type": "code",
   "execution_count": 44,
   "metadata": {},
   "outputs": [],
   "source": [
    "def split_data(features_x,target_y):\n",
    "    \"\"\"\n",
    "    Splits the input features and target into training, validation, and test sets.\n",
    "\n",
    "    Args:\n",
    "        features_x: The feature matrix (NumPy array or Pandas DataFrame).\n",
    "        target_y: The target vector (NumPy array or Pandas Series).\n",
    "\n",
    "    Returns:\n",
    "        A tuple containing the features and target for the temporary, validation, and test sets, respectively.\n",
    "    \"\"\"\n",
    "\n",
    "    features = features_x\n",
    "    target = target_y\n",
    "\n",
    "    # Split data into training and temporary sets\n",
    "    features_t, features_temp, target_t, target_temp = train_test_split(\n",
    "        features, target, test_size=0.3, random_state=12345, stratify=target # Stratify for class balance\n",
    "    )\n",
    "\n",
    "    # Split temporary set into validation and test sets\n",
    "    features_v, features_test, target_v, target_test = train_test_split(\n",
    "        features_temp, target_temp, test_size=0.5, random_state=12345, stratify=target_temp # Stratify here as well\n",
    "    )\n",
    "\n",
    "    return features_temp, features_v, features_test, target_temp, target_v, target_test"
   ]
  },
  {
   "cell_type": "code",
   "execution_count": 45,
   "metadata": {},
   "outputs": [],
   "source": [
    "def Train_Predict(data, choosen_model, param_grid, cv):\n",
    "    \"\"\"\n",
    "  Adjust a model using GridSearchcv to find the best hyperparameters.\n",
    "\n",
    "    ARGS:\n",
    "        Data: Dataframe with the data.\n",
    "        Choosen_Model: the chosen classifier (for example, RandomforestclaSifier, DecisiSionclassifier, etc.).\n",
    "        Param_Grid: Dictionary of the parameters to be tested with Gridsearchcv (specific for each model).\n",
    "        CV: number of folds for cross validation.\n",
    "\n",
    "    Returns:\n",
    "    A tuple with the best parameters, the best model, and other metrics.\n",
    "    \"\"\"\n",
    "    \n",
    "    #Returns partitions.\n",
    "    features_t_resampled, features_valid, features_te, target_t_resampled, target_valid, target_te = split_data(X_resampled,y_resampled)\n",
    "\n",
    "    #Create the Gridsearchcv with the model and the parameters provided\n",
    "    grid = GridSearchCV(estimator=choosen_model, param_grid=param_grid, cv=cv)\n",
    "\n",
    "    #Adjust the model with training data\n",
    "    grid.fit(features_t_resampled, target_t_resampled)\n",
    "\n",
    "    #Get the best parameters and the best model\n",
    "    best_params = grid.best_params_\n",
    "    best_model = grid.best_estimator_\n",
    "    best_score = grid.best_score_\n",
    "\n",
    "    #Predicts with the best model\n",
    "    train_pred = best_model.predict(features_t_resampled)\n",
    "    predicted_valid = best_model.predict(features_valid)\n",
    "    test_pred = best_model.predict(features_te)\n",
    "\n",
    "    #Calculate metrics\n",
    "    train_accuracy = accuracy_score(target_t_resampled, train_pred)\n",
    "    valid_accuracy = accuracy_score(target_valid, predicted_valid)\n",
    "    test_accuracy = accuracy_score(target_te, test_pred)\n",
    "    fpr, tpr, thresholds = roc_curve(target_valid, predicted_valid)\n",
    "    roc_auc = auc(fpr, tpr)\n",
    "    f1 = f1_score(target_valid, predicted_valid)\n",
    "    conf_matrix = confusion_matrix(target_valid, predicted_valid)\n",
    "\n",
    "    return predicted_valid,best_params,best_model, roc_auc, fpr, tpr,f1,conf_matrix,train_accuracy,test_accuracy"
   ]
  },
  {
   "cell_type": "code",
   "execution_count": 46,
   "metadata": {},
   "outputs": [],
   "source": [
    "# Function to plot the ROC curve\n",
    "def graph(fpr, tpr, roc_auc):\n",
    "    \"\"\"\n",
    "    Generates and displays the Receiver Operating Characteristic (ROC) curve.\n",
    "\n",
    "    Args:\n",
    "        fpr (array-like): False Positive Rate values.\n",
    "        tpr (array-like): True Positive Rate values.\n",
    "        roc_auc (float): Area Under the ROC curve.\n",
    "\n",
    "    Returns:\n",
    "        matplotlib.pyplot.show(): Displays the plot.\n",
    "    \"\"\"\n",
    "    # Plot the ROC curve itself\n",
    "    plt.plot(fpr, tpr, color='darkorange', label='ROC curve (area = %0.2f)' % roc_auc)  # Plots the actual curve using FPR and TPR.  The label includes the calculated AUC.\n",
    "    \n",
    "    # Plot the \"random classifier\" line (diagonal line)\n",
    "    plt.plot([0, 1], [0, 1], color='navy', linestyle='--')  # Plots the dashed diagonal line representing a random classifier (AUC = 0.5).\n",
    "\n",
    "    # Set plot limits for better visualization\n",
    "    plt.xlim([0.0, 1.0])  # Sets the x-axis limits (FPR) from 0 to 1.\n",
    "    plt.ylim([0.0, 1.05])  # Sets the y-axis limits (TPR) from 0 to 1.05 (slightly above 1 for better label placement).\n",
    "\n",
    "    # Add axis labels and title\n",
    "    plt.xlabel('False Positive Rate')  # Labels the x-axis.\n",
    "    plt.ylabel('True Positive Rate')  # Labels the y-axis.\n",
    "    plt.title('ROC_AUC')  # Sets the title of the plot.\n",
    "\n",
    "    # Display the legend (showing the AUC value)\n",
    "    plt.legend(loc=\"lower right\")  # Places the legend in the lower right corner of the plot.\n",
    "\n",
    "    return plt.show()  # Displays the generated plot."
   ]
  },
  {
   "cell_type": "code",
   "execution_count": 47,
   "metadata": {},
   "outputs": [],
   "source": [
    "def graph_confusion(conf_matrix):\n",
    "    \"\"\"\n",
    "    Generates and displays a confusion matrix heatmap.\n",
    "\n",
    "    Args:\n",
    "        conf_matrix (numpy.ndarray): The confusion matrix as a NumPy array.\n",
    "\n",
    "    Returns:\n",
    "        matplotlib.pyplot.show: Displays the generated plot.\n",
    "    \"\"\"\n",
    "\n",
    "    # Create a Pandas DataFrame for the confusion matrix with custom labels\n",
    "    df_cm = pd.DataFrame(conf_matrix, index=['No', 'Si'], columns=['No', 'Si'])\n",
    "\n",
    "    # Define a diverging color palette for the heatmap\n",
    "    cmap = sns.diverging_palette(220, 10, as_cmap=True)\n",
    "\n",
    "    # Create the confusion matrix heatmap\n",
    "    plt.figure(figsize=(8, 6))  # Adjust figure size for better visualization\n",
    "    sns.heatmap(df_cm, annot=True, fmt='d', cmap=cmap)  # Annotate cells with values, format as integers\n",
    "    plt.xlabel('Prediction')  # Label the x-axis\n",
    "    plt.ylabel('Actual')  # Label the y-axis\n",
    "    plt.title('Confusion Matrix')  # Set the title of the plot\n",
    "    return plt.show()  # Display the plot"
   ]
  },
  {
   "cell_type": "code",
   "execution_count": 48,
   "metadata": {},
   "outputs": [],
   "source": [
    "\n",
    "\n",
    "# Suprimir los warnings de tipo FutureWarning y ConvergenceWarning\n",
    "warnings.filterwarnings('ignore', category=FutureWarning)\n",
    "warnings.filterwarnings('ignore', category=ConvergenceWarning)"
   ]
  },
  {
   "cell_type": "markdown",
   "metadata": {},
   "source": [
    "## DecisionTreeClassifier Model"
   ]
  },
  {
   "cell_type": "code",
   "execution_count": null,
   "metadata": {},
   "outputs": [],
   "source": [
    "# Establish the parameters for the Decision Tree model's hyperparameter tuning.\n",
    "param_grid_dt = {\n",
    "    'criterion': ['gini', 'entropy'],  # Different criteria for splitting nodes.\n",
    "    'max_depth': [None, 5, 10, 15],  # Maximum depth of the tree. None means no limit.\n",
    "    'min_samples_split': [2, 5, 10],  # Minimum number of samples required to split an internal node.\n",
    "    'min_samples_leaf': [1, 2, 5],  # Minimum number of samples required to be at a leaf node.\n",
    "    'max_features': ['auto', 'sqrt', 'log2', None]}  # Number of features to consider when looking for the best split.\n",
    "                                                    # 'auto' uses all features, 'sqrt' uses the square root of the number of features,\n",
    "                                                    # 'log2' uses the base-2 logarithm of the number of features, None is the same as 'auto'.\n",
    "                                                    \n",
    "# Apply the Train_Predict function to train, predict, and evaluate the Decision Tree model.\n",
    "predicted_valid_dt,best_params_dt,best_model_dt, roc_auc_dt, fpr_dt, tpr_dt,f1_dt,conf_matrix_dt,train_accuracy_dt,test_accuracy_dt = Train_Predict(df, DecisionTreeClassifier(), param_grid_dt, 3)"
   ]
  },
  {
   "cell_type": "code",
   "execution_count": 50,
   "metadata": {},
   "outputs": [
    {
     "name": "stdout",
     "output_type": "stream",
     "text": [
      "Best Params: {'criterion': 'gini', 'max_depth': 5, 'max_features': None, 'min_samples_leaf': 2, 'min_samples_split': 10}\n",
      "ROC_AUC metric: 0.7631576732756589\n",
      "F1 Score: 0.743047830923248\n",
      "Train Accuracy: 0.7707692307692308\n",
      "Test Accuracy: 0.7784615384615384\n"
     ]
    }
   ],
   "source": [
    "print(\"Best Params:\", best_params_dt)\n",
    "print(\"ROC_AUC metric:\", roc_auc_dt)\n",
    "print(\"F1 Score:\", f1_dt)\n",
    "print(\"Train Accuracy:\",train_accuracy_dt)\n",
    "print(\"Test Accuracy:\",test_accuracy_dt)"
   ]
  },
  {
   "cell_type": "code",
   "execution_count": null,
   "metadata": {},
   "outputs": [],
   "source": [
    "graph(fpr_dt,tpr_dt,roc_auc_dt)"
   ]
  },
  {
   "cell_type": "code",
   "execution_count": null,
   "metadata": {},
   "outputs": [],
   "source": [
    "graph_confusion(conf_matrix_dt)"
   ]
  },
  {
   "cell_type": "markdown",
   "metadata": {},
   "source": [
    "## LogisticRegression Model"
   ]
  },
  {
   "cell_type": "code",
   "execution_count": null,
   "metadata": {},
   "outputs": [],
   "source": [
    "# Define the hyperparameter grid for Logistic Regression.\n",
    "param_grid_lr = {\n",
    "    'C': [0.01, 0.1, 1, 10, 100],  # Different values for the regularization strength.\n",
    "                                    # Smaller values indicate stronger regularization. Which means that the model will penalize the big coefficients more.\n",
    "    'solver': ['liblinear', 'lbfgs', 'saga'],  # Optimization algorithms to find the best model parameters.\n",
    "                                               # 'liblinear' is suitable for smaller datasets.\n",
    "                                               # 'lbfgs' and 'saga' can handle larger datasets and different penalties.\n",
    "                                               # 'saga' also supports elasticnet.\n",
    "    'max_iter': [100, 200, 500],  # Different values for the maximum number of iterations the solver runs.\n",
    "                                     # The solver stops when it converges or reaches max_iter.\n",
    "    'penalty': ['l2', 'l1', 'elasticnet'],  # Types of regularization to prevent overfitting.\n",
    "                                           # 'l2' (Ridge) Penalizes the sum of the squares of the coefficients.\n",
    "                                           # 'l1' (Lasso) Penalizes the sum of the absolute values ​​of the coefficients.\n",
    "                                           # 'elasticnet' combines L1 and L2 penalties.\n",
    "    'multi_class': ['ovr', 'multinomial']  # Handles multi-class classification problems.\n",
    "                                           # 'ovr' (One-vs-Rest) trains a classifier for each class vs. the rest.\n",
    "                                           # 'multinomial' trains a single classifier for all classes.\n",
    "}\n",
    "\n",
    "# Apply the Train_Predict function to train, predict, and evaluate the Logistic Regression model.\n",
    "predicted_valid_lr, best_params_lr,best_model_lr, roc_auc_lr, fpr_lr, tpr_lr, f1_lr, conf_matrix_lr, train_accuracy_lr, test_accuracy_lr = Train_Predict(\n",
    "    df, LogisticRegression(), param_grid_lr, 3)"
   ]
  },
  {
   "cell_type": "code",
   "execution_count": 54,
   "metadata": {},
   "outputs": [
    {
     "name": "stdout",
     "output_type": "stream",
     "text": [
      "Best Params: {'C': 0.1, 'max_iter': 100, 'multi_class': 'ovr', 'penalty': 'l1', 'solver': 'liblinear'}\n",
      "ROC_AUC metric: 0.7364173427138385\n",
      "F1 Score: 0.7347781217750258\n",
      "Train Accuracy: 0.7430769230769231\n",
      "Test Accuracy: 0.7497435897435898\n"
     ]
    }
   ],
   "source": [
    "print(\"Best Params:\", best_params_lr)\n",
    "print(\"ROC_AUC metric:\", roc_auc_lr)\n",
    "print(\"F1 Score:\", f1_lr)\n",
    "print(\"Train Accuracy:\",train_accuracy_lr)\n",
    "print(\"Test Accuracy:\",test_accuracy_lr)"
   ]
  },
  {
   "cell_type": "code",
   "execution_count": null,
   "metadata": {},
   "outputs": [],
   "source": [
    "graph(fpr_lr,tpr_lr,roc_auc_lr)"
   ]
  },
  {
   "cell_type": "code",
   "execution_count": null,
   "metadata": {},
   "outputs": [],
   "source": [
    "graph_confusion(conf_matrix_lr)"
   ]
  },
  {
   "cell_type": "markdown",
   "metadata": {},
   "source": [
    "## RandomForestClassifier Model"
   ]
  },
  {
   "cell_type": "code",
   "execution_count": 57,
   "metadata": {},
   "outputs": [],
   "source": [
    "# Define the hyperparameter grid for RandomForestClassifier.\n",
    "param_grid_rf = {\n",
    "    'n_estimators': [100, 200, 500],  #Number of trees in the forest\n",
    "    'max_depth': [None, 5, 10, 15],  #Maximum depth of trees\n",
    "    'min_samples_split': [2, 5, 10],  #Minimum number of samples to divide a node\n",
    "    'min_samples_leaf': [1, 2, 5],  #Minimum number of samples in a leafe node\n",
    "}\n",
    "\n",
    "#Use the train_predict with randomforestclassifier\n",
    "predicted_valid_rf, best_params_rf,best_model_rf, roc_auc_rf, fpr_rf, tpr_rf, f1_rf, conf_matrix_rf, train_accuracy_rf, test_accuracy_rf = Train_Predict(\n",
    "    df, RandomForestClassifier(), param_grid_rf, 3  # 3 pliegues en la validación cruzada\n",
    ")"
   ]
  },
  {
   "cell_type": "code",
   "execution_count": 58,
   "metadata": {},
   "outputs": [
    {
     "name": "stdout",
     "output_type": "stream",
     "text": [
      "Best Params: {'max_depth': 10, 'min_samples_leaf': 1, 'min_samples_split': 5, 'n_estimators': 500}\n",
      "ROC_AUC metric: 0.8821111185915778\n",
      "F1 Score: 0.8748639825897715\n",
      "Train Accuracy: 0.8907692307692308\n",
      "Test Accuracy: 0.8994871794871795\n"
     ]
    }
   ],
   "source": [
    "print(\"Best Params:\", best_params_rf)\n",
    "print(\"ROC_AUC metric:\", roc_auc_rf)\n",
    "print(\"F1 Score:\", f1_rf)\n",
    "print(\"Train Accuracy:\",train_accuracy_rf)\n",
    "print(\"Test Accuracy:\",test_accuracy_rf)"
   ]
  },
  {
   "cell_type": "code",
   "execution_count": null,
   "metadata": {},
   "outputs": [],
   "source": [
    "graph(fpr_rf,tpr_rf,roc_auc_rf)"
   ]
  },
  {
   "cell_type": "code",
   "execution_count": null,
   "metadata": {},
   "outputs": [],
   "source": [
    "graph_confusion(conf_matrix_rf)"
   ]
  },
  {
   "cell_type": "markdown",
   "metadata": {},
   "source": [
    "## XGBoost adjusted"
   ]
  },
  {
   "cell_type": "code",
   "execution_count": 61,
   "metadata": {},
   "outputs": [],
   "source": [
    "# Define the hyperparameter grid for XGBoost.\n",
    "param_grid_xgb = {\n",
    "    'n_estimators': [100, 200, 500],  #Number of trees\n",
    "    'max_depth': [3, 5, 7],  # Maximum depth of trees\n",
    "    'Learning_Rate': [0.01, 0.1, 0.3], # learning rate\n",
    "    'subsample': [0.8, 0.9, 1.0], # proportion of samples used to train each tree\n",
    "    'Colsample_bytree': [0.8, 0.9, 1.0], # fraction of features used for each tree\n",
    "}\n",
    "\n",
    "#Use the Train_Predict Function with XGBOOST\n",
    "predicted_valid_xgb, best_params_xgb,best_model_xgb, roc_auc_xgb, fpr_xgb, tpr_xgb, f1_xgb, conf_matrix_xgb, train_accuracy_xgb, test_accuracy_xgb = Train_Predict(\n",
    "    df, xgb.XGBClassifier(), param_grid_xgb, 3)  # 3 pliegues en la validación cruzada"
   ]
  },
  {
   "cell_type": "code",
   "execution_count": 62,
   "metadata": {},
   "outputs": [
    {
     "name": "stdout",
     "output_type": "stream",
     "text": [
      "Best Params: {'colsample_bytree': 0.8, 'learning_rate': 0.01, 'max_depth': 7, 'n_estimators': 500, 'subsample': 0.8}\n",
      "ROC_AUC metric: 0.8964532770054195\n",
      "F1 Score: 0.8919786096256684\n",
      "Train Accuracy: 0.9\n",
      "Test Accuracy: 0.9035897435897436\n"
     ]
    }
   ],
   "source": [
    "print(\"Best Params:\", best_params_xgb)\n",
    "print(\"ROC_AUC metric:\", roc_auc_xgb)\n",
    "print(\"F1 Score:\", f1_xgb)\n",
    "print(\"Train Accuracy:\",train_accuracy_xgb)\n",
    "print(\"Test Accuracy:\",test_accuracy_xgb)"
   ]
  },
  {
   "cell_type": "code",
   "execution_count": null,
   "metadata": {},
   "outputs": [],
   "source": [
    "graph(fpr_xgb,tpr_xgb,roc_auc_xgb)\n"
   ]
  },
  {
   "cell_type": "code",
   "execution_count": null,
   "metadata": {},
   "outputs": [],
   "source": [
    "graph_confusion(conf_matrix_xgb)"
   ]
  },
  {
   "cell_type": "markdown",
   "metadata": {},
   "source": [
    "## Modelo de redes neuronales MPL"
   ]
  },
  {
   "cell_type": "markdown",
   "metadata": {},
   "source": [
    "### Modelo con 2 capas totalmente conectadas"
   ]
  },
  {
   "cell_type": "code",
   "execution_count": 65,
   "metadata": {},
   "outputs": [],
   "source": [
    "features_train8, features_valid8, features_te8, target_train8, target_valid8, target_te8  = split_data(X_resampled,y_resampled)"
   ]
  },
  {
   "cell_type": "code",
   "execution_count": 66,
   "metadata": {},
   "outputs": [],
   "source": [
    "def create_model_connected(input_dim):\n",
    "    # Define the input layer:\n",
    "    inputs = Input(shape=(input_dim,))  # Input layer with shape based on input_dim\n",
    "\n",
    "    # Connect the dense layer to the input layer.\n",
    "    x = Dense(64, activation='relu')(inputs)  # Fully connected layer with 64 neurons, ReLU activation\n",
    "\n",
    "    # Dropout layer to prevent overfitting. Randomly disables neurons during training.\n",
    "    x = Dropout(0.3)(x)  # Dropout layer with a 30% dropout rate\n",
    "\n",
    "    # Another dense (fully connected) layer.\n",
    "    x = Dense(32, activation='relu')(x)  # Fully connected layer with 32 neurons, ReLU activation\n",
    "\n",
    "    # Another dropout layer.\n",
    "    x = Dropout(0.2)(x)  # Dropout layer with a 20% dropout rate\n",
    "\n",
    "    # Output layer for binary classification.\n",
    "    outputs = Dense(1, activation='sigmoid')(x)  # Output layer with 1 neuron, Sigmoid activation\n",
    "\n",
    "    # Define the model to use.\n",
    "    model = keras.Model(inputs=inputs, outputs=outputs)  # Create the Keras model\n",
    "\n",
    "    # Compile the model.\n",
    "    model.compile(loss='binary_crossentropy', optimizer='adam')  # Loss function: binary_crossentropy\n",
    "                                                                 # Optimizer: adam (an algorithm to adjust weights)\n",
    "\n",
    "    return model  # Return the created model"
   ]
  },
  {
   "cell_type": "code",
   "execution_count": 67,
   "metadata": {},
   "outputs": [
    {
     "name": "stdout",
     "output_type": "stream",
     "text": [
      "\u001b[1m61/61\u001b[0m \u001b[32m━━━━━━━━━━━━━━━━━━━━\u001b[0m\u001b[37m\u001b[0m \u001b[1m1s\u001b[0m 2ms/step - loss: 87.2730\n",
      "\u001b[1m61/61\u001b[0m \u001b[32m━━━━━━━━━━━━━━━━━━━━\u001b[0m\u001b[37m\u001b[0m \u001b[1m0s\u001b[0m 1ms/step\n",
      "\u001b[1m31/31\u001b[0m \u001b[32m━━━━━━━━━━━━━━━━━━━━\u001b[0m\u001b[37m\u001b[0m \u001b[1m0s\u001b[0m 1ms/step \n",
      "\u001b[1m31/31\u001b[0m \u001b[32m━━━━━━━━━━━━━━━━━━━━\u001b[0m\u001b[37m\u001b[0m \u001b[1m0s\u001b[0m 1ms/step \n",
      "\u001b[1m31/31\u001b[0m \u001b[32m━━━━━━━━━━━━━━━━━━━━\u001b[0m\u001b[37m\u001b[0m \u001b[1m0s\u001b[0m 1ms/step \n",
      "ROC_AUC metric: 0.5\n",
      "F1 Score: 0.6671223513328777\n",
      "Train Accuracy: 0.5\n",
      "Test Accuracy: 0.49948717948717947\n"
     ]
    }
   ],
   "source": [
    "model8= create_model_connected(features_train8.shape[1])\n",
    "\n",
    "#Early Stopping:\n",
    "# Monitor: The metric you use to monitor and decide when to stop\n",
    "# Patience: Defines the number of training iterations (times) are allowed without improvement in metric\n",
    "# Restore_Best_weights: Indicates whether the pesos of the model should be restored to the values ​​they had when the best performance in the metric (just before starting to be overlapping).\n",
    "# MODE: Specifies the address of the improvement that is sought in metric.\n",
    "# 'Max': Training stops when the metric stops increasing.\n",
    "# 'min': Training stops when the metric stops decreasing. \n",
    "# 'Auto': Try to infer the direction of improvement based on the name of the metric.\n",
    "early_stopping = EarlyStopping(monitor='val_auc', patience=5,restore_best_weights=True,mode='auto')\n",
    "\n",
    "#We train the model\n",
    "model8.fit(features_train8,target_train8)\n",
    "\n",
    " #Predict\n",
    "train_pred8 = (model8.predict(features_train8) >= 0.5).astype(int) \n",
    "predicted_valid8 = (model8.predict(features_valid8) >= 0.5).astype(int) \n",
    "test_pred8 = (model8.predict(features_te8) >= 0.5).astype(int) \n",
    "    \n",
    "     \n",
    "train_accuracy8 = accuracy_score(target_train8, train_pred8)\n",
    "valid_accuracy8 = accuracy_score(target_valid8, predicted_valid8)\n",
    "test_accuracy8 = accuracy_score(target_te8, test_pred8) \n",
    "\n",
    "\n",
    "#We calculate roc_auc\n",
    "fpr8, tpr8, thresholds8 = roc_curve(target_valid8, predicted_valid8)\n",
    "roc_auc8 = auc(fpr8, tpr8)\n",
    "f18 = f1_score(target_valid8, predicted_valid8)\n",
    "conf_matrix8 = confusion_matrix(target_valid8, predicted_valid8)\n",
    "print(\"ROC_AUC metric:\", roc_auc8)\n",
    "print(\"F1 Score:\", f18)\n",
    "print(\"Train Accuracy:\",train_accuracy8)\n",
    "print(\"Test Accuracy:\",test_accuracy8)"
   ]
  },
  {
   "cell_type": "code",
   "execution_count": null,
   "metadata": {},
   "outputs": [],
   "source": [
    "graph(fpr8,tpr8,roc_auc8)"
   ]
  },
  {
   "cell_type": "code",
   "execution_count": null,
   "metadata": {},
   "outputs": [],
   "source": [
    "graph_confusion(conf_matrix8)"
   ]
  },
  {
   "cell_type": "markdown",
   "metadata": {},
   "source": [
    "## KNN Model"
   ]
  },
  {
   "cell_type": "code",
   "execution_count": null,
   "metadata": {},
   "outputs": [],
   "source": [
    "# Define the hyperparameter grid for KNN\n",
    "param_grid_knn = {\n",
    "    'n_neighbors': [3, 5, 7, 10],  #Number of neighbors to consider\n",
    "    'weights': ['uniform', 'distance'],  #Weighting type: uniform or distance\n",
    "    'metric': ['euclidean', 'manhattan'],  #Metrics for the distance between points\n",
    "}\n",
    "\n",
    "#Use the Train_Predict Function with KneightSclassifier\n",
    "predicted_valid_knn, best_params_knn,best_model_knn, roc_auc_knn, fpr_knn, tpr_knn, f1_knn, conf_matrix_knn, train_accuracy_knn, test_accuracy_knn = Train_Predict(\n",
    "    df, KNeighborsClassifier(), param_grid_knn, 3  # 3 pliegues en la validación cruzada\n",
    ")"
   ]
  },
  {
   "cell_type": "code",
   "execution_count": 71,
   "metadata": {},
   "outputs": [
    {
     "name": "stdout",
     "output_type": "stream",
     "text": [
      "Best Params: {'metric': 'manhattan', 'n_neighbors': 10, 'weights': 'distance'}\n",
      "ROC_AUC metric: 1.0\n",
      "F1 Score: 1.0\n",
      "Train Accuracy: 1.0\n",
      "Test Accuracy: 1.0\n"
     ]
    }
   ],
   "source": [
    "print(\"Best Params:\", best_params_knn)\n",
    "print(\"ROC_AUC metric:\", roc_auc_knn)\n",
    "print(\"F1 Score:\", f1_knn)\n",
    "print(\"Train Accuracy:\",train_accuracy_knn)\n",
    "print(\"Test Accuracy:\",test_accuracy_knn)"
   ]
  },
  {
   "cell_type": "code",
   "execution_count": null,
   "metadata": {},
   "outputs": [],
   "source": [
    "graph(fpr_knn,tpr_knn,roc_auc_knn)"
   ]
  },
  {
   "cell_type": "code",
   "execution_count": null,
   "metadata": {},
   "outputs": [],
   "source": [
    "graph_confusion(conf_matrix_knn)"
   ]
  },
  {
   "cell_type": "markdown",
   "metadata": {},
   "source": [
    "## CatBoost Model"
   ]
  },
  {
   "cell_type": "code",
   "execution_count": 74,
   "metadata": {},
   "outputs": [],
   "source": [
    "#Parameters that we want to adjust for CatCoostclassifier\n",
    "param_grid_catboost = {\n",
    "    'iterations': [500, 1000],  #Number of iterations\n",
    "    'learning_rate': [0.01, 0.05, 0.1],  #Learning rate\n",
    "    'depth': [6, 8, 10],  #Tree depth\n",
    "    'l2_leaf_reg': [1, 3, 5]  #L2 regularization\n",
    "}\n",
    "\n",
    "#Use the Train_Predict function with catboostclassifier\n",
    "from catboost import CatBoostClassifier\n",
    "predicted_valid_catboost, best_params_catboost,best_model_catboost, roc_auc_catboost, fpr_catboost, tpr_catboost, f1_catboost, conf_matrix_catboost, train_accuracy_catboost, test_accuracy_catboost = Train_Predict(\n",
    "    df, CatBoostClassifier(silent=True), param_grid_catboost, 3  #3 folds in cross validation\n",
    ")\n"
   ]
  },
  {
   "cell_type": "code",
   "execution_count": 75,
   "metadata": {},
   "outputs": [
    {
     "name": "stdout",
     "output_type": "stream",
     "text": [
      "Best Params: {'depth': 8, 'iterations': 500, 'l2_leaf_reg': 1, 'learning_rate': 0.01}\n",
      "ROC_AUC metric: 0.9015930588750126\n",
      "F1 Score: 0.8961038961038961\n",
      "Train Accuracy: 0.9061538461538462\n",
      "Test Accuracy: 0.9107692307692308\n"
     ]
    }
   ],
   "source": [
    "print(\"Best Params:\", best_params_catboost)\n",
    "print(\"ROC_AUC metric:\", roc_auc_catboost)\n",
    "print(\"F1 Score:\", f1_catboost)\n",
    "print(\"Train Accuracy:\",train_accuracy_catboost)\n",
    "print(\"Test Accuracy:\",test_accuracy_catboost)"
   ]
  },
  {
   "cell_type": "code",
   "execution_count": null,
   "metadata": {},
   "outputs": [],
   "source": [
    "graph(fpr_catboost,tpr_catboost,roc_auc_catboost)"
   ]
  },
  {
   "cell_type": "code",
   "execution_count": null,
   "metadata": {},
   "outputs": [],
   "source": [
    "graph_confusion(conf_matrix_catboost)"
   ]
  },
  {
   "cell_type": "markdown",
   "metadata": {},
   "source": [
    "## lightgbm Model"
   ]
  },
  {
   "cell_type": "code",
   "execution_count": null,
   "metadata": {},
   "outputs": [],
   "source": [
    "#Parameters that we want to adjust for Lightgbm Model\n",
    "param_grid_lgbm = {\n",
    "    'num_leaves': [31, 50, 100],  # Number of leaves in each tree\n",
    "    'Max_Depth': [5, 10, 15], # maximum depth of each tree\n",
    "    'Learning_Rate': [0.01, 0.05, 0.1], # learning rate\n",
    "    'n_estimators': [100, 500, 1000], # number of trees\n",
    "    'Boosting_type': ['GBDT', 'dart'], # Boosting type\n",
    "    'subsample': [0.7, 0.8, 1.0] # sampling fraction for each tree\n",
    "}\n",
    "\n",
    "#Use the Train_Predict Function with LGBMCLASSIFIER\n",
    "predicted_valid_lgbm, best_params_lgbm, best_model_lgbm, roc_auc_lgbm, fpr_lgbm, tpr_lgbm, f1_lgbm, conf_matrix_lgbm, train_accuracy_lgbm, test_accuracy_lgbm = Train_Predict(\n",
    "    df, LGBMClassifier(), param_grid_lgbm, 3  # 3 pliegues en la validación cruzada\n",
    ")"
   ]
  },
  {
   "cell_type": "code",
   "execution_count": 79,
   "metadata": {},
   "outputs": [
    {
     "name": "stdout",
     "output_type": "stream",
     "text": [
      "Best Params: {'boosting_type': 'gbdt', 'learning_rate': 0.1, 'max_depth': 10, 'n_estimators': 100, 'num_leaves': 31, 'subsample': 0.7}\n",
      "ROC_AUC metric: 0.911822129464436\n",
      "F1 Score: 0.9094736842105263\n",
      "Train Accuracy: 0.9112820512820513\n",
      "Test Accuracy: 0.9107692307692308\n"
     ]
    }
   ],
   "source": [
    "print(\"Best Params:\", best_params_lgbm)\n",
    "print(\"ROC_AUC metric:\", roc_auc_lgbm)\n",
    "print(\"F1 Score:\", f1_lgbm)\n",
    "print(\"Train Accuracy:\",train_accuracy_lgbm)\n",
    "print(\"Test Accuracy:\",test_accuracy_lgbm)"
   ]
  },
  {
   "cell_type": "code",
   "execution_count": null,
   "metadata": {},
   "outputs": [],
   "source": [
    "graph(fpr_lgbm,tpr_lgbm,roc_auc_lgbm)"
   ]
  },
  {
   "cell_type": "code",
   "execution_count": null,
   "metadata": {},
   "outputs": [],
   "source": [
    "graph_confusion(conf_matrix_lgbm)"
   ]
  },
  {
   "cell_type": "markdown",
   "metadata": {},
   "source": [
    "##  Results"
   ]
  },
  {
   "cell_type": "code",
   "execution_count": 83,
   "metadata": {},
   "outputs": [],
   "source": [
    "#Create a list with all the results\n",
    "resultados = [\n",
    "    (best_model_dt.__class__.__name__, roc_auc_dt,f1_dt,conf_matrix_dt),  # Extrae el nombre del modelo\n",
    "    (best_model_lr.__class__.__name__, roc_auc_lr,f1_lr,conf_matrix_lr),\n",
    "    (best_model_rf.__class__.__name__, roc_auc_rf,f1_rf,conf_matrix_rf),\n",
    "    (\"XGBoost\", roc_auc_xgb,f1_xgb,conf_matrix_xgb), #Estos ya son strings, no hay problema\n",
    "    (\"KNeighborsClassifier\", roc_auc_knn,f1_knn,conf_matrix_knn),\n",
    "    (\"Modelo de redes neuronales MPL con 2 capas\", roc_auc8,f18,conf_matrix8),\n",
    "    (best_model_catboost.__class__.__name__, roc_auc_catboost,f1_catboost,conf_matrix_catboost),\n",
    "    (\"LGBMClassifier\", roc_auc_lgbm,f1_lgbm,conf_matrix_lgbm)\n",
    "]\n",
    "resultados_ordenados = sorted(resultados, key=lambda x: x[1], reverse=True)"
   ]
  },
  {
   "cell_type": "code",
   "execution_count": 84,
   "metadata": {},
   "outputs": [
    {
     "data": {
      "text/html": [
       "<div>\n",
       "<style scoped>\n",
       "    .dataframe tbody tr th:only-of-type {\n",
       "        vertical-align: middle;\n",
       "    }\n",
       "\n",
       "    .dataframe tbody tr th {\n",
       "        vertical-align: top;\n",
       "    }\n",
       "\n",
       "    .dataframe thead th {\n",
       "        text-align: right;\n",
       "    }\n",
       "</style>\n",
       "<table border=\"1\" class=\"dataframe\">\n",
       "  <thead>\n",
       "    <tr style=\"text-align: right;\">\n",
       "      <th></th>\n",
       "      <th>Modelo</th>\n",
       "      <th>ROC_AUC</th>\n",
       "      <th>F1-Score</th>\n",
       "      <th>Matriz de Confusión</th>\n",
       "    </tr>\n",
       "  </thead>\n",
       "  <tbody>\n",
       "    <tr>\n",
       "      <th>0</th>\n",
       "      <td>KNeighborsClassifier</td>\n",
       "      <td>1.000000</td>\n",
       "      <td>1.000000</td>\n",
       "      <td>[[487, 0], [0, 488]]</td>\n",
       "    </tr>\n",
       "    <tr>\n",
       "      <th>1</th>\n",
       "      <td>LGBMClassifier</td>\n",
       "      <td>0.911822</td>\n",
       "      <td>0.909474</td>\n",
       "      <td>[[457, 30], [56, 432]]</td>\n",
       "    </tr>\n",
       "    <tr>\n",
       "      <th>2</th>\n",
       "      <td>CatBoostClassifier</td>\n",
       "      <td>0.901593</td>\n",
       "      <td>0.896104</td>\n",
       "      <td>[[465, 22], [74, 414]]</td>\n",
       "    </tr>\n",
       "    <tr>\n",
       "      <th>3</th>\n",
       "      <td>XGBoost</td>\n",
       "      <td>0.896453</td>\n",
       "      <td>0.891979</td>\n",
       "      <td>[[457, 30], [71, 417]]</td>\n",
       "    </tr>\n",
       "    <tr>\n",
       "      <th>4</th>\n",
       "      <td>RandomForestClassifier</td>\n",
       "      <td>0.882111</td>\n",
       "      <td>0.874864</td>\n",
       "      <td>[[458, 29], [86, 402]]</td>\n",
       "    </tr>\n",
       "    <tr>\n",
       "      <th>5</th>\n",
       "      <td>DecisionTreeClassifier</td>\n",
       "      <td>0.763158</td>\n",
       "      <td>0.743048</td>\n",
       "      <td>[[410, 77], [154, 334]]</td>\n",
       "    </tr>\n",
       "    <tr>\n",
       "      <th>6</th>\n",
       "      <td>LogisticRegression</td>\n",
       "      <td>0.736417</td>\n",
       "      <td>0.734778</td>\n",
       "      <td>[[362, 125], [132, 356]]</td>\n",
       "    </tr>\n",
       "    <tr>\n",
       "      <th>7</th>\n",
       "      <td>Modelo de redes neuronales MPL con 2 capas</td>\n",
       "      <td>0.500000</td>\n",
       "      <td>0.667122</td>\n",
       "      <td>[[0, 487], [0, 488]]</td>\n",
       "    </tr>\n",
       "  </tbody>\n",
       "</table>\n",
       "</div>"
      ],
      "text/plain": [
       "                                       Modelo   ROC_AUC  F1-Score  \\\n",
       "0                        KNeighborsClassifier  1.000000  1.000000   \n",
       "1                              LGBMClassifier  0.911822  0.909474   \n",
       "2                          CatBoostClassifier  0.901593  0.896104   \n",
       "3                                     XGBoost  0.896453  0.891979   \n",
       "4                      RandomForestClassifier  0.882111  0.874864   \n",
       "5                      DecisionTreeClassifier  0.763158  0.743048   \n",
       "6                          LogisticRegression  0.736417  0.734778   \n",
       "7  Modelo de redes neuronales MPL con 2 capas  0.500000  0.667122   \n",
       "\n",
       "        Matriz de Confusión  \n",
       "0      [[487, 0], [0, 488]]  \n",
       "1    [[457, 30], [56, 432]]  \n",
       "2    [[465, 22], [74, 414]]  \n",
       "3    [[457, 30], [71, 417]]  \n",
       "4    [[458, 29], [86, 402]]  \n",
       "5   [[410, 77], [154, 334]]  \n",
       "6  [[362, 125], [132, 356]]  \n",
       "7      [[0, 487], [0, 488]]  "
      ]
     },
     "execution_count": 84,
     "metadata": {},
     "output_type": "execute_result"
    }
   ],
   "source": [
    "#Create a DataFrame with the results\n",
    "df_resultados = pd.DataFrame(resultados_ordenados, columns=['Modelo', 'ROC_AUC', 'F1-Score', 'Matriz de Confusión'])\n",
    "df_resultados"
   ]
  },
  {
   "cell_type": "markdown",
   "metadata": {},
   "source": [
    "We can observe that the KneightSclassifier model is adjusted since it shows Roc_auc Metric values: 1.0, F1 Score: 1.0, Train Accuracy: 1.0 and Test Accuracy: 1.0. So we will select the following model that is that of LGBMClassifier to make the predictions."
   ]
  },
  {
   "cell_type": "code",
   "execution_count": 92,
   "metadata": {},
   "outputs": [],
   "source": [
    "#Create a dataframe with just the Active users\n",
    "just_actives = df[df['Active']==1]"
   ]
  },
  {
   "cell_type": "code",
   "execution_count": 93,
   "metadata": {},
   "outputs": [
    {
     "name": "stderr",
     "output_type": "stream",
     "text": [
      "/var/folders/zz/1lh114c55jj9tjb2vztk4z340000gq/T/ipykernel_2266/1072388614.py:2: SettingWithCopyWarning: \n",
      "A value is trying to be set on a copy of a slice from a DataFrame.\n",
      "Try using .loc[row_indexer,col_indexer] = value instead\n",
      "\n",
      "See the caveats in the documentation: https://pandas.pydata.org/pandas-docs/stable/user_guide/indexing.html#returning-a-view-versus-a-copy\n",
      "  just_actives['predicted'] = best_model_lgbm.predict(features)\n"
     ]
    },
    {
     "data": {
      "text/html": [
       "<div>\n",
       "<style scoped>\n",
       "    .dataframe tbody tr th:only-of-type {\n",
       "        vertical-align: middle;\n",
       "    }\n",
       "\n",
       "    .dataframe tbody tr th {\n",
       "        vertical-align: top;\n",
       "    }\n",
       "\n",
       "    .dataframe thead th {\n",
       "        text-align: right;\n",
       "    }\n",
       "</style>\n",
       "<table border=\"1\" class=\"dataframe\">\n",
       "  <thead>\n",
       "    <tr style=\"text-align: right;\">\n",
       "      <th></th>\n",
       "      <th>PaperlessBilling</th>\n",
       "      <th>PaymentMethod</th>\n",
       "      <th>SeniorCitizen</th>\n",
       "      <th>Partner</th>\n",
       "      <th>Dependents</th>\n",
       "      <th>OnlineSecurity</th>\n",
       "      <th>OnlineBackup</th>\n",
       "      <th>DeviceProtection</th>\n",
       "      <th>TechSupport</th>\n",
       "      <th>StreamingTV</th>\n",
       "      <th>...</th>\n",
       "      <th>Active</th>\n",
       "      <th>annual_charge</th>\n",
       "      <th>Monthly</th>\n",
       "      <th>One year</th>\n",
       "      <th>Two year</th>\n",
       "      <th>Female</th>\n",
       "      <th>Male</th>\n",
       "      <th>DSL</th>\n",
       "      <th>Fiber optic</th>\n",
       "      <th>predicted</th>\n",
       "    </tr>\n",
       "    <tr>\n",
       "      <th>customerID</th>\n",
       "      <th></th>\n",
       "      <th></th>\n",
       "      <th></th>\n",
       "      <th></th>\n",
       "      <th></th>\n",
       "      <th></th>\n",
       "      <th></th>\n",
       "      <th></th>\n",
       "      <th></th>\n",
       "      <th></th>\n",
       "      <th></th>\n",
       "      <th></th>\n",
       "      <th></th>\n",
       "      <th></th>\n",
       "      <th></th>\n",
       "      <th></th>\n",
       "      <th></th>\n",
       "      <th></th>\n",
       "      <th></th>\n",
       "      <th></th>\n",
       "      <th></th>\n",
       "    </tr>\n",
       "  </thead>\n",
       "  <tbody>\n",
       "    <tr>\n",
       "      <th>5575-GNVDE</th>\n",
       "      <td>0</td>\n",
       "      <td>1</td>\n",
       "      <td>0</td>\n",
       "      <td>0</td>\n",
       "      <td>0</td>\n",
       "      <td>1</td>\n",
       "      <td>0</td>\n",
       "      <td>1</td>\n",
       "      <td>0</td>\n",
       "      <td>0</td>\n",
       "      <td>...</td>\n",
       "      <td>1</td>\n",
       "      <td>1889.50</td>\n",
       "      <td>False</td>\n",
       "      <td>True</td>\n",
       "      <td>False</td>\n",
       "      <td>False</td>\n",
       "      <td>True</td>\n",
       "      <td>True</td>\n",
       "      <td>False</td>\n",
       "      <td>1</td>\n",
       "    </tr>\n",
       "    <tr>\n",
       "      <th>1452-KIOVK</th>\n",
       "      <td>1</td>\n",
       "      <td>3</td>\n",
       "      <td>0</td>\n",
       "      <td>0</td>\n",
       "      <td>1</td>\n",
       "      <td>0</td>\n",
       "      <td>1</td>\n",
       "      <td>0</td>\n",
       "      <td>0</td>\n",
       "      <td>1</td>\n",
       "      <td>...</td>\n",
       "      <td>1</td>\n",
       "      <td>1949.40</td>\n",
       "      <td>True</td>\n",
       "      <td>False</td>\n",
       "      <td>False</td>\n",
       "      <td>False</td>\n",
       "      <td>True</td>\n",
       "      <td>False</td>\n",
       "      <td>True</td>\n",
       "      <td>0</td>\n",
       "    </tr>\n",
       "    <tr>\n",
       "      <th>6388-TABGU</th>\n",
       "      <td>0</td>\n",
       "      <td>4</td>\n",
       "      <td>0</td>\n",
       "      <td>0</td>\n",
       "      <td>1</td>\n",
       "      <td>1</td>\n",
       "      <td>1</td>\n",
       "      <td>0</td>\n",
       "      <td>0</td>\n",
       "      <td>0</td>\n",
       "      <td>...</td>\n",
       "      <td>1</td>\n",
       "      <td>3487.95</td>\n",
       "      <td>False</td>\n",
       "      <td>True</td>\n",
       "      <td>False</td>\n",
       "      <td>False</td>\n",
       "      <td>True</td>\n",
       "      <td>True</td>\n",
       "      <td>False</td>\n",
       "      <td>1</td>\n",
       "    </tr>\n",
       "    <tr>\n",
       "      <th>9763-GRSKD</th>\n",
       "      <td>1</td>\n",
       "      <td>1</td>\n",
       "      <td>0</td>\n",
       "      <td>1</td>\n",
       "      <td>1</td>\n",
       "      <td>1</td>\n",
       "      <td>0</td>\n",
       "      <td>0</td>\n",
       "      <td>0</td>\n",
       "      <td>0</td>\n",
       "      <td>...</td>\n",
       "      <td>1</td>\n",
       "      <td>587.45</td>\n",
       "      <td>True</td>\n",
       "      <td>False</td>\n",
       "      <td>False</td>\n",
       "      <td>False</td>\n",
       "      <td>True</td>\n",
       "      <td>True</td>\n",
       "      <td>False</td>\n",
       "      <td>1</td>\n",
       "    </tr>\n",
       "    <tr>\n",
       "      <th>8091-TTVAX</th>\n",
       "      <td>0</td>\n",
       "      <td>3</td>\n",
       "      <td>0</td>\n",
       "      <td>1</td>\n",
       "      <td>0</td>\n",
       "      <td>0</td>\n",
       "      <td>0</td>\n",
       "      <td>1</td>\n",
       "      <td>0</td>\n",
       "      <td>1</td>\n",
       "      <td>...</td>\n",
       "      <td>1</td>\n",
       "      <td>5681.10</td>\n",
       "      <td>False</td>\n",
       "      <td>True</td>\n",
       "      <td>False</td>\n",
       "      <td>False</td>\n",
       "      <td>True</td>\n",
       "      <td>False</td>\n",
       "      <td>True</td>\n",
       "      <td>1</td>\n",
       "    </tr>\n",
       "    <tr>\n",
       "      <th>...</th>\n",
       "      <td>...</td>\n",
       "      <td>...</td>\n",
       "      <td>...</td>\n",
       "      <td>...</td>\n",
       "      <td>...</td>\n",
       "      <td>...</td>\n",
       "      <td>...</td>\n",
       "      <td>...</td>\n",
       "      <td>...</td>\n",
       "      <td>...</td>\n",
       "      <td>...</td>\n",
       "      <td>...</td>\n",
       "      <td>...</td>\n",
       "      <td>...</td>\n",
       "      <td>...</td>\n",
       "      <td>...</td>\n",
       "      <td>...</td>\n",
       "      <td>...</td>\n",
       "      <td>...</td>\n",
       "      <td>...</td>\n",
       "      <td>...</td>\n",
       "    </tr>\n",
       "    <tr>\n",
       "      <th>9767-FFLEM</th>\n",
       "      <td>1</td>\n",
       "      <td>3</td>\n",
       "      <td>0</td>\n",
       "      <td>0</td>\n",
       "      <td>0</td>\n",
       "      <td>0</td>\n",
       "      <td>0</td>\n",
       "      <td>0</td>\n",
       "      <td>0</td>\n",
       "      <td>0</td>\n",
       "      <td>...</td>\n",
       "      <td>1</td>\n",
       "      <td>2625.25</td>\n",
       "      <td>True</td>\n",
       "      <td>False</td>\n",
       "      <td>False</td>\n",
       "      <td>False</td>\n",
       "      <td>True</td>\n",
       "      <td>False</td>\n",
       "      <td>True</td>\n",
       "      <td>1</td>\n",
       "    </tr>\n",
       "    <tr>\n",
       "      <th>8456-QDAVC</th>\n",
       "      <td>1</td>\n",
       "      <td>4</td>\n",
       "      <td>0</td>\n",
       "      <td>0</td>\n",
       "      <td>0</td>\n",
       "      <td>0</td>\n",
       "      <td>0</td>\n",
       "      <td>0</td>\n",
       "      <td>0</td>\n",
       "      <td>1</td>\n",
       "      <td>...</td>\n",
       "      <td>1</td>\n",
       "      <td>1495.10</td>\n",
       "      <td>True</td>\n",
       "      <td>False</td>\n",
       "      <td>False</td>\n",
       "      <td>False</td>\n",
       "      <td>True</td>\n",
       "      <td>False</td>\n",
       "      <td>True</td>\n",
       "      <td>0</td>\n",
       "    </tr>\n",
       "    <tr>\n",
       "      <th>6840-RESVB</th>\n",
       "      <td>1</td>\n",
       "      <td>1</td>\n",
       "      <td>0</td>\n",
       "      <td>1</td>\n",
       "      <td>1</td>\n",
       "      <td>1</td>\n",
       "      <td>0</td>\n",
       "      <td>1</td>\n",
       "      <td>1</td>\n",
       "      <td>1</td>\n",
       "      <td>...</td>\n",
       "      <td>1</td>\n",
       "      <td>1990.50</td>\n",
       "      <td>False</td>\n",
       "      <td>True</td>\n",
       "      <td>False</td>\n",
       "      <td>False</td>\n",
       "      <td>True</td>\n",
       "      <td>True</td>\n",
       "      <td>False</td>\n",
       "      <td>1</td>\n",
       "    </tr>\n",
       "    <tr>\n",
       "      <th>2234-XADUH</th>\n",
       "      <td>1</td>\n",
       "      <td>3</td>\n",
       "      <td>0</td>\n",
       "      <td>1</td>\n",
       "      <td>1</td>\n",
       "      <td>0</td>\n",
       "      <td>1</td>\n",
       "      <td>1</td>\n",
       "      <td>0</td>\n",
       "      <td>1</td>\n",
       "      <td>...</td>\n",
       "      <td>1</td>\n",
       "      <td>7362.90</td>\n",
       "      <td>False</td>\n",
       "      <td>True</td>\n",
       "      <td>False</td>\n",
       "      <td>True</td>\n",
       "      <td>False</td>\n",
       "      <td>False</td>\n",
       "      <td>True</td>\n",
       "      <td>1</td>\n",
       "    </tr>\n",
       "    <tr>\n",
       "      <th>3186-AJIEK</th>\n",
       "      <td>1</td>\n",
       "      <td>4</td>\n",
       "      <td>0</td>\n",
       "      <td>0</td>\n",
       "      <td>0</td>\n",
       "      <td>1</td>\n",
       "      <td>0</td>\n",
       "      <td>1</td>\n",
       "      <td>1</td>\n",
       "      <td>1</td>\n",
       "      <td>...</td>\n",
       "      <td>1</td>\n",
       "      <td>6844.50</td>\n",
       "      <td>False</td>\n",
       "      <td>False</td>\n",
       "      <td>True</td>\n",
       "      <td>False</td>\n",
       "      <td>True</td>\n",
       "      <td>False</td>\n",
       "      <td>True</td>\n",
       "      <td>0</td>\n",
       "    </tr>\n",
       "  </tbody>\n",
       "</table>\n",
       "<p>3249 rows × 22 columns</p>\n",
       "</div>"
      ],
      "text/plain": [
       "            PaperlessBilling  PaymentMethod  SeniorCitizen  Partner  \\\n",
       "customerID                                                            \n",
       "5575-GNVDE                 0              1              0        0   \n",
       "1452-KIOVK                 1              3              0        0   \n",
       "6388-TABGU                 0              4              0        0   \n",
       "9763-GRSKD                 1              1              0        1   \n",
       "8091-TTVAX                 0              3              0        1   \n",
       "...                      ...            ...            ...      ...   \n",
       "9767-FFLEM                 1              3              0        0   \n",
       "8456-QDAVC                 1              4              0        0   \n",
       "6840-RESVB                 1              1              0        1   \n",
       "2234-XADUH                 1              3              0        1   \n",
       "3186-AJIEK                 1              4              0        0   \n",
       "\n",
       "            Dependents  OnlineSecurity  OnlineBackup  DeviceProtection  \\\n",
       "customerID                                                               \n",
       "5575-GNVDE           0               1             0                 1   \n",
       "1452-KIOVK           1               0             1                 0   \n",
       "6388-TABGU           1               1             1                 0   \n",
       "9763-GRSKD           1               1             0                 0   \n",
       "8091-TTVAX           0               0             0                 1   \n",
       "...                ...             ...           ...               ...   \n",
       "9767-FFLEM           0               0             0                 0   \n",
       "8456-QDAVC           0               0             0                 0   \n",
       "6840-RESVB           1               1             0                 1   \n",
       "2234-XADUH           1               0             1                 1   \n",
       "3186-AJIEK           0               1             0                 1   \n",
       "\n",
       "            TechSupport  StreamingTV  ...  Active  annual_charge  Monthly  \\\n",
       "customerID                            ...                                   \n",
       "5575-GNVDE            0            0  ...       1        1889.50    False   \n",
       "1452-KIOVK            0            1  ...       1        1949.40     True   \n",
       "6388-TABGU            0            0  ...       1        3487.95    False   \n",
       "9763-GRSKD            0            0  ...       1         587.45     True   \n",
       "8091-TTVAX            0            1  ...       1        5681.10    False   \n",
       "...                 ...          ...  ...     ...            ...      ...   \n",
       "9767-FFLEM            0            0  ...       1        2625.25     True   \n",
       "8456-QDAVC            0            1  ...       1        1495.10     True   \n",
       "6840-RESVB            1            1  ...       1        1990.50    False   \n",
       "2234-XADUH            0            1  ...       1        7362.90    False   \n",
       "3186-AJIEK            1            1  ...       1        6844.50    False   \n",
       "\n",
       "            One year  Two year  Female   Male    DSL  Fiber optic  predicted  \n",
       "customerID                                                                    \n",
       "5575-GNVDE      True     False   False   True   True        False          1  \n",
       "1452-KIOVK     False     False   False   True  False         True          0  \n",
       "6388-TABGU      True     False   False   True   True        False          1  \n",
       "9763-GRSKD     False     False   False   True   True        False          1  \n",
       "8091-TTVAX      True     False   False   True  False         True          1  \n",
       "...              ...       ...     ...    ...    ...          ...        ...  \n",
       "9767-FFLEM     False     False   False   True  False         True          1  \n",
       "8456-QDAVC     False     False   False   True  False         True          0  \n",
       "6840-RESVB      True     False   False   True   True        False          1  \n",
       "2234-XADUH      True     False    True  False  False         True          1  \n",
       "3186-AJIEK     False      True   False   True  False         True          0  \n",
       "\n",
       "[3249 rows x 22 columns]"
      ]
     },
     "execution_count": 93,
     "metadata": {},
     "output_type": "execute_result"
    }
   ],
   "source": [
    "#Make predictions with the active users only\n",
    "features = just_actives.drop(columns=['Active'],axis=1)\n",
    "just_actives['predicted'] = best_model_lgbm.predict(features)\n",
    "just_actives\n"
   ]
  },
  {
   "cell_type": "code",
   "execution_count": 94,
   "metadata": {},
   "outputs": [],
   "source": [
    "#Change the format\n",
    "for index, row in just_actives.iterrows():\n",
    "    if row['predicted'] == 1:\n",
    "        just_actives.loc[index, 'predicted'] = 'Yes'\n",
    "    elif row['predicted'] == 0:\n",
    "        just_actives.loc[index, 'predicted'] = 'No'\n"
   ]
  },
  {
   "cell_type": "code",
   "execution_count": 95,
   "metadata": {},
   "outputs": [],
   "source": [
    "#DataFrame with the predictions\n",
    "df_unified = df_unified.reset_index()\n",
    "final_df =just_actives.reset_index()\n",
    "final_df = final_df[['customerID','Active','predicted']]\n",
    "final_df = final_df.merge(df_unified, on= 'customerID')"
   ]
  },
  {
   "cell_type": "code",
   "execution_count": 96,
   "metadata": {},
   "outputs": [
    {
     "data": {
      "text/plain": [
       "Index(['customerID', 'Active_x', 'predicted', 'level_0', 'index', 'BeginDate',\n",
       "       'EndDate', 'Type', 'PaperlessBilling', 'PaymentMethod',\n",
       "       'MonthlyCharges', 'TotalCharges', 'gender', 'SeniorCitizen', 'Partner',\n",
       "       'Dependents', 'InternetService', 'OnlineSecurity', 'OnlineBackup',\n",
       "       'DeviceProtection', 'TechSupport', 'StreamingTV', 'StreamingMovies',\n",
       "       'MultipleLines', 'Active_y', 'annual_charge'],\n",
       "      dtype='object')"
      ]
     },
     "execution_count": 96,
     "metadata": {},
     "output_type": "execute_result"
    }
   ],
   "source": [
    "final_df.columns"
   ]
  },
  {
   "cell_type": "code",
   "execution_count": 97,
   "metadata": {},
   "outputs": [
    {
     "data": {
      "text/html": [
       "<div>\n",
       "<style scoped>\n",
       "    .dataframe tbody tr th:only-of-type {\n",
       "        vertical-align: middle;\n",
       "    }\n",
       "\n",
       "    .dataframe tbody tr th {\n",
       "        vertical-align: top;\n",
       "    }\n",
       "\n",
       "    .dataframe thead th {\n",
       "        text-align: right;\n",
       "    }\n",
       "</style>\n",
       "<table border=\"1\" class=\"dataframe\">\n",
       "  <thead>\n",
       "    <tr style=\"text-align: right;\">\n",
       "      <th></th>\n",
       "      <th>customerID</th>\n",
       "      <th>gender</th>\n",
       "      <th>Active_y</th>\n",
       "      <th>predicted</th>\n",
       "    </tr>\n",
       "  </thead>\n",
       "  <tbody>\n",
       "    <tr>\n",
       "      <th>0</th>\n",
       "      <td>5575-GNVDE</td>\n",
       "      <td>Male</td>\n",
       "      <td>Yes</td>\n",
       "      <td>Yes</td>\n",
       "    </tr>\n",
       "    <tr>\n",
       "      <th>1</th>\n",
       "      <td>1452-KIOVK</td>\n",
       "      <td>Male</td>\n",
       "      <td>Yes</td>\n",
       "      <td>No</td>\n",
       "    </tr>\n",
       "    <tr>\n",
       "      <th>2</th>\n",
       "      <td>6388-TABGU</td>\n",
       "      <td>Male</td>\n",
       "      <td>Yes</td>\n",
       "      <td>Yes</td>\n",
       "    </tr>\n",
       "    <tr>\n",
       "      <th>3</th>\n",
       "      <td>9763-GRSKD</td>\n",
       "      <td>Male</td>\n",
       "      <td>Yes</td>\n",
       "      <td>Yes</td>\n",
       "    </tr>\n",
       "    <tr>\n",
       "      <th>4</th>\n",
       "      <td>8091-TTVAX</td>\n",
       "      <td>Male</td>\n",
       "      <td>Yes</td>\n",
       "      <td>Yes</td>\n",
       "    </tr>\n",
       "    <tr>\n",
       "      <th>...</th>\n",
       "      <td>...</td>\n",
       "      <td>...</td>\n",
       "      <td>...</td>\n",
       "      <td>...</td>\n",
       "    </tr>\n",
       "    <tr>\n",
       "      <th>3244</th>\n",
       "      <td>9767-FFLEM</td>\n",
       "      <td>Male</td>\n",
       "      <td>Yes</td>\n",
       "      <td>Yes</td>\n",
       "    </tr>\n",
       "    <tr>\n",
       "      <th>3245</th>\n",
       "      <td>8456-QDAVC</td>\n",
       "      <td>Male</td>\n",
       "      <td>Yes</td>\n",
       "      <td>No</td>\n",
       "    </tr>\n",
       "    <tr>\n",
       "      <th>3246</th>\n",
       "      <td>6840-RESVB</td>\n",
       "      <td>Male</td>\n",
       "      <td>Yes</td>\n",
       "      <td>Yes</td>\n",
       "    </tr>\n",
       "    <tr>\n",
       "      <th>3247</th>\n",
       "      <td>2234-XADUH</td>\n",
       "      <td>Female</td>\n",
       "      <td>Yes</td>\n",
       "      <td>Yes</td>\n",
       "    </tr>\n",
       "    <tr>\n",
       "      <th>3248</th>\n",
       "      <td>3186-AJIEK</td>\n",
       "      <td>Male</td>\n",
       "      <td>Yes</td>\n",
       "      <td>No</td>\n",
       "    </tr>\n",
       "  </tbody>\n",
       "</table>\n",
       "<p>3249 rows × 4 columns</p>\n",
       "</div>"
      ],
      "text/plain": [
       "      customerID  gender Active_y predicted\n",
       "0     5575-GNVDE    Male      Yes       Yes\n",
       "1     1452-KIOVK    Male      Yes        No\n",
       "2     6388-TABGU    Male      Yes       Yes\n",
       "3     9763-GRSKD    Male      Yes       Yes\n",
       "4     8091-TTVAX    Male      Yes       Yes\n",
       "...          ...     ...      ...       ...\n",
       "3244  9767-FFLEM    Male      Yes       Yes\n",
       "3245  8456-QDAVC    Male      Yes        No\n",
       "3246  6840-RESVB    Male      Yes       Yes\n",
       "3247  2234-XADUH  Female      Yes       Yes\n",
       "3248  3186-AJIEK    Male      Yes        No\n",
       "\n",
       "[3249 rows x 4 columns]"
      ]
     },
     "execution_count": 97,
     "metadata": {},
     "output_type": "execute_result"
    }
   ],
   "source": [
    "final = final_df[['customerID','gender','Active_y','predicted']]\n",
    "final"
   ]
  },
  {
   "cell_type": "code",
   "execution_count": 98,
   "metadata": {},
   "outputs": [],
   "source": [
    "counts = final.groupby('gender')['predicted'].count().reset_index()"
   ]
  },
  {
   "cell_type": "code",
   "execution_count": 99,
   "metadata": {},
   "outputs": [],
   "source": [
    "counts = final.groupby('predicted').count().reset_index()"
   ]
  },
  {
   "cell_type": "code",
   "execution_count": 100,
   "metadata": {},
   "outputs": [
    {
     "data": {
      "text/html": [
       "<div>\n",
       "<style scoped>\n",
       "    .dataframe tbody tr th:only-of-type {\n",
       "        vertical-align: middle;\n",
       "    }\n",
       "\n",
       "    .dataframe tbody tr th {\n",
       "        vertical-align: top;\n",
       "    }\n",
       "\n",
       "    .dataframe thead th {\n",
       "        text-align: right;\n",
       "    }\n",
       "</style>\n",
       "<table border=\"1\" class=\"dataframe\">\n",
       "  <thead>\n",
       "    <tr style=\"text-align: right;\">\n",
       "      <th></th>\n",
       "      <th>predicted</th>\n",
       "      <th>customerID</th>\n",
       "      <th>gender</th>\n",
       "      <th>Active_y</th>\n",
       "    </tr>\n",
       "  </thead>\n",
       "  <tbody>\n",
       "    <tr>\n",
       "      <th>0</th>\n",
       "      <td>No</td>\n",
       "      <td>736</td>\n",
       "      <td>736</td>\n",
       "      <td>736</td>\n",
       "    </tr>\n",
       "    <tr>\n",
       "      <th>1</th>\n",
       "      <td>Yes</td>\n",
       "      <td>2513</td>\n",
       "      <td>2513</td>\n",
       "      <td>2513</td>\n",
       "    </tr>\n",
       "  </tbody>\n",
       "</table>\n",
       "</div>"
      ],
      "text/plain": [
       "  predicted  customerID  gender  Active_y\n",
       "0        No         736     736       736\n",
       "1       Yes        2513    2513      2513"
      ]
     },
     "execution_count": 100,
     "metadata": {},
     "output_type": "execute_result"
    }
   ],
   "source": [
    "counts"
   ]
  },
  {
   "cell_type": "code",
   "execution_count": null,
   "metadata": {},
   "outputs": [],
   "source": [
    "#Create the bar chart\n",
    "plt.figure(figsize=(8, 6))\n",
    "ax = plt.bar(counts['predicted'], counts['customerID'])\n",
    "\n",
    "#Add data labels to each bar\n",
    "for p in ax.patches:\n",
    "    plt.annotate(f'{p.get_height()}', (p.get_x() + p.get_width() / 2., p.get_height()), \n",
    "                ha='center', va='bottom')\n",
    "\n",
    "plt.title('Predicciones por cliente activo')\n",
    "plt.xlabel('Abandono del servicio')\n",
    "plt.ylabel('Cantidad de clientes')\n",
    "plt.show()"
   ]
  },
  {
   "cell_type": "markdown",
   "metadata": {},
   "source": [
    "## Conclusions of the Interconnect customer cancellation prediction project\n",
    "The main objective of this project was to develop a Machine Learning model capable of predicting the probability that an Interconnect client will cancel its services. This would allow company marketing team to offer promotional codes and special plans to customers at risk of cancellation, in order to retain them and reduce the cancellation rate.\n",
    "\n",
    "### Results\n",
    "After an exhaustive exploratory analysis of the data and a rigorous preprocessing process, various classification models were evaluated to identify the best adapt to the data and comply with the established evaluation criteria. The evaluated models were:\n",
    "\n",
    "KneightClassifier\n",
    "LGBMClassifier\n",
    "Catboostclassifier\n",
    "XGBOOST\n",
    "Randomforestclassifier\n",
    "DecisiTreeclassifier\n",
    "Logisticregresion\n",
    "MPL neural networks with 2 layers\n",
    "\n",
    "### Predictions\n",
    "Using the LGBMClassifier model, it was predicted that 736 users will not abandon the service and 2513 will.\n",
    "\n",
    "### Conclusions\n",
    "\n",
    "-A Machine Learning model has been developed capable of predicting the probability that an Interconnect client will cancel its services with a good level of precision (AUC-ROC of 0.911822).\n",
    "-The LGBMClassifier model was selected as the most suitable for predictions due to its balance between performance and generalization.\n",
    "The predictions made suggest that a significant number of customers (2513) could leave the service in the near future.\n",
    "\n",
    "### Recommendations\n",
    "\n",
    "-It is essential that Interconnect's marketing equipment uses this model to identify customers at risk of cancellation and offer them promotional codes and special plans in a timely manner.\n",
    "-It is recommended to carry out continuous monitoring of the model performance and update it periodically with new data to guarantee its precision and efficiency over time.\n",
    "-It would be interesting to explore the possibility of including other variables in the model, such as demographic data or information on the use of services, to further improve their predictive capacity."
   ]
  },
  {
   "cell_type": "markdown",
   "metadata": {},
   "source": []
  },
  {
   "cell_type": "code",
   "execution_count": null,
   "metadata": {},
   "outputs": [],
   "source": []
  },
  {
   "cell_type": "code",
   "execution_count": null,
   "metadata": {},
   "outputs": [],
   "source": []
  }
 ],
 "metadata": {
  "ExecuteTimeLog": [
   {
    "duration": 5030,
    "start_time": "2025-01-28T22:52:12.627Z"
   },
   {
    "duration": 5,
    "start_time": "2025-01-28T22:52:31.634Z"
   },
   {
    "duration": 4,
    "start_time": "2025-01-28T22:52:38.490Z"
   },
   {
    "duration": 958,
    "start_time": "2025-01-28T22:57:01.935Z"
   },
   {
    "duration": 26,
    "start_time": "2025-01-28T23:00:23.630Z"
   },
   {
    "duration": 49,
    "start_time": "2025-01-28T23:02:16.202Z"
   },
   {
    "duration": 11,
    "start_time": "2025-01-28T23:05:54.563Z"
   },
   {
    "duration": 2,
    "start_time": "2025-01-28T23:06:42.761Z"
   },
   {
    "duration": 12,
    "start_time": "2025-01-28T23:06:57.214Z"
   },
   {
    "duration": 10,
    "start_time": "2025-01-28T23:10:03.472Z"
   },
   {
    "duration": 11,
    "start_time": "2025-01-28T23:10:33.090Z"
   },
   {
    "duration": 5,
    "start_time": "2025-01-28T23:12:59.718Z"
   },
   {
    "duration": 16,
    "start_time": "2025-01-28T23:16:16.273Z"
   },
   {
    "duration": 682,
    "start_time": "2025-01-28T23:20:26.167Z"
   },
   {
    "duration": 6,
    "start_time": "2025-01-28T23:22:48.139Z"
   },
   {
    "duration": 156,
    "start_time": "2025-01-29T14:54:16.817Z"
   },
   {
    "duration": 4896,
    "start_time": "2025-01-29T14:54:28.469Z"
   },
   {
    "duration": 60,
    "start_time": "2025-01-29T14:54:33.367Z"
   },
   {
    "duration": 7,
    "start_time": "2025-01-29T14:54:35.972Z"
   },
   {
    "duration": 6,
    "start_time": "2025-01-29T14:54:40.395Z"
   },
   {
    "duration": 5,
    "start_time": "2025-01-29T14:56:17.043Z"
   },
   {
    "duration": 1020,
    "start_time": "2025-01-29T14:56:21.406Z"
   },
   {
    "duration": 7,
    "start_time": "2025-01-29T14:56:42.542Z"
   },
   {
    "duration": 58,
    "start_time": "2025-01-29T14:56:46.540Z"
   },
   {
    "duration": 7,
    "start_time": "2025-01-29T14:57:25.369Z"
   },
   {
    "duration": 22,
    "start_time": "2025-01-29T14:57:35.393Z"
   },
   {
    "duration": 16,
    "start_time": "2025-01-29T14:58:33.620Z"
   },
   {
    "duration": 9,
    "start_time": "2025-01-29T14:59:41.775Z"
   },
   {
    "duration": 8,
    "start_time": "2025-01-29T15:00:22.824Z"
   },
   {
    "duration": 10,
    "start_time": "2025-01-29T15:02:14.822Z"
   },
   {
    "duration": 9,
    "start_time": "2025-01-29T15:05:21.895Z"
   },
   {
    "duration": 9,
    "start_time": "2025-01-29T15:05:51.680Z"
   },
   {
    "duration": 22,
    "start_time": "2025-01-29T15:06:14.322Z"
   },
   {
    "duration": 6,
    "start_time": "2025-01-29T15:10:49.117Z"
   },
   {
    "duration": 9,
    "start_time": "2025-01-29T15:11:04.547Z"
   },
   {
    "duration": 21,
    "start_time": "2025-01-29T15:11:55.938Z"
   },
   {
    "duration": 18,
    "start_time": "2025-01-29T15:18:23.335Z"
   },
   {
    "duration": 10,
    "start_time": "2025-01-29T15:18:37.771Z"
   },
   {
    "duration": 4,
    "start_time": "2025-01-29T15:18:41.675Z"
   },
   {
    "duration": 33,
    "start_time": "2025-01-29T15:18:41.681Z"
   },
   {
    "duration": 10,
    "start_time": "2025-01-29T15:18:41.716Z"
   },
   {
    "duration": 10,
    "start_time": "2025-01-29T15:18:41.728Z"
   },
   {
    "duration": 21,
    "start_time": "2025-01-29T15:18:41.740Z"
   },
   {
    "duration": 16,
    "start_time": "2025-01-29T15:18:41.763Z"
   },
   {
    "duration": 51,
    "start_time": "2025-01-29T15:18:41.781Z"
   },
   {
    "duration": 0,
    "start_time": "2025-01-29T15:18:41.834Z"
   },
   {
    "duration": 0,
    "start_time": "2025-01-29T15:18:41.835Z"
   },
   {
    "duration": 0,
    "start_time": "2025-01-29T15:18:41.836Z"
   },
   {
    "duration": 0,
    "start_time": "2025-01-29T15:18:41.837Z"
   },
   {
    "duration": 0,
    "start_time": "2025-01-29T15:18:41.838Z"
   },
   {
    "duration": 0,
    "start_time": "2025-01-29T15:18:41.840Z"
   },
   {
    "duration": 0,
    "start_time": "2025-01-29T15:18:41.841Z"
   },
   {
    "duration": 0,
    "start_time": "2025-01-29T15:18:41.842Z"
   },
   {
    "duration": 7669,
    "start_time": "2025-01-29T15:19:07.579Z"
   },
   {
    "duration": 9377,
    "start_time": "2025-01-29T15:20:18.002Z"
   },
   {
    "duration": 5,
    "start_time": "2025-01-29T15:22:52.701Z"
   },
   {
    "duration": 33,
    "start_time": "2025-01-29T15:22:52.710Z"
   },
   {
    "duration": 9,
    "start_time": "2025-01-29T15:22:52.746Z"
   },
   {
    "duration": 11,
    "start_time": "2025-01-29T15:22:52.757Z"
   },
   {
    "duration": 16,
    "start_time": "2025-01-29T15:22:52.769Z"
   },
   {
    "duration": 11,
    "start_time": "2025-01-29T15:22:52.787Z"
   },
   {
    "duration": 8115,
    "start_time": "2025-01-29T15:22:52.800Z"
   },
   {
    "duration": 7,
    "start_time": "2025-01-29T15:23:00.917Z"
   },
   {
    "duration": 9,
    "start_time": "2025-01-29T15:23:00.931Z"
   },
   {
    "duration": 8,
    "start_time": "2025-01-29T15:23:00.942Z"
   },
   {
    "duration": 8,
    "start_time": "2025-01-29T15:23:00.952Z"
   },
   {
    "duration": 22,
    "start_time": "2025-01-29T15:23:00.962Z"
   },
   {
    "duration": 5,
    "start_time": "2025-01-29T15:23:00.986Z"
   },
   {
    "duration": 44,
    "start_time": "2025-01-29T15:23:00.993Z"
   },
   {
    "duration": 22,
    "start_time": "2025-01-29T15:23:01.039Z"
   },
   {
    "duration": 9,
    "start_time": "2025-02-03T20:21:03.439Z"
   },
   {
    "duration": 4947,
    "start_time": "2025-02-03T20:21:11.588Z"
   },
   {
    "duration": 65,
    "start_time": "2025-02-03T20:21:16.538Z"
   },
   {
    "duration": 12,
    "start_time": "2025-02-03T20:21:16.605Z"
   },
   {
    "duration": 10,
    "start_time": "2025-02-03T20:21:16.620Z"
   },
   {
    "duration": 14,
    "start_time": "2025-02-03T20:21:16.631Z"
   },
   {
    "duration": 11,
    "start_time": "2025-02-03T20:21:16.647Z"
   },
   {
    "duration": 5,
    "start_time": "2025-02-03T20:21:23.228Z"
   },
   {
    "duration": 477,
    "start_time": "2025-02-03T20:21:36.054Z"
   },
   {
    "duration": 57,
    "start_time": "2025-02-03T20:22:01.305Z"
   },
   {
    "duration": 162,
    "start_time": "2025-02-03T22:47:12.558Z"
   },
   {
    "duration": 23,
    "start_time": "2025-02-03T22:47:36.668Z"
   },
   {
    "duration": 19,
    "start_time": "2025-02-03T22:48:18.472Z"
   },
   {
    "duration": 17,
    "start_time": "2025-02-03T22:55:35.814Z"
   },
   {
    "duration": 11,
    "start_time": "2025-02-03T22:58:06.478Z"
   },
   {
    "duration": 12,
    "start_time": "2025-02-03T22:58:15.099Z"
   },
   {
    "duration": 31,
    "start_time": "2025-02-03T22:58:54.559Z"
   },
   {
    "duration": 4919,
    "start_time": "2025-02-03T22:58:58.993Z"
   },
   {
    "duration": 66,
    "start_time": "2025-02-03T22:59:03.914Z"
   },
   {
    "duration": 12,
    "start_time": "2025-02-03T22:59:07.376Z"
   },
   {
    "duration": 10,
    "start_time": "2025-02-03T22:59:08.550Z"
   },
   {
    "duration": 16,
    "start_time": "2025-02-03T22:59:13.741Z"
   },
   {
    "duration": 12,
    "start_time": "2025-02-03T22:59:16.648Z"
   },
   {
    "duration": 730,
    "start_time": "2025-02-03T22:59:19.998Z"
   },
   {
    "duration": 66,
    "start_time": "2025-02-03T23:04:13.352Z"
   },
   {
    "duration": 67,
    "start_time": "2025-02-03T23:04:27.903Z"
   },
   {
    "duration": 62,
    "start_time": "2025-02-03T23:04:53.035Z"
   },
   {
    "duration": 62,
    "start_time": "2025-02-03T23:05:27.555Z"
   },
   {
    "duration": 69,
    "start_time": "2025-02-03T23:06:12.281Z"
   },
   {
    "duration": 454,
    "start_time": "2025-02-03T23:06:35.476Z"
   },
   {
    "duration": 239,
    "start_time": "2025-02-03T23:06:52.582Z"
   },
   {
    "duration": 16,
    "start_time": "2025-02-03T23:07:15.097Z"
   },
   {
    "duration": 77,
    "start_time": "2025-02-03T23:12:07.010Z"
   },
   {
    "duration": 67338,
    "start_time": "2025-02-03T23:14:16.242Z"
   },
   {
    "duration": 7,
    "start_time": "2025-02-03T23:17:34.831Z"
   },
   {
    "duration": 8,
    "start_time": "2025-02-03T23:17:55.938Z"
   },
   {
    "duration": 69148,
    "start_time": "2025-02-03T23:19:33.351Z"
   },
   {
    "duration": 6,
    "start_time": "2025-02-03T23:21:52.331Z"
   },
   {
    "duration": 5,
    "start_time": "2025-02-03T23:22:07.604Z"
   },
   {
    "duration": 6,
    "start_time": "2025-02-03T23:22:53.927Z"
   },
   {
    "duration": 23,
    "start_time": "2025-02-03T23:23:05.950Z"
   },
   {
    "duration": 25,
    "start_time": "2025-02-03T23:23:09.897Z"
   },
   {
    "duration": 8,
    "start_time": "2025-02-03T23:23:16.197Z"
   },
   {
    "duration": 2307,
    "start_time": "2025-02-03T23:24:50.567Z"
   },
   {
    "duration": 3433,
    "start_time": "2025-02-03T23:26:02.822Z"
   },
   {
    "duration": 10,
    "start_time": "2025-02-03T23:26:25.552Z"
   },
   {
    "duration": 2362,
    "start_time": "2025-02-03T23:26:38.138Z"
   },
   {
    "duration": 6,
    "start_time": "2025-02-03T23:26:43.488Z"
   },
   {
    "duration": 2229,
    "start_time": "2025-02-03T23:26:58.392Z"
   },
   {
    "duration": 2207,
    "start_time": "2025-02-03T23:27:43.319Z"
   },
   {
    "duration": 9,
    "start_time": "2025-02-03T23:27:49.745Z"
   },
   {
    "duration": 4,
    "start_time": "2025-02-03T23:28:09.745Z"
   },
   {
    "duration": 2145,
    "start_time": "2025-02-03T23:32:45.363Z"
   },
   {
    "duration": 8,
    "start_time": "2025-02-03T23:32:51.118Z"
   },
   {
    "duration": 4,
    "start_time": "2025-02-03T23:32:55.181Z"
   },
   {
    "duration": 8,
    "start_time": "2025-02-03T23:35:05.941Z"
   },
   {
    "duration": 5100,
    "start_time": "2025-02-03T23:35:21.910Z"
   },
   {
    "duration": 2402,
    "start_time": "2025-02-03T23:36:04.618Z"
   },
   {
    "duration": 2127,
    "start_time": "2025-02-03T23:36:14.711Z"
   },
   {
    "duration": 9,
    "start_time": "2025-02-03T23:36:22.778Z"
   },
   {
    "duration": 5,
    "start_time": "2025-02-03T23:36:25.788Z"
   },
   {
    "duration": 2138,
    "start_time": "2025-02-03T23:38:51.596Z"
   },
   {
    "duration": 5,
    "start_time": "2025-02-03T23:39:04.594Z"
   },
   {
    "duration": 4,
    "start_time": "2025-02-03T23:40:47.454Z"
   },
   {
    "duration": 2094,
    "start_time": "2025-02-03T23:47:10.182Z"
   },
   {
    "duration": 25,
    "start_time": "2025-02-03T23:47:20.512Z"
   },
   {
    "duration": 9,
    "start_time": "2025-02-03T23:47:34.248Z"
   },
   {
    "duration": 2127,
    "start_time": "2025-02-03T23:47:57.614Z"
   },
   {
    "duration": 1942,
    "start_time": "2025-02-03T23:48:11.037Z"
   },
   {
    "duration": 7,
    "start_time": "2025-02-03T23:48:31.336Z"
   },
   {
    "duration": 1977,
    "start_time": "2025-02-04T00:02:03.011Z"
   },
   {
    "duration": 5,
    "start_time": "2025-02-04T00:02:13.972Z"
   },
   {
    "duration": 1585,
    "start_time": "2025-02-04T00:05:07.393Z"
   },
   {
    "duration": 6,
    "start_time": "2025-02-04T00:05:10.756Z"
   },
   {
    "duration": 1890,
    "start_time": "2025-02-04T00:07:59.695Z"
   },
   {
    "duration": 5,
    "start_time": "2025-02-04T00:08:03.159Z"
   },
   {
    "duration": 70,
    "start_time": "2025-02-04T00:10:59.442Z"
   },
   {
    "duration": 5,
    "start_time": "2025-02-04T00:16:04.178Z"
   },
   {
    "duration": 8,
    "start_time": "2025-02-04T00:16:12.736Z"
   },
   {
    "duration": 1859,
    "start_time": "2025-02-04T00:16:27.751Z"
   },
   {
    "duration": 5,
    "start_time": "2025-02-04T00:16:30.961Z"
   },
   {
    "duration": 21,
    "start_time": "2025-02-04T00:18:22.420Z"
   },
   {
    "duration": 23,
    "start_time": "2025-02-04T00:19:38.107Z"
   },
   {
    "duration": 5,
    "start_time": "2025-02-04T00:19:48.829Z"
   },
   {
    "duration": 5,
    "start_time": "2025-02-04T00:19:56.060Z"
   },
   {
    "duration": 8,
    "start_time": "2025-02-04T00:27:19.373Z"
   },
   {
    "duration": 29,
    "start_time": "2025-02-04T00:31:39.605Z"
   },
   {
    "duration": 639,
    "start_time": "2025-02-04T00:32:03.327Z"
   },
   {
    "duration": 869,
    "start_time": "2025-02-04T00:33:32.005Z"
   },
   {
    "duration": 656,
    "start_time": "2025-02-04T00:33:37.037Z"
   },
   {
    "duration": 639,
    "start_time": "2025-02-04T00:33:58.436Z"
   },
   {
    "duration": 7,
    "start_time": "2025-02-04T00:39:15.490Z"
   },
   {
    "duration": 1044,
    "start_time": "2025-02-04T00:41:31.371Z"
   },
   {
    "duration": 1344,
    "start_time": "2025-02-04T00:42:20.549Z"
   },
   {
    "duration": 1687,
    "start_time": "2025-02-04T00:42:35.887Z"
   },
   {
    "duration": 5,
    "start_time": "2025-02-04T00:42:40.493Z"
   },
   {
    "duration": 9,
    "start_time": "2025-02-04T00:43:35.736Z"
   },
   {
    "duration": 13,
    "start_time": "2025-02-04T00:44:29.972Z"
   },
   {
    "duration": 631,
    "start_time": "2025-02-04T00:44:53.472Z"
   },
   {
    "duration": 1018,
    "start_time": "2025-02-04T00:45:18.463Z"
   },
   {
    "duration": 1698,
    "start_time": "2025-02-04T00:45:24.824Z"
   },
   {
    "duration": 1357,
    "start_time": "2025-02-04T00:45:45.761Z"
   },
   {
    "duration": 1639,
    "start_time": "2025-02-04T00:46:06.071Z"
   },
   {
    "duration": 1604,
    "start_time": "2025-02-04T00:46:58.554Z"
   },
   {
    "duration": 1261,
    "start_time": "2025-02-04T00:47:11.557Z"
   },
   {
    "duration": 1643,
    "start_time": "2025-02-04T00:47:15.489Z"
   },
   {
    "duration": 1663,
    "start_time": "2025-02-04T00:47:44.810Z"
   },
   {
    "duration": 1060,
    "start_time": "2025-02-04T00:48:01.088Z"
   },
   {
    "duration": 1613,
    "start_time": "2025-02-04T00:49:27.891Z"
   },
   {
    "duration": 1253,
    "start_time": "2025-02-04T00:49:58.386Z"
   },
   {
    "duration": 1624,
    "start_time": "2025-02-04T00:50:02.727Z"
   },
   {
    "duration": 1681,
    "start_time": "2025-02-04T00:50:21.242Z"
   },
   {
    "duration": 172,
    "start_time": "2025-02-04T00:57:17.776Z"
   },
   {
    "duration": 5,
    "start_time": "2025-02-04T00:58:51.741Z"
   },
   {
    "duration": 4,
    "start_time": "2025-02-04T00:59:32.891Z"
   },
   {
    "duration": 155,
    "start_time": "2025-02-04T00:59:36.881Z"
   },
   {
    "duration": 5,
    "start_time": "2025-02-04T01:02:04.791Z"
   },
   {
    "duration": 164,
    "start_time": "2025-02-04T01:02:08.086Z"
   },
   {
    "duration": 4881,
    "start_time": "2025-02-04T22:24:41.193Z"
   },
   {
    "duration": 68,
    "start_time": "2025-02-04T22:24:46.076Z"
   },
   {
    "duration": 12,
    "start_time": "2025-02-04T22:24:46.146Z"
   },
   {
    "duration": 10,
    "start_time": "2025-02-04T22:24:46.159Z"
   },
   {
    "duration": 14,
    "start_time": "2025-02-04T22:24:46.171Z"
   },
   {
    "duration": 12,
    "start_time": "2025-02-04T22:24:46.187Z"
   },
   {
    "duration": 845,
    "start_time": "2025-02-04T22:24:46.200Z"
   },
   {
    "duration": 0,
    "start_time": "2025-02-04T22:24:47.048Z"
   },
   {
    "duration": 0,
    "start_time": "2025-02-04T22:24:47.049Z"
   },
   {
    "duration": 0,
    "start_time": "2025-02-04T22:24:47.050Z"
   },
   {
    "duration": 0,
    "start_time": "2025-02-04T22:24:47.051Z"
   },
   {
    "duration": 0,
    "start_time": "2025-02-04T22:24:47.052Z"
   },
   {
    "duration": 0,
    "start_time": "2025-02-04T22:24:47.054Z"
   },
   {
    "duration": 0,
    "start_time": "2025-02-04T22:24:47.054Z"
   },
   {
    "duration": 0,
    "start_time": "2025-02-04T22:24:47.055Z"
   },
   {
    "duration": 0,
    "start_time": "2025-02-04T22:24:47.056Z"
   },
   {
    "duration": 0,
    "start_time": "2025-02-04T22:24:47.057Z"
   },
   {
    "duration": 8,
    "start_time": "2025-02-04T22:37:19.258Z"
   },
   {
    "duration": 1678,
    "start_time": "2025-02-04T22:37:35.712Z"
   },
   {
    "duration": 166,
    "start_time": "2025-02-04T22:38:17.176Z"
   },
   {
    "duration": 652,
    "start_time": "2025-02-04T22:38:22.646Z"
   },
   {
    "duration": 151,
    "start_time": "2025-02-04T22:39:15.245Z"
   },
   {
    "duration": 133,
    "start_time": "2025-02-04T22:39:49.857Z"
   },
   {
    "duration": 135,
    "start_time": "2025-02-04T22:40:16.667Z"
   },
   {
    "duration": 157,
    "start_time": "2025-02-04T22:40:22.156Z"
   },
   {
    "duration": 7,
    "start_time": "2025-02-04T22:40:29.188Z"
   },
   {
    "duration": 8,
    "start_time": "2025-02-04T23:01:50.346Z"
   },
   {
    "duration": 7,
    "start_time": "2025-02-04T23:02:07.728Z"
   },
   {
    "duration": 9,
    "start_time": "2025-02-04T23:05:16.422Z"
   },
   {
    "duration": 9,
    "start_time": "2025-02-04T23:05:36.560Z"
   },
   {
    "duration": 9,
    "start_time": "2025-02-04T23:05:39.189Z"
   },
   {
    "duration": 22,
    "start_time": "2025-02-04T23:05:52.059Z"
   },
   {
    "duration": 6,
    "start_time": "2025-02-04T23:05:56.472Z"
   },
   {
    "duration": 9,
    "start_time": "2025-02-04T23:05:58.899Z"
   },
   {
    "duration": 21,
    "start_time": "2025-02-04T23:06:00.900Z"
   },
   {
    "duration": 9,
    "start_time": "2025-02-04T23:07:19.211Z"
   },
   {
    "duration": 17,
    "start_time": "2025-02-04T23:11:23.602Z"
   },
   {
    "duration": 30,
    "start_time": "2025-02-04T23:13:27.243Z"
   },
   {
    "duration": 13,
    "start_time": "2025-02-04T23:17:08.583Z"
   },
   {
    "duration": 3,
    "start_time": "2025-02-04T23:29:46.376Z"
   },
   {
    "duration": 61,
    "start_time": "2025-02-04T23:30:14.991Z"
   },
   {
    "duration": 4,
    "start_time": "2025-02-04T23:40:55.858Z"
   },
   {
    "duration": 2846,
    "start_time": "2025-02-04T23:40:59.121Z"
   },
   {
    "duration": 609,
    "start_time": "2025-02-04T23:41:07.192Z"
   },
   {
    "duration": 4,
    "start_time": "2025-02-04T23:41:30.275Z"
   },
   {
    "duration": 801,
    "start_time": "2025-02-04T23:41:31.241Z"
   },
   {
    "duration": 10421,
    "start_time": "2025-02-04T23:46:29.967Z"
   },
   {
    "duration": 21440,
    "start_time": "2025-02-04T23:47:54.554Z"
   },
   {
    "duration": 1593,
    "start_time": "2025-02-04T23:50:11.731Z"
   },
   {
    "duration": 1289,
    "start_time": "2025-02-04T23:51:59.457Z"
   },
   {
    "duration": 1437,
    "start_time": "2025-02-04T23:52:37.092Z"
   },
   {
    "duration": 2775,
    "start_time": "2025-02-04T23:52:46.989Z"
   },
   {
    "duration": 1314,
    "start_time": "2025-02-04T23:53:14.981Z"
   },
   {
    "duration": 5,
    "start_time": "2025-02-04T23:55:25.082Z"
   },
   {
    "duration": 23,
    "start_time": "2025-02-04T23:56:49.999Z"
   },
   {
    "duration": 4,
    "start_time": "2025-02-04T23:56:56.192Z"
   },
   {
    "duration": 1407,
    "start_time": "2025-02-04T23:57:02.420Z"
   },
   {
    "duration": 1301,
    "start_time": "2025-02-04T23:57:10.952Z"
   },
   {
    "duration": 26,
    "start_time": "2025-02-04T23:58:01.867Z"
   },
   {
    "duration": 21,
    "start_time": "2025-02-04T23:58:06.823Z"
   },
   {
    "duration": 18,
    "start_time": "2025-02-04T23:58:12.664Z"
   },
   {
    "duration": 4,
    "start_time": "2025-02-04T23:58:15.949Z"
   },
   {
    "duration": 23299,
    "start_time": "2025-02-04T23:59:34.406Z"
   },
   {
    "duration": 17037,
    "start_time": "2025-02-05T00:00:14.327Z"
   },
   {
    "duration": 1381,
    "start_time": "2025-02-05T00:06:20.965Z"
   },
   {
    "duration": 513,
    "start_time": "2025-02-05T00:06:38.326Z"
   },
   {
    "duration": 1665,
    "start_time": "2025-02-05T00:08:08.578Z"
   },
   {
    "duration": 4766,
    "start_time": "2025-02-05T00:09:09.566Z"
   },
   {
    "duration": 5643,
    "start_time": "2025-02-05T00:12:14.351Z"
   },
   {
    "duration": 5926,
    "start_time": "2025-02-05T00:13:03.271Z"
   },
   {
    "duration": 4796,
    "start_time": "2025-02-05T00:14:14.412Z"
   },
   {
    "duration": 4240,
    "start_time": "2025-02-05T00:16:16.600Z"
   },
   {
    "duration": 4570,
    "start_time": "2025-02-05T00:16:31.386Z"
   },
   {
    "duration": 4984,
    "start_time": "2025-02-05T00:16:39.980Z"
   },
   {
    "duration": 5081,
    "start_time": "2025-02-05T00:16:57.033Z"
   },
   {
    "duration": 4550,
    "start_time": "2025-02-05T00:30:57.001Z"
   },
   {
    "duration": 4217,
    "start_time": "2025-02-05T00:31:34.322Z"
   },
   {
    "duration": 4970,
    "start_time": "2025-02-05T00:36:23.684Z"
   },
   {
    "duration": 2146,
    "start_time": "2025-02-05T00:44:51.958Z"
   },
   {
    "duration": 6590,
    "start_time": "2025-02-05T00:45:03.281Z"
   },
   {
    "duration": 8064,
    "start_time": "2025-02-05T00:47:35.218Z"
   },
   {
    "duration": 7831,
    "start_time": "2025-02-05T00:48:29.038Z"
   },
   {
    "duration": 5966,
    "start_time": "2025-02-05T00:49:18.104Z"
   },
   {
    "duration": 19,
    "start_time": "2025-02-05T00:51:48.674Z"
   },
   {
    "duration": 32,
    "start_time": "2025-02-05T00:52:04.981Z"
   },
   {
    "duration": 24,
    "start_time": "2025-02-05T00:52:18.511Z"
   },
   {
    "duration": 4,
    "start_time": "2025-02-05T00:53:24.612Z"
   },
   {
    "duration": 3,
    "start_time": "2025-02-05T00:53:39.006Z"
   },
   {
    "duration": 1065,
    "start_time": "2025-02-05T00:53:41.113Z"
   },
   {
    "duration": 6631,
    "start_time": "2025-02-05T00:53:55.182Z"
   },
   {
    "duration": 8839,
    "start_time": "2025-02-05T00:54:10.761Z"
   },
   {
    "duration": 6177,
    "start_time": "2025-02-05T00:54:19.603Z"
   },
   {
    "duration": 101,
    "start_time": "2025-02-05T01:00:48.558Z"
   },
   {
    "duration": 109,
    "start_time": "2025-02-05T01:01:22.037Z"
   },
   {
    "duration": 4,
    "start_time": "2025-02-05T01:02:38.874Z"
   },
   {
    "duration": 4,
    "start_time": "2025-02-05T01:02:39.746Z"
   },
   {
    "duration": 2762,
    "start_time": "2025-02-05T01:02:40.583Z"
   },
   {
    "duration": 4,
    "start_time": "2025-02-05T01:02:45.731Z"
   },
   {
    "duration": 4,
    "start_time": "2025-02-05T01:02:49.709Z"
   },
   {
    "duration": 4,
    "start_time": "2025-02-05T01:03:02.217Z"
   },
   {
    "duration": 33,
    "start_time": "2025-02-05T01:03:02.224Z"
   },
   {
    "duration": 9,
    "start_time": "2025-02-05T01:03:02.259Z"
   },
   {
    "duration": 10,
    "start_time": "2025-02-05T01:03:02.270Z"
   },
   {
    "duration": 14,
    "start_time": "2025-02-05T01:03:02.282Z"
   },
   {
    "duration": 34,
    "start_time": "2025-02-05T01:03:02.298Z"
   },
   {
    "duration": 1810,
    "start_time": "2025-02-05T01:03:02.334Z"
   },
   {
    "duration": 182,
    "start_time": "2025-02-05T01:03:04.146Z"
   },
   {
    "duration": 152,
    "start_time": "2025-02-05T01:03:04.330Z"
   },
   {
    "duration": 7,
    "start_time": "2025-02-05T01:03:04.483Z"
   },
   {
    "duration": 8,
    "start_time": "2025-02-05T01:03:04.494Z"
   },
   {
    "duration": 25,
    "start_time": "2025-02-05T01:03:04.504Z"
   },
   {
    "duration": 10,
    "start_time": "2025-02-05T01:03:04.530Z"
   },
   {
    "duration": 21,
    "start_time": "2025-02-05T01:03:04.541Z"
   },
   {
    "duration": 6,
    "start_time": "2025-02-05T01:03:04.563Z"
   },
   {
    "duration": 8,
    "start_time": "2025-02-05T01:03:04.571Z"
   },
   {
    "duration": 54,
    "start_time": "2025-02-05T01:03:04.580Z"
   },
   {
    "duration": 27,
    "start_time": "2025-02-05T01:03:04.635Z"
   },
   {
    "duration": 11,
    "start_time": "2025-02-05T01:03:04.664Z"
   },
   {
    "duration": 4,
    "start_time": "2025-02-05T01:03:04.677Z"
   },
   {
    "duration": 4,
    "start_time": "2025-02-05T01:03:04.682Z"
   },
   {
    "duration": 2704,
    "start_time": "2025-02-05T01:03:04.687Z"
   },
   {
    "duration": 3,
    "start_time": "2025-02-05T01:03:07.393Z"
   },
   {
    "duration": 126,
    "start_time": "2025-02-05T01:03:07.398Z"
   },
   {
    "duration": 6,
    "start_time": "2025-02-05T01:03:07.526Z"
   },
   {
    "duration": 2319,
    "start_time": "2025-02-05T01:03:07.534Z"
   },
   {
    "duration": 0,
    "start_time": "2025-02-05T01:03:09.855Z"
   },
   {
    "duration": 0,
    "start_time": "2025-02-05T01:03:09.856Z"
   },
   {
    "duration": 4,
    "start_time": "2025-02-05T01:05:55.335Z"
   },
   {
    "duration": 6,
    "start_time": "2025-02-05T01:05:56.105Z"
   },
   {
    "duration": 57,
    "start_time": "2025-02-05T01:05:56.970Z"
   },
   {
    "duration": 5,
    "start_time": "2025-02-05T01:08:54.840Z"
   },
   {
    "duration": 7,
    "start_time": "2025-02-05T01:08:59.467Z"
   },
   {
    "duration": 7,
    "start_time": "2025-02-05T01:09:12.657Z"
   },
   {
    "duration": 5,
    "start_time": "2025-02-05T01:09:56.646Z"
   },
   {
    "duration": 4,
    "start_time": "2025-02-05T01:10:14.777Z"
   },
   {
    "duration": 3,
    "start_time": "2025-02-05T01:10:19.838Z"
   },
   {
    "duration": 2762,
    "start_time": "2025-02-05T01:10:24.162Z"
   },
   {
    "duration": 132,
    "start_time": "2025-02-05T01:10:42.001Z"
   },
   {
    "duration": 5,
    "start_time": "2025-02-05T01:10:44.653Z"
   },
   {
    "duration": 6563,
    "start_time": "2025-02-05T01:10:46.350Z"
   },
   {
    "duration": 7599,
    "start_time": "2025-02-05T01:10:52.923Z"
   },
   {
    "duration": 5752,
    "start_time": "2025-02-05T01:11:00.524Z"
   },
   {
    "duration": 4,
    "start_time": "2025-02-05T01:11:40.603Z"
   },
   {
    "duration": 32,
    "start_time": "2025-02-05T01:11:40.610Z"
   },
   {
    "duration": 9,
    "start_time": "2025-02-05T01:11:40.644Z"
   },
   {
    "duration": 10,
    "start_time": "2025-02-05T01:11:40.655Z"
   },
   {
    "duration": 15,
    "start_time": "2025-02-05T01:11:40.667Z"
   },
   {
    "duration": 12,
    "start_time": "2025-02-05T01:11:40.685Z"
   },
   {
    "duration": 2133,
    "start_time": "2025-02-05T01:11:40.725Z"
   },
   {
    "duration": 177,
    "start_time": "2025-02-05T01:11:42.860Z"
   },
   {
    "duration": 151,
    "start_time": "2025-02-05T01:11:43.039Z"
   },
   {
    "duration": 8,
    "start_time": "2025-02-05T01:11:43.193Z"
   },
   {
    "duration": 24,
    "start_time": "2025-02-05T01:11:43.203Z"
   },
   {
    "duration": 9,
    "start_time": "2025-02-05T01:11:43.229Z"
   },
   {
    "duration": 10,
    "start_time": "2025-02-05T01:11:43.240Z"
   },
   {
    "duration": 22,
    "start_time": "2025-02-05T01:11:43.251Z"
   },
   {
    "duration": 6,
    "start_time": "2025-02-05T01:11:43.275Z"
   },
   {
    "duration": 42,
    "start_time": "2025-02-05T01:11:43.283Z"
   },
   {
    "duration": 22,
    "start_time": "2025-02-05T01:11:43.327Z"
   },
   {
    "duration": 31,
    "start_time": "2025-02-05T01:11:43.351Z"
   },
   {
    "duration": 12,
    "start_time": "2025-02-05T01:11:43.384Z"
   },
   {
    "duration": 30,
    "start_time": "2025-02-05T01:11:43.398Z"
   },
   {
    "duration": 4,
    "start_time": "2025-02-05T01:11:43.430Z"
   },
   {
    "duration": 4845,
    "start_time": "2025-02-05T01:11:43.435Z"
   },
   {
    "duration": 4,
    "start_time": "2025-02-05T01:11:48.282Z"
   },
   {
    "duration": 151,
    "start_time": "2025-02-05T01:11:48.288Z"
   },
   {
    "duration": 4,
    "start_time": "2025-02-05T01:11:48.441Z"
   },
   {
    "duration": 7077,
    "start_time": "2025-02-05T01:11:48.447Z"
   },
   {
    "duration": 8140,
    "start_time": "2025-02-05T01:11:55.526Z"
   },
   {
    "duration": 6378,
    "start_time": "2025-02-05T01:12:03.671Z"
   },
   {
    "duration": 4962,
    "start_time": "2025-02-05T17:01:55.227Z"
   },
   {
    "duration": 66,
    "start_time": "2025-02-05T17:02:00.192Z"
   },
   {
    "duration": 11,
    "start_time": "2025-02-05T17:02:00.260Z"
   },
   {
    "duration": 11,
    "start_time": "2025-02-05T17:02:00.273Z"
   },
   {
    "duration": 14,
    "start_time": "2025-02-05T17:02:00.286Z"
   },
   {
    "duration": 11,
    "start_time": "2025-02-05T17:02:00.302Z"
   },
   {
    "duration": 1766,
    "start_time": "2025-02-05T17:02:00.315Z"
   },
   {
    "duration": 166,
    "start_time": "2025-02-05T17:02:02.087Z"
   },
   {
    "duration": 145,
    "start_time": "2025-02-05T17:02:02.255Z"
   },
   {
    "duration": 7,
    "start_time": "2025-02-05T17:02:02.402Z"
   },
   {
    "duration": 8,
    "start_time": "2025-02-05T17:02:02.412Z"
   },
   {
    "duration": 8,
    "start_time": "2025-02-05T17:02:02.422Z"
   },
   {
    "duration": 9,
    "start_time": "2025-02-05T17:02:02.432Z"
   },
   {
    "duration": 50,
    "start_time": "2025-02-05T17:02:02.445Z"
   },
   {
    "duration": 7,
    "start_time": "2025-02-05T17:02:02.497Z"
   },
   {
    "duration": 8,
    "start_time": "2025-02-05T17:02:02.505Z"
   },
   {
    "duration": 21,
    "start_time": "2025-02-05T17:02:02.514Z"
   },
   {
    "duration": 49,
    "start_time": "2025-02-05T17:02:02.537Z"
   },
   {
    "duration": 12,
    "start_time": "2025-02-05T17:02:02.588Z"
   },
   {
    "duration": 4,
    "start_time": "2025-02-05T17:02:02.602Z"
   },
   {
    "duration": 3,
    "start_time": "2025-02-05T17:02:02.608Z"
   },
   {
    "duration": 4807,
    "start_time": "2025-02-05T17:02:02.613Z"
   },
   {
    "duration": 3,
    "start_time": "2025-02-05T17:02:07.422Z"
   },
   {
    "duration": 118,
    "start_time": "2025-02-05T17:02:07.427Z"
   },
   {
    "duration": 4,
    "start_time": "2025-02-05T17:02:07.547Z"
   },
   {
    "duration": 6706,
    "start_time": "2025-02-05T17:02:07.553Z"
   },
   {
    "duration": 8152,
    "start_time": "2025-02-05T17:02:14.261Z"
   },
   {
    "duration": 6202,
    "start_time": "2025-02-05T17:02:22.415Z"
   },
   {
    "duration": 4,
    "start_time": "2025-02-05T17:02:28.619Z"
   },
   {
    "duration": 8,
    "start_time": "2025-02-05T17:17:11.311Z"
   },
   {
    "duration": 18,
    "start_time": "2025-02-05T17:17:31.750Z"
   },
   {
    "duration": 6,
    "start_time": "2025-02-05T17:19:38.167Z"
   },
   {
    "duration": 18,
    "start_time": "2025-02-05T17:19:47.624Z"
   },
   {
    "duration": 164,
    "start_time": "2025-02-05T18:39:39.646Z"
   },
   {
    "duration": 13,
    "start_time": "2025-02-05T18:39:48.145Z"
   },
   {
    "duration": 11,
    "start_time": "2025-02-05T18:40:30.027Z"
   },
   {
    "duration": 13,
    "start_time": "2025-02-05T18:40:33.411Z"
   },
   {
    "duration": 5002,
    "start_time": "2025-02-05T18:40:37.933Z"
   },
   {
    "duration": 45,
    "start_time": "2025-02-05T18:40:42.937Z"
   },
   {
    "duration": 12,
    "start_time": "2025-02-05T18:40:42.983Z"
   },
   {
    "duration": 14,
    "start_time": "2025-02-05T18:40:42.997Z"
   },
   {
    "duration": 18,
    "start_time": "2025-02-05T18:40:43.013Z"
   },
   {
    "duration": 12,
    "start_time": "2025-02-05T18:40:43.032Z"
   },
   {
    "duration": 1582,
    "start_time": "2025-02-05T18:40:43.046Z"
   },
   {
    "duration": 171,
    "start_time": "2025-02-05T18:40:44.630Z"
   },
   {
    "duration": 148,
    "start_time": "2025-02-05T18:40:44.806Z"
   },
   {
    "duration": 7,
    "start_time": "2025-02-05T18:40:44.958Z"
   },
   {
    "duration": 9,
    "start_time": "2025-02-05T18:40:44.966Z"
   },
   {
    "duration": 8,
    "start_time": "2025-02-05T18:40:44.977Z"
   },
   {
    "duration": 9,
    "start_time": "2025-02-05T18:40:45.005Z"
   },
   {
    "duration": 22,
    "start_time": "2025-02-05T18:40:45.016Z"
   },
   {
    "duration": 5,
    "start_time": "2025-02-05T18:40:45.040Z"
   },
   {
    "duration": 7,
    "start_time": "2025-02-05T18:40:45.047Z"
   },
   {
    "duration": 50,
    "start_time": "2025-02-05T18:40:45.056Z"
   },
   {
    "duration": 29,
    "start_time": "2025-02-05T18:40:45.108Z"
   },
   {
    "duration": 11,
    "start_time": "2025-02-05T18:40:45.139Z"
   },
   {
    "duration": 4,
    "start_time": "2025-02-05T18:40:45.152Z"
   },
   {
    "duration": 3,
    "start_time": "2025-02-05T18:40:45.158Z"
   },
   {
    "duration": 4662,
    "start_time": "2025-02-05T18:40:45.163Z"
   },
   {
    "duration": 4,
    "start_time": "2025-02-05T18:40:49.827Z"
   },
   {
    "duration": 119,
    "start_time": "2025-02-05T18:40:49.832Z"
   },
   {
    "duration": 4,
    "start_time": "2025-02-05T18:40:49.953Z"
   },
   {
    "duration": 6469,
    "start_time": "2025-02-05T18:40:49.958Z"
   },
   {
    "duration": 8158,
    "start_time": "2025-02-05T18:40:56.429Z"
   },
   {
    "duration": 6623,
    "start_time": "2025-02-05T18:41:04.591Z"
   },
   {
    "duration": 8,
    "start_time": "2025-02-05T18:41:11.215Z"
   },
   {
    "duration": 0,
    "start_time": "2025-02-05T18:41:11.225Z"
   },
   {
    "duration": 12,
    "start_time": "2025-02-05T18:41:55.501Z"
   },
   {
    "duration": 19,
    "start_time": "2025-02-05T18:41:59.485Z"
   },
   {
    "duration": 13,
    "start_time": "2025-02-05T18:43:44.538Z"
   },
   {
    "duration": 18,
    "start_time": "2025-02-05T18:43:47.049Z"
   },
   {
    "duration": 5,
    "start_time": "2025-02-05T18:44:16.529Z"
   },
   {
    "duration": 30,
    "start_time": "2025-02-05T18:44:16.538Z"
   },
   {
    "duration": 9,
    "start_time": "2025-02-05T18:44:16.571Z"
   },
   {
    "duration": 9,
    "start_time": "2025-02-05T18:44:16.582Z"
   },
   {
    "duration": 13,
    "start_time": "2025-02-05T18:44:16.593Z"
   },
   {
    "duration": 12,
    "start_time": "2025-02-05T18:44:16.608Z"
   },
   {
    "duration": 1376,
    "start_time": "2025-02-05T18:44:16.622Z"
   },
   {
    "duration": 375,
    "start_time": "2025-02-05T18:44:18.000Z"
   },
   {
    "duration": 146,
    "start_time": "2025-02-05T18:44:18.377Z"
   },
   {
    "duration": 7,
    "start_time": "2025-02-05T18:44:18.525Z"
   },
   {
    "duration": 8,
    "start_time": "2025-02-05T18:44:18.534Z"
   },
   {
    "duration": 9,
    "start_time": "2025-02-05T18:44:18.544Z"
   },
   {
    "duration": 8,
    "start_time": "2025-02-05T18:44:18.555Z"
   },
   {
    "duration": 59,
    "start_time": "2025-02-05T18:44:18.564Z"
   },
   {
    "duration": 6,
    "start_time": "2025-02-05T18:44:18.627Z"
   },
   {
    "duration": 7,
    "start_time": "2025-02-05T18:44:18.635Z"
   },
   {
    "duration": 19,
    "start_time": "2025-02-05T18:44:18.644Z"
   },
   {
    "duration": 46,
    "start_time": "2025-02-05T18:44:18.664Z"
   },
   {
    "duration": 12,
    "start_time": "2025-02-05T18:44:18.712Z"
   },
   {
    "duration": 4,
    "start_time": "2025-02-05T18:44:18.725Z"
   },
   {
    "duration": 3,
    "start_time": "2025-02-05T18:44:18.731Z"
   },
   {
    "duration": 4581,
    "start_time": "2025-02-05T18:44:18.737Z"
   },
   {
    "duration": 4,
    "start_time": "2025-02-05T18:44:23.319Z"
   },
   {
    "duration": 123,
    "start_time": "2025-02-05T18:44:23.325Z"
   },
   {
    "duration": 4,
    "start_time": "2025-02-05T18:44:23.449Z"
   },
   {
    "duration": 6580,
    "start_time": "2025-02-05T18:44:23.455Z"
   },
   {
    "duration": 8282,
    "start_time": "2025-02-05T18:44:30.036Z"
   },
   {
    "duration": 6020,
    "start_time": "2025-02-05T18:44:38.320Z"
   },
   {
    "duration": 15,
    "start_time": "2025-02-05T18:44:44.343Z"
   },
   {
    "duration": 12,
    "start_time": "2025-02-05T18:45:00.923Z"
   },
   {
    "duration": 20,
    "start_time": "2025-02-05T18:45:01.607Z"
   },
   {
    "duration": 5,
    "start_time": "2025-02-05T18:45:12.613Z"
   },
   {
    "duration": 36,
    "start_time": "2025-02-05T18:45:12.620Z"
   },
   {
    "duration": 8,
    "start_time": "2025-02-05T18:45:12.658Z"
   },
   {
    "duration": 9,
    "start_time": "2025-02-05T18:45:12.667Z"
   },
   {
    "duration": 35,
    "start_time": "2025-02-05T18:45:12.679Z"
   },
   {
    "duration": 12,
    "start_time": "2025-02-05T18:45:12.716Z"
   },
   {
    "duration": 1697,
    "start_time": "2025-02-05T18:45:12.729Z"
   },
   {
    "duration": 159,
    "start_time": "2025-02-05T18:45:14.428Z"
   },
   {
    "duration": 159,
    "start_time": "2025-02-05T18:45:14.590Z"
   },
   {
    "duration": 7,
    "start_time": "2025-02-05T18:45:14.751Z"
   },
   {
    "duration": 9,
    "start_time": "2025-02-05T18:45:14.759Z"
   },
   {
    "duration": 8,
    "start_time": "2025-02-05T18:45:14.769Z"
   },
   {
    "duration": 31,
    "start_time": "2025-02-05T18:45:14.779Z"
   },
   {
    "duration": 21,
    "start_time": "2025-02-05T18:45:14.814Z"
   },
   {
    "duration": 5,
    "start_time": "2025-02-05T18:45:14.836Z"
   },
   {
    "duration": 7,
    "start_time": "2025-02-05T18:45:14.843Z"
   },
   {
    "duration": 19,
    "start_time": "2025-02-05T18:45:14.852Z"
   },
   {
    "duration": 55,
    "start_time": "2025-02-05T18:45:14.873Z"
   },
   {
    "duration": 11,
    "start_time": "2025-02-05T18:45:14.929Z"
   },
   {
    "duration": 5,
    "start_time": "2025-02-05T18:45:14.942Z"
   },
   {
    "duration": 5,
    "start_time": "2025-02-05T18:45:14.948Z"
   },
   {
    "duration": 4745,
    "start_time": "2025-02-05T18:45:14.954Z"
   },
   {
    "duration": 6,
    "start_time": "2025-02-05T18:45:19.700Z"
   },
   {
    "duration": 116,
    "start_time": "2025-02-05T18:45:19.708Z"
   },
   {
    "duration": 4,
    "start_time": "2025-02-05T18:45:19.826Z"
   },
   {
    "duration": 6499,
    "start_time": "2025-02-05T18:45:19.831Z"
   },
   {
    "duration": 8221,
    "start_time": "2025-02-05T18:45:26.332Z"
   },
   {
    "duration": 6325,
    "start_time": "2025-02-05T18:45:34.555Z"
   },
   {
    "duration": 20,
    "start_time": "2025-02-05T18:45:40.885Z"
   },
   {
    "duration": 18,
    "start_time": "2025-02-05T18:45:40.908Z"
   },
   {
    "duration": 370,
    "start_time": "2025-02-05T18:45:40.928Z"
   },
   {
    "duration": 5412,
    "start_time": "2025-02-05T22:21:58.040Z"
   },
   {
    "duration": 67,
    "start_time": "2025-02-05T22:22:03.455Z"
   },
   {
    "duration": 12,
    "start_time": "2025-02-05T22:22:03.524Z"
   },
   {
    "duration": 13,
    "start_time": "2025-02-05T22:22:03.537Z"
   },
   {
    "duration": 16,
    "start_time": "2025-02-05T22:22:03.552Z"
   },
   {
    "duration": 12,
    "start_time": "2025-02-05T22:22:03.570Z"
   },
   {
    "duration": 1650,
    "start_time": "2025-02-05T22:22:03.584Z"
   },
   {
    "duration": 185,
    "start_time": "2025-02-05T22:22:05.236Z"
   },
   {
    "duration": 143,
    "start_time": "2025-02-05T22:22:05.423Z"
   },
   {
    "duration": 9,
    "start_time": "2025-02-05T22:22:05.568Z"
   },
   {
    "duration": 9,
    "start_time": "2025-02-05T22:22:05.580Z"
   },
   {
    "duration": 8,
    "start_time": "2025-02-05T22:22:05.590Z"
   },
   {
    "duration": 29,
    "start_time": "2025-02-05T22:22:05.600Z"
   },
   {
    "duration": 187,
    "start_time": "2025-02-05T22:22:05.633Z"
   },
   {
    "duration": 5,
    "start_time": "2025-02-05T22:22:05.823Z"
   },
   {
    "duration": 8,
    "start_time": "2025-02-05T22:22:05.830Z"
   },
   {
    "duration": 21,
    "start_time": "2025-02-05T22:22:05.840Z"
   },
   {
    "duration": 27,
    "start_time": "2025-02-05T22:22:05.863Z"
   },
   {
    "duration": 41,
    "start_time": "2025-02-05T22:22:05.892Z"
   },
   {
    "duration": 6,
    "start_time": "2025-02-05T22:22:05.935Z"
   },
   {
    "duration": 5,
    "start_time": "2025-02-05T22:22:05.943Z"
   },
   {
    "duration": 5415,
    "start_time": "2025-02-05T22:22:05.949Z"
   },
   {
    "duration": 9,
    "start_time": "2025-02-05T22:22:11.366Z"
   },
   {
    "duration": 148,
    "start_time": "2025-02-05T22:22:11.378Z"
   },
   {
    "duration": 5,
    "start_time": "2025-02-05T22:22:11.528Z"
   },
   {
    "duration": 7109,
    "start_time": "2025-02-05T22:22:11.536Z"
   },
   {
    "duration": 8403,
    "start_time": "2025-02-05T22:22:18.647Z"
   },
   {
    "duration": 5966,
    "start_time": "2025-02-05T22:22:27.052Z"
   },
   {
    "duration": 13,
    "start_time": "2025-02-05T22:22:33.025Z"
   },
   {
    "duration": 18,
    "start_time": "2025-02-05T22:22:33.040Z"
   },
   {
    "duration": 5,
    "start_time": "2025-02-05T22:22:33.060Z"
   },
   {
    "duration": 4,
    "start_time": "2025-02-05T22:27:03.264Z"
   },
   {
    "duration": 505,
    "start_time": "2025-02-05T22:27:38.052Z"
   },
   {
    "duration": 23,
    "start_time": "2025-02-05T22:27:44.859Z"
   },
   {
    "duration": 5,
    "start_time": "2025-02-05T22:29:07.867Z"
   },
   {
    "duration": 4,
    "start_time": "2025-02-05T22:29:12.338Z"
   },
   {
    "duration": 33,
    "start_time": "2025-02-05T22:29:13.158Z"
   },
   {
    "duration": 390,
    "start_time": "2025-02-05T22:30:04.240Z"
   },
   {
    "duration": 6,
    "start_time": "2025-02-05T22:30:08.191Z"
   },
   {
    "duration": 80,
    "start_time": "2025-02-05T22:30:09.015Z"
   },
   {
    "duration": 9,
    "start_time": "2025-02-05T22:37:56.275Z"
   },
   {
    "duration": 11,
    "start_time": "2025-02-05T22:38:11.071Z"
   },
   {
    "duration": 7,
    "start_time": "2025-02-05T22:38:53.450Z"
   },
   {
    "duration": 7,
    "start_time": "2025-02-05T22:39:15.021Z"
   },
   {
    "duration": 39,
    "start_time": "2025-02-05T22:39:15.031Z"
   },
   {
    "duration": 9,
    "start_time": "2025-02-05T22:39:15.072Z"
   },
   {
    "duration": 11,
    "start_time": "2025-02-05T22:39:15.084Z"
   },
   {
    "duration": 35,
    "start_time": "2025-02-05T22:39:15.097Z"
   },
   {
    "duration": 12,
    "start_time": "2025-02-05T22:39:15.135Z"
   },
   {
    "duration": 1518,
    "start_time": "2025-02-05T22:39:15.148Z"
   },
   {
    "duration": 182,
    "start_time": "2025-02-05T22:39:16.668Z"
   },
   {
    "duration": 418,
    "start_time": "2025-02-05T22:39:16.852Z"
   },
   {
    "duration": 7,
    "start_time": "2025-02-05T22:39:17.273Z"
   },
   {
    "duration": 11,
    "start_time": "2025-02-05T22:39:17.282Z"
   },
   {
    "duration": 32,
    "start_time": "2025-02-05T22:39:17.295Z"
   },
   {
    "duration": 9,
    "start_time": "2025-02-05T22:39:17.329Z"
   },
   {
    "duration": 24,
    "start_time": "2025-02-05T22:39:17.340Z"
   },
   {
    "duration": 6,
    "start_time": "2025-02-05T22:39:17.366Z"
   },
   {
    "duration": 9,
    "start_time": "2025-02-05T22:39:17.374Z"
   },
   {
    "duration": 52,
    "start_time": "2025-02-05T22:39:17.385Z"
   },
   {
    "duration": 31,
    "start_time": "2025-02-05T22:39:17.438Z"
   },
   {
    "duration": 16,
    "start_time": "2025-02-05T22:39:17.471Z"
   },
   {
    "duration": 5,
    "start_time": "2025-02-05T22:39:17.489Z"
   },
   {
    "duration": 31,
    "start_time": "2025-02-05T22:39:17.496Z"
   },
   {
    "duration": 4915,
    "start_time": "2025-02-05T22:39:17.534Z"
   },
   {
    "duration": 5,
    "start_time": "2025-02-05T22:39:22.451Z"
   },
   {
    "duration": 132,
    "start_time": "2025-02-05T22:39:22.457Z"
   },
   {
    "duration": 5,
    "start_time": "2025-02-05T22:39:22.591Z"
   },
   {
    "duration": 6777,
    "start_time": "2025-02-05T22:39:22.598Z"
   },
   {
    "duration": 8607,
    "start_time": "2025-02-05T22:39:29.377Z"
   },
   {
    "duration": 6152,
    "start_time": "2025-02-05T22:39:37.987Z"
   },
   {
    "duration": 6,
    "start_time": "2025-02-05T22:39:52.450Z"
   },
   {
    "duration": 8,
    "start_time": "2025-02-05T22:39:55.087Z"
   },
   {
    "duration": 6,
    "start_time": "2025-02-05T22:41:38.338Z"
   },
   {
    "duration": 14,
    "start_time": "2025-02-05T22:41:42.870Z"
   },
   {
    "duration": 18,
    "start_time": "2025-02-05T22:41:46.311Z"
   },
   {
    "duration": 963,
    "start_time": "2025-02-05T22:43:03.299Z"
   },
   {
    "duration": 24,
    "start_time": "2025-02-05T22:43:52.308Z"
   },
   {
    "duration": 6,
    "start_time": "2025-02-05T22:47:40.032Z"
   },
   {
    "duration": 33,
    "start_time": "2025-02-05T22:47:40.041Z"
   },
   {
    "duration": 11,
    "start_time": "2025-02-05T22:47:40.076Z"
   },
   {
    "duration": 12,
    "start_time": "2025-02-05T22:47:40.090Z"
   },
   {
    "duration": 34,
    "start_time": "2025-02-05T22:47:40.105Z"
   },
   {
    "duration": 15,
    "start_time": "2025-02-05T22:47:40.141Z"
   },
   {
    "duration": 1986,
    "start_time": "2025-02-05T22:47:40.158Z"
   },
   {
    "duration": 191,
    "start_time": "2025-02-05T22:47:42.148Z"
   },
   {
    "duration": 163,
    "start_time": "2025-02-05T22:47:42.341Z"
   },
   {
    "duration": 18,
    "start_time": "2025-02-05T22:47:42.506Z"
   },
   {
    "duration": 11,
    "start_time": "2025-02-05T22:47:42.526Z"
   },
   {
    "duration": 9,
    "start_time": "2025-02-05T22:47:42.540Z"
   },
   {
    "duration": 12,
    "start_time": "2025-02-05T22:47:42.551Z"
   },
   {
    "duration": 25,
    "start_time": "2025-02-05T22:47:42.567Z"
   },
   {
    "duration": 32,
    "start_time": "2025-02-05T22:47:42.594Z"
   },
   {
    "duration": 8,
    "start_time": "2025-02-05T22:47:42.630Z"
   },
   {
    "duration": 23,
    "start_time": "2025-02-05T22:47:42.641Z"
   },
   {
    "duration": 64,
    "start_time": "2025-02-05T22:47:42.666Z"
   },
   {
    "duration": 17,
    "start_time": "2025-02-05T22:47:42.732Z"
   },
   {
    "duration": 6,
    "start_time": "2025-02-05T22:47:42.752Z"
   },
   {
    "duration": 4,
    "start_time": "2025-02-05T22:47:42.761Z"
   },
   {
    "duration": 5157,
    "start_time": "2025-02-05T22:47:42.767Z"
   },
   {
    "duration": 9,
    "start_time": "2025-02-05T22:47:47.926Z"
   },
   {
    "duration": 146,
    "start_time": "2025-02-05T22:47:47.938Z"
   },
   {
    "duration": 5,
    "start_time": "2025-02-05T22:47:48.086Z"
   },
   {
    "duration": 7658,
    "start_time": "2025-02-05T22:47:48.093Z"
   },
   {
    "duration": 8922,
    "start_time": "2025-02-05T22:47:55.754Z"
   },
   {
    "duration": 7053,
    "start_time": "2025-02-05T22:48:04.678Z"
   },
   {
    "duration": 7,
    "start_time": "2025-02-05T22:48:11.733Z"
   },
   {
    "duration": 6,
    "start_time": "2025-02-05T22:48:11.742Z"
   },
   {
    "duration": 17,
    "start_time": "2025-02-05T22:48:11.751Z"
   },
   {
    "duration": 25,
    "start_time": "2025-02-05T22:49:39.447Z"
   },
   {
    "duration": 20,
    "start_time": "2025-02-05T22:49:43.410Z"
   },
   {
    "duration": 17,
    "start_time": "2025-02-05T22:50:19.930Z"
   },
   {
    "duration": 4,
    "start_time": "2025-02-05T22:50:42.748Z"
   },
   {
    "duration": 19,
    "start_time": "2025-02-05T22:50:46.480Z"
   },
   {
    "duration": 19,
    "start_time": "2025-02-05T22:52:24.440Z"
   },
   {
    "duration": 5,
    "start_time": "2025-02-05T22:52:57.364Z"
   },
   {
    "duration": 279,
    "start_time": "2025-02-05T22:53:00.388Z"
   },
   {
    "duration": 43,
    "start_time": "2025-02-05T22:57:56.122Z"
   },
   {
    "duration": 6,
    "start_time": "2025-02-05T22:58:01.311Z"
   },
   {
    "duration": 40,
    "start_time": "2025-02-05T22:58:01.320Z"
   },
   {
    "duration": 10,
    "start_time": "2025-02-05T22:58:01.362Z"
   },
   {
    "duration": 11,
    "start_time": "2025-02-05T22:58:01.374Z"
   },
   {
    "duration": 17,
    "start_time": "2025-02-05T22:58:01.388Z"
   },
   {
    "duration": 13,
    "start_time": "2025-02-05T22:58:01.426Z"
   },
   {
    "duration": 1502,
    "start_time": "2025-02-05T22:58:01.441Z"
   },
   {
    "duration": 175,
    "start_time": "2025-02-05T22:58:02.945Z"
   },
   {
    "duration": 538,
    "start_time": "2025-02-05T22:58:03.124Z"
   },
   {
    "duration": 9,
    "start_time": "2025-02-05T22:58:03.664Z"
   },
   {
    "duration": 11,
    "start_time": "2025-02-05T22:58:03.675Z"
   },
   {
    "duration": 8,
    "start_time": "2025-02-05T22:58:03.688Z"
   },
   {
    "duration": 34,
    "start_time": "2025-02-05T22:58:03.698Z"
   },
   {
    "duration": 23,
    "start_time": "2025-02-05T22:58:03.736Z"
   },
   {
    "duration": 7,
    "start_time": "2025-02-05T22:58:03.760Z"
   },
   {
    "duration": 8,
    "start_time": "2025-02-05T22:58:03.768Z"
   },
   {
    "duration": 51,
    "start_time": "2025-02-05T22:58:03.778Z"
   },
   {
    "duration": 31,
    "start_time": "2025-02-05T22:58:03.831Z"
   },
   {
    "duration": 18,
    "start_time": "2025-02-05T22:58:03.869Z"
   },
   {
    "duration": 5,
    "start_time": "2025-02-05T22:58:03.890Z"
   },
   {
    "duration": 28,
    "start_time": "2025-02-05T22:58:03.897Z"
   },
   {
    "duration": 4913,
    "start_time": "2025-02-05T22:58:03.927Z"
   },
   {
    "duration": 4,
    "start_time": "2025-02-05T22:58:08.842Z"
   },
   {
    "duration": 129,
    "start_time": "2025-02-05T22:58:08.848Z"
   },
   {
    "duration": 4,
    "start_time": "2025-02-05T22:58:08.980Z"
   },
   {
    "duration": 6766,
    "start_time": "2025-02-05T22:58:08.987Z"
   },
   {
    "duration": 8649,
    "start_time": "2025-02-05T22:58:15.755Z"
   },
   {
    "duration": 6227,
    "start_time": "2025-02-05T22:58:24.407Z"
   },
   {
    "duration": 5,
    "start_time": "2025-02-05T22:58:30.636Z"
   },
   {
    "duration": 5,
    "start_time": "2025-02-05T22:58:30.643Z"
   },
   {
    "duration": 15,
    "start_time": "2025-02-05T22:58:30.650Z"
   },
   {
    "duration": 5,
    "start_time": "2025-02-05T22:58:30.666Z"
   },
   {
    "duration": 14,
    "start_time": "2025-02-05T22:58:30.673Z"
   },
   {
    "duration": 37,
    "start_time": "2025-02-05T22:58:30.688Z"
   },
   {
    "duration": 128,
    "start_time": "2025-02-05T22:58:30.727Z"
   },
   {
    "duration": 18,
    "start_time": "2025-02-05T23:00:24.465Z"
   },
   {
    "duration": 25,
    "start_time": "2025-02-05T23:00:47.716Z"
   },
   {
    "duration": 23,
    "start_time": "2025-02-05T23:00:52.858Z"
   },
   {
    "duration": 7,
    "start_time": "2025-02-05T23:01:03.498Z"
   },
   {
    "duration": 4,
    "start_time": "2025-02-05T23:07:08.205Z"
   },
   {
    "duration": 9,
    "start_time": "2025-02-05T23:07:13.503Z"
   },
   {
    "duration": 24,
    "start_time": "2025-02-05T23:09:20.330Z"
   },
   {
    "duration": 9,
    "start_time": "2025-02-05T23:09:33.351Z"
   },
   {
    "duration": 9,
    "start_time": "2025-02-05T23:09:45.957Z"
   },
   {
    "duration": 9,
    "start_time": "2025-02-05T23:09:51.498Z"
   },
   {
    "duration": 10,
    "start_time": "2025-02-05T23:09:56.131Z"
   },
   {
    "duration": 42,
    "start_time": "2025-02-05T23:09:56.144Z"
   },
   {
    "duration": 13,
    "start_time": "2025-02-05T23:09:56.188Z"
   },
   {
    "duration": 27,
    "start_time": "2025-02-05T23:09:56.203Z"
   },
   {
    "duration": 19,
    "start_time": "2025-02-05T23:09:56.233Z"
   },
   {
    "duration": 15,
    "start_time": "2025-02-05T23:09:56.254Z"
   },
   {
    "duration": 1710,
    "start_time": "2025-02-05T23:09:56.271Z"
   },
   {
    "duration": 219,
    "start_time": "2025-02-05T23:09:57.984Z"
   },
   {
    "duration": 219,
    "start_time": "2025-02-05T23:09:58.205Z"
   },
   {
    "duration": 9,
    "start_time": "2025-02-05T23:09:58.426Z"
   },
   {
    "duration": 11,
    "start_time": "2025-02-05T23:09:58.438Z"
   },
   {
    "duration": 11,
    "start_time": "2025-02-05T23:09:58.452Z"
   },
   {
    "duration": 12,
    "start_time": "2025-02-05T23:09:58.465Z"
   },
   {
    "duration": 64,
    "start_time": "2025-02-05T23:09:58.482Z"
   },
   {
    "duration": 9,
    "start_time": "2025-02-05T23:09:58.551Z"
   },
   {
    "duration": 10,
    "start_time": "2025-02-05T23:09:58.563Z"
   },
   {
    "duration": 48,
    "start_time": "2025-02-05T23:09:58.576Z"
   },
   {
    "duration": 37,
    "start_time": "2025-02-05T23:09:58.627Z"
   },
   {
    "duration": 17,
    "start_time": "2025-02-05T23:09:58.666Z"
   },
   {
    "duration": 11,
    "start_time": "2025-02-05T23:09:58.685Z"
   },
   {
    "duration": 34,
    "start_time": "2025-02-05T23:09:58.698Z"
   },
   {
    "duration": 6,
    "start_time": "2025-02-05T23:09:58.735Z"
   },
   {
    "duration": 6,
    "start_time": "2025-02-05T23:09:58.743Z"
   },
   {
    "duration": 5574,
    "start_time": "2025-02-05T23:09:58.751Z"
   },
   {
    "duration": 6,
    "start_time": "2025-02-05T23:10:04.326Z"
   },
   {
    "duration": 133,
    "start_time": "2025-02-05T23:10:04.336Z"
   },
   {
    "duration": 4,
    "start_time": "2025-02-05T23:10:04.472Z"
   },
   {
    "duration": 7333,
    "start_time": "2025-02-05T23:10:04.479Z"
   },
   {
    "duration": 9185,
    "start_time": "2025-02-05T23:10:11.814Z"
   },
   {
    "duration": 6567,
    "start_time": "2025-02-05T23:10:21.000Z"
   },
   {
    "duration": 7,
    "start_time": "2025-02-05T23:10:27.569Z"
   },
   {
    "duration": 6,
    "start_time": "2025-02-05T23:10:27.578Z"
   },
   {
    "duration": 38,
    "start_time": "2025-02-05T23:10:27.586Z"
   },
   {
    "duration": 9,
    "start_time": "2025-02-05T23:10:27.627Z"
   },
   {
    "duration": 18,
    "start_time": "2025-02-05T23:10:27.641Z"
   },
   {
    "duration": 5,
    "start_time": "2025-02-05T23:10:27.661Z"
   },
   {
    "duration": 76,
    "start_time": "2025-02-05T23:10:27.669Z"
   },
   {
    "duration": 86,
    "start_time": "2025-02-05T23:10:27.747Z"
   },
   {
    "duration": 5,
    "start_time": "2025-02-05T23:11:02.904Z"
   },
   {
    "duration": 25,
    "start_time": "2025-02-05T23:11:38.129Z"
   },
   {
    "duration": 5,
    "start_time": "2025-02-05T23:11:50.978Z"
   },
   {
    "duration": 199,
    "start_time": "2025-02-05T23:11:52.630Z"
   },
   {
    "duration": 23,
    "start_time": "2025-02-05T23:12:00.301Z"
   },
   {
    "duration": 4,
    "start_time": "2025-02-05T23:12:03.223Z"
   },
   {
    "duration": 4,
    "start_time": "2025-02-05T23:17:03.695Z"
   },
   {
    "duration": 204,
    "start_time": "2025-02-05T23:17:05.342Z"
   },
   {
    "duration": 5,
    "start_time": "2025-02-05T23:17:23.769Z"
   },
   {
    "duration": 269,
    "start_time": "2025-02-05T23:17:29.232Z"
   },
   {
    "duration": 4,
    "start_time": "2025-02-05T23:17:31.884Z"
   },
   {
    "duration": 185,
    "start_time": "2025-02-05T23:17:33.547Z"
   },
   {
    "duration": 6,
    "start_time": "2025-02-05T23:42:10.563Z"
   },
   {
    "duration": 44,
    "start_time": "2025-02-05T23:42:10.572Z"
   },
   {
    "duration": 11,
    "start_time": "2025-02-05T23:42:10.619Z"
   },
   {
    "duration": 10,
    "start_time": "2025-02-05T23:42:10.632Z"
   },
   {
    "duration": 17,
    "start_time": "2025-02-05T23:42:10.645Z"
   },
   {
    "duration": 12,
    "start_time": "2025-02-05T23:42:10.664Z"
   },
   {
    "duration": 2197,
    "start_time": "2025-02-05T23:42:10.678Z"
   },
   {
    "duration": 185,
    "start_time": "2025-02-05T23:42:12.877Z"
   },
   {
    "duration": 170,
    "start_time": "2025-02-05T23:42:13.064Z"
   },
   {
    "duration": 8,
    "start_time": "2025-02-05T23:42:13.236Z"
   },
   {
    "duration": 11,
    "start_time": "2025-02-05T23:42:13.245Z"
   },
   {
    "duration": 10,
    "start_time": "2025-02-05T23:42:13.258Z"
   },
   {
    "duration": 11,
    "start_time": "2025-02-05T23:42:13.271Z"
   },
   {
    "duration": 63,
    "start_time": "2025-02-05T23:42:13.285Z"
   },
   {
    "duration": 8,
    "start_time": "2025-02-05T23:42:13.351Z"
   },
   {
    "duration": 9,
    "start_time": "2025-02-05T23:42:13.361Z"
   },
   {
    "duration": 24,
    "start_time": "2025-02-05T23:42:13.371Z"
   },
   {
    "duration": 31,
    "start_time": "2025-02-05T23:42:13.424Z"
   },
   {
    "duration": 14,
    "start_time": "2025-02-05T23:42:13.457Z"
   },
   {
    "duration": 11,
    "start_time": "2025-02-05T23:42:13.473Z"
   },
   {
    "duration": 8,
    "start_time": "2025-02-05T23:42:13.486Z"
   },
   {
    "duration": 6,
    "start_time": "2025-02-05T23:44:43.292Z"
   },
   {
    "duration": 4,
    "start_time": "2025-02-05T23:44:59.798Z"
   },
   {
    "duration": 4775,
    "start_time": "2025-02-05T23:45:00.697Z"
   },
   {
    "duration": 7,
    "start_time": "2025-02-05T23:47:17.659Z"
   },
   {
    "duration": 36,
    "start_time": "2025-02-05T23:47:17.669Z"
   },
   {
    "duration": 11,
    "start_time": "2025-02-05T23:47:17.708Z"
   },
   {
    "duration": 16,
    "start_time": "2025-02-05T23:47:17.723Z"
   },
   {
    "duration": 17,
    "start_time": "2025-02-05T23:47:17.743Z"
   },
   {
    "duration": 12,
    "start_time": "2025-02-05T23:47:17.762Z"
   },
   {
    "duration": 2061,
    "start_time": "2025-02-05T23:47:17.777Z"
   },
   {
    "duration": 185,
    "start_time": "2025-02-05T23:47:19.840Z"
   },
   {
    "duration": 165,
    "start_time": "2025-02-05T23:47:20.026Z"
   },
   {
    "duration": 10,
    "start_time": "2025-02-05T23:47:20.196Z"
   },
   {
    "duration": 19,
    "start_time": "2025-02-05T23:47:20.209Z"
   },
   {
    "duration": 10,
    "start_time": "2025-02-05T23:47:20.231Z"
   },
   {
    "duration": 13,
    "start_time": "2025-02-05T23:47:20.243Z"
   },
   {
    "duration": 24,
    "start_time": "2025-02-05T23:47:20.259Z"
   },
   {
    "duration": 7,
    "start_time": "2025-02-05T23:47:20.285Z"
   },
   {
    "duration": 10,
    "start_time": "2025-02-05T23:47:20.325Z"
   },
   {
    "duration": 24,
    "start_time": "2025-02-05T23:47:20.337Z"
   },
   {
    "duration": 34,
    "start_time": "2025-02-05T23:47:20.363Z"
   },
   {
    "duration": 40,
    "start_time": "2025-02-05T23:47:20.400Z"
   },
   {
    "duration": 12,
    "start_time": "2025-02-05T23:47:20.442Z"
   },
   {
    "duration": 9,
    "start_time": "2025-02-05T23:47:20.456Z"
   },
   {
    "duration": 4,
    "start_time": "2025-02-05T23:47:20.467Z"
   },
   {
    "duration": 4,
    "start_time": "2025-02-05T23:47:20.474Z"
   },
   {
    "duration": 4919,
    "start_time": "2025-02-05T23:47:20.480Z"
   },
   {
    "duration": 4,
    "start_time": "2025-02-05T23:47:25.404Z"
   },
   {
    "duration": 220,
    "start_time": "2025-02-05T23:47:25.412Z"
   },
   {
    "duration": 0,
    "start_time": "2025-02-05T23:47:25.635Z"
   },
   {
    "duration": 0,
    "start_time": "2025-02-05T23:47:25.636Z"
   },
   {
    "duration": 0,
    "start_time": "2025-02-05T23:47:25.639Z"
   },
   {
    "duration": 0,
    "start_time": "2025-02-05T23:47:25.640Z"
   },
   {
    "duration": 0,
    "start_time": "2025-02-05T23:47:25.641Z"
   },
   {
    "duration": 0,
    "start_time": "2025-02-05T23:47:25.643Z"
   },
   {
    "duration": 0,
    "start_time": "2025-02-05T23:47:25.645Z"
   },
   {
    "duration": 0,
    "start_time": "2025-02-05T23:47:25.646Z"
   },
   {
    "duration": 0,
    "start_time": "2025-02-05T23:47:25.647Z"
   },
   {
    "duration": 0,
    "start_time": "2025-02-05T23:47:25.648Z"
   },
   {
    "duration": 0,
    "start_time": "2025-02-05T23:47:25.649Z"
   },
   {
    "duration": 0,
    "start_time": "2025-02-05T23:47:25.650Z"
   },
   {
    "duration": 11,
    "start_time": "2025-02-05T23:47:46.105Z"
   },
   {
    "duration": 1352,
    "start_time": "2025-02-05T23:47:46.119Z"
   },
   {
    "duration": 0,
    "start_time": "2025-02-05T23:47:47.473Z"
   },
   {
    "duration": 0,
    "start_time": "2025-02-05T23:47:47.474Z"
   },
   {
    "duration": 0,
    "start_time": "2025-02-05T23:47:47.476Z"
   },
   {
    "duration": 0,
    "start_time": "2025-02-05T23:47:47.477Z"
   },
   {
    "duration": 0,
    "start_time": "2025-02-05T23:47:47.479Z"
   },
   {
    "duration": 0,
    "start_time": "2025-02-05T23:47:47.481Z"
   },
   {
    "duration": 0,
    "start_time": "2025-02-05T23:47:47.482Z"
   },
   {
    "duration": 0,
    "start_time": "2025-02-05T23:47:47.484Z"
   },
   {
    "duration": 0,
    "start_time": "2025-02-05T23:47:47.485Z"
   },
   {
    "duration": 0,
    "start_time": "2025-02-05T23:47:47.486Z"
   },
   {
    "duration": 5464,
    "start_time": "2025-02-05T23:48:27.701Z"
   },
   {
    "duration": 6345,
    "start_time": "2025-02-05T23:48:34.423Z"
   },
   {
    "duration": 1957,
    "start_time": "2025-02-05T23:48:40.771Z"
   },
   {
    "duration": 0,
    "start_time": "2025-02-05T23:48:42.731Z"
   },
   {
    "duration": 0,
    "start_time": "2025-02-05T23:48:42.732Z"
   },
   {
    "duration": 0,
    "start_time": "2025-02-05T23:48:42.734Z"
   },
   {
    "duration": 0,
    "start_time": "2025-02-05T23:48:42.735Z"
   },
   {
    "duration": 0,
    "start_time": "2025-02-05T23:48:42.736Z"
   },
   {
    "duration": 0,
    "start_time": "2025-02-05T23:48:42.738Z"
   },
   {
    "duration": 0,
    "start_time": "2025-02-05T23:48:42.739Z"
   },
   {
    "duration": 0,
    "start_time": "2025-02-05T23:48:42.740Z"
   },
   {
    "duration": 0,
    "start_time": "2025-02-05T23:48:42.742Z"
   },
   {
    "duration": 6,
    "start_time": "2025-02-05T23:49:24.671Z"
   },
   {
    "duration": 33,
    "start_time": "2025-02-05T23:49:24.681Z"
   },
   {
    "duration": 9,
    "start_time": "2025-02-05T23:49:24.716Z"
   },
   {
    "duration": 11,
    "start_time": "2025-02-05T23:49:24.727Z"
   },
   {
    "duration": 16,
    "start_time": "2025-02-05T23:49:24.741Z"
   },
   {
    "duration": 13,
    "start_time": "2025-02-05T23:49:24.759Z"
   },
   {
    "duration": 2132,
    "start_time": "2025-02-05T23:49:24.775Z"
   },
   {
    "duration": 191,
    "start_time": "2025-02-05T23:49:26.909Z"
   },
   {
    "duration": 183,
    "start_time": "2025-02-05T23:49:27.103Z"
   },
   {
    "duration": 13,
    "start_time": "2025-02-05T23:49:27.289Z"
   },
   {
    "duration": 19,
    "start_time": "2025-02-05T23:49:27.304Z"
   },
   {
    "duration": 9,
    "start_time": "2025-02-05T23:49:27.326Z"
   },
   {
    "duration": 11,
    "start_time": "2025-02-05T23:49:27.338Z"
   },
   {
    "duration": 30,
    "start_time": "2025-02-05T23:49:27.354Z"
   },
   {
    "duration": 12,
    "start_time": "2025-02-05T23:49:27.386Z"
   },
   {
    "duration": 35,
    "start_time": "2025-02-05T23:49:27.400Z"
   },
   {
    "duration": 30,
    "start_time": "2025-02-05T23:49:27.438Z"
   },
   {
    "duration": 67,
    "start_time": "2025-02-05T23:49:27.469Z"
   },
   {
    "duration": 19,
    "start_time": "2025-02-05T23:49:27.539Z"
   },
   {
    "duration": 18,
    "start_time": "2025-02-05T23:49:27.561Z"
   },
   {
    "duration": 9,
    "start_time": "2025-02-05T23:49:27.581Z"
   },
   {
    "duration": 5,
    "start_time": "2025-02-05T23:49:27.592Z"
   },
   {
    "duration": 23,
    "start_time": "2025-02-05T23:49:27.600Z"
   },
   {
    "duration": 6082,
    "start_time": "2025-02-05T23:49:27.625Z"
   },
   {
    "duration": 15,
    "start_time": "2025-02-05T23:49:33.709Z"
   },
   {
    "duration": 5,
    "start_time": "2025-02-05T23:49:33.728Z"
   },
   {
    "duration": 5914,
    "start_time": "2025-02-05T23:49:33.734Z"
   },
   {
    "duration": 1420,
    "start_time": "2025-02-05T23:49:39.650Z"
   },
   {
    "duration": 0,
    "start_time": "2025-02-05T23:49:41.073Z"
   },
   {
    "duration": 0,
    "start_time": "2025-02-05T23:49:41.074Z"
   },
   {
    "duration": 0,
    "start_time": "2025-02-05T23:49:41.075Z"
   },
   {
    "duration": 0,
    "start_time": "2025-02-05T23:49:41.076Z"
   },
   {
    "duration": 0,
    "start_time": "2025-02-05T23:49:41.078Z"
   },
   {
    "duration": 0,
    "start_time": "2025-02-05T23:49:41.079Z"
   },
   {
    "duration": 0,
    "start_time": "2025-02-05T23:49:41.080Z"
   },
   {
    "duration": 0,
    "start_time": "2025-02-05T23:49:41.081Z"
   },
   {
    "duration": 0,
    "start_time": "2025-02-05T23:49:41.083Z"
   },
   {
    "duration": 4,
    "start_time": "2025-02-05T23:50:30.701Z"
   },
   {
    "duration": 5,
    "start_time": "2025-02-05T23:50:31.750Z"
   },
   {
    "duration": 1098,
    "start_time": "2025-02-05T23:50:32.485Z"
   },
   {
    "duration": 7,
    "start_time": "2025-02-05T23:56:15.309Z"
   },
   {
    "duration": 41,
    "start_time": "2025-02-05T23:56:15.319Z"
   },
   {
    "duration": 11,
    "start_time": "2025-02-05T23:56:15.362Z"
   },
   {
    "duration": 14,
    "start_time": "2025-02-05T23:56:15.376Z"
   },
   {
    "duration": 35,
    "start_time": "2025-02-05T23:56:15.392Z"
   },
   {
    "duration": 15,
    "start_time": "2025-02-05T23:56:15.430Z"
   },
   {
    "duration": 1625,
    "start_time": "2025-02-05T23:56:15.446Z"
   },
   {
    "duration": 204,
    "start_time": "2025-02-05T23:56:17.073Z"
   },
   {
    "duration": 168,
    "start_time": "2025-02-05T23:56:17.279Z"
   },
   {
    "duration": 9,
    "start_time": "2025-02-05T23:56:17.451Z"
   },
   {
    "duration": 12,
    "start_time": "2025-02-05T23:56:17.462Z"
   },
   {
    "duration": 11,
    "start_time": "2025-02-05T23:56:17.476Z"
   },
   {
    "duration": 38,
    "start_time": "2025-02-05T23:56:17.489Z"
   },
   {
    "duration": 31,
    "start_time": "2025-02-05T23:56:17.537Z"
   },
   {
    "duration": 8,
    "start_time": "2025-02-05T23:56:17.570Z"
   },
   {
    "duration": 11,
    "start_time": "2025-02-05T23:56:17.579Z"
   },
   {
    "duration": 46,
    "start_time": "2025-02-05T23:56:17.597Z"
   },
   {
    "duration": 52,
    "start_time": "2025-02-05T23:56:17.645Z"
   },
   {
    "duration": 25,
    "start_time": "2025-02-05T23:56:17.699Z"
   },
   {
    "duration": 18,
    "start_time": "2025-02-05T23:56:17.726Z"
   },
   {
    "duration": 11,
    "start_time": "2025-02-05T23:56:17.746Z"
   },
   {
    "duration": 5,
    "start_time": "2025-02-05T23:56:17.759Z"
   },
   {
    "duration": 5,
    "start_time": "2025-02-05T23:56:17.766Z"
   },
   {
    "duration": 4959,
    "start_time": "2025-02-05T23:56:17.774Z"
   },
   {
    "duration": 4,
    "start_time": "2025-02-05T23:56:22.735Z"
   },
   {
    "duration": 5,
    "start_time": "2025-02-05T23:56:22.741Z"
   },
   {
    "duration": 6120,
    "start_time": "2025-02-05T23:56:22.748Z"
   },
   {
    "duration": 1513,
    "start_time": "2025-02-05T23:56:28.872Z"
   },
   {
    "duration": 0,
    "start_time": "2025-02-05T23:56:30.387Z"
   },
   {
    "duration": 0,
    "start_time": "2025-02-05T23:56:30.390Z"
   },
   {
    "duration": 0,
    "start_time": "2025-02-05T23:56:30.391Z"
   },
   {
    "duration": 6973,
    "start_time": "2025-02-05T23:56:49.495Z"
   },
   {
    "duration": 5731,
    "start_time": "2025-02-05T23:56:56.470Z"
   },
   {
    "duration": 6,
    "start_time": "2025-02-05T23:57:02.204Z"
   },
   {
    "duration": 16,
    "start_time": "2025-02-05T23:57:02.213Z"
   },
   {
    "duration": 4,
    "start_time": "2025-02-05T23:57:02.232Z"
   },
   {
    "duration": 5,
    "start_time": "2025-02-05T23:57:20.035Z"
   },
   {
    "duration": 4,
    "start_time": "2025-02-05T23:57:55.376Z"
   },
   {
    "duration": 4,
    "start_time": "2025-02-05T23:57:59.820Z"
   },
   {
    "duration": 42,
    "start_time": "2025-02-05T23:58:36.939Z"
   },
   {
    "duration": 8,
    "start_time": "2025-02-05T23:59:46.667Z"
   },
   {
    "duration": 36,
    "start_time": "2025-02-05T23:59:46.678Z"
   },
   {
    "duration": 10,
    "start_time": "2025-02-05T23:59:46.716Z"
   },
   {
    "duration": 12,
    "start_time": "2025-02-05T23:59:46.728Z"
   },
   {
    "duration": 16,
    "start_time": "2025-02-05T23:59:46.744Z"
   },
   {
    "duration": 15,
    "start_time": "2025-02-05T23:59:46.762Z"
   },
   {
    "duration": 2378,
    "start_time": "2025-02-05T23:59:46.780Z"
   },
   {
    "duration": 219,
    "start_time": "2025-02-05T23:59:49.160Z"
   },
   {
    "duration": 177,
    "start_time": "2025-02-05T23:59:49.381Z"
   },
   {
    "duration": 8,
    "start_time": "2025-02-05T23:59:49.560Z"
   },
   {
    "duration": 11,
    "start_time": "2025-02-05T23:59:49.571Z"
   },
   {
    "duration": 9,
    "start_time": "2025-02-05T23:59:49.584Z"
   },
   {
    "duration": 37,
    "start_time": "2025-02-05T23:59:49.595Z"
   },
   {
    "duration": 26,
    "start_time": "2025-02-05T23:59:49.637Z"
   },
   {
    "duration": 7,
    "start_time": "2025-02-05T23:59:49.665Z"
   },
   {
    "duration": 9,
    "start_time": "2025-02-05T23:59:49.674Z"
   },
   {
    "duration": 55,
    "start_time": "2025-02-05T23:59:49.685Z"
   },
   {
    "duration": 39,
    "start_time": "2025-02-05T23:59:49.742Z"
   },
   {
    "duration": 15,
    "start_time": "2025-02-05T23:59:49.783Z"
   },
   {
    "duration": 31,
    "start_time": "2025-02-05T23:59:49.800Z"
   },
   {
    "duration": 8,
    "start_time": "2025-02-05T23:59:49.833Z"
   },
   {
    "duration": 4,
    "start_time": "2025-02-05T23:59:49.843Z"
   },
   {
    "duration": 4,
    "start_time": "2025-02-05T23:59:49.848Z"
   },
   {
    "duration": 4903,
    "start_time": "2025-02-05T23:59:49.854Z"
   },
   {
    "duration": 5,
    "start_time": "2025-02-05T23:59:54.760Z"
   },
   {
    "duration": 6,
    "start_time": "2025-02-05T23:59:54.767Z"
   },
   {
    "duration": 6106,
    "start_time": "2025-02-05T23:59:54.775Z"
   },
   {
    "duration": 6880,
    "start_time": "2025-02-06T00:00:00.884Z"
   },
   {
    "duration": 6053,
    "start_time": "2025-02-06T00:00:07.766Z"
   },
   {
    "duration": 7,
    "start_time": "2025-02-06T00:00:13.826Z"
   },
   {
    "duration": 6,
    "start_time": "2025-02-06T00:00:13.835Z"
   },
   {
    "duration": 40,
    "start_time": "2025-02-06T00:00:22.730Z"
   },
   {
    "duration": 5,
    "start_time": "2025-02-06T00:00:27.684Z"
   },
   {
    "duration": 22,
    "start_time": "2025-02-06T00:00:28.558Z"
   },
   {
    "duration": 19,
    "start_time": "2025-02-06T00:01:08.273Z"
   },
   {
    "duration": 17,
    "start_time": "2025-02-06T00:01:21.575Z"
   },
   {
    "duration": 50,
    "start_time": "2025-02-06T00:01:24.769Z"
   },
   {
    "duration": 7,
    "start_time": "2025-02-06T00:01:50.219Z"
   },
   {
    "duration": 34,
    "start_time": "2025-02-06T00:01:50.228Z"
   },
   {
    "duration": 9,
    "start_time": "2025-02-06T00:01:50.264Z"
   },
   {
    "duration": 11,
    "start_time": "2025-02-06T00:01:50.275Z"
   },
   {
    "duration": 46,
    "start_time": "2025-02-06T00:01:50.288Z"
   },
   {
    "duration": 13,
    "start_time": "2025-02-06T00:01:50.336Z"
   },
   {
    "duration": 2224,
    "start_time": "2025-02-06T00:01:50.351Z"
   },
   {
    "duration": 204,
    "start_time": "2025-02-06T00:01:52.577Z"
   },
   {
    "duration": 161,
    "start_time": "2025-02-06T00:01:52.783Z"
   },
   {
    "duration": 10,
    "start_time": "2025-02-06T00:01:52.947Z"
   },
   {
    "duration": 11,
    "start_time": "2025-02-06T00:01:52.959Z"
   },
   {
    "duration": 10,
    "start_time": "2025-02-06T00:01:52.972Z"
   },
   {
    "duration": 11,
    "start_time": "2025-02-06T00:01:52.987Z"
   },
   {
    "duration": 28,
    "start_time": "2025-02-06T00:01:53.028Z"
   },
   {
    "duration": 6,
    "start_time": "2025-02-06T00:01:53.058Z"
   },
   {
    "duration": 9,
    "start_time": "2025-02-06T00:01:53.066Z"
   },
   {
    "duration": 52,
    "start_time": "2025-02-06T00:01:53.077Z"
   },
   {
    "duration": 35,
    "start_time": "2025-02-06T00:01:53.132Z"
   },
   {
    "duration": 16,
    "start_time": "2025-02-06T00:01:53.169Z"
   },
   {
    "duration": 12,
    "start_time": "2025-02-06T00:01:53.187Z"
   },
   {
    "duration": 26,
    "start_time": "2025-02-06T00:01:53.201Z"
   },
   {
    "duration": 5,
    "start_time": "2025-02-06T00:01:53.229Z"
   },
   {
    "duration": 4,
    "start_time": "2025-02-06T00:01:53.236Z"
   },
   {
    "duration": 4819,
    "start_time": "2025-02-06T00:01:53.242Z"
   },
   {
    "duration": 3,
    "start_time": "2025-02-06T00:01:58.066Z"
   },
   {
    "duration": 5,
    "start_time": "2025-02-06T00:01:58.071Z"
   },
   {
    "duration": 5501,
    "start_time": "2025-02-06T00:01:58.077Z"
   },
   {
    "duration": 6780,
    "start_time": "2025-02-06T00:02:03.580Z"
   },
   {
    "duration": 6145,
    "start_time": "2025-02-06T00:02:10.362Z"
   },
   {
    "duration": 15,
    "start_time": "2025-02-06T00:02:16.510Z"
   },
   {
    "duration": 6,
    "start_time": "2025-02-06T00:02:16.527Z"
   },
   {
    "duration": 26,
    "start_time": "2025-02-06T00:02:16.536Z"
   },
   {
    "duration": 6,
    "start_time": "2025-02-06T00:02:16.564Z"
   },
   {
    "duration": 13,
    "start_time": "2025-02-06T00:02:16.572Z"
   },
   {
    "duration": 5,
    "start_time": "2025-02-06T00:02:16.588Z"
   },
   {
    "duration": 115,
    "start_time": "2025-02-06T00:02:16.595Z"
   },
   {
    "duration": 0,
    "start_time": "2025-02-06T00:02:16.712Z"
   },
   {
    "duration": 5,
    "start_time": "2025-02-06T00:02:59.577Z"
   },
   {
    "duration": 88,
    "start_time": "2025-02-06T00:03:05.436Z"
   },
   {
    "duration": 4,
    "start_time": "2025-02-06T00:03:07.387Z"
   },
   {
    "duration": 4,
    "start_time": "2025-02-06T00:03:54.558Z"
   },
   {
    "duration": 25,
    "start_time": "2025-02-06T00:05:56.554Z"
   },
   {
    "duration": 4,
    "start_time": "2025-02-06T00:06:16.559Z"
   },
   {
    "duration": 76,
    "start_time": "2025-02-06T00:06:17.854Z"
   },
   {
    "duration": 19,
    "start_time": "2025-02-06T00:06:25.784Z"
   },
   {
    "duration": 4,
    "start_time": "2025-02-06T00:06:26.850Z"
   },
   {
    "duration": 173,
    "start_time": "2025-02-06T00:06:27.785Z"
   },
   {
    "duration": 136,
    "start_time": "2025-02-06T00:06:49.088Z"
   },
   {
    "duration": 5,
    "start_time": "2025-02-06T00:09:55.397Z"
   },
   {
    "duration": 29,
    "start_time": "2025-02-06T00:10:21.727Z"
   },
   {
    "duration": 53,
    "start_time": "2025-02-06T00:10:33.892Z"
   },
   {
    "duration": 4,
    "start_time": "2025-02-06T00:10:35.229Z"
   },
   {
    "duration": 4,
    "start_time": "2025-02-06T00:10:36.944Z"
   },
   {
    "duration": 160,
    "start_time": "2025-02-06T00:10:37.664Z"
   },
   {
    "duration": 7,
    "start_time": "2025-02-06T00:11:22.962Z"
   },
   {
    "duration": 5,
    "start_time": "2025-02-06T00:11:23.510Z"
   },
   {
    "duration": 30,
    "start_time": "2025-02-06T00:11:24.219Z"
   },
   {
    "duration": 4,
    "start_time": "2025-02-06T00:11:24.804Z"
   },
   {
    "duration": 126,
    "start_time": "2025-02-06T00:11:25.563Z"
   },
   {
    "duration": 3,
    "start_time": "2025-02-06T00:12:52.240Z"
   },
   {
    "duration": 110,
    "start_time": "2025-02-06T00:18:47.818Z"
   },
   {
    "duration": 4,
    "start_time": "2025-02-06T00:19:32.444Z"
   },
   {
    "duration": 141,
    "start_time": "2025-02-06T00:19:43.895Z"
   },
   {
    "duration": 456,
    "start_time": "2025-02-06T00:22:57.522Z"
   },
   {
    "duration": 4,
    "start_time": "2025-02-06T00:23:10.211Z"
   },
   {
    "duration": 374,
    "start_time": "2025-02-06T00:23:37.312Z"
   },
   {
    "duration": 6,
    "start_time": "2025-02-06T00:23:39.110Z"
   },
   {
    "duration": 177,
    "start_time": "2025-02-06T00:23:51.914Z"
   },
   {
    "duration": 5046,
    "start_time": "2025-02-06T16:06:09.768Z"
   },
   {
    "duration": 66,
    "start_time": "2025-02-06T16:06:14.817Z"
   },
   {
    "duration": 12,
    "start_time": "2025-02-06T16:06:14.885Z"
   },
   {
    "duration": 13,
    "start_time": "2025-02-06T16:06:14.898Z"
   },
   {
    "duration": 18,
    "start_time": "2025-02-06T16:06:14.914Z"
   },
   {
    "duration": 14,
    "start_time": "2025-02-06T16:06:14.934Z"
   },
   {
    "duration": 1781,
    "start_time": "2025-02-06T16:06:14.950Z"
   },
   {
    "duration": 177,
    "start_time": "2025-02-06T16:06:16.733Z"
   },
   {
    "duration": 162,
    "start_time": "2025-02-06T16:06:16.912Z"
   },
   {
    "duration": 9,
    "start_time": "2025-02-06T16:06:17.076Z"
   },
   {
    "duration": 9,
    "start_time": "2025-02-06T16:06:17.086Z"
   },
   {
    "duration": 8,
    "start_time": "2025-02-06T16:06:17.097Z"
   },
   {
    "duration": 9,
    "start_time": "2025-02-06T16:06:17.107Z"
   },
   {
    "duration": 56,
    "start_time": "2025-02-06T16:06:17.120Z"
   },
   {
    "duration": 10,
    "start_time": "2025-02-06T16:06:17.178Z"
   },
   {
    "duration": 13,
    "start_time": "2025-02-06T16:06:17.190Z"
   },
   {
    "duration": 24,
    "start_time": "2025-02-06T16:06:17.205Z"
   },
   {
    "duration": 40,
    "start_time": "2025-02-06T16:06:17.231Z"
   },
   {
    "duration": 12,
    "start_time": "2025-02-06T16:06:17.273Z"
   },
   {
    "duration": 9,
    "start_time": "2025-02-06T16:06:17.287Z"
   },
   {
    "duration": 7,
    "start_time": "2025-02-06T16:06:17.298Z"
   },
   {
    "duration": 4,
    "start_time": "2025-02-06T16:06:17.306Z"
   },
   {
    "duration": 4,
    "start_time": "2025-02-06T16:06:17.312Z"
   },
   {
    "duration": 4248,
    "start_time": "2025-02-06T16:06:17.317Z"
   },
   {
    "duration": 9,
    "start_time": "2025-02-06T16:06:21.570Z"
   },
   {
    "duration": 8,
    "start_time": "2025-02-06T16:06:21.583Z"
   },
   {
    "duration": 5153,
    "start_time": "2025-02-06T16:06:21.593Z"
   },
   {
    "duration": 6355,
    "start_time": "2025-02-06T16:06:26.748Z"
   },
   {
    "duration": 5147,
    "start_time": "2025-02-06T16:06:33.105Z"
   },
   {
    "duration": 16,
    "start_time": "2025-02-06T16:06:38.254Z"
   },
   {
    "duration": 5,
    "start_time": "2025-02-06T16:06:38.272Z"
   },
   {
    "duration": 18,
    "start_time": "2025-02-06T16:06:38.279Z"
   },
   {
    "duration": 5,
    "start_time": "2025-02-06T16:06:38.299Z"
   },
   {
    "duration": 13,
    "start_time": "2025-02-06T16:06:38.306Z"
   },
   {
    "duration": 5,
    "start_time": "2025-02-06T16:06:38.322Z"
   },
   {
    "duration": 4,
    "start_time": "2025-02-06T16:06:38.329Z"
   },
   {
    "duration": 62,
    "start_time": "2025-02-06T16:06:38.335Z"
   },
   {
    "duration": 76,
    "start_time": "2025-02-06T16:06:38.399Z"
   },
   {
    "duration": 147,
    "start_time": "2025-02-06T16:06:38.478Z"
   },
   {
    "duration": 47,
    "start_time": "2025-02-06T16:06:38.627Z"
   },
   {
    "duration": 3,
    "start_time": "2025-02-06T16:06:38.679Z"
   },
   {
    "duration": 197,
    "start_time": "2025-02-06T16:06:38.684Z"
   },
   {
    "duration": 327,
    "start_time": "2025-02-06T16:06:38.883Z"
   },
   {
    "duration": 4,
    "start_time": "2025-02-06T16:06:39.212Z"
   },
   {
    "duration": 119,
    "start_time": "2025-02-06T16:06:39.217Z"
   },
   {
    "duration": 5,
    "start_time": "2025-02-06T16:35:37.342Z"
   },
   {
    "duration": 715,
    "start_time": "2025-02-06T16:36:08.372Z"
   },
   {
    "duration": 6,
    "start_time": "2025-02-06T16:36:30.431Z"
   },
   {
    "duration": 5,
    "start_time": "2025-02-06T16:36:34.307Z"
   },
   {
    "duration": 238,
    "start_time": "2025-02-06T16:36:34.807Z"
   },
   {
    "duration": 5,
    "start_time": "2025-02-06T16:38:11.522Z"
   },
   {
    "duration": 105,
    "start_time": "2025-02-06T16:38:12.806Z"
   },
   {
    "duration": 4,
    "start_time": "2025-02-06T16:38:33.659Z"
   },
   {
    "duration": 108,
    "start_time": "2025-02-06T16:38:36.162Z"
   },
   {
    "duration": 5,
    "start_time": "2025-02-06T16:39:37.498Z"
   },
   {
    "duration": 731,
    "start_time": "2025-02-06T16:39:39.049Z"
   },
   {
    "duration": 4,
    "start_time": "2025-02-06T16:40:50.604Z"
   },
   {
    "duration": 4,
    "start_time": "2025-02-06T16:43:13.715Z"
   },
   {
    "duration": 680,
    "start_time": "2025-02-06T16:43:14.910Z"
   },
   {
    "duration": 3,
    "start_time": "2025-02-06T16:43:16.552Z"
   },
   {
    "duration": 20,
    "start_time": "2025-02-06T16:45:53.381Z"
   },
   {
    "duration": 4,
    "start_time": "2025-02-06T16:45:56.451Z"
   },
   {
    "duration": 714,
    "start_time": "2025-02-06T16:45:57.361Z"
   },
   {
    "duration": 3,
    "start_time": "2025-02-06T16:45:58.824Z"
   },
   {
    "duration": 5,
    "start_time": "2025-02-06T16:45:59.790Z"
   },
   {
    "duration": 4,
    "start_time": "2025-02-06T16:47:42.765Z"
   },
   {
    "duration": 706,
    "start_time": "2025-02-06T16:47:43.588Z"
   },
   {
    "duration": 3,
    "start_time": "2025-02-06T16:47:45.240Z"
   },
   {
    "duration": 4,
    "start_time": "2025-02-06T16:47:47.430Z"
   },
   {
    "duration": 110,
    "start_time": "2025-02-06T16:48:18.280Z"
   },
   {
    "duration": 5039,
    "start_time": "2025-02-06T18:32:09.850Z"
   },
   {
    "duration": 61,
    "start_time": "2025-02-06T18:32:14.891Z"
   },
   {
    "duration": 14,
    "start_time": "2025-02-06T18:32:14.954Z"
   },
   {
    "duration": 13,
    "start_time": "2025-02-06T18:32:14.969Z"
   },
   {
    "duration": 14,
    "start_time": "2025-02-06T18:32:14.985Z"
   },
   {
    "duration": 12,
    "start_time": "2025-02-06T18:32:15.001Z"
   },
   {
    "duration": 1787,
    "start_time": "2025-02-06T18:32:15.014Z"
   },
   {
    "duration": 175,
    "start_time": "2025-02-06T18:32:16.803Z"
   },
   {
    "duration": 143,
    "start_time": "2025-02-06T18:32:16.982Z"
   },
   {
    "duration": 9,
    "start_time": "2025-02-06T18:32:17.127Z"
   },
   {
    "duration": 8,
    "start_time": "2025-02-06T18:32:17.139Z"
   },
   {
    "duration": 9,
    "start_time": "2025-02-06T18:32:17.149Z"
   },
   {
    "duration": 10,
    "start_time": "2025-02-06T18:32:17.160Z"
   },
   {
    "duration": 52,
    "start_time": "2025-02-06T18:32:17.175Z"
   },
   {
    "duration": 7,
    "start_time": "2025-02-06T18:32:17.229Z"
   },
   {
    "duration": 9,
    "start_time": "2025-02-06T18:32:17.238Z"
   },
   {
    "duration": 21,
    "start_time": "2025-02-06T18:32:17.248Z"
   },
   {
    "duration": 59,
    "start_time": "2025-02-06T18:32:17.270Z"
   },
   {
    "duration": 12,
    "start_time": "2025-02-06T18:32:17.331Z"
   },
   {
    "duration": 8,
    "start_time": "2025-02-06T18:32:17.345Z"
   },
   {
    "duration": 7,
    "start_time": "2025-02-06T18:32:17.354Z"
   },
   {
    "duration": 4,
    "start_time": "2025-02-06T18:32:17.362Z"
   },
   {
    "duration": 4,
    "start_time": "2025-02-06T18:32:17.368Z"
   },
   {
    "duration": 4463,
    "start_time": "2025-02-06T18:32:17.373Z"
   },
   {
    "duration": 4,
    "start_time": "2025-02-06T18:32:21.837Z"
   },
   {
    "duration": 4,
    "start_time": "2025-02-06T18:32:21.843Z"
   },
   {
    "duration": 5128,
    "start_time": "2025-02-06T18:32:21.848Z"
   },
   {
    "duration": 6261,
    "start_time": "2025-02-06T18:32:26.978Z"
   },
   {
    "duration": 5234,
    "start_time": "2025-02-06T18:32:33.241Z"
   },
   {
    "duration": 6,
    "start_time": "2025-02-06T18:32:38.477Z"
   },
   {
    "duration": 5,
    "start_time": "2025-02-06T18:32:38.485Z"
   },
   {
    "duration": 34,
    "start_time": "2025-02-06T18:32:38.491Z"
   },
   {
    "duration": 4,
    "start_time": "2025-02-06T18:32:38.526Z"
   },
   {
    "duration": 12,
    "start_time": "2025-02-06T18:32:38.532Z"
   },
   {
    "duration": 5,
    "start_time": "2025-02-06T18:32:38.546Z"
   },
   {
    "duration": 4,
    "start_time": "2025-02-06T18:32:38.553Z"
   },
   {
    "duration": 812,
    "start_time": "2025-02-06T18:32:38.559Z"
   },
   {
    "duration": 0,
    "start_time": "2025-02-06T18:32:39.374Z"
   },
   {
    "duration": 0,
    "start_time": "2025-02-06T18:32:39.375Z"
   },
   {
    "duration": 0,
    "start_time": "2025-02-06T18:32:39.377Z"
   },
   {
    "duration": 0,
    "start_time": "2025-02-06T18:32:39.378Z"
   },
   {
    "duration": 0,
    "start_time": "2025-02-06T18:32:39.380Z"
   },
   {
    "duration": 1,
    "start_time": "2025-02-06T18:32:39.381Z"
   },
   {
    "duration": 0,
    "start_time": "2025-02-06T18:32:39.382Z"
   },
   {
    "duration": 0,
    "start_time": "2025-02-06T18:32:39.384Z"
   },
   {
    "duration": 0,
    "start_time": "2025-02-06T18:32:39.385Z"
   },
   {
    "duration": 0,
    "start_time": "2025-02-06T18:32:39.386Z"
   },
   {
    "duration": 0,
    "start_time": "2025-02-06T18:32:39.387Z"
   },
   {
    "duration": 0,
    "start_time": "2025-02-06T18:32:39.388Z"
   },
   {
    "duration": 0,
    "start_time": "2025-02-06T18:32:39.411Z"
   },
   {
    "duration": 0,
    "start_time": "2025-02-06T18:32:39.413Z"
   },
   {
    "duration": 5,
    "start_time": "2025-02-06T18:36:47.726Z"
   },
   {
    "duration": 39,
    "start_time": "2025-02-06T18:37:55.182Z"
   },
   {
    "duration": 5,
    "start_time": "2025-02-06T18:38:02.919Z"
   },
   {
    "duration": 36,
    "start_time": "2025-02-06T18:38:04.294Z"
   },
   {
    "duration": 49,
    "start_time": "2025-02-06T18:38:39.132Z"
   },
   {
    "duration": 4,
    "start_time": "2025-02-06T18:38:42.581Z"
   },
   {
    "duration": 6,
    "start_time": "2025-02-06T18:42:53.621Z"
   },
   {
    "duration": 35,
    "start_time": "2025-02-06T18:42:53.629Z"
   },
   {
    "duration": 8,
    "start_time": "2025-02-06T18:42:53.666Z"
   },
   {
    "duration": 36,
    "start_time": "2025-02-06T18:42:53.678Z"
   },
   {
    "duration": 14,
    "start_time": "2025-02-06T18:42:53.716Z"
   },
   {
    "duration": 11,
    "start_time": "2025-02-06T18:42:53.731Z"
   },
   {
    "duration": 1754,
    "start_time": "2025-02-06T18:42:53.743Z"
   },
   {
    "duration": 169,
    "start_time": "2025-02-06T18:42:55.499Z"
   },
   {
    "duration": 146,
    "start_time": "2025-02-06T18:42:55.670Z"
   },
   {
    "duration": 7,
    "start_time": "2025-02-06T18:42:55.818Z"
   },
   {
    "duration": 9,
    "start_time": "2025-02-06T18:42:55.827Z"
   },
   {
    "duration": 9,
    "start_time": "2025-02-06T18:42:55.837Z"
   },
   {
    "duration": 9,
    "start_time": "2025-02-06T18:42:55.848Z"
   },
   {
    "duration": 53,
    "start_time": "2025-02-06T18:42:55.858Z"
   },
   {
    "duration": 6,
    "start_time": "2025-02-06T18:42:55.913Z"
   },
   {
    "duration": 7,
    "start_time": "2025-02-06T18:42:55.921Z"
   },
   {
    "duration": 20,
    "start_time": "2025-02-06T18:42:55.930Z"
   },
   {
    "duration": 26,
    "start_time": "2025-02-06T18:42:55.954Z"
   },
   {
    "duration": 37,
    "start_time": "2025-02-06T18:42:55.982Z"
   },
   {
    "duration": 8,
    "start_time": "2025-02-06T18:42:56.020Z"
   },
   {
    "duration": 8,
    "start_time": "2025-02-06T18:42:56.030Z"
   },
   {
    "duration": 4,
    "start_time": "2025-02-06T18:42:56.039Z"
   },
   {
    "duration": 4,
    "start_time": "2025-02-06T18:42:56.044Z"
   },
   {
    "duration": 4541,
    "start_time": "2025-02-06T18:42:56.050Z"
   },
   {
    "duration": 4,
    "start_time": "2025-02-06T18:43:00.593Z"
   },
   {
    "duration": 15,
    "start_time": "2025-02-06T18:43:00.599Z"
   },
   {
    "duration": 5155,
    "start_time": "2025-02-06T18:43:00.616Z"
   },
   {
    "duration": 6539,
    "start_time": "2025-02-06T18:43:05.773Z"
   },
   {
    "duration": 5237,
    "start_time": "2025-02-06T18:43:12.313Z"
   },
   {
    "duration": 6,
    "start_time": "2025-02-06T18:43:17.552Z"
   },
   {
    "duration": 4,
    "start_time": "2025-02-06T18:43:17.560Z"
   },
   {
    "duration": 18,
    "start_time": "2025-02-06T18:43:17.566Z"
   },
   {
    "duration": 3,
    "start_time": "2025-02-06T18:43:17.585Z"
   },
   {
    "duration": 28,
    "start_time": "2025-02-06T18:43:17.590Z"
   },
   {
    "duration": 4,
    "start_time": "2025-02-06T18:43:17.620Z"
   },
   {
    "duration": 4,
    "start_time": "2025-02-06T18:43:17.625Z"
   },
   {
    "duration": 182,
    "start_time": "2025-02-06T18:43:17.631Z"
   },
   {
    "duration": 0,
    "start_time": "2025-02-06T18:43:17.815Z"
   },
   {
    "duration": 1,
    "start_time": "2025-02-06T18:43:17.816Z"
   },
   {
    "duration": 0,
    "start_time": "2025-02-06T18:43:17.818Z"
   },
   {
    "duration": 0,
    "start_time": "2025-02-06T18:43:17.820Z"
   },
   {
    "duration": 0,
    "start_time": "2025-02-06T18:43:17.821Z"
   },
   {
    "duration": 0,
    "start_time": "2025-02-06T18:43:17.822Z"
   },
   {
    "duration": 0,
    "start_time": "2025-02-06T18:43:17.824Z"
   },
   {
    "duration": 0,
    "start_time": "2025-02-06T18:43:17.826Z"
   },
   {
    "duration": 0,
    "start_time": "2025-02-06T18:43:17.827Z"
   },
   {
    "duration": 0,
    "start_time": "2025-02-06T18:43:17.829Z"
   },
   {
    "duration": 0,
    "start_time": "2025-02-06T18:43:17.830Z"
   },
   {
    "duration": 0,
    "start_time": "2025-02-06T18:43:17.831Z"
   },
   {
    "duration": 0,
    "start_time": "2025-02-06T18:43:17.833Z"
   },
   {
    "duration": 0,
    "start_time": "2025-02-06T18:43:17.834Z"
   },
   {
    "duration": 0,
    "start_time": "2025-02-06T18:43:17.836Z"
   },
   {
    "duration": 67,
    "start_time": "2025-02-06T18:46:41.646Z"
   },
   {
    "duration": 22,
    "start_time": "2025-02-06T18:46:54.602Z"
   },
   {
    "duration": 8,
    "start_time": "2025-02-06T18:46:54.626Z"
   },
   {
    "duration": 199,
    "start_time": "2025-02-06T18:46:54.636Z"
   },
   {
    "duration": 93,
    "start_time": "2025-02-06T18:46:54.838Z"
   },
   {
    "duration": 0,
    "start_time": "2025-02-06T18:46:54.939Z"
   },
   {
    "duration": 0,
    "start_time": "2025-02-06T18:46:54.940Z"
   },
   {
    "duration": 0,
    "start_time": "2025-02-06T18:46:54.941Z"
   },
   {
    "duration": 0,
    "start_time": "2025-02-06T18:46:54.941Z"
   },
   {
    "duration": 0,
    "start_time": "2025-02-06T18:46:54.942Z"
   },
   {
    "duration": 0,
    "start_time": "2025-02-06T18:46:54.942Z"
   },
   {
    "duration": 0,
    "start_time": "2025-02-06T18:46:55.011Z"
   },
   {
    "duration": 0,
    "start_time": "2025-02-06T18:46:55.015Z"
   },
   {
    "duration": 0,
    "start_time": "2025-02-06T18:46:55.016Z"
   },
   {
    "duration": 0,
    "start_time": "2025-02-06T18:46:55.017Z"
   },
   {
    "duration": 0,
    "start_time": "2025-02-06T18:46:55.018Z"
   },
   {
    "duration": 0,
    "start_time": "2025-02-06T18:46:55.019Z"
   },
   {
    "duration": 21,
    "start_time": "2025-02-06T18:48:34.819Z"
   },
   {
    "duration": 19,
    "start_time": "2025-02-06T18:48:40.155Z"
   },
   {
    "duration": 4,
    "start_time": "2025-02-06T18:48:40.176Z"
   },
   {
    "duration": 214,
    "start_time": "2025-02-06T18:48:40.182Z"
   },
   {
    "duration": 353,
    "start_time": "2025-02-06T18:48:40.398Z"
   },
   {
    "duration": 0,
    "start_time": "2025-02-06T18:48:40.752Z"
   },
   {
    "duration": 0,
    "start_time": "2025-02-06T18:48:40.754Z"
   },
   {
    "duration": 0,
    "start_time": "2025-02-06T18:48:40.755Z"
   },
   {
    "duration": 0,
    "start_time": "2025-02-06T18:48:40.756Z"
   },
   {
    "duration": 0,
    "start_time": "2025-02-06T18:48:40.758Z"
   },
   {
    "duration": 0,
    "start_time": "2025-02-06T18:48:40.759Z"
   },
   {
    "duration": 0,
    "start_time": "2025-02-06T18:48:40.761Z"
   },
   {
    "duration": 0,
    "start_time": "2025-02-06T18:48:40.762Z"
   },
   {
    "duration": 0,
    "start_time": "2025-02-06T18:48:40.763Z"
   },
   {
    "duration": 340,
    "start_time": "2025-02-06T18:57:29.286Z"
   },
   {
    "duration": 4,
    "start_time": "2025-02-06T18:57:31.031Z"
   },
   {
    "duration": 113,
    "start_time": "2025-02-06T18:57:32.433Z"
   },
   {
    "duration": 7,
    "start_time": "2025-02-06T18:57:42.882Z"
   },
   {
    "duration": 767,
    "start_time": "2025-02-06T18:57:42.892Z"
   },
   {
    "duration": 4,
    "start_time": "2025-02-06T18:57:43.713Z"
   },
   {
    "duration": 29,
    "start_time": "2025-02-06T18:57:43.719Z"
   },
   {
    "duration": 0,
    "start_time": "2025-02-06T18:57:43.750Z"
   },
   {
    "duration": 0,
    "start_time": "2025-02-06T18:57:43.752Z"
   },
   {
    "duration": 0,
    "start_time": "2025-02-06T18:57:43.753Z"
   },
   {
    "duration": 5,
    "start_time": "2025-02-06T18:58:12.162Z"
   },
   {
    "duration": 119,
    "start_time": "2025-02-06T18:58:13.409Z"
   },
   {
    "duration": 7,
    "start_time": "2025-02-06T18:58:15.820Z"
   },
   {
    "duration": 6,
    "start_time": "2025-02-06T19:09:09.224Z"
   },
   {
    "duration": 32,
    "start_time": "2025-02-06T19:09:09.231Z"
   },
   {
    "duration": 8,
    "start_time": "2025-02-06T19:09:09.266Z"
   },
   {
    "duration": 8,
    "start_time": "2025-02-06T19:09:09.276Z"
   },
   {
    "duration": 38,
    "start_time": "2025-02-06T19:09:09.286Z"
   },
   {
    "duration": 11,
    "start_time": "2025-02-06T19:09:09.326Z"
   },
   {
    "duration": 1800,
    "start_time": "2025-02-06T19:09:09.338Z"
   },
   {
    "duration": 162,
    "start_time": "2025-02-06T19:09:11.140Z"
   },
   {
    "duration": 143,
    "start_time": "2025-02-06T19:09:11.311Z"
   },
   {
    "duration": 7,
    "start_time": "2025-02-06T19:09:11.455Z"
   },
   {
    "duration": 8,
    "start_time": "2025-02-06T19:09:11.464Z"
   },
   {
    "duration": 8,
    "start_time": "2025-02-06T19:09:11.474Z"
   },
   {
    "duration": 31,
    "start_time": "2025-02-06T19:09:11.485Z"
   },
   {
    "duration": 19,
    "start_time": "2025-02-06T19:09:11.517Z"
   },
   {
    "duration": 5,
    "start_time": "2025-02-06T19:09:11.538Z"
   },
   {
    "duration": 8,
    "start_time": "2025-02-06T19:09:11.544Z"
   },
   {
    "duration": 20,
    "start_time": "2025-02-06T19:09:11.553Z"
   },
   {
    "duration": 55,
    "start_time": "2025-02-06T19:09:11.574Z"
   },
   {
    "duration": 11,
    "start_time": "2025-02-06T19:09:11.631Z"
   },
   {
    "duration": 8,
    "start_time": "2025-02-06T19:09:11.643Z"
   },
   {
    "duration": 6,
    "start_time": "2025-02-06T19:09:11.653Z"
   },
   {
    "duration": 4,
    "start_time": "2025-02-06T19:09:11.660Z"
   },
   {
    "duration": 3,
    "start_time": "2025-02-06T19:09:11.666Z"
   },
   {
    "duration": 4484,
    "start_time": "2025-02-06T19:09:11.671Z"
   },
   {
    "duration": 5,
    "start_time": "2025-02-06T19:09:16.157Z"
   },
   {
    "duration": 4,
    "start_time": "2025-02-06T19:09:16.163Z"
   },
   {
    "duration": 5461,
    "start_time": "2025-02-06T19:09:16.170Z"
   },
   {
    "duration": 6400,
    "start_time": "2025-02-06T19:09:21.633Z"
   },
   {
    "duration": 5221,
    "start_time": "2025-02-06T19:09:28.035Z"
   },
   {
    "duration": 7,
    "start_time": "2025-02-06T19:09:33.257Z"
   },
   {
    "duration": 5,
    "start_time": "2025-02-06T19:09:33.265Z"
   },
   {
    "duration": 18,
    "start_time": "2025-02-06T19:09:33.271Z"
   },
   {
    "duration": 21,
    "start_time": "2025-02-06T19:09:33.291Z"
   },
   {
    "duration": 11,
    "start_time": "2025-02-06T19:09:33.314Z"
   },
   {
    "duration": 4,
    "start_time": "2025-02-06T19:09:33.327Z"
   },
   {
    "duration": 4,
    "start_time": "2025-02-06T19:09:33.333Z"
   },
   {
    "duration": 73,
    "start_time": "2025-02-06T19:09:33.339Z"
   },
   {
    "duration": 11,
    "start_time": "2025-02-06T19:09:33.413Z"
   },
   {
    "duration": 193,
    "start_time": "2025-02-06T19:09:33.426Z"
   },
   {
    "duration": 18,
    "start_time": "2025-02-06T19:09:33.620Z"
   },
   {
    "duration": 4,
    "start_time": "2025-02-06T19:09:33.640Z"
   },
   {
    "duration": 252,
    "start_time": "2025-02-06T19:09:33.645Z"
   },
   {
    "duration": 316,
    "start_time": "2025-02-06T19:09:33.912Z"
   },
   {
    "duration": 4,
    "start_time": "2025-02-06T19:09:34.230Z"
   },
   {
    "duration": 122,
    "start_time": "2025-02-06T19:09:34.236Z"
   },
   {
    "duration": 5,
    "start_time": "2025-02-06T19:09:34.359Z"
   },
   {
    "duration": 764,
    "start_time": "2025-02-06T19:09:34.366Z"
   },
   {
    "duration": 79,
    "start_time": "2025-02-06T19:09:35.132Z"
   },
   {
    "duration": 8,
    "start_time": "2025-02-06T19:09:35.213Z"
   },
   {
    "duration": 205,
    "start_time": "2025-02-06T19:09:35.223Z"
   },
   {
    "duration": 4,
    "start_time": "2025-02-06T19:09:35.430Z"
   },
   {
    "duration": 103211,
    "start_time": "2025-02-06T19:12:57.322Z"
   },
   {
    "duration": 7,
    "start_time": "2025-02-06T19:19:39.988Z"
   },
   {
    "duration": 36,
    "start_time": "2025-02-06T19:20:28.209Z"
   },
   {
    "duration": 110,
    "start_time": "2025-02-06T19:20:42.215Z"
   },
   {
    "duration": 5,
    "start_time": "2025-02-06T19:21:47.643Z"
   },
   {
    "duration": 1168254,
    "start_time": "2025-02-06T19:21:49.871Z"
   },
   {
    "duration": 6,
    "start_time": "2025-02-06T19:45:08.964Z"
   },
   {
    "duration": 38,
    "start_time": "2025-02-06T19:45:12.928Z"
   },
   {
    "duration": 126,
    "start_time": "2025-02-06T19:45:14.975Z"
   },
   {
    "duration": 5254,
    "start_time": "2025-02-06T22:20:56.373Z"
   },
   {
    "duration": 71,
    "start_time": "2025-02-06T22:21:01.630Z"
   },
   {
    "duration": 13,
    "start_time": "2025-02-06T22:21:01.702Z"
   },
   {
    "duration": 11,
    "start_time": "2025-02-06T22:21:01.716Z"
   },
   {
    "duration": 14,
    "start_time": "2025-02-06T22:21:01.730Z"
   },
   {
    "duration": 12,
    "start_time": "2025-02-06T22:21:01.746Z"
   },
   {
    "duration": 1628,
    "start_time": "2025-02-06T22:21:01.760Z"
   },
   {
    "duration": 312,
    "start_time": "2025-02-06T22:21:03.390Z"
   },
   {
    "duration": 151,
    "start_time": "2025-02-06T22:21:03.704Z"
   },
   {
    "duration": 7,
    "start_time": "2025-02-06T22:21:03.857Z"
   },
   {
    "duration": 10,
    "start_time": "2025-02-06T22:21:03.866Z"
   },
   {
    "duration": 9,
    "start_time": "2025-02-06T22:21:03.878Z"
   },
   {
    "duration": 9,
    "start_time": "2025-02-06T22:21:03.889Z"
   },
   {
    "duration": 51,
    "start_time": "2025-02-06T22:21:03.902Z"
   },
   {
    "duration": 5,
    "start_time": "2025-02-06T22:21:03.955Z"
   },
   {
    "duration": 8,
    "start_time": "2025-02-06T22:21:03.962Z"
   },
   {
    "duration": 21,
    "start_time": "2025-02-06T22:21:03.972Z"
   },
   {
    "duration": 57,
    "start_time": "2025-02-06T22:21:03.995Z"
   },
   {
    "duration": 12,
    "start_time": "2025-02-06T22:21:04.054Z"
   },
   {
    "duration": 9,
    "start_time": "2025-02-06T22:21:04.068Z"
   },
   {
    "duration": 7,
    "start_time": "2025-02-06T22:21:04.078Z"
   },
   {
    "duration": 4,
    "start_time": "2025-02-06T22:21:04.087Z"
   },
   {
    "duration": 5,
    "start_time": "2025-02-06T22:21:04.092Z"
   },
   {
    "duration": 4599,
    "start_time": "2025-02-06T22:21:04.098Z"
   },
   {
    "duration": 4,
    "start_time": "2025-02-06T22:21:08.699Z"
   },
   {
    "duration": 4,
    "start_time": "2025-02-06T22:21:08.705Z"
   },
   {
    "duration": 5401,
    "start_time": "2025-02-06T22:21:08.711Z"
   },
   {
    "duration": 6345,
    "start_time": "2025-02-06T22:21:14.114Z"
   },
   {
    "duration": 5434,
    "start_time": "2025-02-06T22:21:20.461Z"
   },
   {
    "duration": 7,
    "start_time": "2025-02-06T22:21:25.897Z"
   },
   {
    "duration": 5,
    "start_time": "2025-02-06T22:21:25.907Z"
   },
   {
    "duration": 32,
    "start_time": "2025-02-06T22:21:25.915Z"
   },
   {
    "duration": 4,
    "start_time": "2025-02-06T22:21:25.949Z"
   },
   {
    "duration": 13,
    "start_time": "2025-02-06T22:21:25.955Z"
   },
   {
    "duration": 4,
    "start_time": "2025-02-06T22:21:25.970Z"
   },
   {
    "duration": 4,
    "start_time": "2025-02-06T22:21:25.975Z"
   },
   {
    "duration": 54,
    "start_time": "2025-02-06T22:21:25.981Z"
   },
   {
    "duration": 4,
    "start_time": "2025-02-06T22:21:26.037Z"
   },
   {
    "duration": 202,
    "start_time": "2025-02-06T22:21:26.042Z"
   },
   {
    "duration": 18,
    "start_time": "2025-02-06T22:21:26.247Z"
   },
   {
    "duration": 62,
    "start_time": "2025-02-06T22:21:26.271Z"
   },
   {
    "duration": 190,
    "start_time": "2025-02-06T22:21:26.335Z"
   },
   {
    "duration": 320,
    "start_time": "2025-02-06T22:21:26.531Z"
   },
   {
    "duration": 4,
    "start_time": "2025-02-06T22:21:26.853Z"
   },
   {
    "duration": 124,
    "start_time": "2025-02-06T22:21:26.859Z"
   },
   {
    "duration": 5,
    "start_time": "2025-02-06T22:21:26.986Z"
   },
   {
    "duration": 754,
    "start_time": "2025-02-06T22:21:26.993Z"
   },
   {
    "duration": 77,
    "start_time": "2025-02-06T22:21:27.755Z"
   },
   {
    "duration": 8,
    "start_time": "2025-02-06T22:21:27.834Z"
   },
   {
    "duration": 4,
    "start_time": "2025-02-06T22:44:31.935Z"
   },
   {
    "duration": 499,
    "start_time": "2025-02-06T22:46:06.226Z"
   },
   {
    "duration": 11,
    "start_time": "2025-02-06T22:46:14.026Z"
   },
   {
    "duration": 4,
    "start_time": "2025-02-06T22:46:23.219Z"
   },
   {
    "duration": 5,
    "start_time": "2025-02-06T22:46:32.232Z"
   },
   {
    "duration": 28,
    "start_time": "2025-02-06T22:47:00.506Z"
   },
   {
    "duration": 9,
    "start_time": "2025-02-06T22:47:36.134Z"
   },
   {
    "duration": 4,
    "start_time": "2025-02-06T22:47:44.341Z"
   },
   {
    "duration": 21,
    "start_time": "2025-02-06T22:47:46.019Z"
   },
   {
    "duration": 3,
    "start_time": "2025-02-06T22:47:58.434Z"
   },
   {
    "duration": 19,
    "start_time": "2025-02-06T22:47:59.226Z"
   },
   {
    "duration": 143,
    "start_time": "2025-02-06T22:48:18.068Z"
   },
   {
    "duration": 78,
    "start_time": "2025-02-06T22:49:29.703Z"
   },
   {
    "duration": 8,
    "start_time": "2025-02-06T22:50:16.349Z"
   },
   {
    "duration": 3,
    "start_time": "2025-02-06T22:50:23.886Z"
   },
   {
    "duration": 194,
    "start_time": "2025-02-06T22:50:24.988Z"
   },
   {
    "duration": 133,
    "start_time": "2025-02-06T22:51:58.932Z"
   },
   {
    "duration": 4,
    "start_time": "2025-02-06T22:52:34.502Z"
   },
   {
    "duration": 3,
    "start_time": "2025-02-06T22:52:38.400Z"
   },
   {
    "duration": 6791,
    "start_time": "2025-02-06T22:52:41.280Z"
   },
   {
    "duration": 37,
    "start_time": "2025-02-06T23:03:25.919Z"
   }
  ],
  "kernelspec": {
   "display_name": "Python 3 (ipykernel)",
   "language": "python",
   "name": "python3"
  },
  "language_info": {
   "codemirror_mode": {
    "name": "ipython",
    "version": 3
   },
   "file_extension": ".py",
   "mimetype": "text/x-python",
   "name": "python",
   "nbconvert_exporter": "python",
   "pygments_lexer": "ipython3",
   "version": "3.12.2"
  },
  "toc": {
   "base_numbering": 1,
   "nav_menu": {},
   "number_sections": true,
   "sideBar": true,
   "skip_h1_title": true,
   "title_cell": "Table of Contents",
   "title_sidebar": "Contents",
   "toc_cell": false,
   "toc_position": {},
   "toc_section_display": true,
   "toc_window_display": false
  }
 },
 "nbformat": 4,
 "nbformat_minor": 2
}
