{
 "cells": [
  {
   "cell_type": "markdown",
   "metadata": {},
   "source": [
    "Used car sales service Rusty Bargain is developing an app to attract new customers. Thanks to this app, you can quickly find out the market value of your car. You have access to the history: technical specifications, equipment versions and prices. You have to create a model that determines the market value.\n",
    "Rusty Bargain is interested in:\n",
    "-the quality of the prediction;\n",
    "-the speed of prediction;\n",
    "-the time required for training"
   ]
  },
  {
   "cell_type": "markdown",
   "metadata": {},
   "source": [
    "##library import"
   ]
  },
  {
   "cell_type": "code",
   "execution_count": 3,
   "metadata": {},
   "outputs": [],
   "source": [
    "import numpy as np\n",
    "import pandas as pd\n",
    "import math\n",
    "import time\n",
    "import matplotlib.pyplot as plt\n",
    "import sklearn.linear_model\n",
    "import sklearn.metrics\n",
    "import sklearn.neighbors\n",
    "import sklearn.preprocessing\n",
    "import lightgbm as lgb\n",
    "import xgboost as xgb\n",
    "from sklearn.preprocessing import LabelEncoder\n",
    "from sklearn.model_selection import GridSearchCV\n",
    "from sklearn.model_selection import train_test_split\n",
    "from sklearn.ensemble import RandomForestRegressor\n",
    "from sklearn.linear_model import LogisticRegression\n",
    "from sklearn.tree import DecisionTreeClassifier\n",
    "from sklearn.neighbors import NearestNeighbors\n",
    "from sklearn.neighbors import KNeighborsClassifier\n",
    "from sklearn.linear_model import LinearRegression\n",
    "from sklearn.metrics import mean_squared_error, r2_score \n",
    "from sklearn.preprocessing import StandardScaler\n",
    "from sklearn.metrics import f1_score, confusion_matrix\n",
    "from sklearn.preprocessing import MaxAbsScaler\n",
    "from IPython.display import display\n",
    "from catboost import CatBoostRegressor\n",
    "from sklearn.metrics import roc_auc_score"
   ]
  },
  {
   "cell_type": "markdown",
   "metadata": {},
   "source": [
    "## Data preparation"
   ]
  },
  {
   "cell_type": "code",
   "execution_count": 4,
   "metadata": {},
   "outputs": [],
   "source": [
    "#import data\n",
    "df = pd.read_csv('car_data.csv')"
   ]
  },
  {
   "cell_type": "code",
   "execution_count": 5,
   "metadata": {},
   "outputs": [
    {
     "data": {
      "text/html": [
       "<div>\n",
       "<style scoped>\n",
       "    .dataframe tbody tr th:only-of-type {\n",
       "        vertical-align: middle;\n",
       "    }\n",
       "\n",
       "    .dataframe tbody tr th {\n",
       "        vertical-align: top;\n",
       "    }\n",
       "\n",
       "    .dataframe thead th {\n",
       "        text-align: right;\n",
       "    }\n",
       "</style>\n",
       "<table border=\"1\" class=\"dataframe\">\n",
       "  <thead>\n",
       "    <tr style=\"text-align: right;\">\n",
       "      <th></th>\n",
       "      <th>DateCrawled</th>\n",
       "      <th>Price</th>\n",
       "      <th>VehicleType</th>\n",
       "      <th>RegistrationYear</th>\n",
       "      <th>Gearbox</th>\n",
       "      <th>Power</th>\n",
       "      <th>Model</th>\n",
       "      <th>Mileage</th>\n",
       "      <th>RegistrationMonth</th>\n",
       "      <th>FuelType</th>\n",
       "      <th>Brand</th>\n",
       "      <th>NotRepaired</th>\n",
       "      <th>DateCreated</th>\n",
       "      <th>NumberOfPictures</th>\n",
       "      <th>PostalCode</th>\n",
       "      <th>LastSeen</th>\n",
       "    </tr>\n",
       "  </thead>\n",
       "  <tbody>\n",
       "    <tr>\n",
       "      <th>0</th>\n",
       "      <td>24/03/2016 11:52</td>\n",
       "      <td>480</td>\n",
       "      <td>NaN</td>\n",
       "      <td>1993</td>\n",
       "      <td>manual</td>\n",
       "      <td>0</td>\n",
       "      <td>golf</td>\n",
       "      <td>150000</td>\n",
       "      <td>0</td>\n",
       "      <td>petrol</td>\n",
       "      <td>volkswagen</td>\n",
       "      <td>NaN</td>\n",
       "      <td>24/03/2016 00:00</td>\n",
       "      <td>0</td>\n",
       "      <td>70435</td>\n",
       "      <td>07/04/2016 03:16</td>\n",
       "    </tr>\n",
       "    <tr>\n",
       "      <th>1</th>\n",
       "      <td>24/03/2016 10:58</td>\n",
       "      <td>18300</td>\n",
       "      <td>coupe</td>\n",
       "      <td>2011</td>\n",
       "      <td>manual</td>\n",
       "      <td>190</td>\n",
       "      <td>NaN</td>\n",
       "      <td>125000</td>\n",
       "      <td>5</td>\n",
       "      <td>gasoline</td>\n",
       "      <td>audi</td>\n",
       "      <td>yes</td>\n",
       "      <td>24/03/2016 00:00</td>\n",
       "      <td>0</td>\n",
       "      <td>66954</td>\n",
       "      <td>07/04/2016 01:46</td>\n",
       "    </tr>\n",
       "    <tr>\n",
       "      <th>2</th>\n",
       "      <td>14/03/2016 12:52</td>\n",
       "      <td>9800</td>\n",
       "      <td>suv</td>\n",
       "      <td>2004</td>\n",
       "      <td>auto</td>\n",
       "      <td>163</td>\n",
       "      <td>grand</td>\n",
       "      <td>125000</td>\n",
       "      <td>8</td>\n",
       "      <td>gasoline</td>\n",
       "      <td>jeep</td>\n",
       "      <td>NaN</td>\n",
       "      <td>14/03/2016 00:00</td>\n",
       "      <td>0</td>\n",
       "      <td>90480</td>\n",
       "      <td>05/04/2016 12:47</td>\n",
       "    </tr>\n",
       "    <tr>\n",
       "      <th>3</th>\n",
       "      <td>17/03/2016 16:54</td>\n",
       "      <td>1500</td>\n",
       "      <td>small</td>\n",
       "      <td>2001</td>\n",
       "      <td>manual</td>\n",
       "      <td>75</td>\n",
       "      <td>golf</td>\n",
       "      <td>150000</td>\n",
       "      <td>6</td>\n",
       "      <td>petrol</td>\n",
       "      <td>volkswagen</td>\n",
       "      <td>no</td>\n",
       "      <td>17/03/2016 00:00</td>\n",
       "      <td>0</td>\n",
       "      <td>91074</td>\n",
       "      <td>17/03/2016 17:40</td>\n",
       "    </tr>\n",
       "    <tr>\n",
       "      <th>4</th>\n",
       "      <td>31/03/2016 17:25</td>\n",
       "      <td>3600</td>\n",
       "      <td>small</td>\n",
       "      <td>2008</td>\n",
       "      <td>manual</td>\n",
       "      <td>69</td>\n",
       "      <td>fabia</td>\n",
       "      <td>90000</td>\n",
       "      <td>7</td>\n",
       "      <td>gasoline</td>\n",
       "      <td>skoda</td>\n",
       "      <td>no</td>\n",
       "      <td>31/03/2016 00:00</td>\n",
       "      <td>0</td>\n",
       "      <td>60437</td>\n",
       "      <td>06/04/2016 10:17</td>\n",
       "    </tr>\n",
       "  </tbody>\n",
       "</table>\n",
       "</div>"
      ],
      "text/plain": [
       "        DateCrawled  Price VehicleType  RegistrationYear Gearbox  Power  \\\n",
       "0  24/03/2016 11:52    480         NaN              1993  manual      0   \n",
       "1  24/03/2016 10:58  18300       coupe              2011  manual    190   \n",
       "2  14/03/2016 12:52   9800         suv              2004    auto    163   \n",
       "3  17/03/2016 16:54   1500       small              2001  manual     75   \n",
       "4  31/03/2016 17:25   3600       small              2008  manual     69   \n",
       "\n",
       "   Model  Mileage  RegistrationMonth  FuelType       Brand NotRepaired  \\\n",
       "0   golf   150000                  0    petrol  volkswagen         NaN   \n",
       "1    NaN   125000                  5  gasoline        audi         yes   \n",
       "2  grand   125000                  8  gasoline        jeep         NaN   \n",
       "3   golf   150000                  6    petrol  volkswagen          no   \n",
       "4  fabia    90000                  7  gasoline       skoda          no   \n",
       "\n",
       "        DateCreated  NumberOfPictures  PostalCode          LastSeen  \n",
       "0  24/03/2016 00:00                 0       70435  07/04/2016 03:16  \n",
       "1  24/03/2016 00:00                 0       66954  07/04/2016 01:46  \n",
       "2  14/03/2016 00:00                 0       90480  05/04/2016 12:47  \n",
       "3  17/03/2016 00:00                 0       91074  17/03/2016 17:40  \n",
       "4  31/03/2016 00:00                 0       60437  06/04/2016 10:17  "
      ]
     },
     "execution_count": 5,
     "metadata": {},
     "output_type": "execute_result"
    }
   ],
   "source": [
    "#Explore data\n",
    "df.head()"
   ]
  },
  {
   "cell_type": "code",
   "execution_count": 6,
   "metadata": {},
   "outputs": [
    {
     "data": {
      "text/html": [
       "<div>\n",
       "<style scoped>\n",
       "    .dataframe tbody tr th:only-of-type {\n",
       "        vertical-align: middle;\n",
       "    }\n",
       "\n",
       "    .dataframe tbody tr th {\n",
       "        vertical-align: top;\n",
       "    }\n",
       "\n",
       "    .dataframe thead th {\n",
       "        text-align: right;\n",
       "    }\n",
       "</style>\n",
       "<table border=\"1\" class=\"dataframe\">\n",
       "  <thead>\n",
       "    <tr style=\"text-align: right;\">\n",
       "      <th></th>\n",
       "      <th>Price</th>\n",
       "      <th>RegistrationYear</th>\n",
       "      <th>Power</th>\n",
       "      <th>Mileage</th>\n",
       "      <th>RegistrationMonth</th>\n",
       "      <th>NumberOfPictures</th>\n",
       "      <th>PostalCode</th>\n",
       "    </tr>\n",
       "  </thead>\n",
       "  <tbody>\n",
       "    <tr>\n",
       "      <th>count</th>\n",
       "      <td>354369.000000</td>\n",
       "      <td>354369.000000</td>\n",
       "      <td>354369.000000</td>\n",
       "      <td>354369.000000</td>\n",
       "      <td>354369.000000</td>\n",
       "      <td>354369.0</td>\n",
       "      <td>354369.000000</td>\n",
       "    </tr>\n",
       "    <tr>\n",
       "      <th>mean</th>\n",
       "      <td>4416.656776</td>\n",
       "      <td>2004.234448</td>\n",
       "      <td>110.094337</td>\n",
       "      <td>128211.172535</td>\n",
       "      <td>5.714645</td>\n",
       "      <td>0.0</td>\n",
       "      <td>50508.689087</td>\n",
       "    </tr>\n",
       "    <tr>\n",
       "      <th>std</th>\n",
       "      <td>4514.158514</td>\n",
       "      <td>90.227958</td>\n",
       "      <td>189.850405</td>\n",
       "      <td>37905.341530</td>\n",
       "      <td>3.726421</td>\n",
       "      <td>0.0</td>\n",
       "      <td>25783.096248</td>\n",
       "    </tr>\n",
       "    <tr>\n",
       "      <th>min</th>\n",
       "      <td>0.000000</td>\n",
       "      <td>1000.000000</td>\n",
       "      <td>0.000000</td>\n",
       "      <td>5000.000000</td>\n",
       "      <td>0.000000</td>\n",
       "      <td>0.0</td>\n",
       "      <td>1067.000000</td>\n",
       "    </tr>\n",
       "    <tr>\n",
       "      <th>25%</th>\n",
       "      <td>1050.000000</td>\n",
       "      <td>1999.000000</td>\n",
       "      <td>69.000000</td>\n",
       "      <td>125000.000000</td>\n",
       "      <td>3.000000</td>\n",
       "      <td>0.0</td>\n",
       "      <td>30165.000000</td>\n",
       "    </tr>\n",
       "    <tr>\n",
       "      <th>50%</th>\n",
       "      <td>2700.000000</td>\n",
       "      <td>2003.000000</td>\n",
       "      <td>105.000000</td>\n",
       "      <td>150000.000000</td>\n",
       "      <td>6.000000</td>\n",
       "      <td>0.0</td>\n",
       "      <td>49413.000000</td>\n",
       "    </tr>\n",
       "    <tr>\n",
       "      <th>75%</th>\n",
       "      <td>6400.000000</td>\n",
       "      <td>2008.000000</td>\n",
       "      <td>143.000000</td>\n",
       "      <td>150000.000000</td>\n",
       "      <td>9.000000</td>\n",
       "      <td>0.0</td>\n",
       "      <td>71083.000000</td>\n",
       "    </tr>\n",
       "    <tr>\n",
       "      <th>max</th>\n",
       "      <td>20000.000000</td>\n",
       "      <td>9999.000000</td>\n",
       "      <td>20000.000000</td>\n",
       "      <td>150000.000000</td>\n",
       "      <td>12.000000</td>\n",
       "      <td>0.0</td>\n",
       "      <td>99998.000000</td>\n",
       "    </tr>\n",
       "  </tbody>\n",
       "</table>\n",
       "</div>"
      ],
      "text/plain": [
       "               Price  RegistrationYear          Power        Mileage  \\\n",
       "count  354369.000000     354369.000000  354369.000000  354369.000000   \n",
       "mean     4416.656776       2004.234448     110.094337  128211.172535   \n",
       "std      4514.158514         90.227958     189.850405   37905.341530   \n",
       "min         0.000000       1000.000000       0.000000    5000.000000   \n",
       "25%      1050.000000       1999.000000      69.000000  125000.000000   \n",
       "50%      2700.000000       2003.000000     105.000000  150000.000000   \n",
       "75%      6400.000000       2008.000000     143.000000  150000.000000   \n",
       "max     20000.000000       9999.000000   20000.000000  150000.000000   \n",
       "\n",
       "       RegistrationMonth  NumberOfPictures     PostalCode  \n",
       "count      354369.000000          354369.0  354369.000000  \n",
       "mean            5.714645               0.0   50508.689087  \n",
       "std             3.726421               0.0   25783.096248  \n",
       "min             0.000000               0.0    1067.000000  \n",
       "25%             3.000000               0.0   30165.000000  \n",
       "50%             6.000000               0.0   49413.000000  \n",
       "75%             9.000000               0.0   71083.000000  \n",
       "max            12.000000               0.0   99998.000000  "
      ]
     },
     "execution_count": 6,
     "metadata": {},
     "output_type": "execute_result"
    }
   ],
   "source": [
    "#Show the descriptive statistics of the data.\n",
    "df.describe()"
   ]
  },
  {
   "cell_type": "code",
   "execution_count": 7,
   "metadata": {},
   "outputs": [
    {
     "name": "stdout",
     "output_type": "stream",
     "text": [
      "<class 'pandas.core.frame.DataFrame'>\n",
      "RangeIndex: 354369 entries, 0 to 354368\n",
      "Data columns (total 16 columns):\n",
      " #   Column             Non-Null Count   Dtype \n",
      "---  ------             --------------   ----- \n",
      " 0   DateCrawled        354369 non-null  object\n",
      " 1   Price              354369 non-null  int64 \n",
      " 2   VehicleType        316879 non-null  object\n",
      " 3   RegistrationYear   354369 non-null  int64 \n",
      " 4   Gearbox            334536 non-null  object\n",
      " 5   Power              354369 non-null  int64 \n",
      " 6   Model              334664 non-null  object\n",
      " 7   Mileage            354369 non-null  int64 \n",
      " 8   RegistrationMonth  354369 non-null  int64 \n",
      " 9   FuelType           321474 non-null  object\n",
      " 10  Brand              354369 non-null  object\n",
      " 11  NotRepaired        283215 non-null  object\n",
      " 12  DateCreated        354369 non-null  object\n",
      " 13  NumberOfPictures   354369 non-null  int64 \n",
      " 14  PostalCode         354369 non-null  int64 \n",
      " 15  LastSeen           354369 non-null  object\n",
      "dtypes: int64(7), object(9)\n",
      "memory usage: 43.3+ MB\n"
     ]
    }
   ],
   "source": [
    "#check that the conversion was successful\n",
    "df.info()"
   ]
  },
  {
   "cell_type": "code",
   "execution_count": 8,
   "metadata": {},
   "outputs": [
    {
     "name": "stderr",
     "output_type": "stream",
     "text": [
      "/var/folders/zz/1lh114c55jj9tjb2vztk4z340000gq/T/ipykernel_1287/2258040224.py:2: FutureWarning: A value is trying to be set on a copy of a DataFrame or Series through chained assignment using an inplace method.\n",
      "The behavior will change in pandas 3.0. This inplace method will never work because the intermediate object on which we are setting values always behaves as a copy.\n",
      "\n",
      "For example, when doing 'df[col].method(value, inplace=True)', try using 'df.method({col: value}, inplace=True)' or df[col] = df[col].method(value) instead, to perform the operation inplace on the original object.\n",
      "\n",
      "\n",
      "  df['VehicleType'].fillna('Desconocido', inplace=True)\n",
      "/var/folders/zz/1lh114c55jj9tjb2vztk4z340000gq/T/ipykernel_1287/2258040224.py:3: FutureWarning: A value is trying to be set on a copy of a DataFrame or Series through chained assignment using an inplace method.\n",
      "The behavior will change in pandas 3.0. This inplace method will never work because the intermediate object on which we are setting values always behaves as a copy.\n",
      "\n",
      "For example, when doing 'df[col].method(value, inplace=True)', try using 'df.method({col: value}, inplace=True)' or df[col] = df[col].method(value) instead, to perform the operation inplace on the original object.\n",
      "\n",
      "\n",
      "  df['Gearbox'].fillna('Desconocido', inplace=True)\n",
      "/var/folders/zz/1lh114c55jj9tjb2vztk4z340000gq/T/ipykernel_1287/2258040224.py:4: FutureWarning: A value is trying to be set on a copy of a DataFrame or Series through chained assignment using an inplace method.\n",
      "The behavior will change in pandas 3.0. This inplace method will never work because the intermediate object on which we are setting values always behaves as a copy.\n",
      "\n",
      "For example, when doing 'df[col].method(value, inplace=True)', try using 'df.method({col: value}, inplace=True)' or df[col] = df[col].method(value) instead, to perform the operation inplace on the original object.\n",
      "\n",
      "\n",
      "  df['Model'].fillna('Desconocido', inplace=True)\n",
      "/var/folders/zz/1lh114c55jj9tjb2vztk4z340000gq/T/ipykernel_1287/2258040224.py:5: FutureWarning: A value is trying to be set on a copy of a DataFrame or Series through chained assignment using an inplace method.\n",
      "The behavior will change in pandas 3.0. This inplace method will never work because the intermediate object on which we are setting values always behaves as a copy.\n",
      "\n",
      "For example, when doing 'df[col].method(value, inplace=True)', try using 'df.method({col: value}, inplace=True)' or df[col] = df[col].method(value) instead, to perform the operation inplace on the original object.\n",
      "\n",
      "\n",
      "  df['FuelType'].fillna('Desconocido', inplace=True)\n",
      "/var/folders/zz/1lh114c55jj9tjb2vztk4z340000gq/T/ipykernel_1287/2258040224.py:6: FutureWarning: A value is trying to be set on a copy of a DataFrame or Series through chained assignment using an inplace method.\n",
      "The behavior will change in pandas 3.0. This inplace method will never work because the intermediate object on which we are setting values always behaves as a copy.\n",
      "\n",
      "For example, when doing 'df[col].method(value, inplace=True)', try using 'df.method({col: value}, inplace=True)' or df[col] = df[col].method(value) instead, to perform the operation inplace on the original object.\n",
      "\n",
      "\n",
      "  df['NotRepaired'].fillna('Desconocido', inplace=True)\n"
     ]
    }
   ],
   "source": [
    "#correction of null values\n",
    "df['VehicleType'].fillna('Desconocido', inplace=True)\n",
    "df['Gearbox'].fillna('Desconocido', inplace=True)\n",
    "df['Model'].fillna('Desconocido', inplace=True)\n",
    "df['FuelType'].fillna('Desconocido', inplace=True)\n",
    "df['NotRepaired'].fillna('Desconocido', inplace=True)"
   ]
  },
  {
   "cell_type": "code",
   "execution_count": 9,
   "metadata": {},
   "outputs": [
    {
     "name": "stdout",
     "output_type": "stream",
     "text": [
      "<class 'pandas.core.frame.DataFrame'>\n",
      "RangeIndex: 354369 entries, 0 to 354368\n",
      "Data columns (total 16 columns):\n",
      " #   Column             Non-Null Count   Dtype \n",
      "---  ------             --------------   ----- \n",
      " 0   DateCrawled        354369 non-null  object\n",
      " 1   Price              354369 non-null  int64 \n",
      " 2   VehicleType        354369 non-null  object\n",
      " 3   RegistrationYear   354369 non-null  int64 \n",
      " 4   Gearbox            354369 non-null  object\n",
      " 5   Power              354369 non-null  int64 \n",
      " 6   Model              354369 non-null  object\n",
      " 7   Mileage            354369 non-null  int64 \n",
      " 8   RegistrationMonth  354369 non-null  int64 \n",
      " 9   FuelType           354369 non-null  object\n",
      " 10  Brand              354369 non-null  object\n",
      " 11  NotRepaired        354369 non-null  object\n",
      " 12  DateCreated        354369 non-null  object\n",
      " 13  NumberOfPictures   354369 non-null  int64 \n",
      " 14  PostalCode         354369 non-null  int64 \n",
      " 15  LastSeen           354369 non-null  object\n",
      "dtypes: int64(7), object(9)\n",
      "memory usage: 43.3+ MB\n"
     ]
    }
   ],
   "source": [
    "#correction validation\n",
    "df.info()"
   ]
  },
  {
   "cell_type": "code",
   "execution_count": 10,
   "metadata": {},
   "outputs": [
    {
     "data": {
      "text/plain": [
       "262"
      ]
     },
     "execution_count": 10,
     "metadata": {},
     "output_type": "execute_result"
    }
   ],
   "source": [
    "#duplicate validation\n",
    "df.duplicated().sum()"
   ]
  },
  {
   "cell_type": "code",
   "execution_count": 11,
   "metadata": {},
   "outputs": [
    {
     "data": {
      "text/html": [
       "<div>\n",
       "<style scoped>\n",
       "    .dataframe tbody tr th:only-of-type {\n",
       "        vertical-align: middle;\n",
       "    }\n",
       "\n",
       "    .dataframe tbody tr th {\n",
       "        vertical-align: top;\n",
       "    }\n",
       "\n",
       "    .dataframe thead th {\n",
       "        text-align: right;\n",
       "    }\n",
       "</style>\n",
       "<table border=\"1\" class=\"dataframe\">\n",
       "  <thead>\n",
       "    <tr style=\"text-align: right;\">\n",
       "      <th></th>\n",
       "      <th>DateCrawled</th>\n",
       "      <th>Price</th>\n",
       "      <th>VehicleType</th>\n",
       "      <th>RegistrationYear</th>\n",
       "      <th>Gearbox</th>\n",
       "      <th>Power</th>\n",
       "      <th>Model</th>\n",
       "      <th>Mileage</th>\n",
       "      <th>RegistrationMonth</th>\n",
       "      <th>FuelType</th>\n",
       "      <th>Brand</th>\n",
       "      <th>NotRepaired</th>\n",
       "      <th>DateCreated</th>\n",
       "      <th>NumberOfPictures</th>\n",
       "      <th>PostalCode</th>\n",
       "      <th>LastSeen</th>\n",
       "    </tr>\n",
       "  </thead>\n",
       "  <tbody>\n",
       "    <tr>\n",
       "      <th>14266</th>\n",
       "      <td>21/03/2016 19:06</td>\n",
       "      <td>5999</td>\n",
       "      <td>small</td>\n",
       "      <td>2009</td>\n",
       "      <td>manual</td>\n",
       "      <td>80</td>\n",
       "      <td>polo</td>\n",
       "      <td>125000</td>\n",
       "      <td>5</td>\n",
       "      <td>petrol</td>\n",
       "      <td>volkswagen</td>\n",
       "      <td>no</td>\n",
       "      <td>21/03/2016 00:00</td>\n",
       "      <td>0</td>\n",
       "      <td>65529</td>\n",
       "      <td>05/04/2016 20:47</td>\n",
       "    </tr>\n",
       "    <tr>\n",
       "      <th>27568</th>\n",
       "      <td>23/03/2016 10:38</td>\n",
       "      <td>12200</td>\n",
       "      <td>bus</td>\n",
       "      <td>2011</td>\n",
       "      <td>manual</td>\n",
       "      <td>125</td>\n",
       "      <td>zafira</td>\n",
       "      <td>40000</td>\n",
       "      <td>10</td>\n",
       "      <td>gasoline</td>\n",
       "      <td>opel</td>\n",
       "      <td>no</td>\n",
       "      <td>23/03/2016 00:00</td>\n",
       "      <td>0</td>\n",
       "      <td>26629</td>\n",
       "      <td>05/04/2016 07:44</td>\n",
       "    </tr>\n",
       "    <tr>\n",
       "      <th>31599</th>\n",
       "      <td>03/04/2016 20:41</td>\n",
       "      <td>4950</td>\n",
       "      <td>wagon</td>\n",
       "      <td>2003</td>\n",
       "      <td>auto</td>\n",
       "      <td>170</td>\n",
       "      <td>e_klasse</td>\n",
       "      <td>150000</td>\n",
       "      <td>4</td>\n",
       "      <td>gasoline</td>\n",
       "      <td>mercedes_benz</td>\n",
       "      <td>no</td>\n",
       "      <td>03/04/2016 00:00</td>\n",
       "      <td>0</td>\n",
       "      <td>48432</td>\n",
       "      <td>05/04/2016 21:17</td>\n",
       "    </tr>\n",
       "    <tr>\n",
       "      <th>33138</th>\n",
       "      <td>07/03/2016 20:45</td>\n",
       "      <td>10900</td>\n",
       "      <td>convertible</td>\n",
       "      <td>2005</td>\n",
       "      <td>auto</td>\n",
       "      <td>163</td>\n",
       "      <td>clk</td>\n",
       "      <td>125000</td>\n",
       "      <td>5</td>\n",
       "      <td>petrol</td>\n",
       "      <td>mercedes_benz</td>\n",
       "      <td>no</td>\n",
       "      <td>07/03/2016 00:00</td>\n",
       "      <td>0</td>\n",
       "      <td>61200</td>\n",
       "      <td>21/03/2016 03:45</td>\n",
       "    </tr>\n",
       "    <tr>\n",
       "      <th>43656</th>\n",
       "      <td>13/03/2016 20:48</td>\n",
       "      <td>4200</td>\n",
       "      <td>sedan</td>\n",
       "      <td>2003</td>\n",
       "      <td>manual</td>\n",
       "      <td>105</td>\n",
       "      <td>golf</td>\n",
       "      <td>150000</td>\n",
       "      <td>10</td>\n",
       "      <td>gasoline</td>\n",
       "      <td>volkswagen</td>\n",
       "      <td>no</td>\n",
       "      <td>13/03/2016 00:00</td>\n",
       "      <td>0</td>\n",
       "      <td>14482</td>\n",
       "      <td>13/03/2016 20:48</td>\n",
       "    </tr>\n",
       "    <tr>\n",
       "      <th>...</th>\n",
       "      <td>...</td>\n",
       "      <td>...</td>\n",
       "      <td>...</td>\n",
       "      <td>...</td>\n",
       "      <td>...</td>\n",
       "      <td>...</td>\n",
       "      <td>...</td>\n",
       "      <td>...</td>\n",
       "      <td>...</td>\n",
       "      <td>...</td>\n",
       "      <td>...</td>\n",
       "      <td>...</td>\n",
       "      <td>...</td>\n",
       "      <td>...</td>\n",
       "      <td>...</td>\n",
       "      <td>...</td>\n",
       "    </tr>\n",
       "    <tr>\n",
       "      <th>349709</th>\n",
       "      <td>03/04/2016 20:52</td>\n",
       "      <td>700</td>\n",
       "      <td>small</td>\n",
       "      <td>1999</td>\n",
       "      <td>manual</td>\n",
       "      <td>60</td>\n",
       "      <td>ibiza</td>\n",
       "      <td>150000</td>\n",
       "      <td>12</td>\n",
       "      <td>petrol</td>\n",
       "      <td>seat</td>\n",
       "      <td>yes</td>\n",
       "      <td>03/04/2016 00:00</td>\n",
       "      <td>0</td>\n",
       "      <td>6268</td>\n",
       "      <td>05/04/2016 21:47</td>\n",
       "    </tr>\n",
       "    <tr>\n",
       "      <th>351555</th>\n",
       "      <td>26/03/2016 16:54</td>\n",
       "      <td>3150</td>\n",
       "      <td>bus</td>\n",
       "      <td>2003</td>\n",
       "      <td>manual</td>\n",
       "      <td>86</td>\n",
       "      <td>transit</td>\n",
       "      <td>150000</td>\n",
       "      <td>11</td>\n",
       "      <td>gasoline</td>\n",
       "      <td>ford</td>\n",
       "      <td>no</td>\n",
       "      <td>26/03/2016 00:00</td>\n",
       "      <td>0</td>\n",
       "      <td>96148</td>\n",
       "      <td>02/04/2016 07:47</td>\n",
       "    </tr>\n",
       "    <tr>\n",
       "      <th>352384</th>\n",
       "      <td>15/03/2016 21:54</td>\n",
       "      <td>5900</td>\n",
       "      <td>wagon</td>\n",
       "      <td>2006</td>\n",
       "      <td>manual</td>\n",
       "      <td>129</td>\n",
       "      <td>3er</td>\n",
       "      <td>150000</td>\n",
       "      <td>12</td>\n",
       "      <td>petrol</td>\n",
       "      <td>bmw</td>\n",
       "      <td>no</td>\n",
       "      <td>15/03/2016 00:00</td>\n",
       "      <td>0</td>\n",
       "      <td>92526</td>\n",
       "      <td>20/03/2016 21:17</td>\n",
       "    </tr>\n",
       "    <tr>\n",
       "      <th>353057</th>\n",
       "      <td>05/03/2016 14:16</td>\n",
       "      <td>9500</td>\n",
       "      <td>small</td>\n",
       "      <td>2013</td>\n",
       "      <td>manual</td>\n",
       "      <td>105</td>\n",
       "      <td>ibiza</td>\n",
       "      <td>40000</td>\n",
       "      <td>5</td>\n",
       "      <td>petrol</td>\n",
       "      <td>seat</td>\n",
       "      <td>no</td>\n",
       "      <td>04/03/2016 00:00</td>\n",
       "      <td>0</td>\n",
       "      <td>61381</td>\n",
       "      <td>05/04/2016 19:18</td>\n",
       "    </tr>\n",
       "    <tr>\n",
       "      <th>353727</th>\n",
       "      <td>20/03/2016 17:56</td>\n",
       "      <td>1</td>\n",
       "      <td>Desconocido</td>\n",
       "      <td>2000</td>\n",
       "      <td>Desconocido</td>\n",
       "      <td>0</td>\n",
       "      <td>Desconocido</td>\n",
       "      <td>150000</td>\n",
       "      <td>0</td>\n",
       "      <td>Desconocido</td>\n",
       "      <td>bmw</td>\n",
       "      <td>Desconocido</td>\n",
       "      <td>20/03/2016 00:00</td>\n",
       "      <td>0</td>\n",
       "      <td>42329</td>\n",
       "      <td>07/04/2016 00:46</td>\n",
       "    </tr>\n",
       "  </tbody>\n",
       "</table>\n",
       "<p>262 rows × 16 columns</p>\n",
       "</div>"
      ],
      "text/plain": [
       "             DateCrawled  Price  VehicleType  RegistrationYear      Gearbox  \\\n",
       "14266   21/03/2016 19:06   5999        small              2009       manual   \n",
       "27568   23/03/2016 10:38  12200          bus              2011       manual   \n",
       "31599   03/04/2016 20:41   4950        wagon              2003         auto   \n",
       "33138   07/03/2016 20:45  10900  convertible              2005         auto   \n",
       "43656   13/03/2016 20:48   4200        sedan              2003       manual   \n",
       "...                  ...    ...          ...               ...          ...   \n",
       "349709  03/04/2016 20:52    700        small              1999       manual   \n",
       "351555  26/03/2016 16:54   3150          bus              2003       manual   \n",
       "352384  15/03/2016 21:54   5900        wagon              2006       manual   \n",
       "353057  05/03/2016 14:16   9500        small              2013       manual   \n",
       "353727  20/03/2016 17:56      1  Desconocido              2000  Desconocido   \n",
       "\n",
       "        Power        Model  Mileage  RegistrationMonth     FuelType  \\\n",
       "14266      80         polo   125000                  5       petrol   \n",
       "27568     125       zafira    40000                 10     gasoline   \n",
       "31599     170     e_klasse   150000                  4     gasoline   \n",
       "33138     163          clk   125000                  5       petrol   \n",
       "43656     105         golf   150000                 10     gasoline   \n",
       "...       ...          ...      ...                ...          ...   \n",
       "349709     60        ibiza   150000                 12       petrol   \n",
       "351555     86      transit   150000                 11     gasoline   \n",
       "352384    129          3er   150000                 12       petrol   \n",
       "353057    105        ibiza    40000                  5       petrol   \n",
       "353727      0  Desconocido   150000                  0  Desconocido   \n",
       "\n",
       "                Brand  NotRepaired       DateCreated  NumberOfPictures  \\\n",
       "14266      volkswagen           no  21/03/2016 00:00                 0   \n",
       "27568            opel           no  23/03/2016 00:00                 0   \n",
       "31599   mercedes_benz           no  03/04/2016 00:00                 0   \n",
       "33138   mercedes_benz           no  07/03/2016 00:00                 0   \n",
       "43656      volkswagen           no  13/03/2016 00:00                 0   \n",
       "...               ...          ...               ...               ...   \n",
       "349709           seat          yes  03/04/2016 00:00                 0   \n",
       "351555           ford           no  26/03/2016 00:00                 0   \n",
       "352384            bmw           no  15/03/2016 00:00                 0   \n",
       "353057           seat           no  04/03/2016 00:00                 0   \n",
       "353727            bmw  Desconocido  20/03/2016 00:00                 0   \n",
       "\n",
       "        PostalCode          LastSeen  \n",
       "14266        65529  05/04/2016 20:47  \n",
       "27568        26629  05/04/2016 07:44  \n",
       "31599        48432  05/04/2016 21:17  \n",
       "33138        61200  21/03/2016 03:45  \n",
       "43656        14482  13/03/2016 20:48  \n",
       "...            ...               ...  \n",
       "349709        6268  05/04/2016 21:47  \n",
       "351555       96148  02/04/2016 07:47  \n",
       "352384       92526  20/03/2016 21:17  \n",
       "353057       61381  05/04/2016 19:18  \n",
       "353727       42329  07/04/2016 00:46  \n",
       "\n",
       "[262 rows x 16 columns]"
      ]
     },
     "execution_count": 11,
     "metadata": {},
     "output_type": "execute_result"
    }
   ],
   "source": [
    "#Process duplicates\n",
    "duplicados = df.duplicated()\n",
    "filas_duplicadas = df[duplicados]\n",
    "filas_duplicadas"
   ]
  },
  {
   "cell_type": "code",
   "execution_count": 12,
   "metadata": {},
   "outputs": [],
   "source": [
    "#eliminate duplicates\n",
    "df = df.drop_duplicates().reset_index()"
   ]
  },
  {
   "cell_type": "code",
   "execution_count": 13,
   "metadata": {},
   "outputs": [
    {
     "name": "stdout",
     "output_type": "stream",
     "text": [
      "<class 'pandas.core.frame.DataFrame'>\n",
      "RangeIndex: 354107 entries, 0 to 354106\n",
      "Data columns (total 17 columns):\n",
      " #   Column             Non-Null Count   Dtype \n",
      "---  ------             --------------   ----- \n",
      " 0   index              354107 non-null  int64 \n",
      " 1   DateCrawled        354107 non-null  object\n",
      " 2   Price              354107 non-null  int64 \n",
      " 3   VehicleType        354107 non-null  object\n",
      " 4   RegistrationYear   354107 non-null  int64 \n",
      " 5   Gearbox            354107 non-null  object\n",
      " 6   Power              354107 non-null  int64 \n",
      " 7   Model              354107 non-null  object\n",
      " 8   Mileage            354107 non-null  int64 \n",
      " 9   RegistrationMonth  354107 non-null  int64 \n",
      " 10  FuelType           354107 non-null  object\n",
      " 11  Brand              354107 non-null  object\n",
      " 12  NotRepaired        354107 non-null  object\n",
      " 13  DateCreated        354107 non-null  object\n",
      " 14  NumberOfPictures   354107 non-null  int64 \n",
      " 15  PostalCode         354107 non-null  int64 \n",
      " 16  LastSeen           354107 non-null  object\n",
      "dtypes: int64(8), object(9)\n",
      "memory usage: 45.9+ MB\n"
     ]
    }
   ],
   "source": [
    "#correction validation\n",
    "df.info()"
   ]
  },
  {
   "cell_type": "code",
   "execution_count": 14,
   "metadata": {},
   "outputs": [],
   "source": [
    "#Change date format\n",
    "df['DateCrawled'] = pd.to_datetime(df['DateCrawled'], format='%d/%m/%Y %H:%M')\n",
    "df['LastSeen'] = pd.to_datetime(df['LastSeen'], format='%d/%m/%Y %H:%M')\n",
    "df['DateCreated'] = pd.to_datetime(df['DateCreated'], format='%d/%m/%Y %H:%M')"
   ]
  },
  {
   "cell_type": "code",
   "execution_count": 15,
   "metadata": {},
   "outputs": [],
   "source": [
    "# Extract day, month, and year components from the 'DateCrawled' column\n",
    "df['day-DateCrawled'] = df['DateCrawled'].dt.day\n",
    "df['month-DateCrawled'] = df['DateCrawled'].dt.month\n",
    "df['year-DateCrawled'] = df['DateCrawled'].dt.year\n",
    "\n",
    "# Extract day, month, and year components from the 'DateCreated' column\n",
    "df['day-DateCreated'] = df['DateCreated'].dt.day\n",
    "df['month-DateCreated'] = df['DateCreated'].dt.month\n",
    "df['year-DateCreated'] = df['DateCreated'].dt.year\n",
    "\n",
    "# Extract day, month, and year components from the 'LastSeen' column\n",
    "df['day-LastSeen'] = df['LastSeen'].dt.day\n",
    "df['month-LastSeen'] = df['LastSeen'].dt.month\n",
    "df['year-LastSeen'] = df['LastSeen'].dt.year"
   ]
  },
  {
   "cell_type": "code",
   "execution_count": 16,
   "metadata": {},
   "outputs": [
    {
     "name": "stdout",
     "output_type": "stream",
     "text": [
      "<class 'pandas.core.frame.DataFrame'>\n",
      "RangeIndex: 354107 entries, 0 to 354106\n",
      "Data columns (total 26 columns):\n",
      " #   Column             Non-Null Count   Dtype         \n",
      "---  ------             --------------   -----         \n",
      " 0   index              354107 non-null  int64         \n",
      " 1   DateCrawled        354107 non-null  datetime64[ns]\n",
      " 2   Price              354107 non-null  int64         \n",
      " 3   VehicleType        354107 non-null  object        \n",
      " 4   RegistrationYear   354107 non-null  int64         \n",
      " 5   Gearbox            354107 non-null  object        \n",
      " 6   Power              354107 non-null  int64         \n",
      " 7   Model              354107 non-null  object        \n",
      " 8   Mileage            354107 non-null  int64         \n",
      " 9   RegistrationMonth  354107 non-null  int64         \n",
      " 10  FuelType           354107 non-null  object        \n",
      " 11  Brand              354107 non-null  object        \n",
      " 12  NotRepaired        354107 non-null  object        \n",
      " 13  DateCreated        354107 non-null  datetime64[ns]\n",
      " 14  NumberOfPictures   354107 non-null  int64         \n",
      " 15  PostalCode         354107 non-null  int64         \n",
      " 16  LastSeen           354107 non-null  datetime64[ns]\n",
      " 17  day-DateCrawled    354107 non-null  int32         \n",
      " 18  month-DateCrawled  354107 non-null  int32         \n",
      " 19  year-DateCrawled   354107 non-null  int32         \n",
      " 20  day-DateCreated    354107 non-null  int32         \n",
      " 21  month-DateCreated  354107 non-null  int32         \n",
      " 22  year-DateCreated   354107 non-null  int32         \n",
      " 23  day-LastSeen       354107 non-null  int32         \n",
      " 24  month-LastSeen     354107 non-null  int32         \n",
      " 25  year-LastSeen      354107 non-null  int32         \n",
      "dtypes: datetime64[ns](3), int32(9), int64(8), object(6)\n",
      "memory usage: 58.1+ MB\n"
     ]
    }
   ],
   "source": [
    "#Show validation\n",
    "df.info()"
   ]
  },
  {
   "cell_type": "code",
   "execution_count": 17,
   "metadata": {},
   "outputs": [
    {
     "data": {
      "text/plain": [
       "(array([147173.,  72727.,  40703.,  28652.,  20742.,  12862.,  11068.,\n",
       "          8645.,   6404.,   5131.]),\n",
       " array([    0.,  2000.,  4000.,  6000.,  8000., 10000., 12000., 14000.,\n",
       "        16000., 18000., 20000.]),\n",
       " <BarContainer object of 10 artists>)"
      ]
     },
     "execution_count": 17,
     "metadata": {},
     "output_type": "execute_result"
    },
    {
     "data": {
      "image/png": "[encoded data removed]",
      "text/plain": [
       "<Figure size 640x480 with 1 Axes>"
      ]
     },
     "metadata": {},
     "output_type": "display_data"
    }
   ],
   "source": [
    "#analyze distribution of target data\n",
    "plt.hist(df['Price'],alpha=0.5, label='Price')"
   ]
  },
  {
   "cell_type": "markdown",
   "metadata": {},
   "source": [
    "## Model training"
   ]
  },
  {
   "cell_type": "code",
   "execution_count": 18,
   "metadata": {},
   "outputs": [],
   "source": [
    "# Create one-hot encoded columns for 'VehicleType' \n",
    "VehicleType_oh = pd.get_dummies(df['VehicleType'], drop_first=True) \n",
    "\n",
    "# Create one-hot encoded columns for 'Gearbox' \n",
    "Gearbox_og = pd.get_dummies(df['Gearbox'], drop_first=True) \n",
    "\n",
    "# Create one-hot encoded columns for 'Model'\n",
    "Model_og = pd.get_dummies(df['Model'], drop_first=True) \n",
    "\n",
    "# Create one-hot encoded columns for 'FuelType'\n",
    "FuelType_oh = pd.get_dummies(df['FuelType'], drop_first=True) \n",
    "\n",
    "# Create one-hot encoded columns for 'Brand'\n",
    "Brand_oh = pd.get_dummies(df['Brand'], drop_first=True) \n",
    "\n",
    "# Create one-hot encoded columns for 'NotRepaired'\n",
    "NotRepaired_oh = pd.get_dummies(df['NotRepaired'], drop_first=True)"
   ]
  },
  {
   "cell_type": "code",
   "execution_count": 19,
   "metadata": {},
   "outputs": [
    {
     "data": {
      "text/html": [
       "<div>\n",
       "<style scoped>\n",
       "    .dataframe tbody tr th:only-of-type {\n",
       "        vertical-align: middle;\n",
       "    }\n",
       "\n",
       "    .dataframe tbody tr th {\n",
       "        vertical-align: top;\n",
       "    }\n",
       "\n",
       "    .dataframe thead th {\n",
       "        text-align: right;\n",
       "    }\n",
       "</style>\n",
       "<table border=\"1\" class=\"dataframe\">\n",
       "  <thead>\n",
       "    <tr style=\"text-align: right;\">\n",
       "      <th></th>\n",
       "      <th>bus</th>\n",
       "      <th>convertible</th>\n",
       "      <th>coupe</th>\n",
       "      <th>other</th>\n",
       "      <th>sedan</th>\n",
       "      <th>small</th>\n",
       "      <th>suv</th>\n",
       "      <th>wagon</th>\n",
       "    </tr>\n",
       "  </thead>\n",
       "  <tbody>\n",
       "    <tr>\n",
       "      <th>0</th>\n",
       "      <td>False</td>\n",
       "      <td>False</td>\n",
       "      <td>False</td>\n",
       "      <td>False</td>\n",
       "      <td>False</td>\n",
       "      <td>False</td>\n",
       "      <td>False</td>\n",
       "      <td>False</td>\n",
       "    </tr>\n",
       "    <tr>\n",
       "      <th>1</th>\n",
       "      <td>False</td>\n",
       "      <td>False</td>\n",
       "      <td>True</td>\n",
       "      <td>False</td>\n",
       "      <td>False</td>\n",
       "      <td>False</td>\n",
       "      <td>False</td>\n",
       "      <td>False</td>\n",
       "    </tr>\n",
       "    <tr>\n",
       "      <th>2</th>\n",
       "      <td>False</td>\n",
       "      <td>False</td>\n",
       "      <td>False</td>\n",
       "      <td>False</td>\n",
       "      <td>False</td>\n",
       "      <td>False</td>\n",
       "      <td>True</td>\n",
       "      <td>False</td>\n",
       "    </tr>\n",
       "    <tr>\n",
       "      <th>3</th>\n",
       "      <td>False</td>\n",
       "      <td>False</td>\n",
       "      <td>False</td>\n",
       "      <td>False</td>\n",
       "      <td>False</td>\n",
       "      <td>True</td>\n",
       "      <td>False</td>\n",
       "      <td>False</td>\n",
       "    </tr>\n",
       "    <tr>\n",
       "      <th>4</th>\n",
       "      <td>False</td>\n",
       "      <td>False</td>\n",
       "      <td>False</td>\n",
       "      <td>False</td>\n",
       "      <td>False</td>\n",
       "      <td>True</td>\n",
       "      <td>False</td>\n",
       "      <td>False</td>\n",
       "    </tr>\n",
       "    <tr>\n",
       "      <th>...</th>\n",
       "      <td>...</td>\n",
       "      <td>...</td>\n",
       "      <td>...</td>\n",
       "      <td>...</td>\n",
       "      <td>...</td>\n",
       "      <td>...</td>\n",
       "      <td>...</td>\n",
       "      <td>...</td>\n",
       "    </tr>\n",
       "    <tr>\n",
       "      <th>354102</th>\n",
       "      <td>False</td>\n",
       "      <td>False</td>\n",
       "      <td>False</td>\n",
       "      <td>False</td>\n",
       "      <td>False</td>\n",
       "      <td>False</td>\n",
       "      <td>False</td>\n",
       "      <td>False</td>\n",
       "    </tr>\n",
       "    <tr>\n",
       "      <th>354103</th>\n",
       "      <td>False</td>\n",
       "      <td>False</td>\n",
       "      <td>False</td>\n",
       "      <td>False</td>\n",
       "      <td>False</td>\n",
       "      <td>False</td>\n",
       "      <td>False</td>\n",
       "      <td>False</td>\n",
       "    </tr>\n",
       "    <tr>\n",
       "      <th>354104</th>\n",
       "      <td>False</td>\n",
       "      <td>True</td>\n",
       "      <td>False</td>\n",
       "      <td>False</td>\n",
       "      <td>False</td>\n",
       "      <td>False</td>\n",
       "      <td>False</td>\n",
       "      <td>False</td>\n",
       "    </tr>\n",
       "    <tr>\n",
       "      <th>354105</th>\n",
       "      <td>True</td>\n",
       "      <td>False</td>\n",
       "      <td>False</td>\n",
       "      <td>False</td>\n",
       "      <td>False</td>\n",
       "      <td>False</td>\n",
       "      <td>False</td>\n",
       "      <td>False</td>\n",
       "    </tr>\n",
       "    <tr>\n",
       "      <th>354106</th>\n",
       "      <td>False</td>\n",
       "      <td>False</td>\n",
       "      <td>False</td>\n",
       "      <td>False</td>\n",
       "      <td>False</td>\n",
       "      <td>False</td>\n",
       "      <td>False</td>\n",
       "      <td>True</td>\n",
       "    </tr>\n",
       "  </tbody>\n",
       "</table>\n",
       "<p>354107 rows × 8 columns</p>\n",
       "</div>"
      ],
      "text/plain": [
       "          bus  convertible  coupe  other  sedan  small    suv  wagon\n",
       "0       False        False  False  False  False  False  False  False\n",
       "1       False        False   True  False  False  False  False  False\n",
       "2       False        False  False  False  False  False   True  False\n",
       "3       False        False  False  False  False   True  False  False\n",
       "4       False        False  False  False  False   True  False  False\n",
       "...       ...          ...    ...    ...    ...    ...    ...    ...\n",
       "354102  False        False  False  False  False  False  False  False\n",
       "354103  False        False  False  False  False  False  False  False\n",
       "354104  False         True  False  False  False  False  False  False\n",
       "354105   True        False  False  False  False  False  False  False\n",
       "354106  False        False  False  False  False  False  False   True\n",
       "\n",
       "[354107 rows x 8 columns]"
      ]
     },
     "execution_count": 19,
     "metadata": {},
     "output_type": "execute_result"
    }
   ],
   "source": [
    "VehicleType_oh"
   ]
  },
  {
   "cell_type": "code",
   "execution_count": 20,
   "metadata": {},
   "outputs": [],
   "source": [
    "VehicleType_oh.rename(columns={'other': 'other_VehicleType'}, inplace=True) \n",
    "# Rename the 'other' column in the VehicleType_oh DataFrame to 'other_VehicleType' \n",
    "\n",
    "FuelType_oh.rename(columns={'other': 'other_FuelType'}, inplace=True) \n",
    "# Rename the 'other' column in the FuelType_oh DataFrame to 'other_FuelType' \n"
   ]
  },
  {
   "cell_type": "code",
   "execution_count": 21,
   "metadata": {},
   "outputs": [],
   "source": [
    "# Concatenate the original DataFrame (df) with the one-hot encoded DataFrames \n",
    "df_concat = pd.concat([df, VehicleType_oh,Gearbox_og,Model_og,FuelType_oh,Brand_oh,NotRepaired_oh], axis=1)"
   ]
  },
  {
   "cell_type": "code",
   "execution_count": 22,
   "metadata": {},
   "outputs": [
    {
     "data": {
      "text/html": [
       "<div>\n",
       "<style scoped>\n",
       "    .dataframe tbody tr th:only-of-type {\n",
       "        vertical-align: middle;\n",
       "    }\n",
       "\n",
       "    .dataframe tbody tr th {\n",
       "        vertical-align: top;\n",
       "    }\n",
       "\n",
       "    .dataframe thead th {\n",
       "        text-align: right;\n",
       "    }\n",
       "</style>\n",
       "<table border=\"1\" class=\"dataframe\">\n",
       "  <thead>\n",
       "    <tr style=\"text-align: right;\">\n",
       "      <th></th>\n",
       "      <th>index</th>\n",
       "      <th>DateCrawled</th>\n",
       "      <th>Price</th>\n",
       "      <th>VehicleType</th>\n",
       "      <th>RegistrationYear</th>\n",
       "      <th>Gearbox</th>\n",
       "      <th>Power</th>\n",
       "      <th>Model</th>\n",
       "      <th>Mileage</th>\n",
       "      <th>RegistrationMonth</th>\n",
       "      <th>...</th>\n",
       "      <th>smart</th>\n",
       "      <th>sonstige_autos</th>\n",
       "      <th>subaru</th>\n",
       "      <th>suzuki</th>\n",
       "      <th>toyota</th>\n",
       "      <th>trabant</th>\n",
       "      <th>volkswagen</th>\n",
       "      <th>volvo</th>\n",
       "      <th>no</th>\n",
       "      <th>yes</th>\n",
       "    </tr>\n",
       "  </thead>\n",
       "  <tbody>\n",
       "    <tr>\n",
       "      <th>0</th>\n",
       "      <td>0</td>\n",
       "      <td>2016-03-24 11:52:00</td>\n",
       "      <td>480</td>\n",
       "      <td>Desconocido</td>\n",
       "      <td>1993</td>\n",
       "      <td>manual</td>\n",
       "      <td>0</td>\n",
       "      <td>golf</td>\n",
       "      <td>150000</td>\n",
       "      <td>0</td>\n",
       "      <td>...</td>\n",
       "      <td>False</td>\n",
       "      <td>False</td>\n",
       "      <td>False</td>\n",
       "      <td>False</td>\n",
       "      <td>False</td>\n",
       "      <td>False</td>\n",
       "      <td>True</td>\n",
       "      <td>False</td>\n",
       "      <td>False</td>\n",
       "      <td>False</td>\n",
       "    </tr>\n",
       "    <tr>\n",
       "      <th>1</th>\n",
       "      <td>1</td>\n",
       "      <td>2016-03-24 10:58:00</td>\n",
       "      <td>18300</td>\n",
       "      <td>coupe</td>\n",
       "      <td>2011</td>\n",
       "      <td>manual</td>\n",
       "      <td>190</td>\n",
       "      <td>Desconocido</td>\n",
       "      <td>125000</td>\n",
       "      <td>5</td>\n",
       "      <td>...</td>\n",
       "      <td>False</td>\n",
       "      <td>False</td>\n",
       "      <td>False</td>\n",
       "      <td>False</td>\n",
       "      <td>False</td>\n",
       "      <td>False</td>\n",
       "      <td>False</td>\n",
       "      <td>False</td>\n",
       "      <td>False</td>\n",
       "      <td>True</td>\n",
       "    </tr>\n",
       "    <tr>\n",
       "      <th>2</th>\n",
       "      <td>2</td>\n",
       "      <td>2016-03-14 12:52:00</td>\n",
       "      <td>9800</td>\n",
       "      <td>suv</td>\n",
       "      <td>2004</td>\n",
       "      <td>auto</td>\n",
       "      <td>163</td>\n",
       "      <td>grand</td>\n",
       "      <td>125000</td>\n",
       "      <td>8</td>\n",
       "      <td>...</td>\n",
       "      <td>False</td>\n",
       "      <td>False</td>\n",
       "      <td>False</td>\n",
       "      <td>False</td>\n",
       "      <td>False</td>\n",
       "      <td>False</td>\n",
       "      <td>False</td>\n",
       "      <td>False</td>\n",
       "      <td>False</td>\n",
       "      <td>False</td>\n",
       "    </tr>\n",
       "    <tr>\n",
       "      <th>3</th>\n",
       "      <td>3</td>\n",
       "      <td>2016-03-17 16:54:00</td>\n",
       "      <td>1500</td>\n",
       "      <td>small</td>\n",
       "      <td>2001</td>\n",
       "      <td>manual</td>\n",
       "      <td>75</td>\n",
       "      <td>golf</td>\n",
       "      <td>150000</td>\n",
       "      <td>6</td>\n",
       "      <td>...</td>\n",
       "      <td>False</td>\n",
       "      <td>False</td>\n",
       "      <td>False</td>\n",
       "      <td>False</td>\n",
       "      <td>False</td>\n",
       "      <td>False</td>\n",
       "      <td>True</td>\n",
       "      <td>False</td>\n",
       "      <td>True</td>\n",
       "      <td>False</td>\n",
       "    </tr>\n",
       "    <tr>\n",
       "      <th>4</th>\n",
       "      <td>4</td>\n",
       "      <td>2016-03-31 17:25:00</td>\n",
       "      <td>3600</td>\n",
       "      <td>small</td>\n",
       "      <td>2008</td>\n",
       "      <td>manual</td>\n",
       "      <td>69</td>\n",
       "      <td>fabia</td>\n",
       "      <td>90000</td>\n",
       "      <td>7</td>\n",
       "      <td>...</td>\n",
       "      <td>False</td>\n",
       "      <td>False</td>\n",
       "      <td>False</td>\n",
       "      <td>False</td>\n",
       "      <td>False</td>\n",
       "      <td>False</td>\n",
       "      <td>False</td>\n",
       "      <td>False</td>\n",
       "      <td>True</td>\n",
       "      <td>False</td>\n",
       "    </tr>\n",
       "    <tr>\n",
       "      <th>...</th>\n",
       "      <td>...</td>\n",
       "      <td>...</td>\n",
       "      <td>...</td>\n",
       "      <td>...</td>\n",
       "      <td>...</td>\n",
       "      <td>...</td>\n",
       "      <td>...</td>\n",
       "      <td>...</td>\n",
       "      <td>...</td>\n",
       "      <td>...</td>\n",
       "      <td>...</td>\n",
       "      <td>...</td>\n",
       "      <td>...</td>\n",
       "      <td>...</td>\n",
       "      <td>...</td>\n",
       "      <td>...</td>\n",
       "      <td>...</td>\n",
       "      <td>...</td>\n",
       "      <td>...</td>\n",
       "      <td>...</td>\n",
       "      <td>...</td>\n",
       "    </tr>\n",
       "    <tr>\n",
       "      <th>354102</th>\n",
       "      <td>354364</td>\n",
       "      <td>2016-03-21 09:50:00</td>\n",
       "      <td>0</td>\n",
       "      <td>Desconocido</td>\n",
       "      <td>2005</td>\n",
       "      <td>manual</td>\n",
       "      <td>0</td>\n",
       "      <td>colt</td>\n",
       "      <td>150000</td>\n",
       "      <td>7</td>\n",
       "      <td>...</td>\n",
       "      <td>False</td>\n",
       "      <td>False</td>\n",
       "      <td>False</td>\n",
       "      <td>False</td>\n",
       "      <td>False</td>\n",
       "      <td>False</td>\n",
       "      <td>False</td>\n",
       "      <td>False</td>\n",
       "      <td>False</td>\n",
       "      <td>True</td>\n",
       "    </tr>\n",
       "    <tr>\n",
       "      <th>354103</th>\n",
       "      <td>354365</td>\n",
       "      <td>2016-03-14 17:48:00</td>\n",
       "      <td>2200</td>\n",
       "      <td>Desconocido</td>\n",
       "      <td>2005</td>\n",
       "      <td>Desconocido</td>\n",
       "      <td>0</td>\n",
       "      <td>Desconocido</td>\n",
       "      <td>20000</td>\n",
       "      <td>1</td>\n",
       "      <td>...</td>\n",
       "      <td>False</td>\n",
       "      <td>True</td>\n",
       "      <td>False</td>\n",
       "      <td>False</td>\n",
       "      <td>False</td>\n",
       "      <td>False</td>\n",
       "      <td>False</td>\n",
       "      <td>False</td>\n",
       "      <td>False</td>\n",
       "      <td>False</td>\n",
       "    </tr>\n",
       "    <tr>\n",
       "      <th>354104</th>\n",
       "      <td>354366</td>\n",
       "      <td>2016-03-05 19:56:00</td>\n",
       "      <td>1199</td>\n",
       "      <td>convertible</td>\n",
       "      <td>2000</td>\n",
       "      <td>auto</td>\n",
       "      <td>101</td>\n",
       "      <td>fortwo</td>\n",
       "      <td>125000</td>\n",
       "      <td>3</td>\n",
       "      <td>...</td>\n",
       "      <td>True</td>\n",
       "      <td>False</td>\n",
       "      <td>False</td>\n",
       "      <td>False</td>\n",
       "      <td>False</td>\n",
       "      <td>False</td>\n",
       "      <td>False</td>\n",
       "      <td>False</td>\n",
       "      <td>True</td>\n",
       "      <td>False</td>\n",
       "    </tr>\n",
       "    <tr>\n",
       "      <th>354105</th>\n",
       "      <td>354367</td>\n",
       "      <td>2016-03-19 18:57:00</td>\n",
       "      <td>9200</td>\n",
       "      <td>bus</td>\n",
       "      <td>1996</td>\n",
       "      <td>manual</td>\n",
       "      <td>102</td>\n",
       "      <td>transporter</td>\n",
       "      <td>150000</td>\n",
       "      <td>3</td>\n",
       "      <td>...</td>\n",
       "      <td>False</td>\n",
       "      <td>False</td>\n",
       "      <td>False</td>\n",
       "      <td>False</td>\n",
       "      <td>False</td>\n",
       "      <td>False</td>\n",
       "      <td>True</td>\n",
       "      <td>False</td>\n",
       "      <td>True</td>\n",
       "      <td>False</td>\n",
       "    </tr>\n",
       "    <tr>\n",
       "      <th>354106</th>\n",
       "      <td>354368</td>\n",
       "      <td>2016-03-20 19:41:00</td>\n",
       "      <td>3400</td>\n",
       "      <td>wagon</td>\n",
       "      <td>2002</td>\n",
       "      <td>manual</td>\n",
       "      <td>100</td>\n",
       "      <td>golf</td>\n",
       "      <td>150000</td>\n",
       "      <td>6</td>\n",
       "      <td>...</td>\n",
       "      <td>False</td>\n",
       "      <td>False</td>\n",
       "      <td>False</td>\n",
       "      <td>False</td>\n",
       "      <td>False</td>\n",
       "      <td>False</td>\n",
       "      <td>True</td>\n",
       "      <td>False</td>\n",
       "      <td>False</td>\n",
       "      <td>False</td>\n",
       "    </tr>\n",
       "  </tbody>\n",
       "</table>\n",
       "<p>354107 rows × 334 columns</p>\n",
       "</div>"
      ],
      "text/plain": [
       "         index         DateCrawled  Price  VehicleType  RegistrationYear  \\\n",
       "0            0 2016-03-24 11:52:00    480  Desconocido              1993   \n",
       "1            1 2016-03-24 10:58:00  18300        coupe              2011   \n",
       "2            2 2016-03-14 12:52:00   9800          suv              2004   \n",
       "3            3 2016-03-17 16:54:00   1500        small              2001   \n",
       "4            4 2016-03-31 17:25:00   3600        small              2008   \n",
       "...        ...                 ...    ...          ...               ...   \n",
       "354102  354364 2016-03-21 09:50:00      0  Desconocido              2005   \n",
       "354103  354365 2016-03-14 17:48:00   2200  Desconocido              2005   \n",
       "354104  354366 2016-03-05 19:56:00   1199  convertible              2000   \n",
       "354105  354367 2016-03-19 18:57:00   9200          bus              1996   \n",
       "354106  354368 2016-03-20 19:41:00   3400        wagon              2002   \n",
       "\n",
       "            Gearbox  Power        Model  Mileage  RegistrationMonth  ...  \\\n",
       "0            manual      0         golf   150000                  0  ...   \n",
       "1            manual    190  Desconocido   125000                  5  ...   \n",
       "2              auto    163        grand   125000                  8  ...   \n",
       "3            manual     75         golf   150000                  6  ...   \n",
       "4            manual     69        fabia    90000                  7  ...   \n",
       "...             ...    ...          ...      ...                ...  ...   \n",
       "354102       manual      0         colt   150000                  7  ...   \n",
       "354103  Desconocido      0  Desconocido    20000                  1  ...   \n",
       "354104         auto    101       fortwo   125000                  3  ...   \n",
       "354105       manual    102  transporter   150000                  3  ...   \n",
       "354106       manual    100         golf   150000                  6  ...   \n",
       "\n",
       "        smart sonstige_autos subaru suzuki  toyota  trabant volkswagen  volvo  \\\n",
       "0       False          False  False  False   False    False       True  False   \n",
       "1       False          False  False  False   False    False      False  False   \n",
       "2       False          False  False  False   False    False      False  False   \n",
       "3       False          False  False  False   False    False       True  False   \n",
       "4       False          False  False  False   False    False      False  False   \n",
       "...       ...            ...    ...    ...     ...      ...        ...    ...   \n",
       "354102  False          False  False  False   False    False      False  False   \n",
       "354103  False           True  False  False   False    False      False  False   \n",
       "354104   True          False  False  False   False    False      False  False   \n",
       "354105  False          False  False  False   False    False       True  False   \n",
       "354106  False          False  False  False   False    False       True  False   \n",
       "\n",
       "           no    yes  \n",
       "0       False  False  \n",
       "1       False   True  \n",
       "2       False  False  \n",
       "3        True  False  \n",
       "4        True  False  \n",
       "...       ...    ...  \n",
       "354102  False   True  \n",
       "354103  False  False  \n",
       "354104   True  False  \n",
       "354105   True  False  \n",
       "354106  False  False  \n",
       "\n",
       "[354107 rows x 334 columns]"
      ]
     },
     "execution_count": 22,
     "metadata": {},
     "output_type": "execute_result"
    }
   ],
   "source": [
    "df_concat"
   ]
  },
  {
   "cell_type": "code",
   "execution_count": 23,
   "metadata": {},
   "outputs": [],
   "source": [
    "#define characteristics and objective\n",
    "features = df_concat.drop(columns=['Price','index','VehicleType','Gearbox','Model','FuelType','Brand','NotRepaired','DateCrawled','DateCreated','LastSeen'], axis=1)\n",
    "target = df_concat['Price']"
   ]
  },
  {
   "cell_type": "code",
   "execution_count": 24,
   "metadata": {},
   "outputs": [
    {
     "data": {
      "text/html": [
       "<div>\n",
       "<style scoped>\n",
       "    .dataframe tbody tr th:only-of-type {\n",
       "        vertical-align: middle;\n",
       "    }\n",
       "\n",
       "    .dataframe tbody tr th {\n",
       "        vertical-align: top;\n",
       "    }\n",
       "\n",
       "    .dataframe thead th {\n",
       "        text-align: right;\n",
       "    }\n",
       "</style>\n",
       "<table border=\"1\" class=\"dataframe\">\n",
       "  <thead>\n",
       "    <tr style=\"text-align: right;\">\n",
       "      <th></th>\n",
       "      <th>RegistrationYear</th>\n",
       "      <th>Power</th>\n",
       "      <th>Mileage</th>\n",
       "      <th>RegistrationMonth</th>\n",
       "      <th>NumberOfPictures</th>\n",
       "      <th>PostalCode</th>\n",
       "      <th>day-DateCrawled</th>\n",
       "      <th>month-DateCrawled</th>\n",
       "      <th>year-DateCrawled</th>\n",
       "      <th>day-DateCreated</th>\n",
       "      <th>...</th>\n",
       "      <th>smart</th>\n",
       "      <th>sonstige_autos</th>\n",
       "      <th>subaru</th>\n",
       "      <th>suzuki</th>\n",
       "      <th>toyota</th>\n",
       "      <th>trabant</th>\n",
       "      <th>volkswagen</th>\n",
       "      <th>volvo</th>\n",
       "      <th>no</th>\n",
       "      <th>yes</th>\n",
       "    </tr>\n",
       "  </thead>\n",
       "  <tbody>\n",
       "    <tr>\n",
       "      <th>0</th>\n",
       "      <td>1993</td>\n",
       "      <td>0</td>\n",
       "      <td>150000</td>\n",
       "      <td>0</td>\n",
       "      <td>0</td>\n",
       "      <td>70435</td>\n",
       "      <td>24</td>\n",
       "      <td>3</td>\n",
       "      <td>2016</td>\n",
       "      <td>24</td>\n",
       "      <td>...</td>\n",
       "      <td>False</td>\n",
       "      <td>False</td>\n",
       "      <td>False</td>\n",
       "      <td>False</td>\n",
       "      <td>False</td>\n",
       "      <td>False</td>\n",
       "      <td>True</td>\n",
       "      <td>False</td>\n",
       "      <td>False</td>\n",
       "      <td>False</td>\n",
       "    </tr>\n",
       "    <tr>\n",
       "      <th>1</th>\n",
       "      <td>2011</td>\n",
       "      <td>190</td>\n",
       "      <td>125000</td>\n",
       "      <td>5</td>\n",
       "      <td>0</td>\n",
       "      <td>66954</td>\n",
       "      <td>24</td>\n",
       "      <td>3</td>\n",
       "      <td>2016</td>\n",
       "      <td>24</td>\n",
       "      <td>...</td>\n",
       "      <td>False</td>\n",
       "      <td>False</td>\n",
       "      <td>False</td>\n",
       "      <td>False</td>\n",
       "      <td>False</td>\n",
       "      <td>False</td>\n",
       "      <td>False</td>\n",
       "      <td>False</td>\n",
       "      <td>False</td>\n",
       "      <td>True</td>\n",
       "    </tr>\n",
       "    <tr>\n",
       "      <th>2</th>\n",
       "      <td>2004</td>\n",
       "      <td>163</td>\n",
       "      <td>125000</td>\n",
       "      <td>8</td>\n",
       "      <td>0</td>\n",
       "      <td>90480</td>\n",
       "      <td>14</td>\n",
       "      <td>3</td>\n",
       "      <td>2016</td>\n",
       "      <td>14</td>\n",
       "      <td>...</td>\n",
       "      <td>False</td>\n",
       "      <td>False</td>\n",
       "      <td>False</td>\n",
       "      <td>False</td>\n",
       "      <td>False</td>\n",
       "      <td>False</td>\n",
       "      <td>False</td>\n",
       "      <td>False</td>\n",
       "      <td>False</td>\n",
       "      <td>False</td>\n",
       "    </tr>\n",
       "    <tr>\n",
       "      <th>3</th>\n",
       "      <td>2001</td>\n",
       "      <td>75</td>\n",
       "      <td>150000</td>\n",
       "      <td>6</td>\n",
       "      <td>0</td>\n",
       "      <td>91074</td>\n",
       "      <td>17</td>\n",
       "      <td>3</td>\n",
       "      <td>2016</td>\n",
       "      <td>17</td>\n",
       "      <td>...</td>\n",
       "      <td>False</td>\n",
       "      <td>False</td>\n",
       "      <td>False</td>\n",
       "      <td>False</td>\n",
       "      <td>False</td>\n",
       "      <td>False</td>\n",
       "      <td>True</td>\n",
       "      <td>False</td>\n",
       "      <td>True</td>\n",
       "      <td>False</td>\n",
       "    </tr>\n",
       "    <tr>\n",
       "      <th>4</th>\n",
       "      <td>2008</td>\n",
       "      <td>69</td>\n",
       "      <td>90000</td>\n",
       "      <td>7</td>\n",
       "      <td>0</td>\n",
       "      <td>60437</td>\n",
       "      <td>31</td>\n",
       "      <td>3</td>\n",
       "      <td>2016</td>\n",
       "      <td>31</td>\n",
       "      <td>...</td>\n",
       "      <td>False</td>\n",
       "      <td>False</td>\n",
       "      <td>False</td>\n",
       "      <td>False</td>\n",
       "      <td>False</td>\n",
       "      <td>False</td>\n",
       "      <td>False</td>\n",
       "      <td>False</td>\n",
       "      <td>True</td>\n",
       "      <td>False</td>\n",
       "    </tr>\n",
       "    <tr>\n",
       "      <th>...</th>\n",
       "      <td>...</td>\n",
       "      <td>...</td>\n",
       "      <td>...</td>\n",
       "      <td>...</td>\n",
       "      <td>...</td>\n",
       "      <td>...</td>\n",
       "      <td>...</td>\n",
       "      <td>...</td>\n",
       "      <td>...</td>\n",
       "      <td>...</td>\n",
       "      <td>...</td>\n",
       "      <td>...</td>\n",
       "      <td>...</td>\n",
       "      <td>...</td>\n",
       "      <td>...</td>\n",
       "      <td>...</td>\n",
       "      <td>...</td>\n",
       "      <td>...</td>\n",
       "      <td>...</td>\n",
       "      <td>...</td>\n",
       "      <td>...</td>\n",
       "    </tr>\n",
       "    <tr>\n",
       "      <th>354102</th>\n",
       "      <td>2005</td>\n",
       "      <td>0</td>\n",
       "      <td>150000</td>\n",
       "      <td>7</td>\n",
       "      <td>0</td>\n",
       "      <td>2694</td>\n",
       "      <td>21</td>\n",
       "      <td>3</td>\n",
       "      <td>2016</td>\n",
       "      <td>21</td>\n",
       "      <td>...</td>\n",
       "      <td>False</td>\n",
       "      <td>False</td>\n",
       "      <td>False</td>\n",
       "      <td>False</td>\n",
       "      <td>False</td>\n",
       "      <td>False</td>\n",
       "      <td>False</td>\n",
       "      <td>False</td>\n",
       "      <td>False</td>\n",
       "      <td>True</td>\n",
       "    </tr>\n",
       "    <tr>\n",
       "      <th>354103</th>\n",
       "      <td>2005</td>\n",
       "      <td>0</td>\n",
       "      <td>20000</td>\n",
       "      <td>1</td>\n",
       "      <td>0</td>\n",
       "      <td>39576</td>\n",
       "      <td>14</td>\n",
       "      <td>3</td>\n",
       "      <td>2016</td>\n",
       "      <td>14</td>\n",
       "      <td>...</td>\n",
       "      <td>False</td>\n",
       "      <td>True</td>\n",
       "      <td>False</td>\n",
       "      <td>False</td>\n",
       "      <td>False</td>\n",
       "      <td>False</td>\n",
       "      <td>False</td>\n",
       "      <td>False</td>\n",
       "      <td>False</td>\n",
       "      <td>False</td>\n",
       "    </tr>\n",
       "    <tr>\n",
       "      <th>354104</th>\n",
       "      <td>2000</td>\n",
       "      <td>101</td>\n",
       "      <td>125000</td>\n",
       "      <td>3</td>\n",
       "      <td>0</td>\n",
       "      <td>26135</td>\n",
       "      <td>5</td>\n",
       "      <td>3</td>\n",
       "      <td>2016</td>\n",
       "      <td>5</td>\n",
       "      <td>...</td>\n",
       "      <td>True</td>\n",
       "      <td>False</td>\n",
       "      <td>False</td>\n",
       "      <td>False</td>\n",
       "      <td>False</td>\n",
       "      <td>False</td>\n",
       "      <td>False</td>\n",
       "      <td>False</td>\n",
       "      <td>True</td>\n",
       "      <td>False</td>\n",
       "    </tr>\n",
       "    <tr>\n",
       "      <th>354105</th>\n",
       "      <td>1996</td>\n",
       "      <td>102</td>\n",
       "      <td>150000</td>\n",
       "      <td>3</td>\n",
       "      <td>0</td>\n",
       "      <td>87439</td>\n",
       "      <td>19</td>\n",
       "      <td>3</td>\n",
       "      <td>2016</td>\n",
       "      <td>19</td>\n",
       "      <td>...</td>\n",
       "      <td>False</td>\n",
       "      <td>False</td>\n",
       "      <td>False</td>\n",
       "      <td>False</td>\n",
       "      <td>False</td>\n",
       "      <td>False</td>\n",
       "      <td>True</td>\n",
       "      <td>False</td>\n",
       "      <td>True</td>\n",
       "      <td>False</td>\n",
       "    </tr>\n",
       "    <tr>\n",
       "      <th>354106</th>\n",
       "      <td>2002</td>\n",
       "      <td>100</td>\n",
       "      <td>150000</td>\n",
       "      <td>6</td>\n",
       "      <td>0</td>\n",
       "      <td>40764</td>\n",
       "      <td>20</td>\n",
       "      <td>3</td>\n",
       "      <td>2016</td>\n",
       "      <td>20</td>\n",
       "      <td>...</td>\n",
       "      <td>False</td>\n",
       "      <td>False</td>\n",
       "      <td>False</td>\n",
       "      <td>False</td>\n",
       "      <td>False</td>\n",
       "      <td>False</td>\n",
       "      <td>True</td>\n",
       "      <td>False</td>\n",
       "      <td>False</td>\n",
       "      <td>False</td>\n",
       "    </tr>\n",
       "  </tbody>\n",
       "</table>\n",
       "<p>354107 rows × 323 columns</p>\n",
       "</div>"
      ],
      "text/plain": [
       "        RegistrationYear  Power  Mileage  RegistrationMonth  NumberOfPictures  \\\n",
       "0                   1993      0   150000                  0                 0   \n",
       "1                   2011    190   125000                  5                 0   \n",
       "2                   2004    163   125000                  8                 0   \n",
       "3                   2001     75   150000                  6                 0   \n",
       "4                   2008     69    90000                  7                 0   \n",
       "...                  ...    ...      ...                ...               ...   \n",
       "354102              2005      0   150000                  7                 0   \n",
       "354103              2005      0    20000                  1                 0   \n",
       "354104              2000    101   125000                  3                 0   \n",
       "354105              1996    102   150000                  3                 0   \n",
       "354106              2002    100   150000                  6                 0   \n",
       "\n",
       "        PostalCode  day-DateCrawled  month-DateCrawled  year-DateCrawled  \\\n",
       "0            70435               24                  3              2016   \n",
       "1            66954               24                  3              2016   \n",
       "2            90480               14                  3              2016   \n",
       "3            91074               17                  3              2016   \n",
       "4            60437               31                  3              2016   \n",
       "...            ...              ...                ...               ...   \n",
       "354102        2694               21                  3              2016   \n",
       "354103       39576               14                  3              2016   \n",
       "354104       26135                5                  3              2016   \n",
       "354105       87439               19                  3              2016   \n",
       "354106       40764               20                  3              2016   \n",
       "\n",
       "        day-DateCreated  ...  smart  sonstige_autos  subaru  suzuki  toyota  \\\n",
       "0                    24  ...  False           False   False   False   False   \n",
       "1                    24  ...  False           False   False   False   False   \n",
       "2                    14  ...  False           False   False   False   False   \n",
       "3                    17  ...  False           False   False   False   False   \n",
       "4                    31  ...  False           False   False   False   False   \n",
       "...                 ...  ...    ...             ...     ...     ...     ...   \n",
       "354102               21  ...  False           False   False   False   False   \n",
       "354103               14  ...  False            True   False   False   False   \n",
       "354104                5  ...   True           False   False   False   False   \n",
       "354105               19  ...  False           False   False   False   False   \n",
       "354106               20  ...  False           False   False   False   False   \n",
       "\n",
       "        trabant  volkswagen  volvo     no    yes  \n",
       "0         False        True  False  False  False  \n",
       "1         False       False  False  False   True  \n",
       "2         False       False  False  False  False  \n",
       "3         False        True  False   True  False  \n",
       "4         False       False  False   True  False  \n",
       "...         ...         ...    ...    ...    ...  \n",
       "354102    False       False  False  False   True  \n",
       "354103    False       False  False  False  False  \n",
       "354104    False       False  False   True  False  \n",
       "354105    False        True  False   True  False  \n",
       "354106    False        True  False  False  False  \n",
       "\n",
       "[354107 rows x 323 columns]"
      ]
     },
     "execution_count": 24,
     "metadata": {},
     "output_type": "execute_result"
    }
   ],
   "source": [
    "features"
   ]
  },
  {
   "cell_type": "code",
   "execution_count": 25,
   "metadata": {},
   "outputs": [],
   "source": [
    "if not pd.api.types.is_numeric_dtype(target):  # Check if data type is numeric\n",
    "    encoder = LabelEncoder()\n",
    "    y = encoder.fit_transform(target)"
   ]
  },
  {
   "cell_type": "code",
   "execution_count": 26,
   "metadata": {},
   "outputs": [],
   "source": [
    "#separate data\n",
    "features_train, features_valid, target_train, target_valid = train_test_split(features,target, test_size=0.25,random_state=12345)"
   ]
  },
  {
   "cell_type": "code",
   "execution_count": 27,
   "metadata": {},
   "outputs": [
    {
     "name": "stdout",
     "output_type": "stream",
     "text": [
      "RMSE: 3143.3507878536147\n",
      "Model Fitting Time: 6.485759019851685\n"
     ]
    }
   ],
   "source": [
    "# Linear Regression\n",
    "\n",
    "# Create a linear regression model\n",
    "model = LinearRegression()\n",
    "\n",
    "# Start time measurement for model fitting\n",
    "start_time1 = time.time()\n",
    "\n",
    "# Train the model on the training features and target variables\n",
    "model.fit(features_train, target_train)\n",
    "\n",
    "# End time measurement for model fitting\n",
    "end_time1 = time.time()\n",
    "\n",
    "# Calculate the fitting time\n",
    "Fit_time = end_time1 - start_time1\n",
    "\n",
    "# Start time measurement for prediction\n",
    "start_time2 = time.time()\n",
    "\n",
    "# Make predictions on the validation features using the trained model\n",
    "predicted_value = model.predict(features_valid)\n",
    "\n",
    "# End time measurement for prediction\n",
    "end_time2 = time.time()\n",
    "\n",
    "# Calculate the prediction time\n",
    "predict_time = end_time2 - start_time2\n",
    "\n",
    "# Calculate the residuals (difference between actual and predicted values)\n",
    "residuals = target_valid - predicted_value\n",
    "\n",
    "# Calculate the Root Mean Squared Error (RMSE) as a performance metric\n",
    "rmse = np.sqrt(np.mean(residuals**2))\n",
    "\n",
    "# Print the RMSE metric\n",
    "print(\"RMSE:\", rmse)\n",
    "\n",
    "# Print the fitting time of the model\n",
    "print(\"Model Fitting Time:\", Fit_time)"
   ]
  },
  {
   "cell_type": "code",
   "execution_count": 28,
   "metadata": {},
   "outputs": [
    {
     "name": "stdout",
     "output_type": "stream",
     "text": [
      "RMSE: 2567.7848390435747\n",
      "Model fitting time: 120.32777380943298\n",
      "Model prediction time: 2.8125579357147217\n"
     ]
    }
   ],
   "source": [
    "# Decision Tree Classifier\n",
    "\n",
    "# Create a Decision Tree Classifier model with a fixed random state for reproducibility\n",
    "model = DecisionTreeClassifier(random_state=12345)\n",
    "\n",
    "# Start time measurement for training\n",
    "start_time1 = time.time()\n",
    "\n",
    "# Train the model on the training features and target variables\n",
    "model.fit(features_train, target_train)\n",
    "\n",
    "# End time measurement for training\n",
    "end_time1 = time.time()\n",
    "\n",
    "# Calculate the fitting time\n",
    "Fit_time = end_time1 - start_time1\n",
    "\n",
    "# Start time measurement for prediction\n",
    "start_time2 = time.time()\n",
    "\n",
    "# Make predictions on the validation features using the trained model\n",
    "predicted_value = model.predict(features_valid)\n",
    "\n",
    "# End time measurement for prediction\n",
    "end_time2 = time.time()\n",
    "\n",
    "# Calculate the prediction time\n",
    "predict_time = end_time2 - start_time2\n",
    "\n",
    "# Calculate root mean squared error (RMSE) as an evaluation metric\n",
    "residuals = target_valid - predicted_value\n",
    "rmse = np.sqrt(np.mean(residuals**2))\n",
    "\n",
    "# Print the RMSE metric\n",
    "print(\"RMSE:\", rmse)\n",
    "\n",
    "# Print the fitting time of the model\n",
    "print(\"Model fitting time:\", Fit_time)\n",
    "\n",
    "# Print the prediction time of the model\n",
    "print(\"Model prediction time:\", predict_time)"
   ]
  },
  {
   "cell_type": "code",
   "execution_count": 29,
   "metadata": {},
   "outputs": [
    {
     "name": "stdout",
     "output_type": "stream",
     "text": [
      "0:\tlearn: 4236.4704007\ttotal: 83.3ms\tremaining: 1m 23s\n",
      "1:\tlearn: 3991.6045770\ttotal: 95.6ms\tremaining: 47.7s\n",
      "2:\tlearn: 3775.6942912\ttotal: 106ms\tremaining: 35.3s\n",
      "3:\tlearn: 3579.6627540\ttotal: 118ms\tremaining: 29.4s\n",
      "4:\tlearn: 3419.2679287\ttotal: 130ms\tremaining: 25.9s\n",
      "5:\tlearn: 3277.2960936\ttotal: 142ms\tremaining: 23.6s\n",
      "6:\tlearn: 3152.3662437\ttotal: 153ms\tremaining: 21.6s\n",
      "7:\tlearn: 3039.0722867\ttotal: 164ms\tremaining: 20.3s\n",
      "8:\tlearn: 2945.6429679\ttotal: 174ms\tremaining: 19.2s\n",
      "9:\tlearn: 2860.1021083\ttotal: 188ms\tremaining: 18.6s\n",
      "10:\tlearn: 2781.0271149\ttotal: 198ms\tremaining: 17.8s\n",
      "11:\tlearn: 2717.4792134\ttotal: 209ms\tremaining: 17.2s\n",
      "12:\tlearn: 2656.4293079\ttotal: 219ms\tremaining: 16.7s\n",
      "13:\tlearn: 2603.7814656\ttotal: 230ms\tremaining: 16.2s\n",
      "14:\tlearn: 2558.1731146\ttotal: 240ms\tremaining: 15.8s\n",
      "15:\tlearn: 2516.3810486\ttotal: 250ms\tremaining: 15.4s\n",
      "16:\tlearn: 2480.0710227\ttotal: 262ms\tremaining: 15.1s\n",
      "17:\tlearn: 2446.1284162\ttotal: 274ms\tremaining: 15s\n",
      "18:\tlearn: 2417.5691410\ttotal: 287ms\tremaining: 14.8s\n",
      "19:\tlearn: 2387.6253620\ttotal: 300ms\tremaining: 14.7s\n",
      "20:\tlearn: 2364.1263529\ttotal: 315ms\tremaining: 14.7s\n",
      "21:\tlearn: 2339.7644676\ttotal: 327ms\tremaining: 14.6s\n",
      "22:\tlearn: 2319.4678513\ttotal: 338ms\tremaining: 14.4s\n",
      "23:\tlearn: 2301.1161402\ttotal: 350ms\tremaining: 14.2s\n",
      "24:\tlearn: 2282.4099703\ttotal: 362ms\tremaining: 14.1s\n",
      "25:\tlearn: 2265.0290184\ttotal: 373ms\tremaining: 14s\n",
      "26:\tlearn: 2250.5539991\ttotal: 384ms\tremaining: 13.8s\n",
      "27:\tlearn: 2235.5584454\ttotal: 394ms\tremaining: 13.7s\n",
      "28:\tlearn: 2223.5380007\ttotal: 405ms\tremaining: 13.6s\n",
      "29:\tlearn: 2212.8698248\ttotal: 415ms\tremaining: 13.4s\n",
      "30:\tlearn: 2199.9770130\ttotal: 425ms\tremaining: 13.3s\n",
      "31:\tlearn: 2189.0790061\ttotal: 436ms\tremaining: 13.2s\n",
      "32:\tlearn: 2179.6908608\ttotal: 447ms\tremaining: 13.1s\n",
      "33:\tlearn: 2166.1717958\ttotal: 457ms\tremaining: 13s\n",
      "34:\tlearn: 2156.1960572\ttotal: 467ms\tremaining: 12.9s\n",
      "35:\tlearn: 2147.8294379\ttotal: 477ms\tremaining: 12.8s\n",
      "36:\tlearn: 2139.1102432\ttotal: 486ms\tremaining: 12.6s\n",
      "37:\tlearn: 2131.6844648\ttotal: 496ms\tremaining: 12.5s\n",
      "38:\tlearn: 2125.1556840\ttotal: 505ms\tremaining: 12.4s\n",
      "39:\tlearn: 2117.9202250\ttotal: 514ms\tremaining: 12.3s\n",
      "40:\tlearn: 2109.9012300\ttotal: 524ms\tremaining: 12.3s\n",
      "41:\tlearn: 2103.0449696\ttotal: 533ms\tremaining: 12.2s\n",
      "42:\tlearn: 2096.1351658\ttotal: 543ms\tremaining: 12.1s\n",
      "43:\tlearn: 2091.2970973\ttotal: 552ms\tremaining: 12s\n",
      "44:\tlearn: 2086.2327250\ttotal: 561ms\tremaining: 11.9s\n",
      "45:\tlearn: 2078.2449040\ttotal: 570ms\tremaining: 11.8s\n",
      "46:\tlearn: 2072.8467772\ttotal: 579ms\tremaining: 11.7s\n",
      "47:\tlearn: 2068.4858877\ttotal: 588ms\tremaining: 11.7s\n",
      "48:\tlearn: 2064.0833867\ttotal: 597ms\tremaining: 11.6s\n",
      "49:\tlearn: 2060.2247891\ttotal: 606ms\tremaining: 11.5s\n",
      "50:\tlearn: 2055.5937825\ttotal: 614ms\tremaining: 11.4s\n",
      "51:\tlearn: 2051.7050398\ttotal: 623ms\tremaining: 11.4s\n",
      "52:\tlearn: 2045.1378207\ttotal: 633ms\tremaining: 11.3s\n",
      "53:\tlearn: 2040.9222198\ttotal: 642ms\tremaining: 11.2s\n",
      "54:\tlearn: 2037.5742220\ttotal: 650ms\tremaining: 11.2s\n",
      "55:\tlearn: 2033.7244951\ttotal: 661ms\tremaining: 11.1s\n",
      "56:\tlearn: 2030.5607492\ttotal: 669ms\tremaining: 11.1s\n",
      "57:\tlearn: 2027.7860946\ttotal: 678ms\tremaining: 11s\n",
      "58:\tlearn: 2024.6479431\ttotal: 688ms\tremaining: 11s\n",
      "59:\tlearn: 2021.4733013\ttotal: 698ms\tremaining: 10.9s\n",
      "60:\tlearn: 2018.2168477\ttotal: 708ms\tremaining: 10.9s\n",
      "61:\tlearn: 2015.7945457\ttotal: 717ms\tremaining: 10.8s\n",
      "62:\tlearn: 2010.6664134\ttotal: 726ms\tremaining: 10.8s\n",
      "63:\tlearn: 2007.6204850\ttotal: 736ms\tremaining: 10.8s\n",
      "64:\tlearn: 2004.5028615\ttotal: 745ms\tremaining: 10.7s\n",
      "65:\tlearn: 2002.2709360\ttotal: 755ms\tremaining: 10.7s\n",
      "66:\tlearn: 1999.3485876\ttotal: 764ms\tremaining: 10.6s\n",
      "67:\tlearn: 1996.8315696\ttotal: 774ms\tremaining: 10.6s\n",
      "68:\tlearn: 1992.8206722\ttotal: 784ms\tremaining: 10.6s\n",
      "69:\tlearn: 1990.5376214\ttotal: 794ms\tremaining: 10.5s\n",
      "70:\tlearn: 1987.5167102\ttotal: 804ms\tremaining: 10.5s\n",
      "71:\tlearn: 1984.4502776\ttotal: 813ms\tremaining: 10.5s\n",
      "72:\tlearn: 1982.9643191\ttotal: 822ms\tremaining: 10.4s\n",
      "73:\tlearn: 1981.0101910\ttotal: 834ms\tremaining: 10.4s\n",
      "74:\tlearn: 1978.4682360\ttotal: 844ms\tremaining: 10.4s\n",
      "75:\tlearn: 1976.1849651\ttotal: 854ms\tremaining: 10.4s\n",
      "76:\tlearn: 1973.9265780\ttotal: 864ms\tremaining: 10.4s\n",
      "77:\tlearn: 1972.2623352\ttotal: 875ms\tremaining: 10.3s\n",
      "78:\tlearn: 1970.3789276\ttotal: 885ms\tremaining: 10.3s\n",
      "79:\tlearn: 1968.2864023\ttotal: 895ms\tremaining: 10.3s\n",
      "80:\tlearn: 1965.9046157\ttotal: 906ms\tremaining: 10.3s\n",
      "81:\tlearn: 1964.4175397\ttotal: 916ms\tremaining: 10.3s\n",
      "82:\tlearn: 1962.0736156\ttotal: 927ms\tremaining: 10.2s\n",
      "83:\tlearn: 1960.5690009\ttotal: 938ms\tremaining: 10.2s\n",
      "84:\tlearn: 1958.5822309\ttotal: 950ms\tremaining: 10.2s\n",
      "85:\tlearn: 1956.8220392\ttotal: 965ms\tremaining: 10.3s\n",
      "86:\tlearn: 1954.2903031\ttotal: 978ms\tremaining: 10.3s\n",
      "87:\tlearn: 1951.8974805\ttotal: 988ms\tremaining: 10.2s\n",
      "88:\tlearn: 1949.8283421\ttotal: 1s\tremaining: 10.3s\n",
      "89:\tlearn: 1948.3647660\ttotal: 1.01s\tremaining: 10.2s\n",
      "90:\tlearn: 1946.8149919\ttotal: 1.02s\tremaining: 10.2s\n",
      "91:\tlearn: 1944.9157272\ttotal: 1.03s\tremaining: 10.2s\n",
      "92:\tlearn: 1943.5611123\ttotal: 1.04s\tremaining: 10.2s\n",
      "93:\tlearn: 1942.3094318\ttotal: 1.05s\tremaining: 10.2s\n",
      "94:\tlearn: 1941.0669759\ttotal: 1.06s\tremaining: 10.2s\n",
      "95:\tlearn: 1939.9280966\ttotal: 1.08s\tremaining: 10.1s\n",
      "96:\tlearn: 1939.0014260\ttotal: 1.09s\tremaining: 10.2s\n",
      "97:\tlearn: 1937.4375174\ttotal: 1.11s\tremaining: 10.2s\n",
      "98:\tlearn: 1936.2985114\ttotal: 1.12s\tremaining: 10.2s\n",
      "99:\tlearn: 1935.0194882\ttotal: 1.14s\tremaining: 10.2s\n",
      "100:\tlearn: 1934.0774305\ttotal: 1.15s\tremaining: 10.2s\n",
      "101:\tlearn: 1932.8258697\ttotal: 1.16s\tremaining: 10.2s\n",
      "102:\tlearn: 1930.4171201\ttotal: 1.18s\tremaining: 10.2s\n",
      "103:\tlearn: 1928.0646571\ttotal: 1.19s\tremaining: 10.3s\n",
      "104:\tlearn: 1926.9312845\ttotal: 1.21s\tremaining: 10.3s\n",
      "105:\tlearn: 1926.1301903\ttotal: 1.22s\tremaining: 10.3s\n",
      "106:\tlearn: 1924.0255099\ttotal: 1.24s\tremaining: 10.3s\n",
      "107:\tlearn: 1923.1681095\ttotal: 1.25s\tremaining: 10.3s\n",
      "108:\tlearn: 1921.3199538\ttotal: 1.26s\tremaining: 10.3s\n",
      "109:\tlearn: 1920.3073870\ttotal: 1.27s\tremaining: 10.3s\n",
      "110:\tlearn: 1919.4797027\ttotal: 1.28s\tremaining: 10.3s\n",
      "111:\tlearn: 1917.9067725\ttotal: 1.3s\tremaining: 10.3s\n",
      "112:\tlearn: 1917.0233073\ttotal: 1.31s\tremaining: 10.3s\n",
      "113:\tlearn: 1915.5850820\ttotal: 1.32s\tremaining: 10.2s\n",
      "114:\tlearn: 1914.5397839\ttotal: 1.33s\tremaining: 10.2s\n",
      "115:\tlearn: 1913.1657031\ttotal: 1.34s\tremaining: 10.2s\n",
      "116:\tlearn: 1911.4312268\ttotal: 1.35s\tremaining: 10.2s\n",
      "117:\tlearn: 1909.8712915\ttotal: 1.36s\tremaining: 10.2s\n",
      "118:\tlearn: 1908.8544214\ttotal: 1.37s\tremaining: 10.1s\n",
      "119:\tlearn: 1908.1719902\ttotal: 1.38s\tremaining: 10.1s\n",
      "120:\tlearn: 1906.6468020\ttotal: 1.39s\tremaining: 10.1s\n",
      "121:\tlearn: 1905.9569329\ttotal: 1.4s\tremaining: 10.1s\n",
      "122:\tlearn: 1904.8685794\ttotal: 1.41s\tremaining: 10s\n",
      "123:\tlearn: 1903.0605472\ttotal: 1.42s\tremaining: 10s\n",
      "124:\tlearn: 1901.8045836\ttotal: 1.43s\tremaining: 10s\n",
      "125:\tlearn: 1899.9686367\ttotal: 1.44s\tremaining: 9.98s\n",
      "126:\tlearn: 1899.0516455\ttotal: 1.45s\tremaining: 9.96s\n",
      "127:\tlearn: 1898.1887091\ttotal: 1.46s\tremaining: 9.93s\n",
      "128:\tlearn: 1897.3622974\ttotal: 1.47s\tremaining: 9.9s\n",
      "129:\tlearn: 1896.0773251\ttotal: 1.48s\tremaining: 9.88s\n",
      "130:\tlearn: 1895.2145539\ttotal: 1.49s\tremaining: 9.85s\n",
      "131:\tlearn: 1894.5048849\ttotal: 1.5s\tremaining: 9.84s\n",
      "132:\tlearn: 1893.5001307\ttotal: 1.51s\tremaining: 9.83s\n",
      "133:\tlearn: 1892.9348575\ttotal: 1.52s\tremaining: 9.81s\n",
      "134:\tlearn: 1891.2106607\ttotal: 1.53s\tremaining: 9.81s\n",
      "135:\tlearn: 1890.4663430\ttotal: 1.54s\tremaining: 9.79s\n",
      "136:\tlearn: 1889.7097312\ttotal: 1.55s\tremaining: 9.77s\n",
      "137:\tlearn: 1888.9645472\ttotal: 1.56s\tremaining: 9.75s\n",
      "138:\tlearn: 1888.2217742\ttotal: 1.57s\tremaining: 9.73s\n",
      "139:\tlearn: 1886.5317123\ttotal: 1.58s\tremaining: 9.71s\n",
      "140:\tlearn: 1885.5924080\ttotal: 1.59s\tremaining: 9.7s\n",
      "141:\tlearn: 1884.3481440\ttotal: 1.6s\tremaining: 9.69s\n",
      "142:\tlearn: 1883.0329374\ttotal: 1.62s\tremaining: 9.71s\n",
      "143:\tlearn: 1881.0875326\ttotal: 1.63s\tremaining: 9.71s\n",
      "144:\tlearn: 1880.1753386\ttotal: 1.65s\tremaining: 9.7s\n",
      "145:\tlearn: 1878.9000298\ttotal: 1.66s\tremaining: 9.68s\n",
      "146:\tlearn: 1878.0408498\ttotal: 1.67s\tremaining: 9.66s\n",
      "147:\tlearn: 1876.7440567\ttotal: 1.68s\tremaining: 9.65s\n",
      "148:\tlearn: 1875.0815713\ttotal: 1.69s\tremaining: 9.63s\n",
      "149:\tlearn: 1873.9914074\ttotal: 1.7s\tremaining: 9.62s\n",
      "150:\tlearn: 1872.9739090\ttotal: 1.71s\tremaining: 9.61s\n",
      "151:\tlearn: 1872.1014014\ttotal: 1.72s\tremaining: 9.62s\n",
      "152:\tlearn: 1871.0264963\ttotal: 1.74s\tremaining: 9.61s\n",
      "153:\tlearn: 1870.1478385\ttotal: 1.75s\tremaining: 9.6s\n",
      "154:\tlearn: 1869.4789645\ttotal: 1.76s\tremaining: 9.58s\n",
      "155:\tlearn: 1868.5022269\ttotal: 1.77s\tremaining: 9.56s\n",
      "156:\tlearn: 1867.2197625\ttotal: 1.78s\tremaining: 9.55s\n",
      "157:\tlearn: 1866.6910858\ttotal: 1.79s\tremaining: 9.53s\n",
      "158:\tlearn: 1865.7697018\ttotal: 1.8s\tremaining: 9.51s\n",
      "159:\tlearn: 1865.1766873\ttotal: 1.81s\tremaining: 9.49s\n",
      "160:\tlearn: 1864.2595882\ttotal: 1.82s\tremaining: 9.47s\n",
      "161:\tlearn: 1863.6260100\ttotal: 1.83s\tremaining: 9.45s\n",
      "162:\tlearn: 1862.9048091\ttotal: 1.83s\tremaining: 9.43s\n",
      "163:\tlearn: 1862.3263638\ttotal: 1.84s\tremaining: 9.4s\n",
      "164:\tlearn: 1861.3686457\ttotal: 1.85s\tremaining: 9.38s\n",
      "165:\tlearn: 1860.3789841\ttotal: 1.86s\tremaining: 9.36s\n",
      "166:\tlearn: 1859.5401202\ttotal: 1.87s\tremaining: 9.35s\n",
      "167:\tlearn: 1858.7949533\ttotal: 1.88s\tremaining: 9.33s\n",
      "168:\tlearn: 1858.1950690\ttotal: 1.89s\tremaining: 9.3s\n",
      "169:\tlearn: 1857.5533641\ttotal: 1.9s\tremaining: 9.29s\n",
      "170:\tlearn: 1856.9339769\ttotal: 1.91s\tremaining: 9.27s\n",
      "171:\tlearn: 1856.2938257\ttotal: 1.92s\tremaining: 9.26s\n",
      "172:\tlearn: 1855.7564532\ttotal: 1.94s\tremaining: 9.26s\n",
      "173:\tlearn: 1855.1306123\ttotal: 1.95s\tremaining: 9.25s\n",
      "174:\tlearn: 1854.2791865\ttotal: 1.96s\tremaining: 9.25s\n",
      "175:\tlearn: 1853.4278522\ttotal: 1.97s\tremaining: 9.23s\n",
      "176:\tlearn: 1853.0231227\ttotal: 1.98s\tremaining: 9.22s\n",
      "177:\tlearn: 1852.3366101\ttotal: 1.99s\tremaining: 9.2s\n",
      "178:\tlearn: 1851.3624871\ttotal: 2s\tremaining: 9.19s\n",
      "179:\tlearn: 1850.8017319\ttotal: 2.01s\tremaining: 9.17s\n",
      "180:\tlearn: 1849.9655143\ttotal: 2.02s\tremaining: 9.16s\n",
      "181:\tlearn: 1848.7160197\ttotal: 2.04s\tremaining: 9.16s\n",
      "182:\tlearn: 1848.0531915\ttotal: 2.05s\tremaining: 9.14s\n",
      "183:\tlearn: 1847.5446503\ttotal: 2.06s\tremaining: 9.13s\n",
      "184:\tlearn: 1847.1542161\ttotal: 2.07s\tremaining: 9.11s\n",
      "185:\tlearn: 1846.5188264\ttotal: 2.08s\tremaining: 9.12s\n",
      "186:\tlearn: 1846.0037159\ttotal: 2.1s\tremaining: 9.11s\n",
      "187:\tlearn: 1845.5967240\ttotal: 2.11s\tremaining: 9.1s\n",
      "188:\tlearn: 1844.8631612\ttotal: 2.12s\tremaining: 9.09s\n",
      "189:\tlearn: 1843.9698393\ttotal: 2.13s\tremaining: 9.08s\n",
      "190:\tlearn: 1843.3355307\ttotal: 2.14s\tremaining: 9.07s\n",
      "191:\tlearn: 1842.8644784\ttotal: 2.15s\tremaining: 9.05s\n",
      "192:\tlearn: 1842.0454813\ttotal: 2.16s\tremaining: 9.04s\n",
      "193:\tlearn: 1841.2193806\ttotal: 2.17s\tremaining: 9.03s\n",
      "194:\tlearn: 1840.4661032\ttotal: 2.18s\tremaining: 9.02s\n",
      "195:\tlearn: 1839.8899394\ttotal: 2.19s\tremaining: 9s\n",
      "196:\tlearn: 1839.0218598\ttotal: 2.21s\tremaining: 8.99s\n",
      "197:\tlearn: 1838.2810310\ttotal: 2.22s\tremaining: 8.98s\n",
      "198:\tlearn: 1837.4981119\ttotal: 2.23s\tremaining: 8.98s\n",
      "199:\tlearn: 1836.8447210\ttotal: 2.24s\tremaining: 8.96s\n",
      "200:\tlearn: 1836.2286759\ttotal: 2.25s\tremaining: 8.95s\n",
      "201:\tlearn: 1835.6496360\ttotal: 2.26s\tremaining: 8.94s\n",
      "202:\tlearn: 1834.9652888\ttotal: 2.27s\tremaining: 8.93s\n",
      "203:\tlearn: 1834.0347091\ttotal: 2.28s\tremaining: 8.91s\n",
      "204:\tlearn: 1833.4933892\ttotal: 2.29s\tremaining: 8.9s\n",
      "205:\tlearn: 1832.7315249\ttotal: 2.3s\tremaining: 8.88s\n",
      "206:\tlearn: 1832.1041963\ttotal: 2.31s\tremaining: 8.87s\n",
      "207:\tlearn: 1831.5319554\ttotal: 2.32s\tremaining: 8.85s\n",
      "208:\tlearn: 1830.9556283\ttotal: 2.34s\tremaining: 8.84s\n",
      "209:\tlearn: 1830.1714029\ttotal: 2.35s\tremaining: 8.83s\n",
      "210:\tlearn: 1829.7886635\ttotal: 2.35s\tremaining: 8.81s\n",
      "211:\tlearn: 1829.2049981\ttotal: 2.37s\tremaining: 8.79s\n",
      "212:\tlearn: 1828.5172070\ttotal: 2.38s\tremaining: 8.78s\n",
      "213:\tlearn: 1827.8276168\ttotal: 2.38s\tremaining: 8.76s\n",
      "214:\tlearn: 1827.4097136\ttotal: 2.39s\tremaining: 8.74s\n",
      "215:\tlearn: 1826.3388566\ttotal: 2.4s\tremaining: 8.73s\n",
      "216:\tlearn: 1825.8769577\ttotal: 2.41s\tremaining: 8.71s\n",
      "217:\tlearn: 1825.4399656\ttotal: 2.42s\tremaining: 8.69s\n",
      "218:\tlearn: 1824.7006476\ttotal: 2.43s\tremaining: 8.68s\n",
      "219:\tlearn: 1824.2901795\ttotal: 2.44s\tremaining: 8.66s\n",
      "220:\tlearn: 1823.5732402\ttotal: 2.45s\tremaining: 8.64s\n",
      "221:\tlearn: 1822.8213866\ttotal: 2.46s\tremaining: 8.62s\n",
      "222:\tlearn: 1822.2168145\ttotal: 2.47s\tremaining: 8.61s\n",
      "223:\tlearn: 1821.4455249\ttotal: 2.48s\tremaining: 8.59s\n",
      "224:\tlearn: 1820.9152746\ttotal: 2.49s\tremaining: 8.57s\n",
      "225:\tlearn: 1820.5753253\ttotal: 2.5s\tremaining: 8.56s\n",
      "226:\tlearn: 1820.1380500\ttotal: 2.51s\tremaining: 8.55s\n",
      "227:\tlearn: 1819.5833362\ttotal: 2.52s\tremaining: 8.54s\n",
      "228:\tlearn: 1819.0434392\ttotal: 2.53s\tremaining: 8.53s\n",
      "229:\tlearn: 1818.5789268\ttotal: 2.55s\tremaining: 8.52s\n",
      "230:\tlearn: 1817.9003810\ttotal: 2.56s\tremaining: 8.52s\n",
      "231:\tlearn: 1817.1519808\ttotal: 2.57s\tremaining: 8.52s\n",
      "232:\tlearn: 1816.5071979\ttotal: 2.58s\tremaining: 8.5s\n",
      "233:\tlearn: 1815.5357019\ttotal: 2.59s\tremaining: 8.49s\n",
      "234:\tlearn: 1815.1607845\ttotal: 2.6s\tremaining: 8.48s\n",
      "235:\tlearn: 1814.6213072\ttotal: 2.61s\tremaining: 8.46s\n",
      "236:\tlearn: 1813.8924602\ttotal: 2.62s\tremaining: 8.45s\n",
      "237:\tlearn: 1813.3652693\ttotal: 2.63s\tremaining: 8.43s\n",
      "238:\tlearn: 1812.9492063\ttotal: 2.64s\tremaining: 8.42s\n",
      "239:\tlearn: 1812.3587004\ttotal: 2.65s\tremaining: 8.4s\n",
      "240:\tlearn: 1811.7342370\ttotal: 2.66s\tremaining: 8.38s\n",
      "241:\tlearn: 1811.3962265\ttotal: 2.67s\tremaining: 8.37s\n",
      "242:\tlearn: 1811.1541952\ttotal: 2.68s\tremaining: 8.35s\n",
      "243:\tlearn: 1810.8125320\ttotal: 2.69s\tremaining: 8.34s\n",
      "244:\tlearn: 1810.0456477\ttotal: 2.7s\tremaining: 8.32s\n",
      "245:\tlearn: 1809.5710739\ttotal: 2.71s\tremaining: 8.31s\n",
      "246:\tlearn: 1809.1130242\ttotal: 2.72s\tremaining: 8.3s\n",
      "247:\tlearn: 1808.6851497\ttotal: 2.73s\tremaining: 8.28s\n",
      "248:\tlearn: 1808.2987821\ttotal: 2.74s\tremaining: 8.27s\n",
      "249:\tlearn: 1807.9708293\ttotal: 2.75s\tremaining: 8.25s\n",
      "250:\tlearn: 1807.3896606\ttotal: 2.76s\tremaining: 8.24s\n",
      "251:\tlearn: 1806.2780743\ttotal: 2.77s\tremaining: 8.22s\n",
      "252:\tlearn: 1805.9041306\ttotal: 2.78s\tremaining: 8.21s\n",
      "253:\tlearn: 1805.4659133\ttotal: 2.79s\tremaining: 8.19s\n",
      "254:\tlearn: 1804.7049735\ttotal: 2.8s\tremaining: 8.18s\n",
      "255:\tlearn: 1804.3478029\ttotal: 2.81s\tremaining: 8.16s\n",
      "256:\tlearn: 1803.7734374\ttotal: 2.82s\tremaining: 8.15s\n",
      "257:\tlearn: 1803.2406698\ttotal: 2.83s\tremaining: 8.13s\n",
      "258:\tlearn: 1802.6791379\ttotal: 2.84s\tremaining: 8.12s\n",
      "259:\tlearn: 1802.3604543\ttotal: 2.85s\tremaining: 8.1s\n",
      "260:\tlearn: 1801.9993735\ttotal: 2.85s\tremaining: 8.08s\n",
      "261:\tlearn: 1801.2887319\ttotal: 2.86s\tremaining: 8.07s\n",
      "262:\tlearn: 1800.5811900\ttotal: 2.88s\tremaining: 8.06s\n",
      "263:\tlearn: 1800.1959422\ttotal: 2.88s\tremaining: 8.04s\n",
      "264:\tlearn: 1799.5782845\ttotal: 2.89s\tremaining: 8.02s\n",
      "265:\tlearn: 1799.0974535\ttotal: 2.9s\tremaining: 8.01s\n",
      "266:\tlearn: 1798.5650810\ttotal: 2.91s\tremaining: 7.99s\n",
      "267:\tlearn: 1798.0879762\ttotal: 2.92s\tremaining: 7.98s\n",
      "268:\tlearn: 1797.6568409\ttotal: 2.93s\tremaining: 7.97s\n",
      "269:\tlearn: 1797.1222600\ttotal: 2.94s\tremaining: 7.96s\n",
      "270:\tlearn: 1796.7612372\ttotal: 2.95s\tremaining: 7.94s\n",
      "271:\tlearn: 1796.3300706\ttotal: 2.96s\tremaining: 7.93s\n",
      "272:\tlearn: 1795.9515287\ttotal: 2.97s\tremaining: 7.92s\n",
      "273:\tlearn: 1795.3655810\ttotal: 2.99s\tremaining: 7.91s\n",
      "274:\tlearn: 1794.9004278\ttotal: 3s\tremaining: 7.9s\n",
      "275:\tlearn: 1794.5043568\ttotal: 3.01s\tremaining: 7.89s\n",
      "276:\tlearn: 1794.1995173\ttotal: 3.02s\tremaining: 7.88s\n",
      "277:\tlearn: 1793.7919395\ttotal: 3.03s\tremaining: 7.87s\n",
      "278:\tlearn: 1793.2410807\ttotal: 3.05s\tremaining: 7.87s\n",
      "279:\tlearn: 1792.8239405\ttotal: 3.06s\tremaining: 7.87s\n",
      "280:\tlearn: 1792.4668995\ttotal: 3.07s\tremaining: 7.86s\n",
      "281:\tlearn: 1792.0266249\ttotal: 3.08s\tremaining: 7.85s\n",
      "282:\tlearn: 1791.6554396\ttotal: 3.09s\tremaining: 7.83s\n",
      "283:\tlearn: 1791.2861051\ttotal: 3.1s\tremaining: 7.83s\n",
      "284:\tlearn: 1790.1616421\ttotal: 3.11s\tremaining: 7.81s\n",
      "285:\tlearn: 1789.7767625\ttotal: 3.13s\tremaining: 7.8s\n",
      "286:\tlearn: 1789.3438952\ttotal: 3.14s\tremaining: 7.79s\n",
      "287:\tlearn: 1789.0197477\ttotal: 3.15s\tremaining: 7.78s\n",
      "288:\tlearn: 1788.6697458\ttotal: 3.16s\tremaining: 7.76s\n",
      "289:\tlearn: 1788.1525091\ttotal: 3.17s\tremaining: 7.75s\n",
      "290:\tlearn: 1787.6551942\ttotal: 3.18s\tremaining: 7.75s\n",
      "291:\tlearn: 1787.1623477\ttotal: 3.2s\tremaining: 7.75s\n",
      "292:\tlearn: 1786.6923713\ttotal: 3.21s\tremaining: 7.74s\n",
      "293:\tlearn: 1786.2855897\ttotal: 3.22s\tremaining: 7.73s\n",
      "294:\tlearn: 1785.9915173\ttotal: 3.23s\tremaining: 7.72s\n",
      "295:\tlearn: 1785.5322628\ttotal: 3.24s\tremaining: 7.71s\n",
      "296:\tlearn: 1785.2614847\ttotal: 3.25s\tremaining: 7.69s\n",
      "297:\tlearn: 1784.8378498\ttotal: 3.26s\tremaining: 7.68s\n",
      "298:\tlearn: 1784.5927416\ttotal: 3.27s\tremaining: 7.67s\n",
      "299:\tlearn: 1783.9770190\ttotal: 3.28s\tremaining: 7.65s\n",
      "300:\tlearn: 1783.5446424\ttotal: 3.29s\tremaining: 7.64s\n",
      "301:\tlearn: 1783.1759960\ttotal: 3.3s\tremaining: 7.63s\n",
      "302:\tlearn: 1782.8580458\ttotal: 3.31s\tremaining: 7.61s\n",
      "303:\tlearn: 1782.5248598\ttotal: 3.32s\tremaining: 7.6s\n",
      "304:\tlearn: 1782.1675483\ttotal: 3.33s\tremaining: 7.59s\n",
      "305:\tlearn: 1781.6845818\ttotal: 3.34s\tremaining: 7.58s\n",
      "306:\tlearn: 1781.2750233\ttotal: 3.35s\tremaining: 7.56s\n",
      "307:\tlearn: 1780.8038364\ttotal: 3.36s\tremaining: 7.55s\n",
      "308:\tlearn: 1780.3986415\ttotal: 3.37s\tremaining: 7.54s\n",
      "309:\tlearn: 1780.0538320\ttotal: 3.38s\tremaining: 7.52s\n",
      "310:\tlearn: 1779.7452441\ttotal: 3.39s\tremaining: 7.51s\n",
      "311:\tlearn: 1779.4302034\ttotal: 3.4s\tremaining: 7.49s\n",
      "312:\tlearn: 1779.0522005\ttotal: 3.41s\tremaining: 7.48s\n",
      "313:\tlearn: 1778.7369538\ttotal: 3.42s\tremaining: 7.46s\n",
      "314:\tlearn: 1778.3989080\ttotal: 3.42s\tremaining: 7.45s\n",
      "315:\tlearn: 1778.0155013\ttotal: 3.43s\tremaining: 7.43s\n",
      "316:\tlearn: 1777.6854080\ttotal: 3.44s\tremaining: 7.42s\n",
      "317:\tlearn: 1777.1838681\ttotal: 3.45s\tremaining: 7.41s\n",
      "318:\tlearn: 1776.7363846\ttotal: 3.46s\tremaining: 7.4s\n",
      "319:\tlearn: 1776.4172671\ttotal: 3.47s\tremaining: 7.38s\n",
      "320:\tlearn: 1776.0737893\ttotal: 3.48s\tremaining: 7.37s\n",
      "321:\tlearn: 1775.6917742\ttotal: 3.5s\tremaining: 7.36s\n",
      "322:\tlearn: 1775.4347814\ttotal: 3.5s\tremaining: 7.35s\n",
      "323:\tlearn: 1775.0604437\ttotal: 3.52s\tremaining: 7.34s\n",
      "324:\tlearn: 1774.6990640\ttotal: 3.53s\tremaining: 7.33s\n",
      "325:\tlearn: 1774.3778485\ttotal: 3.54s\tremaining: 7.32s\n",
      "326:\tlearn: 1774.0134709\ttotal: 3.55s\tremaining: 7.31s\n",
      "327:\tlearn: 1773.5446740\ttotal: 3.56s\tremaining: 7.3s\n",
      "328:\tlearn: 1773.1418997\ttotal: 3.57s\tremaining: 7.29s\n",
      "329:\tlearn: 1772.8496593\ttotal: 3.58s\tremaining: 7.27s\n",
      "330:\tlearn: 1772.6151202\ttotal: 3.59s\tremaining: 7.26s\n",
      "331:\tlearn: 1772.0232228\ttotal: 3.6s\tremaining: 7.25s\n",
      "332:\tlearn: 1771.6598099\ttotal: 3.61s\tremaining: 7.24s\n",
      "333:\tlearn: 1771.3080956\ttotal: 3.62s\tremaining: 7.22s\n",
      "334:\tlearn: 1770.9741824\ttotal: 3.63s\tremaining: 7.21s\n",
      "335:\tlearn: 1770.5932151\ttotal: 3.64s\tremaining: 7.2s\n",
      "336:\tlearn: 1770.3140137\ttotal: 3.65s\tremaining: 7.18s\n",
      "337:\tlearn: 1770.0226319\ttotal: 3.66s\tremaining: 7.17s\n",
      "338:\tlearn: 1769.7617687\ttotal: 3.67s\tremaining: 7.16s\n",
      "339:\tlearn: 1769.4161363\ttotal: 3.68s\tremaining: 7.15s\n",
      "340:\tlearn: 1769.0105029\ttotal: 3.69s\tremaining: 7.13s\n",
      "341:\tlearn: 1768.4984341\ttotal: 3.7s\tremaining: 7.12s\n",
      "342:\tlearn: 1768.3005454\ttotal: 3.71s\tremaining: 7.11s\n",
      "343:\tlearn: 1767.9706783\ttotal: 3.72s\tremaining: 7.1s\n",
      "344:\tlearn: 1767.6506825\ttotal: 3.73s\tremaining: 7.09s\n",
      "345:\tlearn: 1767.2612829\ttotal: 3.75s\tremaining: 7.08s\n",
      "346:\tlearn: 1766.9507237\ttotal: 3.76s\tremaining: 7.07s\n",
      "347:\tlearn: 1766.6882912\ttotal: 3.77s\tremaining: 7.06s\n",
      "348:\tlearn: 1766.4315991\ttotal: 3.78s\tremaining: 7.05s\n",
      "349:\tlearn: 1766.0805339\ttotal: 3.79s\tremaining: 7.05s\n",
      "350:\tlearn: 1765.6171969\ttotal: 3.81s\tremaining: 7.04s\n",
      "351:\tlearn: 1765.3663540\ttotal: 3.82s\tremaining: 7.03s\n",
      "352:\tlearn: 1765.0892377\ttotal: 3.83s\tremaining: 7.01s\n",
      "353:\tlearn: 1764.6946199\ttotal: 3.84s\tremaining: 7s\n",
      "354:\tlearn: 1764.3421091\ttotal: 3.85s\tremaining: 6.99s\n",
      "355:\tlearn: 1764.1420366\ttotal: 3.86s\tremaining: 6.97s\n",
      "356:\tlearn: 1763.8020389\ttotal: 3.87s\tremaining: 6.96s\n",
      "357:\tlearn: 1763.5229696\ttotal: 3.88s\tremaining: 6.95s\n",
      "358:\tlearn: 1763.1641860\ttotal: 3.89s\tremaining: 6.94s\n",
      "359:\tlearn: 1762.7752715\ttotal: 3.9s\tremaining: 6.93s\n",
      "360:\tlearn: 1762.5477322\ttotal: 3.91s\tremaining: 6.92s\n",
      "361:\tlearn: 1762.3884092\ttotal: 3.92s\tremaining: 6.9s\n",
      "362:\tlearn: 1761.9363922\ttotal: 3.93s\tremaining: 6.89s\n",
      "363:\tlearn: 1761.6549029\ttotal: 3.94s\tremaining: 6.88s\n",
      "364:\tlearn: 1761.4213530\ttotal: 3.94s\tremaining: 6.86s\n",
      "365:\tlearn: 1761.1644777\ttotal: 3.96s\tremaining: 6.85s\n",
      "366:\tlearn: 1760.8153418\ttotal: 3.96s\tremaining: 6.84s\n",
      "367:\tlearn: 1760.5678721\ttotal: 3.98s\tremaining: 6.83s\n",
      "368:\tlearn: 1760.2853420\ttotal: 3.99s\tremaining: 6.82s\n",
      "369:\tlearn: 1759.9649777\ttotal: 4s\tremaining: 6.82s\n",
      "370:\tlearn: 1759.6977586\ttotal: 4.01s\tremaining: 6.81s\n",
      "371:\tlearn: 1759.5140129\ttotal: 4.03s\tremaining: 6.8s\n",
      "372:\tlearn: 1759.1770965\ttotal: 4.04s\tremaining: 6.78s\n",
      "373:\tlearn: 1758.8053912\ttotal: 4.05s\tremaining: 6.77s\n",
      "374:\tlearn: 1758.5103944\ttotal: 4.06s\tremaining: 6.76s\n",
      "375:\tlearn: 1758.3068413\ttotal: 4.07s\tremaining: 6.75s\n",
      "376:\tlearn: 1757.9118492\ttotal: 4.08s\tremaining: 6.74s\n",
      "377:\tlearn: 1757.6135514\ttotal: 4.09s\tremaining: 6.72s\n",
      "378:\tlearn: 1757.4157619\ttotal: 4.1s\tremaining: 6.71s\n",
      "379:\tlearn: 1757.2519981\ttotal: 4.11s\tremaining: 6.7s\n",
      "380:\tlearn: 1756.8562119\ttotal: 4.12s\tremaining: 6.69s\n",
      "381:\tlearn: 1756.4762612\ttotal: 4.13s\tremaining: 6.67s\n",
      "382:\tlearn: 1756.1251589\ttotal: 4.13s\tremaining: 6.66s\n",
      "383:\tlearn: 1755.8131190\ttotal: 4.14s\tremaining: 6.65s\n",
      "384:\tlearn: 1755.6457100\ttotal: 4.16s\tremaining: 6.64s\n",
      "385:\tlearn: 1755.3401798\ttotal: 4.17s\tremaining: 6.63s\n",
      "386:\tlearn: 1754.9871863\ttotal: 4.17s\tremaining: 6.61s\n",
      "387:\tlearn: 1754.5404269\ttotal: 4.18s\tremaining: 6.6s\n",
      "388:\tlearn: 1754.1659595\ttotal: 4.19s\tremaining: 6.59s\n",
      "389:\tlearn: 1753.8788787\ttotal: 4.2s\tremaining: 6.57s\n",
      "390:\tlearn: 1753.5097990\ttotal: 4.21s\tremaining: 6.56s\n",
      "391:\tlearn: 1753.2195423\ttotal: 4.22s\tremaining: 6.55s\n",
      "392:\tlearn: 1752.6867366\ttotal: 4.23s\tremaining: 6.54s\n",
      "393:\tlearn: 1752.3427851\ttotal: 4.24s\tremaining: 6.52s\n",
      "394:\tlearn: 1751.9393056\ttotal: 4.25s\tremaining: 6.51s\n",
      "395:\tlearn: 1751.6708975\ttotal: 4.26s\tremaining: 6.5s\n",
      "396:\tlearn: 1751.3352087\ttotal: 4.27s\tremaining: 6.48s\n",
      "397:\tlearn: 1750.8897702\ttotal: 4.28s\tremaining: 6.47s\n",
      "398:\tlearn: 1750.6830985\ttotal: 4.29s\tremaining: 6.46s\n",
      "399:\tlearn: 1750.3466470\ttotal: 4.29s\tremaining: 6.44s\n",
      "400:\tlearn: 1750.1209284\ttotal: 4.3s\tremaining: 6.43s\n",
      "401:\tlearn: 1749.8602326\ttotal: 4.31s\tremaining: 6.42s\n",
      "402:\tlearn: 1749.5188560\ttotal: 4.32s\tremaining: 6.4s\n",
      "403:\tlearn: 1749.2204342\ttotal: 4.33s\tremaining: 6.39s\n",
      "404:\tlearn: 1748.9911638\ttotal: 4.34s\tremaining: 6.38s\n",
      "405:\tlearn: 1748.6799040\ttotal: 4.35s\tremaining: 6.37s\n",
      "406:\tlearn: 1748.3834551\ttotal: 4.36s\tremaining: 6.36s\n",
      "407:\tlearn: 1748.1319925\ttotal: 4.37s\tremaining: 6.35s\n",
      "408:\tlearn: 1747.7961881\ttotal: 4.38s\tremaining: 6.33s\n",
      "409:\tlearn: 1747.4613776\ttotal: 4.39s\tremaining: 6.32s\n",
      "410:\tlearn: 1747.2643694\ttotal: 4.4s\tremaining: 6.31s\n",
      "411:\tlearn: 1747.0166394\ttotal: 4.41s\tremaining: 6.3s\n",
      "412:\tlearn: 1746.7277761\ttotal: 4.42s\tremaining: 6.28s\n",
      "413:\tlearn: 1746.5254632\ttotal: 4.43s\tremaining: 6.27s\n",
      "414:\tlearn: 1746.2566873\ttotal: 4.44s\tremaining: 6.26s\n",
      "415:\tlearn: 1745.7660483\ttotal: 4.45s\tremaining: 6.25s\n",
      "416:\tlearn: 1745.4914742\ttotal: 4.46s\tremaining: 6.23s\n",
      "417:\tlearn: 1745.2292301\ttotal: 4.47s\tremaining: 6.22s\n",
      "418:\tlearn: 1744.5943990\ttotal: 4.48s\tremaining: 6.21s\n",
      "419:\tlearn: 1744.3158533\ttotal: 4.49s\tremaining: 6.2s\n",
      "420:\tlearn: 1744.1018426\ttotal: 4.5s\tremaining: 6.18s\n",
      "421:\tlearn: 1743.7999455\ttotal: 4.5s\tremaining: 6.17s\n",
      "422:\tlearn: 1743.5497320\ttotal: 4.51s\tremaining: 6.16s\n",
      "423:\tlearn: 1743.2773103\ttotal: 4.53s\tremaining: 6.15s\n",
      "424:\tlearn: 1742.8542069\ttotal: 4.54s\tremaining: 6.14s\n",
      "425:\tlearn: 1742.6775572\ttotal: 4.55s\tremaining: 6.13s\n",
      "426:\tlearn: 1742.5171437\ttotal: 4.55s\tremaining: 6.11s\n",
      "427:\tlearn: 1742.1458191\ttotal: 4.57s\tremaining: 6.1s\n",
      "428:\tlearn: 1741.7686193\ttotal: 4.58s\tremaining: 6.09s\n",
      "429:\tlearn: 1741.5657986\ttotal: 4.59s\tremaining: 6.08s\n",
      "430:\tlearn: 1741.2560760\ttotal: 4.6s\tremaining: 6.07s\n",
      "431:\tlearn: 1741.1184704\ttotal: 4.61s\tremaining: 6.06s\n",
      "432:\tlearn: 1740.8115711\ttotal: 4.62s\tremaining: 6.05s\n",
      "433:\tlearn: 1740.6078928\ttotal: 4.63s\tremaining: 6.03s\n",
      "434:\tlearn: 1740.4274841\ttotal: 4.64s\tremaining: 6.02s\n",
      "435:\tlearn: 1740.1136114\ttotal: 4.65s\tremaining: 6.01s\n",
      "436:\tlearn: 1739.9464323\ttotal: 4.66s\tremaining: 6s\n",
      "437:\tlearn: 1739.8037158\ttotal: 4.66s\tremaining: 5.99s\n",
      "438:\tlearn: 1739.5003064\ttotal: 4.67s\tremaining: 5.97s\n",
      "439:\tlearn: 1739.3295725\ttotal: 4.68s\tremaining: 5.96s\n",
      "440:\tlearn: 1739.0513883\ttotal: 4.69s\tremaining: 5.95s\n",
      "441:\tlearn: 1738.7148087\ttotal: 4.7s\tremaining: 5.93s\n",
      "442:\tlearn: 1738.4572417\ttotal: 4.71s\tremaining: 5.92s\n",
      "443:\tlearn: 1738.2966688\ttotal: 4.72s\tremaining: 5.91s\n",
      "444:\tlearn: 1738.0843893\ttotal: 4.73s\tremaining: 5.9s\n",
      "445:\tlearn: 1737.9140577\ttotal: 4.74s\tremaining: 5.88s\n",
      "446:\tlearn: 1737.6597236\ttotal: 4.74s\tremaining: 5.87s\n",
      "447:\tlearn: 1737.3911753\ttotal: 4.75s\tremaining: 5.86s\n",
      "448:\tlearn: 1737.0816332\ttotal: 4.76s\tremaining: 5.85s\n",
      "449:\tlearn: 1736.8469845\ttotal: 4.77s\tremaining: 5.83s\n",
      "450:\tlearn: 1736.6616343\ttotal: 4.78s\tremaining: 5.82s\n",
      "451:\tlearn: 1736.3957990\ttotal: 4.79s\tremaining: 5.81s\n",
      "452:\tlearn: 1736.1874953\ttotal: 4.8s\tremaining: 5.8s\n",
      "453:\tlearn: 1735.9890957\ttotal: 4.81s\tremaining: 5.79s\n",
      "454:\tlearn: 1735.8118195\ttotal: 4.82s\tremaining: 5.78s\n",
      "455:\tlearn: 1735.3845610\ttotal: 4.83s\tremaining: 5.77s\n",
      "456:\tlearn: 1735.1014034\ttotal: 4.85s\tremaining: 5.76s\n",
      "457:\tlearn: 1734.8968618\ttotal: 4.86s\tremaining: 5.75s\n",
      "458:\tlearn: 1734.6917823\ttotal: 4.87s\tremaining: 5.74s\n",
      "459:\tlearn: 1734.4721237\ttotal: 4.88s\tremaining: 5.73s\n",
      "460:\tlearn: 1734.1288779\ttotal: 4.89s\tremaining: 5.72s\n",
      "461:\tlearn: 1733.9015023\ttotal: 4.9s\tremaining: 5.71s\n",
      "462:\tlearn: 1733.6113472\ttotal: 4.92s\tremaining: 5.7s\n",
      "463:\tlearn: 1733.4085602\ttotal: 4.93s\tremaining: 5.69s\n",
      "464:\tlearn: 1733.1961961\ttotal: 4.93s\tremaining: 5.68s\n",
      "465:\tlearn: 1732.9738115\ttotal: 4.95s\tremaining: 5.67s\n",
      "466:\tlearn: 1732.8349739\ttotal: 4.96s\tremaining: 5.66s\n",
      "467:\tlearn: 1732.5914972\ttotal: 4.97s\tremaining: 5.64s\n",
      "468:\tlearn: 1732.3475325\ttotal: 4.97s\tremaining: 5.63s\n",
      "469:\tlearn: 1732.1808874\ttotal: 4.99s\tremaining: 5.62s\n",
      "470:\tlearn: 1731.9297965\ttotal: 5s\tremaining: 5.61s\n",
      "471:\tlearn: 1731.7535767\ttotal: 5s\tremaining: 5.6s\n",
      "472:\tlearn: 1731.4731401\ttotal: 5.01s\tremaining: 5.59s\n",
      "473:\tlearn: 1731.2532457\ttotal: 5.02s\tremaining: 5.57s\n",
      "474:\tlearn: 1731.1406045\ttotal: 5.03s\tremaining: 5.56s\n",
      "475:\tlearn: 1730.9280856\ttotal: 5.04s\tremaining: 5.55s\n",
      "476:\tlearn: 1730.7560076\ttotal: 5.05s\tremaining: 5.54s\n",
      "477:\tlearn: 1730.4081535\ttotal: 5.06s\tremaining: 5.53s\n",
      "478:\tlearn: 1730.2168451\ttotal: 5.07s\tremaining: 5.51s\n",
      "479:\tlearn: 1730.0429256\ttotal: 5.08s\tremaining: 5.5s\n",
      "480:\tlearn: 1729.8506017\ttotal: 5.09s\tremaining: 5.49s\n",
      "481:\tlearn: 1729.6609914\ttotal: 5.1s\tremaining: 5.48s\n",
      "482:\tlearn: 1729.4393392\ttotal: 5.11s\tremaining: 5.47s\n",
      "483:\tlearn: 1729.2900282\ttotal: 5.12s\tremaining: 5.46s\n",
      "484:\tlearn: 1729.0787908\ttotal: 5.13s\tremaining: 5.45s\n",
      "485:\tlearn: 1728.7710448\ttotal: 5.14s\tremaining: 5.44s\n",
      "486:\tlearn: 1728.4745127\ttotal: 5.16s\tremaining: 5.43s\n",
      "487:\tlearn: 1728.2909527\ttotal: 5.17s\tremaining: 5.42s\n",
      "488:\tlearn: 1728.0427414\ttotal: 5.18s\tremaining: 5.41s\n",
      "489:\tlearn: 1727.7092245\ttotal: 5.19s\tremaining: 5.4s\n",
      "490:\tlearn: 1727.4170019\ttotal: 5.2s\tremaining: 5.39s\n",
      "491:\tlearn: 1727.1086386\ttotal: 5.21s\tremaining: 5.38s\n",
      "492:\tlearn: 1726.8712961\ttotal: 5.22s\tremaining: 5.37s\n",
      "493:\tlearn: 1726.6308629\ttotal: 5.23s\tremaining: 5.36s\n",
      "494:\tlearn: 1726.5142987\ttotal: 5.24s\tremaining: 5.35s\n",
      "495:\tlearn: 1726.2811436\ttotal: 5.25s\tremaining: 5.34s\n",
      "496:\tlearn: 1725.8087248\ttotal: 5.27s\tremaining: 5.33s\n",
      "497:\tlearn: 1725.3945633\ttotal: 5.28s\tremaining: 5.33s\n",
      "498:\tlearn: 1724.9613511\ttotal: 5.29s\tremaining: 5.31s\n",
      "499:\tlearn: 1724.7648417\ttotal: 5.3s\tremaining: 5.3s\n",
      "500:\tlearn: 1724.6118198\ttotal: 5.31s\tremaining: 5.29s\n",
      "501:\tlearn: 1724.3406884\ttotal: 5.32s\tremaining: 5.28s\n",
      "502:\tlearn: 1724.1244231\ttotal: 5.33s\tremaining: 5.27s\n",
      "503:\tlearn: 1723.9089416\ttotal: 5.34s\tremaining: 5.26s\n",
      "504:\tlearn: 1723.7248459\ttotal: 5.35s\tremaining: 5.25s\n",
      "505:\tlearn: 1723.5435850\ttotal: 5.36s\tremaining: 5.24s\n",
      "506:\tlearn: 1723.3390801\ttotal: 5.37s\tremaining: 5.23s\n",
      "507:\tlearn: 1722.9961428\ttotal: 5.38s\tremaining: 5.21s\n",
      "508:\tlearn: 1722.7190831\ttotal: 5.39s\tremaining: 5.2s\n",
      "509:\tlearn: 1722.4463318\ttotal: 5.4s\tremaining: 5.19s\n",
      "510:\tlearn: 1722.2313225\ttotal: 5.41s\tremaining: 5.18s\n",
      "511:\tlearn: 1721.8940794\ttotal: 5.42s\tremaining: 5.17s\n",
      "512:\tlearn: 1721.6086269\ttotal: 5.43s\tremaining: 5.16s\n",
      "513:\tlearn: 1721.4721725\ttotal: 5.44s\tremaining: 5.15s\n",
      "514:\tlearn: 1721.3337659\ttotal: 5.45s\tremaining: 5.13s\n",
      "515:\tlearn: 1721.0596004\ttotal: 5.46s\tremaining: 5.12s\n",
      "516:\tlearn: 1720.8104253\ttotal: 5.47s\tremaining: 5.11s\n",
      "517:\tlearn: 1720.6668652\ttotal: 5.48s\tremaining: 5.1s\n",
      "518:\tlearn: 1720.4577322\ttotal: 5.49s\tremaining: 5.08s\n",
      "519:\tlearn: 1720.3035595\ttotal: 5.5s\tremaining: 5.07s\n",
      "520:\tlearn: 1720.0743863\ttotal: 5.51s\tremaining: 5.06s\n",
      "521:\tlearn: 1719.8569184\ttotal: 5.52s\tremaining: 5.05s\n",
      "522:\tlearn: 1719.7357274\ttotal: 5.53s\tremaining: 5.04s\n",
      "523:\tlearn: 1719.5021988\ttotal: 5.54s\tremaining: 5.03s\n",
      "524:\tlearn: 1719.2588181\ttotal: 5.54s\tremaining: 5.02s\n",
      "525:\tlearn: 1719.0490844\ttotal: 5.56s\tremaining: 5.01s\n",
      "526:\tlearn: 1718.9070763\ttotal: 5.57s\tremaining: 5s\n",
      "527:\tlearn: 1718.6680501\ttotal: 5.58s\tremaining: 4.99s\n",
      "528:\tlearn: 1718.4203274\ttotal: 5.59s\tremaining: 4.98s\n",
      "529:\tlearn: 1718.2262442\ttotal: 5.6s\tremaining: 4.96s\n",
      "530:\tlearn: 1718.0052537\ttotal: 5.61s\tremaining: 4.96s\n",
      "531:\tlearn: 1717.6605860\ttotal: 5.63s\tremaining: 4.95s\n",
      "532:\tlearn: 1717.3652989\ttotal: 5.64s\tremaining: 4.94s\n",
      "533:\tlearn: 1717.1284155\ttotal: 5.65s\tremaining: 4.93s\n",
      "534:\tlearn: 1716.8936643\ttotal: 5.66s\tremaining: 4.92s\n",
      "535:\tlearn: 1716.5549298\ttotal: 5.67s\tremaining: 4.91s\n",
      "536:\tlearn: 1716.4061525\ttotal: 5.68s\tremaining: 4.9s\n",
      "537:\tlearn: 1716.1332025\ttotal: 5.69s\tremaining: 4.89s\n",
      "538:\tlearn: 1715.9208188\ttotal: 5.7s\tremaining: 4.88s\n",
      "539:\tlearn: 1715.7409714\ttotal: 5.71s\tremaining: 4.86s\n",
      "540:\tlearn: 1715.4852219\ttotal: 5.72s\tremaining: 4.85s\n",
      "541:\tlearn: 1715.3142863\ttotal: 5.73s\tremaining: 4.84s\n",
      "542:\tlearn: 1715.2635170\ttotal: 5.74s\tremaining: 4.83s\n",
      "543:\tlearn: 1714.9968354\ttotal: 5.75s\tremaining: 4.82s\n",
      "544:\tlearn: 1714.7363415\ttotal: 5.76s\tremaining: 4.81s\n",
      "545:\tlearn: 1714.5817580\ttotal: 5.77s\tremaining: 4.8s\n",
      "546:\tlearn: 1714.3682435\ttotal: 5.78s\tremaining: 4.79s\n",
      "547:\tlearn: 1714.1919147\ttotal: 5.79s\tremaining: 4.78s\n",
      "548:\tlearn: 1714.0318454\ttotal: 5.8s\tremaining: 4.76s\n",
      "549:\tlearn: 1713.8678383\ttotal: 5.81s\tremaining: 4.75s\n",
      "550:\tlearn: 1713.7514677\ttotal: 5.82s\tremaining: 4.74s\n",
      "551:\tlearn: 1713.5055922\ttotal: 5.83s\tremaining: 4.73s\n",
      "552:\tlearn: 1713.3192074\ttotal: 5.83s\tremaining: 4.72s\n",
      "553:\tlearn: 1713.2067992\ttotal: 5.84s\tremaining: 4.71s\n",
      "554:\tlearn: 1712.9632798\ttotal: 5.85s\tremaining: 4.69s\n",
      "555:\tlearn: 1712.8021568\ttotal: 5.86s\tremaining: 4.68s\n",
      "556:\tlearn: 1712.6464338\ttotal: 5.87s\tremaining: 4.67s\n",
      "557:\tlearn: 1712.5647968\ttotal: 5.88s\tremaining: 4.66s\n",
      "558:\tlearn: 1712.3731098\ttotal: 5.89s\tremaining: 4.64s\n",
      "559:\tlearn: 1712.1282898\ttotal: 5.9s\tremaining: 4.63s\n",
      "560:\tlearn: 1711.9795035\ttotal: 5.91s\tremaining: 4.62s\n",
      "561:\tlearn: 1711.8326336\ttotal: 5.92s\tremaining: 4.61s\n",
      "562:\tlearn: 1711.7241515\ttotal: 5.92s\tremaining: 4.6s\n",
      "563:\tlearn: 1711.4867318\ttotal: 5.93s\tremaining: 4.59s\n",
      "564:\tlearn: 1711.4192738\ttotal: 5.94s\tremaining: 4.58s\n",
      "565:\tlearn: 1711.0885748\ttotal: 5.95s\tremaining: 4.57s\n",
      "566:\tlearn: 1710.8786354\ttotal: 5.96s\tremaining: 4.55s\n",
      "567:\tlearn: 1710.5974503\ttotal: 5.97s\tremaining: 4.54s\n",
      "568:\tlearn: 1710.4994811\ttotal: 5.98s\tremaining: 4.53s\n",
      "569:\tlearn: 1710.2658096\ttotal: 5.99s\tremaining: 4.52s\n",
      "570:\tlearn: 1709.9936475\ttotal: 6s\tremaining: 4.51s\n",
      "571:\tlearn: 1709.8301265\ttotal: 6.01s\tremaining: 4.5s\n",
      "572:\tlearn: 1709.6819898\ttotal: 6.02s\tremaining: 4.48s\n",
      "573:\tlearn: 1709.4696405\ttotal: 6.03s\tremaining: 4.47s\n",
      "574:\tlearn: 1709.4110087\ttotal: 6.03s\tremaining: 4.46s\n",
      "575:\tlearn: 1709.2198489\ttotal: 6.04s\tremaining: 4.45s\n",
      "576:\tlearn: 1709.0387092\ttotal: 6.05s\tremaining: 4.44s\n",
      "577:\tlearn: 1708.7692069\ttotal: 6.06s\tremaining: 4.43s\n",
      "578:\tlearn: 1708.5231059\ttotal: 6.07s\tremaining: 4.42s\n",
      "579:\tlearn: 1708.3046031\ttotal: 6.08s\tremaining: 4.4s\n",
      "580:\tlearn: 1708.0923384\ttotal: 6.09s\tremaining: 4.39s\n",
      "581:\tlearn: 1707.9661308\ttotal: 6.1s\tremaining: 4.38s\n",
      "582:\tlearn: 1707.8407851\ttotal: 6.11s\tremaining: 4.37s\n",
      "583:\tlearn: 1707.5639088\ttotal: 6.12s\tremaining: 4.36s\n",
      "584:\tlearn: 1707.3474317\ttotal: 6.13s\tremaining: 4.35s\n",
      "585:\tlearn: 1707.1868285\ttotal: 6.14s\tremaining: 4.34s\n",
      "586:\tlearn: 1706.9555382\ttotal: 6.15s\tremaining: 4.33s\n",
      "587:\tlearn: 1706.6961495\ttotal: 6.16s\tremaining: 4.32s\n",
      "588:\tlearn: 1706.4709465\ttotal: 6.17s\tremaining: 4.31s\n",
      "589:\tlearn: 1706.2505087\ttotal: 6.18s\tremaining: 4.3s\n",
      "590:\tlearn: 1705.9133752\ttotal: 6.19s\tremaining: 4.29s\n",
      "591:\tlearn: 1705.6973885\ttotal: 6.2s\tremaining: 4.28s\n",
      "592:\tlearn: 1705.4738752\ttotal: 6.21s\tremaining: 4.26s\n",
      "593:\tlearn: 1705.2209657\ttotal: 6.22s\tremaining: 4.25s\n",
      "594:\tlearn: 1705.0393248\ttotal: 6.23s\tremaining: 4.24s\n",
      "595:\tlearn: 1704.8681897\ttotal: 6.24s\tremaining: 4.23s\n",
      "596:\tlearn: 1704.7577432\ttotal: 6.25s\tremaining: 4.22s\n",
      "597:\tlearn: 1704.5635478\ttotal: 6.26s\tremaining: 4.21s\n",
      "598:\tlearn: 1704.4081035\ttotal: 6.27s\tremaining: 4.2s\n",
      "599:\tlearn: 1704.1584426\ttotal: 6.28s\tremaining: 4.19s\n",
      "600:\tlearn: 1703.8825621\ttotal: 6.29s\tremaining: 4.17s\n",
      "601:\tlearn: 1703.7501744\ttotal: 6.3s\tremaining: 4.16s\n",
      "602:\tlearn: 1703.5843399\ttotal: 6.31s\tremaining: 4.15s\n",
      "603:\tlearn: 1703.3642112\ttotal: 6.32s\tremaining: 4.14s\n",
      "604:\tlearn: 1703.1787606\ttotal: 6.33s\tremaining: 4.13s\n",
      "605:\tlearn: 1703.0092437\ttotal: 6.33s\tremaining: 4.12s\n",
      "606:\tlearn: 1702.8656309\ttotal: 6.34s\tremaining: 4.11s\n",
      "607:\tlearn: 1702.7596738\ttotal: 6.35s\tremaining: 4.1s\n",
      "608:\tlearn: 1702.4856199\ttotal: 6.36s\tremaining: 4.08s\n",
      "609:\tlearn: 1702.4294648\ttotal: 6.37s\tremaining: 4.07s\n",
      "610:\tlearn: 1702.1877105\ttotal: 6.38s\tremaining: 4.06s\n",
      "611:\tlearn: 1702.0621116\ttotal: 6.39s\tremaining: 4.05s\n",
      "612:\tlearn: 1701.8849898\ttotal: 6.4s\tremaining: 4.04s\n",
      "613:\tlearn: 1701.6535941\ttotal: 6.41s\tremaining: 4.03s\n",
      "614:\tlearn: 1701.2284073\ttotal: 6.42s\tremaining: 4.02s\n",
      "615:\tlearn: 1701.0850210\ttotal: 6.43s\tremaining: 4.01s\n",
      "616:\tlearn: 1701.0030198\ttotal: 6.44s\tremaining: 4s\n",
      "617:\tlearn: 1700.8388599\ttotal: 6.45s\tremaining: 3.99s\n",
      "618:\tlearn: 1700.6033596\ttotal: 6.46s\tremaining: 3.98s\n",
      "619:\tlearn: 1700.4119380\ttotal: 6.47s\tremaining: 3.97s\n",
      "620:\tlearn: 1700.1926949\ttotal: 6.49s\tremaining: 3.96s\n",
      "621:\tlearn: 1700.1468830\ttotal: 6.5s\tremaining: 3.95s\n",
      "622:\tlearn: 1700.0197281\ttotal: 6.51s\tremaining: 3.94s\n",
      "623:\tlearn: 1699.8608635\ttotal: 6.52s\tremaining: 3.93s\n",
      "624:\tlearn: 1699.6368313\ttotal: 6.53s\tremaining: 3.92s\n",
      "625:\tlearn: 1699.5269058\ttotal: 6.54s\tremaining: 3.91s\n",
      "626:\tlearn: 1699.4152611\ttotal: 6.55s\tremaining: 3.9s\n",
      "627:\tlearn: 1699.2737005\ttotal: 6.56s\tremaining: 3.88s\n",
      "628:\tlearn: 1699.0209363\ttotal: 6.59s\tremaining: 3.88s\n",
      "629:\tlearn: 1698.9071548\ttotal: 6.61s\tremaining: 3.88s\n",
      "630:\tlearn: 1698.7244969\ttotal: 6.62s\tremaining: 3.87s\n",
      "631:\tlearn: 1698.5566900\ttotal: 6.63s\tremaining: 3.86s\n",
      "632:\tlearn: 1698.4156521\ttotal: 6.64s\tremaining: 3.85s\n",
      "633:\tlearn: 1698.1874929\ttotal: 6.65s\tremaining: 3.84s\n",
      "634:\tlearn: 1698.0033879\ttotal: 6.66s\tremaining: 3.83s\n",
      "635:\tlearn: 1697.8747195\ttotal: 6.67s\tremaining: 3.82s\n",
      "636:\tlearn: 1697.5459059\ttotal: 6.68s\tremaining: 3.81s\n",
      "637:\tlearn: 1697.3642917\ttotal: 6.69s\tremaining: 3.79s\n",
      "638:\tlearn: 1697.1822082\ttotal: 6.7s\tremaining: 3.78s\n",
      "639:\tlearn: 1696.9427908\ttotal: 6.71s\tremaining: 3.77s\n",
      "640:\tlearn: 1696.7411392\ttotal: 6.72s\tremaining: 3.76s\n",
      "641:\tlearn: 1696.6891204\ttotal: 6.72s\tremaining: 3.75s\n",
      "642:\tlearn: 1696.5965354\ttotal: 6.73s\tremaining: 3.74s\n",
      "643:\tlearn: 1696.3772664\ttotal: 6.74s\tremaining: 3.73s\n",
      "644:\tlearn: 1696.2040812\ttotal: 6.75s\tremaining: 3.72s\n",
      "645:\tlearn: 1695.9381355\ttotal: 6.76s\tremaining: 3.71s\n",
      "646:\tlearn: 1695.6984671\ttotal: 6.77s\tremaining: 3.69s\n",
      "647:\tlearn: 1695.5928449\ttotal: 6.78s\tremaining: 3.69s\n",
      "648:\tlearn: 1695.4761169\ttotal: 6.79s\tremaining: 3.67s\n",
      "649:\tlearn: 1695.3187875\ttotal: 6.8s\tremaining: 3.66s\n",
      "650:\tlearn: 1695.1864055\ttotal: 6.82s\tremaining: 3.65s\n",
      "651:\tlearn: 1694.8462424\ttotal: 6.83s\tremaining: 3.65s\n",
      "652:\tlearn: 1694.7182898\ttotal: 6.84s\tremaining: 3.64s\n",
      "653:\tlearn: 1694.5210221\ttotal: 6.86s\tremaining: 3.63s\n",
      "654:\tlearn: 1694.4822900\ttotal: 6.87s\tremaining: 3.62s\n",
      "655:\tlearn: 1694.3289756\ttotal: 6.88s\tremaining: 3.6s\n",
      "656:\tlearn: 1694.1692118\ttotal: 6.88s\tremaining: 3.59s\n",
      "657:\tlearn: 1693.9412415\ttotal: 6.89s\tremaining: 3.58s\n",
      "658:\tlearn: 1693.7933113\ttotal: 6.91s\tremaining: 3.57s\n",
      "659:\tlearn: 1693.5942207\ttotal: 6.92s\tremaining: 3.56s\n",
      "660:\tlearn: 1693.3372293\ttotal: 6.93s\tremaining: 3.55s\n",
      "661:\tlearn: 1693.1381412\ttotal: 6.94s\tremaining: 3.54s\n",
      "662:\tlearn: 1692.8806763\ttotal: 6.95s\tremaining: 3.53s\n",
      "663:\tlearn: 1692.7415054\ttotal: 6.96s\tremaining: 3.52s\n",
      "664:\tlearn: 1692.3025183\ttotal: 6.97s\tremaining: 3.51s\n",
      "665:\tlearn: 1692.1454632\ttotal: 6.98s\tremaining: 3.5s\n",
      "666:\tlearn: 1692.0438853\ttotal: 6.99s\tremaining: 3.49s\n",
      "667:\tlearn: 1691.8349525\ttotal: 7s\tremaining: 3.48s\n",
      "668:\tlearn: 1691.6937020\ttotal: 7.02s\tremaining: 3.47s\n",
      "669:\tlearn: 1691.5945304\ttotal: 7.03s\tremaining: 3.46s\n",
      "670:\tlearn: 1691.4772304\ttotal: 7.04s\tremaining: 3.45s\n",
      "671:\tlearn: 1691.3028589\ttotal: 7.05s\tremaining: 3.44s\n",
      "672:\tlearn: 1691.1647181\ttotal: 7.06s\tremaining: 3.43s\n",
      "673:\tlearn: 1690.9790005\ttotal: 7.08s\tremaining: 3.42s\n",
      "674:\tlearn: 1690.7647084\ttotal: 7.08s\tremaining: 3.41s\n",
      "675:\tlearn: 1690.6474068\ttotal: 7.09s\tremaining: 3.4s\n",
      "676:\tlearn: 1690.4859574\ttotal: 7.1s\tremaining: 3.39s\n",
      "677:\tlearn: 1690.3960554\ttotal: 7.11s\tremaining: 3.38s\n",
      "678:\tlearn: 1690.3603462\ttotal: 7.12s\tremaining: 3.37s\n",
      "679:\tlearn: 1690.1399305\ttotal: 7.13s\tremaining: 3.36s\n",
      "680:\tlearn: 1690.0093367\ttotal: 7.14s\tremaining: 3.35s\n",
      "681:\tlearn: 1689.8961022\ttotal: 7.15s\tremaining: 3.33s\n",
      "682:\tlearn: 1689.7527903\ttotal: 7.16s\tremaining: 3.32s\n",
      "683:\tlearn: 1689.6316643\ttotal: 7.17s\tremaining: 3.31s\n",
      "684:\tlearn: 1689.4869389\ttotal: 7.18s\tremaining: 3.3s\n",
      "685:\tlearn: 1689.2831293\ttotal: 7.19s\tremaining: 3.29s\n",
      "686:\tlearn: 1689.0718002\ttotal: 7.2s\tremaining: 3.28s\n",
      "687:\tlearn: 1688.8487055\ttotal: 7.21s\tremaining: 3.27s\n",
      "688:\tlearn: 1688.6330707\ttotal: 7.22s\tremaining: 3.26s\n",
      "689:\tlearn: 1688.4451252\ttotal: 7.23s\tremaining: 3.25s\n",
      "690:\tlearn: 1688.2760774\ttotal: 7.24s\tremaining: 3.24s\n",
      "691:\tlearn: 1688.1796758\ttotal: 7.25s\tremaining: 3.23s\n",
      "692:\tlearn: 1687.9546946\ttotal: 7.26s\tremaining: 3.22s\n",
      "693:\tlearn: 1687.6456730\ttotal: 7.27s\tremaining: 3.21s\n",
      "694:\tlearn: 1687.3676592\ttotal: 7.28s\tremaining: 3.2s\n",
      "695:\tlearn: 1687.3296839\ttotal: 7.29s\tremaining: 3.19s\n",
      "696:\tlearn: 1687.2193920\ttotal: 7.31s\tremaining: 3.18s\n",
      "697:\tlearn: 1687.0292159\ttotal: 7.32s\tremaining: 3.17s\n",
      "698:\tlearn: 1686.8176493\ttotal: 7.33s\tremaining: 3.16s\n",
      "699:\tlearn: 1686.5956630\ttotal: 7.35s\tremaining: 3.15s\n",
      "700:\tlearn: 1686.3475736\ttotal: 7.36s\tremaining: 3.14s\n",
      "701:\tlearn: 1686.2339212\ttotal: 7.37s\tremaining: 3.13s\n",
      "702:\tlearn: 1686.0435435\ttotal: 7.38s\tremaining: 3.12s\n",
      "703:\tlearn: 1685.9111834\ttotal: 7.39s\tremaining: 3.11s\n",
      "704:\tlearn: 1685.6831794\ttotal: 7.4s\tremaining: 3.1s\n",
      "705:\tlearn: 1685.5521901\ttotal: 7.41s\tremaining: 3.08s\n",
      "706:\tlearn: 1685.3513619\ttotal: 7.42s\tremaining: 3.08s\n",
      "707:\tlearn: 1685.2533156\ttotal: 7.43s\tremaining: 3.06s\n",
      "708:\tlearn: 1685.0663411\ttotal: 7.44s\tremaining: 3.05s\n",
      "709:\tlearn: 1684.8427811\ttotal: 7.45s\tremaining: 3.04s\n",
      "710:\tlearn: 1684.7793717\ttotal: 7.46s\tremaining: 3.03s\n",
      "711:\tlearn: 1684.6195262\ttotal: 7.47s\tremaining: 3.02s\n",
      "712:\tlearn: 1684.4605340\ttotal: 7.48s\tremaining: 3.01s\n",
      "713:\tlearn: 1684.3562891\ttotal: 7.49s\tremaining: 3s\n",
      "714:\tlearn: 1684.1856697\ttotal: 7.5s\tremaining: 2.99s\n",
      "715:\tlearn: 1684.0763703\ttotal: 7.51s\tremaining: 2.98s\n",
      "716:\tlearn: 1683.9498629\ttotal: 7.52s\tremaining: 2.97s\n",
      "717:\tlearn: 1683.7416096\ttotal: 7.54s\tremaining: 2.96s\n",
      "718:\tlearn: 1683.5115022\ttotal: 7.55s\tremaining: 2.95s\n",
      "719:\tlearn: 1683.3361964\ttotal: 7.56s\tremaining: 2.94s\n",
      "720:\tlearn: 1683.2153356\ttotal: 7.57s\tremaining: 2.93s\n",
      "721:\tlearn: 1683.0009564\ttotal: 7.58s\tremaining: 2.92s\n",
      "722:\tlearn: 1682.9088410\ttotal: 7.59s\tremaining: 2.91s\n",
      "723:\tlearn: 1682.7619992\ttotal: 7.6s\tremaining: 2.9s\n",
      "724:\tlearn: 1682.5695707\ttotal: 7.62s\tremaining: 2.89s\n",
      "725:\tlearn: 1682.2612648\ttotal: 7.63s\tremaining: 2.88s\n",
      "726:\tlearn: 1682.1740577\ttotal: 7.64s\tremaining: 2.87s\n",
      "727:\tlearn: 1682.0293870\ttotal: 7.66s\tremaining: 2.86s\n",
      "728:\tlearn: 1681.9042858\ttotal: 7.67s\tremaining: 2.85s\n",
      "729:\tlearn: 1681.7370327\ttotal: 7.68s\tremaining: 2.84s\n",
      "730:\tlearn: 1681.5237232\ttotal: 7.69s\tremaining: 2.83s\n",
      "731:\tlearn: 1681.4727608\ttotal: 7.7s\tremaining: 2.82s\n",
      "732:\tlearn: 1681.4051636\ttotal: 7.71s\tremaining: 2.81s\n",
      "733:\tlearn: 1681.2206344\ttotal: 7.73s\tremaining: 2.8s\n",
      "734:\tlearn: 1681.1010718\ttotal: 7.74s\tremaining: 2.79s\n",
      "735:\tlearn: 1680.9219146\ttotal: 7.75s\tremaining: 2.78s\n",
      "736:\tlearn: 1680.8033964\ttotal: 7.76s\tremaining: 2.77s\n",
      "737:\tlearn: 1680.6689186\ttotal: 7.77s\tremaining: 2.76s\n",
      "738:\tlearn: 1680.5706700\ttotal: 7.78s\tremaining: 2.75s\n",
      "739:\tlearn: 1680.4398285\ttotal: 7.79s\tremaining: 2.74s\n",
      "740:\tlearn: 1680.2769665\ttotal: 7.8s\tremaining: 2.73s\n",
      "741:\tlearn: 1680.0150083\ttotal: 7.82s\tremaining: 2.72s\n",
      "742:\tlearn: 1679.7274355\ttotal: 7.83s\tremaining: 2.71s\n",
      "743:\tlearn: 1679.5432363\ttotal: 7.84s\tremaining: 2.7s\n",
      "744:\tlearn: 1679.3584330\ttotal: 7.85s\tremaining: 2.69s\n",
      "745:\tlearn: 1679.2790719\ttotal: 7.86s\tremaining: 2.68s\n",
      "746:\tlearn: 1679.1881911\ttotal: 7.87s\tremaining: 2.67s\n",
      "747:\tlearn: 1679.0637744\ttotal: 7.89s\tremaining: 2.66s\n",
      "748:\tlearn: 1678.9533620\ttotal: 7.9s\tremaining: 2.65s\n",
      "749:\tlearn: 1678.8324840\ttotal: 7.91s\tremaining: 2.64s\n",
      "750:\tlearn: 1678.6656960\ttotal: 7.92s\tremaining: 2.63s\n",
      "751:\tlearn: 1678.5083112\ttotal: 7.93s\tremaining: 2.62s\n",
      "752:\tlearn: 1678.3956445\ttotal: 7.95s\tremaining: 2.61s\n",
      "753:\tlearn: 1678.2331575\ttotal: 7.96s\tremaining: 2.6s\n",
      "754:\tlearn: 1678.0199100\ttotal: 7.98s\tremaining: 2.59s\n",
      "755:\tlearn: 1677.8642512\ttotal: 7.99s\tremaining: 2.58s\n",
      "756:\tlearn: 1677.7077085\ttotal: 8s\tremaining: 2.57s\n",
      "757:\tlearn: 1677.6975330\ttotal: 8.01s\tremaining: 2.56s\n",
      "758:\tlearn: 1677.5853154\ttotal: 8.02s\tremaining: 2.55s\n",
      "759:\tlearn: 1677.4462993\ttotal: 8.03s\tremaining: 2.54s\n",
      "760:\tlearn: 1677.3559138\ttotal: 8.04s\tremaining: 2.52s\n",
      "761:\tlearn: 1677.2551210\ttotal: 8.05s\tremaining: 2.52s\n",
      "762:\tlearn: 1677.0763334\ttotal: 8.07s\tremaining: 2.51s\n",
      "763:\tlearn: 1676.9697758\ttotal: 8.08s\tremaining: 2.5s\n",
      "764:\tlearn: 1676.8697370\ttotal: 8.09s\tremaining: 2.48s\n",
      "765:\tlearn: 1676.7582388\ttotal: 8.1s\tremaining: 2.48s\n",
      "766:\tlearn: 1676.6941901\ttotal: 8.11s\tremaining: 2.46s\n",
      "767:\tlearn: 1676.4788369\ttotal: 8.12s\tremaining: 2.45s\n",
      "768:\tlearn: 1676.2273765\ttotal: 8.13s\tremaining: 2.44s\n",
      "769:\tlearn: 1675.9838766\ttotal: 8.15s\tremaining: 2.43s\n",
      "770:\tlearn: 1675.7914979\ttotal: 8.16s\tremaining: 2.42s\n",
      "771:\tlearn: 1675.6381734\ttotal: 8.16s\tremaining: 2.41s\n",
      "772:\tlearn: 1675.5557496\ttotal: 8.18s\tremaining: 2.4s\n",
      "773:\tlearn: 1675.4200966\ttotal: 8.18s\tremaining: 2.39s\n",
      "774:\tlearn: 1675.1994692\ttotal: 8.2s\tremaining: 2.38s\n",
      "775:\tlearn: 1675.0202586\ttotal: 8.21s\tremaining: 2.37s\n",
      "776:\tlearn: 1674.7716963\ttotal: 8.22s\tremaining: 2.36s\n",
      "777:\tlearn: 1674.6321467\ttotal: 8.23s\tremaining: 2.35s\n",
      "778:\tlearn: 1674.4790533\ttotal: 8.23s\tremaining: 2.34s\n",
      "779:\tlearn: 1674.3689676\ttotal: 8.24s\tremaining: 2.33s\n",
      "780:\tlearn: 1674.1467638\ttotal: 8.25s\tremaining: 2.31s\n",
      "781:\tlearn: 1674.0456836\ttotal: 8.26s\tremaining: 2.3s\n",
      "782:\tlearn: 1673.9498110\ttotal: 8.27s\tremaining: 2.29s\n",
      "783:\tlearn: 1673.8732041\ttotal: 8.28s\tremaining: 2.28s\n",
      "784:\tlearn: 1673.6279108\ttotal: 8.3s\tremaining: 2.27s\n",
      "785:\tlearn: 1673.5064279\ttotal: 8.31s\tremaining: 2.26s\n",
      "786:\tlearn: 1673.2893270\ttotal: 8.32s\tremaining: 2.25s\n",
      "787:\tlearn: 1673.1512130\ttotal: 8.33s\tremaining: 2.24s\n",
      "788:\tlearn: 1673.0172069\ttotal: 8.34s\tremaining: 2.23s\n",
      "789:\tlearn: 1672.8452377\ttotal: 8.35s\tremaining: 2.22s\n",
      "790:\tlearn: 1672.5471316\ttotal: 8.37s\tremaining: 2.21s\n",
      "791:\tlearn: 1672.4268118\ttotal: 8.38s\tremaining: 2.2s\n",
      "792:\tlearn: 1672.2386398\ttotal: 8.39s\tremaining: 2.19s\n",
      "793:\tlearn: 1672.0044128\ttotal: 8.4s\tremaining: 2.18s\n",
      "794:\tlearn: 1671.8231581\ttotal: 8.41s\tremaining: 2.17s\n",
      "795:\tlearn: 1671.7166208\ttotal: 8.42s\tremaining: 2.16s\n",
      "796:\tlearn: 1671.5331140\ttotal: 8.43s\tremaining: 2.15s\n",
      "797:\tlearn: 1671.3507663\ttotal: 8.44s\tremaining: 2.13s\n",
      "798:\tlearn: 1671.2002223\ttotal: 8.45s\tremaining: 2.12s\n",
      "799:\tlearn: 1671.0217429\ttotal: 8.46s\tremaining: 2.11s\n",
      "800:\tlearn: 1670.9277290\ttotal: 8.47s\tremaining: 2.1s\n",
      "801:\tlearn: 1670.8299804\ttotal: 8.48s\tremaining: 2.09s\n",
      "802:\tlearn: 1670.7407043\ttotal: 8.49s\tremaining: 2.08s\n",
      "803:\tlearn: 1670.5002706\ttotal: 8.51s\tremaining: 2.07s\n",
      "804:\tlearn: 1670.4024386\ttotal: 8.52s\tremaining: 2.06s\n",
      "805:\tlearn: 1670.2276459\ttotal: 8.53s\tremaining: 2.05s\n",
      "806:\tlearn: 1670.1061392\ttotal: 8.54s\tremaining: 2.04s\n",
      "807:\tlearn: 1670.0103609\ttotal: 8.55s\tremaining: 2.03s\n",
      "808:\tlearn: 1669.9493896\ttotal: 8.56s\tremaining: 2.02s\n",
      "809:\tlearn: 1669.8079716\ttotal: 8.57s\tremaining: 2.01s\n",
      "810:\tlearn: 1669.7160802\ttotal: 8.58s\tremaining: 2s\n",
      "811:\tlearn: 1669.4995075\ttotal: 8.59s\tremaining: 1.99s\n",
      "812:\tlearn: 1669.2817226\ttotal: 8.59s\tremaining: 1.98s\n",
      "813:\tlearn: 1669.1709551\ttotal: 8.6s\tremaining: 1.97s\n",
      "814:\tlearn: 1669.0287515\ttotal: 8.61s\tremaining: 1.96s\n",
      "815:\tlearn: 1668.9334514\ttotal: 8.62s\tremaining: 1.94s\n",
      "816:\tlearn: 1668.7940306\ttotal: 8.63s\tremaining: 1.93s\n",
      "817:\tlearn: 1668.6515808\ttotal: 8.64s\tremaining: 1.92s\n",
      "818:\tlearn: 1668.6225562\ttotal: 8.65s\tremaining: 1.91s\n",
      "819:\tlearn: 1668.5570599\ttotal: 8.66s\tremaining: 1.9s\n",
      "820:\tlearn: 1668.4480101\ttotal: 8.67s\tremaining: 1.89s\n",
      "821:\tlearn: 1668.2920369\ttotal: 8.68s\tremaining: 1.88s\n",
      "822:\tlearn: 1668.1123660\ttotal: 8.69s\tremaining: 1.87s\n",
      "823:\tlearn: 1667.8776265\ttotal: 8.7s\tremaining: 1.86s\n",
      "824:\tlearn: 1667.7654022\ttotal: 8.71s\tremaining: 1.85s\n",
      "825:\tlearn: 1667.6210225\ttotal: 8.71s\tremaining: 1.83s\n",
      "826:\tlearn: 1667.4234248\ttotal: 8.72s\tremaining: 1.82s\n",
      "827:\tlearn: 1667.2680646\ttotal: 8.73s\tremaining: 1.81s\n",
      "828:\tlearn: 1667.1279976\ttotal: 8.74s\tremaining: 1.8s\n",
      "829:\tlearn: 1667.0113350\ttotal: 8.75s\tremaining: 1.79s\n",
      "830:\tlearn: 1666.8701373\ttotal: 8.76s\tremaining: 1.78s\n",
      "831:\tlearn: 1666.7258435\ttotal: 8.77s\tremaining: 1.77s\n",
      "832:\tlearn: 1666.5484977\ttotal: 8.78s\tremaining: 1.76s\n",
      "833:\tlearn: 1666.4599254\ttotal: 8.79s\tremaining: 1.75s\n",
      "834:\tlearn: 1666.3103313\ttotal: 8.8s\tremaining: 1.74s\n",
      "835:\tlearn: 1666.1588200\ttotal: 8.81s\tremaining: 1.73s\n",
      "836:\tlearn: 1666.0520166\ttotal: 8.82s\tremaining: 1.72s\n",
      "837:\tlearn: 1665.8594736\ttotal: 8.83s\tremaining: 1.71s\n",
      "838:\tlearn: 1665.7389752\ttotal: 8.84s\tremaining: 1.7s\n",
      "839:\tlearn: 1665.6330030\ttotal: 8.85s\tremaining: 1.69s\n",
      "840:\tlearn: 1665.5206703\ttotal: 8.86s\tremaining: 1.67s\n",
      "841:\tlearn: 1665.4334431\ttotal: 8.87s\tremaining: 1.66s\n",
      "842:\tlearn: 1665.2664295\ttotal: 8.88s\tremaining: 1.65s\n",
      "843:\tlearn: 1665.0885652\ttotal: 8.89s\tremaining: 1.64s\n",
      "844:\tlearn: 1664.9564097\ttotal: 8.89s\tremaining: 1.63s\n",
      "845:\tlearn: 1664.8101273\ttotal: 8.9s\tremaining: 1.62s\n",
      "846:\tlearn: 1664.6188323\ttotal: 8.91s\tremaining: 1.61s\n",
      "847:\tlearn: 1664.4812120\ttotal: 8.92s\tremaining: 1.6s\n",
      "848:\tlearn: 1664.3446464\ttotal: 8.93s\tremaining: 1.59s\n",
      "849:\tlearn: 1664.3000621\ttotal: 8.94s\tremaining: 1.58s\n",
      "850:\tlearn: 1664.2059774\ttotal: 8.95s\tremaining: 1.57s\n",
      "851:\tlearn: 1664.0882414\ttotal: 8.96s\tremaining: 1.55s\n",
      "852:\tlearn: 1663.8997205\ttotal: 8.97s\tremaining: 1.54s\n",
      "853:\tlearn: 1663.8003568\ttotal: 8.97s\tremaining: 1.53s\n",
      "854:\tlearn: 1663.6606261\ttotal: 8.98s\tremaining: 1.52s\n",
      "855:\tlearn: 1663.4510426\ttotal: 8.99s\tremaining: 1.51s\n",
      "856:\tlearn: 1663.3479565\ttotal: 9.01s\tremaining: 1.5s\n",
      "857:\tlearn: 1663.2130815\ttotal: 9.02s\tremaining: 1.49s\n",
      "858:\tlearn: 1663.0043959\ttotal: 9.03s\tremaining: 1.48s\n",
      "859:\tlearn: 1662.8407302\ttotal: 9.04s\tremaining: 1.47s\n",
      "860:\tlearn: 1662.6895725\ttotal: 9.05s\tremaining: 1.46s\n",
      "861:\tlearn: 1662.3766316\ttotal: 9.06s\tremaining: 1.45s\n",
      "862:\tlearn: 1662.1702968\ttotal: 9.07s\tremaining: 1.44s\n",
      "863:\tlearn: 1662.0495876\ttotal: 9.08s\tremaining: 1.43s\n",
      "864:\tlearn: 1661.9211058\ttotal: 9.09s\tremaining: 1.42s\n",
      "865:\tlearn: 1661.8318885\ttotal: 9.1s\tremaining: 1.41s\n",
      "866:\tlearn: 1661.7476153\ttotal: 9.1s\tremaining: 1.4s\n",
      "867:\tlearn: 1661.5553585\ttotal: 9.11s\tremaining: 1.39s\n",
      "868:\tlearn: 1661.3892834\ttotal: 9.12s\tremaining: 1.38s\n",
      "869:\tlearn: 1661.2097203\ttotal: 9.13s\tremaining: 1.36s\n",
      "870:\tlearn: 1660.9587640\ttotal: 9.14s\tremaining: 1.35s\n",
      "871:\tlearn: 1660.8676838\ttotal: 9.15s\tremaining: 1.34s\n",
      "872:\tlearn: 1660.6019809\ttotal: 9.16s\tremaining: 1.33s\n",
      "873:\tlearn: 1660.3310361\ttotal: 9.17s\tremaining: 1.32s\n",
      "874:\tlearn: 1660.2619757\ttotal: 9.18s\tremaining: 1.31s\n",
      "875:\tlearn: 1660.1980773\ttotal: 9.19s\tremaining: 1.3s\n",
      "876:\tlearn: 1660.1300557\ttotal: 9.2s\tremaining: 1.29s\n",
      "877:\tlearn: 1659.9221005\ttotal: 9.2s\tremaining: 1.28s\n",
      "878:\tlearn: 1659.8959433\ttotal: 9.21s\tremaining: 1.27s\n",
      "879:\tlearn: 1659.8149704\ttotal: 9.23s\tremaining: 1.26s\n",
      "880:\tlearn: 1659.6775393\ttotal: 9.24s\tremaining: 1.25s\n",
      "881:\tlearn: 1659.5106926\ttotal: 9.25s\tremaining: 1.24s\n",
      "882:\tlearn: 1659.4418673\ttotal: 9.26s\tremaining: 1.23s\n",
      "883:\tlearn: 1659.3223814\ttotal: 9.28s\tremaining: 1.22s\n",
      "884:\tlearn: 1659.2068654\ttotal: 9.29s\tremaining: 1.21s\n",
      "885:\tlearn: 1659.0341543\ttotal: 9.29s\tremaining: 1.2s\n",
      "886:\tlearn: 1658.8813208\ttotal: 9.31s\tremaining: 1.19s\n",
      "887:\tlearn: 1658.7645635\ttotal: 9.32s\tremaining: 1.18s\n",
      "888:\tlearn: 1658.6353496\ttotal: 9.33s\tremaining: 1.16s\n",
      "889:\tlearn: 1658.4531623\ttotal: 9.34s\tremaining: 1.15s\n",
      "890:\tlearn: 1658.3504906\ttotal: 9.35s\tremaining: 1.14s\n",
      "891:\tlearn: 1658.1032219\ttotal: 9.36s\tremaining: 1.13s\n",
      "892:\tlearn: 1657.8699957\ttotal: 9.37s\tremaining: 1.12s\n",
      "893:\tlearn: 1657.7267259\ttotal: 9.38s\tremaining: 1.11s\n",
      "894:\tlearn: 1657.5507331\ttotal: 9.39s\tremaining: 1.1s\n",
      "895:\tlearn: 1657.3966788\ttotal: 9.4s\tremaining: 1.09s\n",
      "896:\tlearn: 1657.2362224\ttotal: 9.41s\tremaining: 1.08s\n",
      "897:\tlearn: 1657.0363648\ttotal: 9.42s\tremaining: 1.07s\n",
      "898:\tlearn: 1657.0158468\ttotal: 9.43s\tremaining: 1.06s\n",
      "899:\tlearn: 1656.8442732\ttotal: 9.44s\tremaining: 1.05s\n",
      "900:\tlearn: 1656.5088808\ttotal: 9.45s\tremaining: 1.04s\n",
      "901:\tlearn: 1656.4351045\ttotal: 9.46s\tremaining: 1.03s\n",
      "902:\tlearn: 1656.2748974\ttotal: 9.47s\tremaining: 1.02s\n",
      "903:\tlearn: 1656.1199460\ttotal: 9.48s\tremaining: 1.01s\n",
      "904:\tlearn: 1655.9380633\ttotal: 9.49s\tremaining: 996ms\n",
      "905:\tlearn: 1655.8249359\ttotal: 9.5s\tremaining: 985ms\n",
      "906:\tlearn: 1655.6787929\ttotal: 9.51s\tremaining: 975ms\n",
      "907:\tlearn: 1655.5235306\ttotal: 9.52s\tremaining: 965ms\n",
      "908:\tlearn: 1655.3232385\ttotal: 9.54s\tremaining: 955ms\n",
      "909:\tlearn: 1655.1714346\ttotal: 9.55s\tremaining: 944ms\n",
      "910:\tlearn: 1655.0636586\ttotal: 9.56s\tremaining: 934ms\n",
      "911:\tlearn: 1654.9041801\ttotal: 9.57s\tremaining: 923ms\n",
      "912:\tlearn: 1654.7589304\ttotal: 9.58s\tremaining: 913ms\n",
      "913:\tlearn: 1654.6776645\ttotal: 9.6s\tremaining: 903ms\n",
      "914:\tlearn: 1654.4644260\ttotal: 9.61s\tremaining: 893ms\n",
      "915:\tlearn: 1654.3500092\ttotal: 9.63s\tremaining: 883ms\n",
      "916:\tlearn: 1654.3364017\ttotal: 9.63s\tremaining: 872ms\n",
      "917:\tlearn: 1654.2301898\ttotal: 9.65s\tremaining: 862ms\n",
      "918:\tlearn: 1654.1182193\ttotal: 9.66s\tremaining: 851ms\n",
      "919:\tlearn: 1654.0034703\ttotal: 9.67s\tremaining: 841ms\n",
      "920:\tlearn: 1653.8877541\ttotal: 9.68s\tremaining: 830ms\n",
      "921:\tlearn: 1653.7750401\ttotal: 9.69s\tremaining: 820ms\n",
      "922:\tlearn: 1653.7012117\ttotal: 9.7s\tremaining: 810ms\n",
      "923:\tlearn: 1653.5170866\ttotal: 9.72s\tremaining: 799ms\n",
      "924:\tlearn: 1653.3894705\ttotal: 9.73s\tremaining: 789ms\n",
      "925:\tlearn: 1653.2757506\ttotal: 9.74s\tremaining: 779ms\n",
      "926:\tlearn: 1653.1682268\ttotal: 9.76s\tremaining: 768ms\n",
      "927:\tlearn: 1652.9433968\ttotal: 9.77s\tremaining: 758ms\n",
      "928:\tlearn: 1652.7996841\ttotal: 9.78s\tremaining: 748ms\n",
      "929:\tlearn: 1652.5874037\ttotal: 9.79s\tremaining: 737ms\n",
      "930:\tlearn: 1652.4901118\ttotal: 9.8s\tremaining: 727ms\n",
      "931:\tlearn: 1652.3914826\ttotal: 9.81s\tremaining: 716ms\n",
      "932:\tlearn: 1652.2531641\ttotal: 9.83s\tremaining: 706ms\n",
      "933:\tlearn: 1651.9976076\ttotal: 9.84s\tremaining: 695ms\n",
      "934:\tlearn: 1651.8407256\ttotal: 9.85s\tremaining: 685ms\n",
      "935:\tlearn: 1651.6662237\ttotal: 9.87s\tremaining: 675ms\n",
      "936:\tlearn: 1651.4992383\ttotal: 9.88s\tremaining: 664ms\n",
      "937:\tlearn: 1651.3837450\ttotal: 9.89s\tremaining: 654ms\n",
      "938:\tlearn: 1651.2744835\ttotal: 9.9s\tremaining: 643ms\n",
      "939:\tlearn: 1651.0736972\ttotal: 9.91s\tremaining: 633ms\n",
      "940:\tlearn: 1650.9537281\ttotal: 9.93s\tremaining: 622ms\n",
      "941:\tlearn: 1650.7670733\ttotal: 9.94s\tremaining: 612ms\n",
      "942:\tlearn: 1650.6890739\ttotal: 9.95s\tremaining: 602ms\n",
      "943:\tlearn: 1650.5957315\ttotal: 9.96s\tremaining: 591ms\n",
      "944:\tlearn: 1650.4068980\ttotal: 9.97s\tremaining: 580ms\n",
      "945:\tlearn: 1650.3062538\ttotal: 9.98s\tremaining: 570ms\n",
      "946:\tlearn: 1650.1620730\ttotal: 9.99s\tremaining: 559ms\n",
      "947:\tlearn: 1649.9883432\ttotal: 10s\tremaining: 549ms\n",
      "948:\tlearn: 1649.8748409\ttotal: 10s\tremaining: 538ms\n",
      "949:\tlearn: 1649.8135717\ttotal: 10s\tremaining: 528ms\n",
      "950:\tlearn: 1649.7362237\ttotal: 10s\tremaining: 517ms\n",
      "951:\tlearn: 1649.6785399\ttotal: 10s\tremaining: 507ms\n",
      "952:\tlearn: 1649.5582441\ttotal: 10.1s\tremaining: 496ms\n",
      "953:\tlearn: 1649.5428279\ttotal: 10.1s\tremaining: 485ms\n",
      "954:\tlearn: 1649.4287270\ttotal: 10.1s\tremaining: 475ms\n",
      "955:\tlearn: 1649.2948999\ttotal: 10.1s\tremaining: 464ms\n",
      "956:\tlearn: 1649.2029694\ttotal: 10.1s\tremaining: 454ms\n",
      "957:\tlearn: 1649.0968954\ttotal: 10.1s\tremaining: 443ms\n",
      "958:\tlearn: 1648.9576137\ttotal: 10.1s\tremaining: 433ms\n",
      "959:\tlearn: 1648.8773770\ttotal: 10.1s\tremaining: 422ms\n",
      "960:\tlearn: 1648.7106445\ttotal: 10.1s\tremaining: 412ms\n",
      "961:\tlearn: 1648.6125229\ttotal: 10.2s\tremaining: 401ms\n",
      "962:\tlearn: 1648.4996012\ttotal: 10.2s\tremaining: 391ms\n",
      "963:\tlearn: 1648.3909608\ttotal: 10.2s\tremaining: 380ms\n",
      "964:\tlearn: 1648.2684565\ttotal: 10.2s\tremaining: 369ms\n",
      "965:\tlearn: 1648.1883931\ttotal: 10.2s\tremaining: 359ms\n",
      "966:\tlearn: 1648.0485142\ttotal: 10.2s\tremaining: 348ms\n",
      "967:\tlearn: 1647.9917767\ttotal: 10.2s\tremaining: 338ms\n",
      "968:\tlearn: 1647.8548501\ttotal: 10.2s\tremaining: 327ms\n",
      "969:\tlearn: 1647.7618111\ttotal: 10.2s\tremaining: 317ms\n",
      "970:\tlearn: 1647.6290716\ttotal: 10.3s\tremaining: 306ms\n",
      "971:\tlearn: 1647.5363581\ttotal: 10.3s\tremaining: 296ms\n",
      "972:\tlearn: 1647.4456710\ttotal: 10.3s\tremaining: 285ms\n",
      "973:\tlearn: 1647.3109377\ttotal: 10.3s\tremaining: 275ms\n",
      "974:\tlearn: 1647.1950564\ttotal: 10.3s\tremaining: 264ms\n",
      "975:\tlearn: 1647.0652963\ttotal: 10.3s\tremaining: 254ms\n",
      "976:\tlearn: 1646.8960993\ttotal: 10.3s\tremaining: 243ms\n",
      "977:\tlearn: 1646.8024189\ttotal: 10.3s\tremaining: 232ms\n",
      "978:\tlearn: 1646.7827789\ttotal: 10.3s\tremaining: 222ms\n",
      "979:\tlearn: 1646.6894038\ttotal: 10.4s\tremaining: 211ms\n",
      "980:\tlearn: 1646.5305109\ttotal: 10.4s\tremaining: 201ms\n",
      "981:\tlearn: 1646.3999986\ttotal: 10.4s\tremaining: 190ms\n",
      "982:\tlearn: 1646.3327502\ttotal: 10.4s\tremaining: 180ms\n",
      "983:\tlearn: 1646.2187136\ttotal: 10.4s\tremaining: 169ms\n",
      "984:\tlearn: 1646.0715685\ttotal: 10.4s\tremaining: 159ms\n",
      "985:\tlearn: 1645.9765426\ttotal: 10.4s\tremaining: 148ms\n",
      "986:\tlearn: 1645.8669199\ttotal: 10.4s\tremaining: 137ms\n",
      "987:\tlearn: 1645.7505621\ttotal: 10.5s\tremaining: 127ms\n",
      "988:\tlearn: 1645.6232326\ttotal: 10.5s\tremaining: 116ms\n",
      "989:\tlearn: 1645.5404201\ttotal: 10.5s\tremaining: 106ms\n",
      "990:\tlearn: 1645.4073982\ttotal: 10.5s\tremaining: 95.2ms\n",
      "991:\tlearn: 1645.3360548\ttotal: 10.5s\tremaining: 84.6ms\n",
      "992:\tlearn: 1645.1968728\ttotal: 10.5s\tremaining: 74ms\n",
      "993:\tlearn: 1645.0627170\ttotal: 10.5s\tremaining: 63.5ms\n",
      "994:\tlearn: 1644.8941779\ttotal: 10.5s\tremaining: 52.9ms\n",
      "995:\tlearn: 1644.7987286\ttotal: 10.5s\tremaining: 42.3ms\n",
      "996:\tlearn: 1644.6385614\ttotal: 10.5s\tremaining: 31.7ms\n",
      "997:\tlearn: 1644.5771685\ttotal: 10.6s\tremaining: 21.1ms\n",
      "998:\tlearn: 1644.4801692\ttotal: 10.6s\tremaining: 10.6ms\n",
      "999:\tlearn: 1644.4689455\ttotal: 10.6s\tremaining: 0us\n",
      "RMSE: 1726.5468894166006\n",
      "Model Training Time: 11.167685270309448\n",
      "Model Prediction Time: 0.10900306701660156\n"
     ]
    }
   ],
   "source": [
    "# CatBoost Regressor Model\n",
    "\n",
    "# Define the CatBoost Regressor model with hyperparameters\n",
    "model = CatBoostRegressor(\n",
    "    iterations=1000,  # Number of boosting iterations\n",
    "    learning_rate=0.1,  # Learning rate for the model\n",
    "    depth=6,           # Maximum tree depth\n",
    "    loss_function='RMSE'  # Root Mean Squared Error loss function\n",
    ")\n",
    "\n",
    "# Training Time Measurement\n",
    "start_time1 = time.time()  # Record start time before training\n",
    "\n",
    "# Train the model on the training features and target variables\n",
    "model.fit(features_train, target_train)\n",
    "\n",
    "# Training Time Measurement\n",
    "end_time1 = time.time()  # Record end time after training\n",
    "Fit_time = end_time1 - start_time1  # Calculate training time\n",
    "\n",
    "# Prediction Time Measurement\n",
    "start_time2 = time.time()  # Record start time before prediction\n",
    "\n",
    "# Make predictions on the validation features using the trained model\n",
    "predicted_value = model.predict(features_valid)\n",
    "\n",
    "# Prediction Time Measurement\n",
    "end_time2 = time.time()  # Record end time after prediction\n",
    "predict_time = end_time2 - start_time2  # Calculate prediction time\n",
    "\n",
    "# Calculate Root Mean Squared Error (RMSE)\n",
    "residuals = target_valid - predicted_value  # Calculate residuals\n",
    "rmse = np.sqrt(np.mean(residuals**2))  # Calculate RMSE\n",
    "\n",
    "# Print evaluation metrics and timings\n",
    "print(\"RMSE:\", rmse)  \n",
    "print(\"Model Training Time:\", Fit_time)  \n",
    "print(\"Model Prediction Time:\", predict_time) \n"
   ]
  },
  {
   "cell_type": "code",
   "execution_count": 30,
   "metadata": {},
   "outputs": [
    {
     "ename": "SyntaxError",
     "evalue": "expression expected after dictionary key and ':' (463101763.py, line 4)",
     "output_type": "error",
     "traceback": [
      "\u001b[0;36m  Cell \u001b[0;32mIn[30], line 4\u001b[0;36m\u001b[0m\n\u001b[0;31m    'learning_rate':,  # Learning rates to explore\u001b[0m\n\u001b[0m                   ^\u001b[0m\n\u001b[0;31mSyntaxError\u001b[0m\u001b[0;31m:\u001b[0m expression expected after dictionary key and ':'\n"
     ]
    }
   ],
   "source": [
    " # Define a parameter grid for CatBoostRegressor hyperparameter tuning\n",
    "param_grid = {\n",
    "    'depth': [6, 8, 10],  # Maximum tree depth to explore\n",
    "    'learning_rate':,  # Learning rates to explore\n",
    "    'iterations': [500, 1000],  # Number of boosting iterations to explore\n",
    "}\n",
    "\n",
    "# Create a GridSearchCV object to perform hyperparameter tuning\n",
    "grid_search = GridSearchCV(estimator=CatBoostRegressor(),\n",
    "                           param_grid=param_grid,\n",
    "                           cv=5,  # Use 5-fold cross-validation for evaluation\n",
    "                           scoring='neg_mean_squared_error')  # Use negative mean squared error for metric (maximize R-squared)\n",
    "\n",
    "# Record start time before fitting the model\n",
    "start_time1 = time.time()\n",
    "grid_search.fit(features_train, target_train)\n",
    "# Record end time after fitting the model\n",
    "end_time1 = time.time()\n",
    "\n",
    "# Calculate the fitting time\n",
    "Fit_time = end_time1 - start_time1\n",
    "print(\"Fitting Time:\", Fit_time, \"seconds\")\n",
    "\n",
    "# Use the best model from GridSearchCV for prediction\n",
    "model = grid_search.best_estimator_\n",
    "\n",
    "# Record start time before prediction\n",
    "start_time2 = time.time()\n",
    "predicted_value = model.predict(features_valid)\n",
    "# Record end time after prediction\n",
    "end_time2 = time.time()\n",
    "\n",
    "# Calculate the prediction time\n",
    "predict_time = end_time2 - start_time1\n",
    "print(\"Prediction Time:\", predict_time, \"seconds\")\n",
    "\n",
    "# Calculate Root Mean Squared Error (RMSE) for evaluation\n",
    "residuals = target_valid - predicted_value\n",
    "rmse = np.sqrt(np.mean(residuals**2))\n",
    "print(\"RMSE:\", rmse)"
   ]
  },
  {
   "cell_type": "code",
   "execution_count": null,
   "metadata": {},
   "outputs": [],
   "source": [
    "#Access search results in a grid\n",
    "cv_results = grid_search.cv_results_\n",
    "\n",
    "#Print the best parameters\n",
    "print(\"Best parameters:\", grid_search.best_params_)\n",
    "\n",
    "#Print the best score (negative RMSE in this case)\n",
    "print(\"Best score:\", grid_search.best_score_)"
   ]
  },
  {
   "cell_type": "code",
   "execution_count": null,
   "metadata": {},
   "outputs": [],
   "source": [
    "# CatBoost Regressor with optimized parameters\n",
    "model = CatBoostRegressor(iterations=1000, learning_rate=0.2, depth=10, loss_function='RMSE')\n",
    "\n",
    "# Start time measurement for training\n",
    "start_time1 = time.time()\n",
    "\n",
    "# Train the CatBoost model on the training features and target variables\n",
    "model.fit(features_train, target_train)\n",
    "\n",
    "# End time measurement for training\n",
    "end_time1 = time.time()\n",
    "\n",
    "# Calculate the total training time\n",
    "Fit_time = end_time1 - start_time1\n",
    "\n",
    "# Start time measurement for prediction\n",
    "start_time2 = time.time()\n",
    "\n",
    "# Make predictions on the validation features using the trained model\n",
    "predicted_value = model.predict(features_valid)\n",
    "\n",
    "# End time measurement for prediction\n",
    "end_time2 = time.time()\n",
    "\n",
    "# Calculate the total prediction time\n",
    "predict_time = end_time2 - start_time2\n",
    "\n",
    "# Calculate the residuals (difference between actual and predicted values)\n",
    "residuals = target_valid - predicted_value\n",
    "\n",
    "# Calculate the Root Mean Squared Error (RMSE) as the performance metric\n",
    "rmse = np.sqrt(np.mean(residuals**2))\n",
    "\n",
    "# Print the RMSE metric\n",
    "print(\"RMSE:\", rmse)\n",
    "\n",
    "# Print the training time\n",
    "print(\"Model Training Time:\", Fit_time)\n",
    "\n",
    "# Print the prediction time\n",
    "print(\"Model Prediction Time:\", predict_time)"
   ]
  },
  {
   "cell_type": "code",
   "execution_count": null,
   "metadata": {},
   "outputs": [],
   "source": [
    "# Random Forest Regression Model\n",
    "\n",
    "# Model configuration (number of estimators and random state for reproducibility)\n",
    "model = RandomForestRegressor(n_estimators=100, random_state=12345)\n",
    "\n",
    "# Training Time Measurement\n",
    "start_time1 = time.time()\n",
    "model.fit(features_train, target_train)\n",
    "end_time1 = time.time()\n",
    "Fit_time = end_time1 - start_time1\n",
    "\n",
    "# Prediction Time Measurement\n",
    "start_time2 = time.time()\n",
    "predicted_value = model.predict(features_valid)\n",
    "end_time2 = time.time()\n",
    "predict_time = end_time2 - start_time2\n",
    "\n",
    "# Calculate Root Mean Squared Error (RMSE) for evaluation\n",
    "residuals = target_valid - predicted_value\n",
    "rmse = np.sqrt(np.mean(residuals**2))\n",
    "\n",
    "# Print results\n",
    "print(\"RMSE:\", rmse)\n",
    "print(\"Model Training Time:\", Fit_time, \"seconds\")  # More descriptive output\n",
    "print(\"Model Prediction Time:\", predict_time, \"seconds\")  # More descriptive output"
   ]
  },
  {
   "cell_type": "code",
   "execution_count": null,
   "metadata": {},
   "outputs": [],
   "source": [
    "# Import libraries (assuming LightGBM [lgb] and time are already imported)\n",
    "\n",
    "# Create a LightGBM classifier model\n",
    "model = lgb.LGBMClassifier()\n",
    "\n",
    "# Start timer to measure training time\n",
    "start_time1 = time.time()\n",
    "\n",
    "# Train the model on the training features and target variables\n",
    "model.fit(features_train, target_train)\n",
    "\n",
    "# End timer to measure training time\n",
    "end_time1 = time.time()\n",
    "\n",
    "# Calculate the total training time\n",
    "Fit_time = end_time1 - start_time1\n",
    "\n",
    "# Start timer to measure prediction time\n",
    "start_time2 = time.time()\n",
    "\n",
    "# Make predictions on the validation features using the trained model\n",
    "predicted_value = model.predict(features_valid)\n",
    "\n",
    "# End timer to measure prediction time\n",
    "end_time2 = time.time()\n",
    "\n",
    "# Calculate the total prediction time\n",
    "predict_time = end_time2 - start_time1\n",
    "\n",
    "# Calculate residuals (difference between actual and predicted values)\n",
    "residuals = target_valid - predicted_value\n",
    "\n",
    "# Calculate Root Mean Squared Error (RMSE) as a performance metric\n",
    "rmse = np.sqrt(np.mean(residuals**2))\n",
    "\n",
    "# Print the RMSE metric\n",
    "print(\"RECM:\", rmse)\n",
    "\n",
    "# Print the training time\n",
    "print(\"Tiempo de entreno del modelo:\", Fit_time, \"segundos\")  # Clarify units\n",
    "\n",
    "# Print the prediction time\n",
    "print(\"Tiempo de prediccion del modelo:\", predict_time, \"segundos\")  # Clarify units\n"
   ]
  },
  {
   "cell_type": "markdown",
   "metadata": {},
   "source": [
    "## Model analysis"
   ]
  },
  {
   "cell_type": "markdown",
   "metadata": {},
   "source": [
    "**Linear Regression**<br>\n",
    "RECM: 3143.3472906846964<br>\n",
    "Model training time: 9.296945095062256<br>\n",
    "Model prediction time: 0.24283337593078613<br>\n",
    "<br>\n",
    "**CatBoost**<br>\n",
    "RECM: 1726.5468894166006<br>\n",
    "Model training time: 11.219550132751465<br>\n",
    "Model prediction time: 0.06510424613952637<br>\n",
    "<br>\n",
    "**CatBoost with proando with different parameters**<br>\n",
    "RECM: 5703.569017899902<br>\n",
    "Model training time: 1175.0252730846405<br>\n",
    "Model prediction time: 59.30088520050049<br>\n",
    "<br>\n",
    "**RandomForestRegressor**<br>\n",
    "RECM: 1720.7216366649468<br>\n",
    "Model training time: 684.0022070407867<br>\n",
    "Model prediction time: 5.185247182846069<br>\n",
    "<br>\n",
    "**LGBMClassifier**<br>\n",
    "RECM: 5703.569017899902<br>\n",
    "Model training time: 1699.7037091255188<br>\n",
    "Model prediction time: 43.59494495391846<br>"
   ]
  },
  {
   "cell_type": "markdown",
   "metadata": {},
   "source": [
    "##Conclusion\n",
    "After the initial analysis of the data, different models were trained with the objective of finding the best model, in terms of RSME and speed, for predicting car prices, obtaining the following:\n",
    "\n",
    "CatBoost stands out as the best model in terms of RECM (root mean square error), indicating higher accuracy in price predictions. Furthermore, it presents a good balance between training time and prediction.\n",
    "Linear Regression serves as a good baseline, but its performance is significantly worse than CatBoost, suggesting that the relationship between features and price is not strictly linear.\n",
    "LightGBM has a significantly higher RECM than CatBoost and a much longer training and prediction time. This could be due to poor hyperparameter settings or model overfitting."
   ]
  },
  {
   "cell_type": "code",
   "execution_count": null,
   "metadata": {},
   "outputs": [],
   "source": []
  }
 ],
 "metadata": {
  "ExecuteTimeLog": [
   {
    "duration": 2914,
    "start_time": "2024-08-29T17:44:41.276Z"
   },
   {
    "duration": 506,
    "start_time": "2024-08-29T17:47:16.121Z"
   },
   {
    "duration": 87,
    "start_time": "2024-08-29T17:47:54.087Z"
   },
   {
    "duration": 58,
    "start_time": "2024-08-29T17:48:05.971Z"
   },
   {
    "duration": 56,
    "start_time": "2024-08-29T17:48:20.514Z"
   },
   {
    "duration": 90,
    "start_time": "2024-08-29T17:48:29.973Z"
   },
   {
    "duration": 14,
    "start_time": "2024-08-29T17:58:45.849Z"
   },
   {
    "duration": 65,
    "start_time": "2024-08-29T18:00:52.329Z"
   },
   {
    "duration": 117,
    "start_time": "2024-08-29T18:01:09.584Z"
   },
   {
    "duration": 249,
    "start_time": "2024-08-29T18:02:39.237Z"
   },
   {
    "duration": 275,
    "start_time": "2024-08-29T18:03:34.473Z"
   },
   {
    "duration": 537,
    "start_time": "2024-08-29T18:03:45.811Z"
   },
   {
    "duration": 283,
    "start_time": "2024-08-29T18:05:54.948Z"
   },
   {
    "duration": 278,
    "start_time": "2024-08-29T18:05:59.060Z"
   },
   {
    "duration": 283,
    "start_time": "2024-08-29T18:06:10.853Z"
   },
   {
    "duration": 371,
    "start_time": "2024-08-29T18:06:51.669Z"
   },
   {
    "duration": 42,
    "start_time": "2024-08-29T18:07:03.558Z"
   },
   {
    "duration": 5,
    "start_time": "2024-08-29T18:07:17.884Z"
   },
   {
    "duration": 22,
    "start_time": "2024-08-29T18:08:08.543Z"
   },
   {
    "duration": 28,
    "start_time": "2024-08-29T18:08:18.458Z"
   },
   {
    "duration": 8,
    "start_time": "2024-08-29T18:08:38.249Z"
   },
   {
    "duration": 9,
    "start_time": "2024-08-29T18:08:43.382Z"
   },
   {
    "duration": 7,
    "start_time": "2024-08-29T18:09:03.570Z"
   },
   {
    "duration": 23,
    "start_time": "2024-08-29T18:09:16.951Z"
   },
   {
    "duration": 335,
    "start_time": "2024-08-29T18:09:58.149Z"
   },
   {
    "duration": 15,
    "start_time": "2024-08-29T18:10:11.537Z"
   },
   {
    "duration": 19,
    "start_time": "2024-08-29T18:10:26.043Z"
   },
   {
    "duration": 32,
    "start_time": "2024-08-29T18:10:52.354Z"
   },
   {
    "duration": 61,
    "start_time": "2024-08-29T18:11:10.221Z"
   },
   {
    "duration": 352,
    "start_time": "2024-08-29T18:12:10.733Z"
   },
   {
    "duration": 121,
    "start_time": "2024-08-29T18:12:32.661Z"
   },
   {
    "duration": 4,
    "start_time": "2024-08-29T18:12:49.191Z"
   },
   {
    "duration": 457,
    "start_time": "2024-08-29T18:12:49.197Z"
   },
   {
    "duration": 15,
    "start_time": "2024-08-29T18:12:49.656Z"
   },
   {
    "duration": 60,
    "start_time": "2024-08-29T18:12:49.673Z"
   },
   {
    "duration": 117,
    "start_time": "2024-08-29T18:12:49.735Z"
   },
   {
    "duration": 76,
    "start_time": "2024-08-29T18:12:49.853Z"
   },
   {
    "duration": 129,
    "start_time": "2024-08-29T18:12:49.931Z"
   },
   {
    "duration": 274,
    "start_time": "2024-08-29T18:12:50.062Z"
   },
   {
    "duration": 253,
    "start_time": "2024-08-29T18:12:50.338Z"
   },
   {
    "duration": 323,
    "start_time": "2024-08-29T18:12:50.593Z"
   },
   {
    "duration": 115,
    "start_time": "2024-08-29T18:12:50.917Z"
   },
   {
    "duration": 332,
    "start_time": "2024-08-29T18:13:03.970Z"
   },
   {
    "duration": 115,
    "start_time": "2024-08-29T18:13:06.565Z"
   },
   {
    "duration": 195,
    "start_time": "2024-08-29T18:14:21.997Z"
   },
   {
    "duration": 151,
    "start_time": "2024-08-29T18:14:44.875Z"
   },
   {
    "duration": 49,
    "start_time": "2024-08-29T18:15:36.099Z"
   },
   {
    "duration": 26,
    "start_time": "2024-08-29T18:16:00.749Z"
   },
   {
    "duration": 21,
    "start_time": "2024-08-29T18:16:04.187Z"
   },
   {
    "duration": 116,
    "start_time": "2024-08-29T18:21:06.441Z"
   },
   {
    "duration": 16,
    "start_time": "2024-08-29T18:22:18.086Z"
   },
   {
    "duration": 22,
    "start_time": "2024-08-29T18:22:33.927Z"
   },
   {
    "duration": 566,
    "start_time": "2024-08-29T18:22:38.730Z"
   },
   {
    "duration": 716,
    "start_time": "2024-08-29T18:25:27.779Z"
   },
   {
    "duration": 669,
    "start_time": "2024-08-29T18:26:07.676Z"
   },
   {
    "duration": 88,
    "start_time": "2024-08-29T18:26:13.348Z"
   },
   {
    "duration": 5,
    "start_time": "2024-08-29T18:26:24.967Z"
   },
   {
    "duration": 378,
    "start_time": "2024-08-29T18:26:24.974Z"
   },
   {
    "duration": 10,
    "start_time": "2024-08-29T18:26:25.355Z"
   },
   {
    "duration": 67,
    "start_time": "2024-08-29T18:26:25.367Z"
   },
   {
    "duration": 111,
    "start_time": "2024-08-29T18:26:25.436Z"
   },
   {
    "duration": 77,
    "start_time": "2024-08-29T18:26:25.550Z"
   },
   {
    "duration": 101,
    "start_time": "2024-08-29T18:26:25.629Z"
   },
   {
    "duration": 202,
    "start_time": "2024-08-29T18:26:25.733Z"
   },
   {
    "duration": 230,
    "start_time": "2024-08-29T18:26:25.937Z"
   },
   {
    "duration": 290,
    "start_time": "2024-08-29T18:26:26.169Z"
   },
   {
    "duration": 94,
    "start_time": "2024-08-29T18:26:26.461Z"
   },
   {
    "duration": 1266,
    "start_time": "2024-08-29T18:26:26.557Z"
   },
   {
    "duration": 122,
    "start_time": "2024-08-29T18:26:27.826Z"
   },
   {
    "duration": 22,
    "start_time": "2024-08-29T18:26:27.950Z"
   },
   {
    "duration": 119,
    "start_time": "2024-08-29T18:26:27.974Z"
   },
   {
    "duration": 175,
    "start_time": "2024-08-29T18:26:31.762Z"
   },
   {
    "duration": 32,
    "start_time": "2024-08-29T18:34:49.018Z"
   },
   {
    "duration": 21,
    "start_time": "2024-08-29T18:34:59.746Z"
   },
   {
    "duration": 10,
    "start_time": "2024-08-29T18:35:10.387Z"
   },
   {
    "duration": 30,
    "start_time": "2024-08-29T18:35:31.241Z"
   },
   {
    "duration": 16,
    "start_time": "2024-08-29T18:35:53.465Z"
   },
   {
    "duration": 39,
    "start_time": "2024-08-29T18:36:42.143Z"
   },
   {
    "duration": 18,
    "start_time": "2024-08-29T18:36:45.740Z"
   },
   {
    "duration": 6,
    "start_time": "2024-08-29T18:37:01.737Z"
   },
   {
    "duration": 404,
    "start_time": "2024-08-29T18:37:01.746Z"
   },
   {
    "duration": 15,
    "start_time": "2024-08-29T18:37:02.152Z"
   },
   {
    "duration": 83,
    "start_time": "2024-08-29T18:37:02.169Z"
   },
   {
    "duration": 129,
    "start_time": "2024-08-29T18:37:02.255Z"
   },
   {
    "duration": 91,
    "start_time": "2024-08-29T18:37:02.385Z"
   },
   {
    "duration": 118,
    "start_time": "2024-08-29T18:37:02.478Z"
   },
   {
    "duration": 242,
    "start_time": "2024-08-29T18:37:02.598Z"
   },
   {
    "duration": 241,
    "start_time": "2024-08-29T18:37:02.843Z"
   },
   {
    "duration": 284,
    "start_time": "2024-08-29T18:37:03.086Z"
   },
   {
    "duration": 107,
    "start_time": "2024-08-29T18:37:03.371Z"
   },
   {
    "duration": 1528,
    "start_time": "2024-08-29T18:37:03.480Z"
   },
   {
    "duration": 26,
    "start_time": "2024-08-29T18:37:05.018Z"
   },
   {
    "duration": 146,
    "start_time": "2024-08-29T18:37:05.049Z"
   },
   {
    "duration": 57,
    "start_time": "2024-08-29T18:37:10.279Z"
   },
   {
    "duration": 20,
    "start_time": "2024-08-29T18:37:12.853Z"
   },
   {
    "duration": 12,
    "start_time": "2024-08-29T18:37:30.169Z"
   },
   {
    "duration": 19,
    "start_time": "2024-08-29T18:37:32.951Z"
   },
   {
    "duration": 13,
    "start_time": "2024-08-29T18:37:48.879Z"
   },
   {
    "duration": 8,
    "start_time": "2024-08-29T18:40:54.749Z"
   },
   {
    "duration": 10,
    "start_time": "2024-08-29T18:41:05.962Z"
   },
   {
    "duration": 13,
    "start_time": "2024-08-29T18:41:46.605Z"
   },
   {
    "duration": 10,
    "start_time": "2024-08-29T18:41:55.652Z"
   },
   {
    "duration": 16,
    "start_time": "2024-08-29T18:42:03.527Z"
   },
   {
    "duration": 25,
    "start_time": "2024-08-29T18:42:36.683Z"
   },
   {
    "duration": 5,
    "start_time": "2024-08-29T18:42:45.617Z"
   },
   {
    "duration": 452,
    "start_time": "2024-08-29T18:42:45.625Z"
   },
   {
    "duration": 13,
    "start_time": "2024-08-29T18:42:46.078Z"
   },
   {
    "duration": 77,
    "start_time": "2024-08-29T18:42:46.094Z"
   },
   {
    "duration": 150,
    "start_time": "2024-08-29T18:42:46.174Z"
   },
   {
    "duration": 64,
    "start_time": "2024-08-29T18:42:46.326Z"
   },
   {
    "duration": 158,
    "start_time": "2024-08-29T18:42:46.391Z"
   },
   {
    "duration": 235,
    "start_time": "2024-08-29T18:42:46.550Z"
   },
   {
    "duration": 249,
    "start_time": "2024-08-29T18:42:46.787Z"
   },
   {
    "duration": 260,
    "start_time": "2024-08-29T18:42:47.039Z"
   },
   {
    "duration": 122,
    "start_time": "2024-08-29T18:42:47.301Z"
   },
   {
    "duration": 1621,
    "start_time": "2024-08-29T18:42:47.425Z"
   },
   {
    "duration": 127,
    "start_time": "2024-08-29T18:42:49.050Z"
   },
   {
    "duration": 19,
    "start_time": "2024-08-29T18:42:49.179Z"
   },
   {
    "duration": 20,
    "start_time": "2024-08-29T18:42:49.204Z"
   },
   {
    "duration": 115,
    "start_time": "2024-08-29T18:42:49.235Z"
   },
   {
    "duration": 202,
    "start_time": "2024-08-29T18:43:00.950Z"
   },
   {
    "duration": 103,
    "start_time": "2024-08-29T18:43:32.537Z"
   },
   {
    "duration": 84,
    "start_time": "2024-08-29T18:44:15.514Z"
   },
   {
    "duration": 4,
    "start_time": "2024-08-29T18:49:06.873Z"
   },
   {
    "duration": 38231,
    "start_time": "2024-08-29T18:49:26.564Z"
   },
   {
    "duration": 38535,
    "start_time": "2024-08-29T18:52:21.155Z"
   },
   {
    "duration": 41560,
    "start_time": "2024-08-29T18:53:30.095Z"
   },
   {
    "duration": 2749,
    "start_time": "2024-08-29T22:24:14.039Z"
   },
   {
    "duration": 455,
    "start_time": "2024-08-29T22:24:16.790Z"
   },
   {
    "duration": 13,
    "start_time": "2024-08-29T22:24:17.248Z"
   },
   {
    "duration": 73,
    "start_time": "2024-08-29T22:24:17.264Z"
   },
   {
    "duration": 99,
    "start_time": "2024-08-29T22:24:17.339Z"
   },
   {
    "duration": 55,
    "start_time": "2024-08-29T22:24:17.439Z"
   },
   {
    "duration": 101,
    "start_time": "2024-08-29T22:24:17.496Z"
   },
   {
    "duration": 228,
    "start_time": "2024-08-29T22:24:17.599Z"
   },
   {
    "duration": 233,
    "start_time": "2024-08-29T22:24:17.831Z"
   },
   {
    "duration": 287,
    "start_time": "2024-08-29T22:24:18.067Z"
   },
   {
    "duration": 90,
    "start_time": "2024-08-29T22:24:18.358Z"
   },
   {
    "duration": 1269,
    "start_time": "2024-08-29T22:24:18.450Z"
   },
   {
    "duration": 90,
    "start_time": "2024-08-29T22:24:19.721Z"
   },
   {
    "duration": 131,
    "start_time": "2024-08-29T22:24:19.813Z"
   },
   {
    "duration": 20,
    "start_time": "2024-08-29T22:24:19.946Z"
   },
   {
    "duration": 18,
    "start_time": "2024-08-29T22:24:19.968Z"
   },
   {
    "duration": 105,
    "start_time": "2024-08-29T22:24:19.988Z"
   },
   {
    "duration": 35766,
    "start_time": "2024-08-29T22:24:20.094Z"
   },
   {
    "duration": 569,
    "start_time": "2024-08-29T22:24:55.862Z"
   },
   {
    "duration": 278,
    "start_time": "2024-08-29T22:25:40.653Z"
   },
   {
    "duration": 35,
    "start_time": "2024-08-29T22:25:46.627Z"
   },
   {
    "duration": 744,
    "start_time": "2024-08-29T22:25:59.958Z"
   },
   {
    "duration": 5,
    "start_time": "2024-08-29T22:26:20.239Z"
   },
   {
    "duration": 35578,
    "start_time": "2024-08-29T22:26:52.315Z"
   },
   {
    "duration": 38809,
    "start_time": "2024-08-29T22:28:06.171Z"
   },
   {
    "duration": 39381,
    "start_time": "2024-08-29T22:29:14.456Z"
   },
   {
    "duration": 74,
    "start_time": "2024-08-29T22:31:44.908Z"
   },
   {
    "duration": 174,
    "start_time": "2024-08-29T22:33:14.800Z"
   },
   {
    "duration": 4,
    "start_time": "2024-08-29T22:33:46.776Z"
   },
   {
    "duration": 433,
    "start_time": "2024-08-29T22:33:46.782Z"
   },
   {
    "duration": 17,
    "start_time": "2024-08-29T22:33:47.217Z"
   },
   {
    "duration": 54,
    "start_time": "2024-08-29T22:33:47.235Z"
   },
   {
    "duration": 102,
    "start_time": "2024-08-29T22:33:47.292Z"
   },
   {
    "duration": 65,
    "start_time": "2024-08-29T22:33:47.395Z"
   },
   {
    "duration": 96,
    "start_time": "2024-08-29T22:33:47.462Z"
   },
   {
    "duration": 220,
    "start_time": "2024-08-29T22:33:47.560Z"
   },
   {
    "duration": 213,
    "start_time": "2024-08-29T22:33:47.782Z"
   },
   {
    "duration": 247,
    "start_time": "2024-08-29T22:33:47.997Z"
   },
   {
    "duration": 95,
    "start_time": "2024-08-29T22:33:48.246Z"
   },
   {
    "duration": 1200,
    "start_time": "2024-08-29T22:33:48.344Z"
   },
   {
    "duration": 112,
    "start_time": "2024-08-29T22:33:51.901Z"
   },
   {
    "duration": 4,
    "start_time": "2024-08-29T22:34:56.443Z"
   },
   {
    "duration": 365,
    "start_time": "2024-08-29T22:34:56.451Z"
   },
   {
    "duration": 10,
    "start_time": "2024-08-29T22:34:56.818Z"
   },
   {
    "duration": 54,
    "start_time": "2024-08-29T22:34:56.831Z"
   },
   {
    "duration": 110,
    "start_time": "2024-08-29T22:34:56.886Z"
   },
   {
    "duration": 67,
    "start_time": "2024-08-29T22:34:56.999Z"
   },
   {
    "duration": 103,
    "start_time": "2024-08-29T22:34:57.067Z"
   },
   {
    "duration": 198,
    "start_time": "2024-08-29T22:34:57.172Z"
   },
   {
    "duration": 207,
    "start_time": "2024-08-29T22:34:57.372Z"
   },
   {
    "duration": 247,
    "start_time": "2024-08-29T22:34:57.581Z"
   },
   {
    "duration": 100,
    "start_time": "2024-08-29T22:34:57.832Z"
   },
   {
    "duration": 1234,
    "start_time": "2024-08-29T22:34:57.934Z"
   },
   {
    "duration": 179,
    "start_time": "2024-08-29T22:34:59.170Z"
   },
   {
    "duration": 107,
    "start_time": "2024-08-29T22:35:09.894Z"
   },
   {
    "duration": 17,
    "start_time": "2024-08-29T22:35:25.700Z"
   },
   {
    "duration": 4,
    "start_time": "2024-08-29T22:35:40.314Z"
   },
   {
    "duration": 387,
    "start_time": "2024-08-29T22:35:40.329Z"
   },
   {
    "duration": 17,
    "start_time": "2024-08-29T22:35:40.718Z"
   },
   {
    "duration": 57,
    "start_time": "2024-08-29T22:35:40.737Z"
   },
   {
    "duration": 102,
    "start_time": "2024-08-29T22:35:40.796Z"
   },
   {
    "duration": 63,
    "start_time": "2024-08-29T22:35:40.901Z"
   },
   {
    "duration": 108,
    "start_time": "2024-08-29T22:35:40.966Z"
   },
   {
    "duration": 213,
    "start_time": "2024-08-29T22:35:41.076Z"
   },
   {
    "duration": 216,
    "start_time": "2024-08-29T22:35:41.291Z"
   },
   {
    "duration": 234,
    "start_time": "2024-08-29T22:35:41.508Z"
   },
   {
    "duration": 95,
    "start_time": "2024-08-29T22:35:41.744Z"
   },
   {
    "duration": 1222,
    "start_time": "2024-08-29T22:35:41.840Z"
   },
   {
    "duration": 203,
    "start_time": "2024-08-29T22:35:43.064Z"
   },
   {
    "duration": 117,
    "start_time": "2024-08-29T22:35:43.269Z"
   },
   {
    "duration": 16,
    "start_time": "2024-08-29T22:35:43.389Z"
   },
   {
    "duration": 83,
    "start_time": "2024-08-29T22:35:43.407Z"
   },
   {
    "duration": 133,
    "start_time": "2024-08-29T22:35:43.492Z"
   },
   {
    "duration": 13,
    "start_time": "2024-08-29T22:35:43.630Z"
   },
   {
    "duration": 17,
    "start_time": "2024-08-29T22:35:43.645Z"
   },
   {
    "duration": 103,
    "start_time": "2024-08-29T22:35:43.664Z"
   },
   {
    "duration": 80,
    "start_time": "2024-08-29T22:35:43.768Z"
   },
   {
    "duration": 35925,
    "start_time": "2024-08-29T22:35:43.850Z"
   },
   {
    "duration": 185,
    "start_time": "2024-08-29T22:36:19.780Z"
   },
   {
    "duration": 25545,
    "start_time": "2024-08-29T22:41:30.816Z"
   },
   {
    "duration": 47,
    "start_time": "2024-08-29T22:44:30.019Z"
   },
   {
    "duration": 47,
    "start_time": "2024-08-29T22:44:40.610Z"
   },
   {
    "duration": 66,
    "start_time": "2024-08-29T22:45:20.936Z"
   },
   {
    "duration": 4,
    "start_time": "2024-08-29T22:56:44.448Z"
   },
   {
    "duration": 384,
    "start_time": "2024-08-29T22:56:44.454Z"
   },
   {
    "duration": 12,
    "start_time": "2024-08-29T22:56:44.840Z"
   },
   {
    "duration": 57,
    "start_time": "2024-08-29T22:56:44.855Z"
   },
   {
    "duration": 104,
    "start_time": "2024-08-29T22:56:44.914Z"
   },
   {
    "duration": 63,
    "start_time": "2024-08-29T22:56:45.020Z"
   },
   {
    "duration": 99,
    "start_time": "2024-08-29T22:56:45.085Z"
   },
   {
    "duration": 197,
    "start_time": "2024-08-29T22:56:45.186Z"
   },
   {
    "duration": 209,
    "start_time": "2024-08-29T22:56:45.385Z"
   },
   {
    "duration": 244,
    "start_time": "2024-08-29T22:56:45.598Z"
   },
   {
    "duration": 96,
    "start_time": "2024-08-29T22:56:45.844Z"
   },
   {
    "duration": 1198,
    "start_time": "2024-08-29T22:56:45.942Z"
   },
   {
    "duration": 177,
    "start_time": "2024-08-29T22:56:47.141Z"
   },
   {
    "duration": 110,
    "start_time": "2024-08-29T22:56:47.321Z"
   },
   {
    "duration": 17,
    "start_time": "2024-08-29T22:56:47.433Z"
   },
   {
    "duration": 89,
    "start_time": "2024-08-29T22:56:47.452Z"
   },
   {
    "duration": 133,
    "start_time": "2024-08-29T22:56:47.543Z"
   },
   {
    "duration": 14,
    "start_time": "2024-08-29T22:56:47.678Z"
   },
   {
    "duration": 0,
    "start_time": "2024-08-29T22:56:47.694Z"
   },
   {
    "duration": 0,
    "start_time": "2024-08-29T22:56:47.695Z"
   },
   {
    "duration": 0,
    "start_time": "2024-08-29T22:56:47.696Z"
   },
   {
    "duration": 0,
    "start_time": "2024-08-29T22:56:47.698Z"
   },
   {
    "duration": 0,
    "start_time": "2024-08-29T22:56:47.699Z"
   },
   {
    "duration": 21,
    "start_time": "2024-08-29T22:56:57.462Z"
   },
   {
    "duration": 15,
    "start_time": "2024-08-29T22:57:07.662Z"
   },
   {
    "duration": 16,
    "start_time": "2024-08-29T22:57:09.036Z"
   },
   {
    "duration": 122,
    "start_time": "2024-08-29T22:57:31.639Z"
   },
   {
    "duration": 97,
    "start_time": "2024-08-29T22:58:37.412Z"
   },
   {
    "duration": 121,
    "start_time": "2024-08-29T22:58:41.118Z"
   },
   {
    "duration": 159,
    "start_time": "2024-08-29T22:58:45.565Z"
   },
   {
    "duration": 166,
    "start_time": "2024-08-29T22:59:34.668Z"
   },
   {
    "duration": 8,
    "start_time": "2024-08-29T22:59:40.058Z"
   },
   {
    "duration": 39,
    "start_time": "2024-08-29T23:00:13.392Z"
   },
   {
    "duration": 126,
    "start_time": "2024-08-29T23:00:14.976Z"
   },
   {
    "duration": 46,
    "start_time": "2024-08-29T23:00:21.087Z"
   },
   {
    "duration": 72,
    "start_time": "2024-08-29T23:00:24.055Z"
   },
   {
    "duration": 93,
    "start_time": "2024-08-29T23:00:29.954Z"
   },
   {
    "duration": 65,
    "start_time": "2024-08-29T23:00:33.324Z"
   },
   {
    "duration": 47,
    "start_time": "2024-08-29T23:00:39.415Z"
   },
   {
    "duration": 257,
    "start_time": "2024-08-29T23:00:43.275Z"
   },
   {
    "duration": 22,
    "start_time": "2024-08-29T23:03:01.947Z"
   },
   {
    "duration": 60,
    "start_time": "2024-08-29T23:06:41.058Z"
   },
   {
    "duration": 129,
    "start_time": "2024-08-29T23:06:57.245Z"
   },
   {
    "duration": 199,
    "start_time": "2024-08-29T23:07:30.147Z"
   },
   {
    "duration": 129,
    "start_time": "2024-08-29T23:07:40.062Z"
   },
   {
    "duration": 147,
    "start_time": "2024-08-29T23:08:06.615Z"
   },
   {
    "duration": 62,
    "start_time": "2024-08-29T23:08:07.713Z"
   },
   {
    "duration": 627,
    "start_time": "2024-08-29T23:08:11.330Z"
   },
   {
    "duration": 11,
    "start_time": "2024-08-29T23:08:14.513Z"
   },
   {
    "duration": 71,
    "start_time": "2024-08-29T23:08:22.769Z"
   },
   {
    "duration": 14,
    "start_time": "2024-08-29T23:11:34.222Z"
   },
   {
    "duration": 13,
    "start_time": "2024-08-29T23:11:37.209Z"
   },
   {
    "duration": 3,
    "start_time": "2024-08-29T23:11:41.495Z"
   },
   {
    "duration": 5,
    "start_time": "2024-08-29T23:12:36.833Z"
   },
   {
    "duration": 5,
    "start_time": "2024-08-29T23:13:03.163Z"
   },
   {
    "duration": 4,
    "start_time": "2024-08-29T23:13:29.221Z"
   },
   {
    "duration": 4,
    "start_time": "2024-08-29T23:13:34.988Z"
   },
   {
    "duration": 4,
    "start_time": "2024-08-29T23:13:39.387Z"
   },
   {
    "duration": 5,
    "start_time": "2024-08-29T23:13:47.833Z"
   },
   {
    "duration": 8,
    "start_time": "2024-08-29T23:13:55.858Z"
   },
   {
    "duration": 3,
    "start_time": "2024-08-29T23:15:22.791Z"
   },
   {
    "duration": 392,
    "start_time": "2024-08-29T23:15:22.796Z"
   },
   {
    "duration": 10,
    "start_time": "2024-08-29T23:15:23.190Z"
   },
   {
    "duration": 67,
    "start_time": "2024-08-29T23:15:23.203Z"
   },
   {
    "duration": 97,
    "start_time": "2024-08-29T23:15:23.273Z"
   },
   {
    "duration": 62,
    "start_time": "2024-08-29T23:15:23.372Z"
   },
   {
    "duration": 88,
    "start_time": "2024-08-29T23:15:23.435Z"
   },
   {
    "duration": 207,
    "start_time": "2024-08-29T23:15:23.531Z"
   },
   {
    "duration": 211,
    "start_time": "2024-08-29T23:15:23.740Z"
   },
   {
    "duration": 240,
    "start_time": "2024-08-29T23:15:23.954Z"
   },
   {
    "duration": 94,
    "start_time": "2024-08-29T23:15:24.196Z"
   },
   {
    "duration": 1372,
    "start_time": "2024-08-29T23:15:24.292Z"
   },
   {
    "duration": 227,
    "start_time": "2024-08-29T23:15:25.665Z"
   },
   {
    "duration": 107,
    "start_time": "2024-08-29T23:15:25.895Z"
   },
   {
    "duration": 28,
    "start_time": "2024-08-29T23:15:26.004Z"
   },
   {
    "duration": 63,
    "start_time": "2024-08-29T23:15:26.034Z"
   },
   {
    "duration": 155,
    "start_time": "2024-08-29T23:15:26.099Z"
   },
   {
    "duration": 140,
    "start_time": "2024-08-29T23:15:26.256Z"
   },
   {
    "duration": 4,
    "start_time": "2024-08-29T23:15:36.609Z"
   },
   {
    "duration": 195,
    "start_time": "2024-08-29T23:15:44.250Z"
   },
   {
    "duration": 129,
    "start_time": "2024-08-29T23:15:46.097Z"
   },
   {
    "duration": 149,
    "start_time": "2024-08-29T23:15:49.067Z"
   },
   {
    "duration": 62,
    "start_time": "2024-08-29T23:15:50.483Z"
   },
   {
    "duration": 600,
    "start_time": "2024-08-29T23:15:53.380Z"
   },
   {
    "duration": 4,
    "start_time": "2024-08-29T23:15:54.636Z"
   },
   {
    "duration": 273,
    "start_time": "2024-08-29T23:15:57.099Z"
   },
   {
    "duration": 79,
    "start_time": "2024-08-29T23:17:33.720Z"
   },
   {
    "duration": 568,
    "start_time": "2024-08-29T23:17:38.852Z"
   },
   {
    "duration": 1351,
    "start_time": "2024-08-29T23:17:42.172Z"
   },
   {
    "duration": 2,
    "start_time": "2024-08-29T23:24:39.603Z"
   },
   {
    "duration": 152,
    "start_time": "2024-08-29T23:27:20.963Z"
   },
   {
    "duration": 2711,
    "start_time": "2024-08-30T20:04:50.236Z"
   },
   {
    "duration": 477,
    "start_time": "2024-08-30T20:04:52.949Z"
   },
   {
    "duration": 14,
    "start_time": "2024-08-30T20:04:53.427Z"
   },
   {
    "duration": 69,
    "start_time": "2024-08-30T20:04:53.443Z"
   },
   {
    "duration": 95,
    "start_time": "2024-08-30T20:04:53.514Z"
   },
   {
    "duration": 54,
    "start_time": "2024-08-30T20:04:53.611Z"
   },
   {
    "duration": 107,
    "start_time": "2024-08-30T20:04:53.666Z"
   },
   {
    "duration": 224,
    "start_time": "2024-08-30T20:04:53.774Z"
   },
   {
    "duration": 232,
    "start_time": "2024-08-30T20:04:54.000Z"
   },
   {
    "duration": 269,
    "start_time": "2024-08-30T20:04:54.235Z"
   },
   {
    "duration": 102,
    "start_time": "2024-08-30T20:04:54.509Z"
   },
   {
    "duration": 2,
    "start_time": "2024-08-30T20:04:54.614Z"
   },
   {
    "duration": 177,
    "start_time": "2024-08-30T20:04:54.619Z"
   },
   {
    "duration": 114,
    "start_time": "2024-08-30T20:04:54.798Z"
   },
   {
    "duration": 18,
    "start_time": "2024-08-30T20:04:54.914Z"
   },
   {
    "duration": 108,
    "start_time": "2024-08-30T20:04:54.933Z"
   },
   {
    "duration": 192,
    "start_time": "2024-08-30T20:04:55.043Z"
   },
   {
    "duration": 123,
    "start_time": "2024-08-30T20:04:55.237Z"
   },
   {
    "duration": 3,
    "start_time": "2024-08-30T20:04:55.362Z"
   },
   {
    "duration": 214,
    "start_time": "2024-08-30T20:04:55.368Z"
   },
   {
    "duration": 154,
    "start_time": "2024-08-30T20:04:55.584Z"
   },
   {
    "duration": 173,
    "start_time": "2024-08-30T20:04:55.740Z"
   },
   {
    "duration": 56,
    "start_time": "2024-08-30T20:04:55.915Z"
   },
   {
    "duration": 602,
    "start_time": "2024-08-30T20:04:55.973Z"
   },
   {
    "duration": 4,
    "start_time": "2024-08-30T20:04:56.577Z"
   },
   {
    "duration": 1492,
    "start_time": "2024-08-30T20:05:27.332Z"
   },
   {
    "duration": 4,
    "start_time": "2024-08-30T20:07:27.370Z"
   },
   {
    "duration": 401,
    "start_time": "2024-08-30T20:07:27.377Z"
   },
   {
    "duration": 10,
    "start_time": "2024-08-30T20:07:27.780Z"
   },
   {
    "duration": 65,
    "start_time": "2024-08-30T20:07:27.792Z"
   },
   {
    "duration": 92,
    "start_time": "2024-08-30T20:07:27.859Z"
   },
   {
    "duration": 67,
    "start_time": "2024-08-30T20:07:27.953Z"
   },
   {
    "duration": 98,
    "start_time": "2024-08-30T20:07:28.021Z"
   },
   {
    "duration": 203,
    "start_time": "2024-08-30T20:07:28.121Z"
   },
   {
    "duration": 210,
    "start_time": "2024-08-30T20:07:28.326Z"
   },
   {
    "duration": 241,
    "start_time": "2024-08-30T20:07:28.538Z"
   },
   {
    "duration": 93,
    "start_time": "2024-08-30T20:07:28.781Z"
   },
   {
    "duration": 1289,
    "start_time": "2024-08-30T20:07:28.876Z"
   },
   {
    "duration": 84,
    "start_time": "2024-08-30T20:13:55.481Z"
   },
   {
    "duration": 83,
    "start_time": "2024-08-30T20:14:03.953Z"
   },
   {
    "duration": 116,
    "start_time": "2024-08-30T20:14:05.954Z"
   },
   {
    "duration": 113,
    "start_time": "2024-08-30T20:14:08.498Z"
   },
   {
    "duration": 3,
    "start_time": "2024-08-30T20:14:09.208Z"
   },
   {
    "duration": 206,
    "start_time": "2024-08-30T20:14:09.742Z"
   },
   {
    "duration": 111,
    "start_time": "2024-08-30T20:14:10.369Z"
   },
   {
    "duration": 168,
    "start_time": "2024-08-30T20:15:15.720Z"
   },
   {
    "duration": 29,
    "start_time": "2024-08-30T20:15:17.794Z"
   },
   {
    "duration": 4,
    "start_time": "2024-08-30T20:15:48.950Z"
   },
   {
    "duration": 367,
    "start_time": "2024-08-30T20:15:48.957Z"
   },
   {
    "duration": 10,
    "start_time": "2024-08-30T20:15:49.326Z"
   },
   {
    "duration": 71,
    "start_time": "2024-08-30T20:15:49.339Z"
   },
   {
    "duration": 101,
    "start_time": "2024-08-30T20:15:49.412Z"
   },
   {
    "duration": 55,
    "start_time": "2024-08-30T20:15:49.515Z"
   },
   {
    "duration": 97,
    "start_time": "2024-08-30T20:15:49.572Z"
   },
   {
    "duration": 215,
    "start_time": "2024-08-30T20:15:49.671Z"
   },
   {
    "duration": 211,
    "start_time": "2024-08-30T20:15:49.887Z"
   },
   {
    "duration": 239,
    "start_time": "2024-08-30T20:15:50.108Z"
   },
   {
    "duration": 90,
    "start_time": "2024-08-30T20:15:50.348Z"
   },
   {
    "duration": 1256,
    "start_time": "2024-08-30T20:15:50.440Z"
   },
   {
    "duration": 85,
    "start_time": "2024-08-30T20:15:51.699Z"
   },
   {
    "duration": 79,
    "start_time": "2024-08-30T20:15:51.786Z"
   },
   {
    "duration": 131,
    "start_time": "2024-08-30T20:15:51.868Z"
   },
   {
    "duration": 122,
    "start_time": "2024-08-30T20:15:52.010Z"
   },
   {
    "duration": 4,
    "start_time": "2024-08-30T20:15:52.133Z"
   },
   {
    "duration": 223,
    "start_time": "2024-08-30T20:15:52.138Z"
   },
   {
    "duration": 101,
    "start_time": "2024-08-30T20:15:52.363Z"
   },
   {
    "duration": 165,
    "start_time": "2024-08-30T20:15:52.466Z"
   },
   {
    "duration": 36,
    "start_time": "2024-08-30T20:16:12.807Z"
   },
   {
    "duration": 593,
    "start_time": "2024-08-30T20:16:41.929Z"
   },
   {
    "duration": 3,
    "start_time": "2024-08-30T20:16:42.790Z"
   },
   {
    "duration": 12302,
    "start_time": "2024-08-30T20:16:44.387Z"
   },
   {
    "duration": 9638,
    "start_time": "2024-08-30T20:18:09.789Z"
   },
   {
    "duration": 9614,
    "start_time": "2024-08-30T20:18:34.513Z"
   },
   {
    "duration": 18,
    "start_time": "2024-08-30T20:25:25.049Z"
   },
   {
    "duration": 3,
    "start_time": "2024-08-30T20:25:46.270Z"
   },
   {
    "duration": 11288,
    "start_time": "2024-08-30T20:25:49.644Z"
   },
   {
    "duration": 17,
    "start_time": "2024-08-30T20:30:29.688Z"
   },
   {
    "duration": 21,
    "start_time": "2024-08-30T20:30:33.830Z"
   },
   {
    "duration": 15,
    "start_time": "2024-08-30T20:30:37.390Z"
   },
   {
    "duration": 4,
    "start_time": "2024-08-30T20:31:05.369Z"
   },
   {
    "duration": 16,
    "start_time": "2024-08-30T20:31:08.310Z"
   },
   {
    "duration": 158,
    "start_time": "2024-08-30T20:32:42.770Z"
   },
   {
    "duration": 1052,
    "start_time": "2024-08-30T21:58:14.184Z"
   },
   {
    "duration": 5,
    "start_time": "2024-08-30T21:58:26.491Z"
   },
   {
    "duration": 467,
    "start_time": "2024-08-30T21:58:26.498Z"
   },
   {
    "duration": 13,
    "start_time": "2024-08-30T21:58:26.969Z"
   },
   {
    "duration": 66,
    "start_time": "2024-08-30T21:58:26.984Z"
   },
   {
    "duration": 98,
    "start_time": "2024-08-30T21:58:27.053Z"
   },
   {
    "duration": 70,
    "start_time": "2024-08-30T21:58:27.153Z"
   },
   {
    "duration": 103,
    "start_time": "2024-08-30T21:58:27.225Z"
   },
   {
    "duration": 225,
    "start_time": "2024-08-30T21:58:27.329Z"
   },
   {
    "duration": 237,
    "start_time": "2024-08-30T21:58:27.556Z"
   },
   {
    "duration": 271,
    "start_time": "2024-08-30T21:58:27.797Z"
   },
   {
    "duration": 95,
    "start_time": "2024-08-30T21:58:28.070Z"
   },
   {
    "duration": 1223,
    "start_time": "2024-08-30T21:58:28.167Z"
   },
   {
    "duration": 88,
    "start_time": "2024-08-30T21:58:29.392Z"
   },
   {
    "duration": 80,
    "start_time": "2024-08-30T21:58:29.481Z"
   },
   {
    "duration": 137,
    "start_time": "2024-08-30T21:58:29.563Z"
   },
   {
    "duration": 133,
    "start_time": "2024-08-30T21:58:29.702Z"
   },
   {
    "duration": 3,
    "start_time": "2024-08-30T21:58:29.837Z"
   },
   {
    "duration": 228,
    "start_time": "2024-08-30T21:58:29.841Z"
   },
   {
    "duration": 108,
    "start_time": "2024-08-30T21:58:30.071Z"
   },
   {
    "duration": 168,
    "start_time": "2024-08-30T21:58:30.181Z"
   },
   {
    "duration": 37,
    "start_time": "2024-08-30T21:58:30.351Z"
   },
   {
    "duration": 614,
    "start_time": "2024-08-30T21:58:30.390Z"
   },
   {
    "duration": 9712,
    "start_time": "2024-08-30T21:58:31.008Z"
   },
   {
    "duration": 996,
    "start_time": "2024-08-30T21:59:22.278Z"
   },
   {
    "duration": 477,
    "start_time": "2024-08-30T21:59:23.276Z"
   },
   {
    "duration": 14,
    "start_time": "2024-08-30T21:59:23.754Z"
   },
   {
    "duration": 99,
    "start_time": "2024-08-30T21:59:23.771Z"
   },
   {
    "duration": 98,
    "start_time": "2024-08-30T21:59:23.872Z"
   },
   {
    "duration": 65,
    "start_time": "2024-08-30T21:59:23.972Z"
   },
   {
    "duration": 93,
    "start_time": "2024-08-30T21:59:24.039Z"
   },
   {
    "duration": 245,
    "start_time": "2024-08-30T21:59:24.134Z"
   },
   {
    "duration": 238,
    "start_time": "2024-08-30T21:59:24.381Z"
   },
   {
    "duration": 279,
    "start_time": "2024-08-30T21:59:24.623Z"
   },
   {
    "duration": 90,
    "start_time": "2024-08-30T21:59:24.903Z"
   },
   {
    "duration": 1272,
    "start_time": "2024-08-30T21:59:24.994Z"
   },
   {
    "duration": 92,
    "start_time": "2024-08-30T21:59:26.267Z"
   },
   {
    "duration": 77,
    "start_time": "2024-08-30T21:59:26.361Z"
   },
   {
    "duration": 134,
    "start_time": "2024-08-30T21:59:26.440Z"
   },
   {
    "duration": 127,
    "start_time": "2024-08-30T21:59:26.576Z"
   },
   {
    "duration": 4,
    "start_time": "2024-08-30T21:59:26.705Z"
   },
   {
    "duration": 217,
    "start_time": "2024-08-30T21:59:26.712Z"
   },
   {
    "duration": 110,
    "start_time": "2024-08-30T21:59:26.930Z"
   },
   {
    "duration": 168,
    "start_time": "2024-08-30T21:59:27.042Z"
   },
   {
    "duration": 38,
    "start_time": "2024-08-30T21:59:27.212Z"
   },
   {
    "duration": 628,
    "start_time": "2024-08-30T21:59:27.252Z"
   },
   {
    "duration": 9759,
    "start_time": "2024-08-30T21:59:27.882Z"
   },
   {
    "duration": 161,
    "start_time": "2024-08-30T22:01:01.890Z"
   },
   {
    "duration": 1119,
    "start_time": "2024-08-30T22:01:49.416Z"
   },
   {
    "duration": 91,
    "start_time": "2024-08-30T22:01:55.658Z"
   },
   {
    "duration": 4,
    "start_time": "2024-08-30T22:02:03.323Z"
   },
   {
    "duration": 469,
    "start_time": "2024-08-30T22:02:03.331Z"
   },
   {
    "duration": 14,
    "start_time": "2024-08-30T22:02:03.803Z"
   },
   {
    "duration": 59,
    "start_time": "2024-08-30T22:02:03.819Z"
   },
   {
    "duration": 106,
    "start_time": "2024-08-30T22:02:03.879Z"
   },
   {
    "duration": 64,
    "start_time": "2024-08-30T22:02:03.988Z"
   },
   {
    "duration": 94,
    "start_time": "2024-08-30T22:02:04.053Z"
   },
   {
    "duration": 226,
    "start_time": "2024-08-30T22:02:04.149Z"
   },
   {
    "duration": 247,
    "start_time": "2024-08-30T22:02:04.377Z"
   },
   {
    "duration": 278,
    "start_time": "2024-08-30T22:02:04.626Z"
   },
   {
    "duration": 101,
    "start_time": "2024-08-30T22:02:04.908Z"
   },
   {
    "duration": 1235,
    "start_time": "2024-08-30T22:02:05.010Z"
   },
   {
    "duration": 91,
    "start_time": "2024-08-30T22:02:06.247Z"
   },
   {
    "duration": 73,
    "start_time": "2024-08-30T22:02:06.339Z"
   },
   {
    "duration": 132,
    "start_time": "2024-08-30T22:02:06.416Z"
   },
   {
    "duration": 124,
    "start_time": "2024-08-30T22:02:06.551Z"
   },
   {
    "duration": 3,
    "start_time": "2024-08-30T22:02:06.677Z"
   },
   {
    "duration": 216,
    "start_time": "2024-08-30T22:02:06.683Z"
   },
   {
    "duration": 108,
    "start_time": "2024-08-30T22:02:06.900Z"
   },
   {
    "duration": 163,
    "start_time": "2024-08-30T22:02:07.010Z"
   },
   {
    "duration": 51,
    "start_time": "2024-08-30T22:02:07.174Z"
   },
   {
    "duration": 631,
    "start_time": "2024-08-30T22:02:07.227Z"
   },
   {
    "duration": 9887,
    "start_time": "2024-08-30T22:02:07.859Z"
   },
   {
    "duration": 159,
    "start_time": "2024-08-30T22:04:06.764Z"
   },
   {
    "duration": 1102,
    "start_time": "2024-08-30T22:04:17.152Z"
   },
   {
    "duration": 458,
    "start_time": "2024-08-30T22:04:18.256Z"
   },
   {
    "duration": 13,
    "start_time": "2024-08-30T22:04:18.716Z"
   },
   {
    "duration": 80,
    "start_time": "2024-08-30T22:04:18.732Z"
   },
   {
    "duration": 95,
    "start_time": "2024-08-30T22:04:18.814Z"
   },
   {
    "duration": 57,
    "start_time": "2024-08-30T22:04:18.910Z"
   },
   {
    "duration": 105,
    "start_time": "2024-08-30T22:04:18.968Z"
   },
   {
    "duration": 221,
    "start_time": "2024-08-30T22:04:19.075Z"
   },
   {
    "duration": 236,
    "start_time": "2024-08-30T22:04:19.298Z"
   },
   {
    "duration": 280,
    "start_time": "2024-08-30T22:04:19.538Z"
   },
   {
    "duration": 94,
    "start_time": "2024-08-30T22:04:19.822Z"
   },
   {
    "duration": 1238,
    "start_time": "2024-08-30T22:04:19.918Z"
   },
   {
    "duration": 87,
    "start_time": "2024-08-30T22:04:21.157Z"
   },
   {
    "duration": 73,
    "start_time": "2024-08-30T22:04:21.246Z"
   },
   {
    "duration": 140,
    "start_time": "2024-08-30T22:04:21.321Z"
   },
   {
    "duration": 132,
    "start_time": "2024-08-30T22:04:21.464Z"
   },
   {
    "duration": 4,
    "start_time": "2024-08-30T22:04:21.597Z"
   },
   {
    "duration": 227,
    "start_time": "2024-08-30T22:04:21.602Z"
   },
   {
    "duration": 109,
    "start_time": "2024-08-30T22:04:21.831Z"
   },
   {
    "duration": 155,
    "start_time": "2024-08-30T22:04:21.942Z"
   },
   {
    "duration": 41,
    "start_time": "2024-08-30T22:04:22.099Z"
   },
   {
    "duration": 580,
    "start_time": "2024-08-30T22:04:22.142Z"
   },
   {
    "duration": 9990,
    "start_time": "2024-08-30T22:04:22.724Z"
   },
   {
    "duration": 161,
    "start_time": "2024-08-30T22:05:28.557Z"
   },
   {
    "duration": 1070,
    "start_time": "2024-08-30T22:05:34.989Z"
   },
   {
    "duration": 499,
    "start_time": "2024-08-30T22:05:36.061Z"
   },
   {
    "duration": 14,
    "start_time": "2024-08-30T22:05:36.562Z"
   },
   {
    "duration": 96,
    "start_time": "2024-08-30T22:05:36.579Z"
   },
   {
    "duration": 96,
    "start_time": "2024-08-30T22:05:36.677Z"
   },
   {
    "duration": 68,
    "start_time": "2024-08-30T22:05:36.774Z"
   },
   {
    "duration": 88,
    "start_time": "2024-08-30T22:05:36.844Z"
   },
   {
    "duration": 250,
    "start_time": "2024-08-30T22:05:36.934Z"
   },
   {
    "duration": 267,
    "start_time": "2024-08-30T22:05:37.186Z"
   },
   {
    "duration": 299,
    "start_time": "2024-08-30T22:05:37.455Z"
   },
   {
    "duration": 94,
    "start_time": "2024-08-30T22:05:37.755Z"
   },
   {
    "duration": 1280,
    "start_time": "2024-08-30T22:05:37.851Z"
   },
   {
    "duration": 89,
    "start_time": "2024-08-30T22:05:39.133Z"
   },
   {
    "duration": 71,
    "start_time": "2024-08-30T22:05:39.224Z"
   },
   {
    "duration": 140,
    "start_time": "2024-08-30T22:05:39.296Z"
   },
   {
    "duration": 123,
    "start_time": "2024-08-30T22:05:39.438Z"
   },
   {
    "duration": 4,
    "start_time": "2024-08-30T22:05:39.563Z"
   },
   {
    "duration": 263,
    "start_time": "2024-08-30T22:05:39.568Z"
   },
   {
    "duration": 107,
    "start_time": "2024-08-30T22:05:39.833Z"
   },
   {
    "duration": 163,
    "start_time": "2024-08-30T22:05:39.942Z"
   },
   {
    "duration": 36,
    "start_time": "2024-08-30T22:05:40.106Z"
   },
   {
    "duration": 602,
    "start_time": "2024-08-30T22:05:40.145Z"
   },
   {
    "duration": 10090,
    "start_time": "2024-08-30T22:05:40.749Z"
   },
   {
    "duration": 3,
    "start_time": "2024-08-30T22:06:00.596Z"
   },
   {
    "duration": 1042,
    "start_time": "2024-08-30T22:08:25.481Z"
   },
   {
    "duration": 458,
    "start_time": "2024-08-30T22:08:26.525Z"
   },
   {
    "duration": 14,
    "start_time": "2024-08-30T22:08:26.984Z"
   },
   {
    "duration": 55,
    "start_time": "2024-08-30T22:08:27.008Z"
   },
   {
    "duration": 99,
    "start_time": "2024-08-30T22:08:27.066Z"
   },
   {
    "duration": 75,
    "start_time": "2024-08-30T22:08:27.167Z"
   },
   {
    "duration": 104,
    "start_time": "2024-08-30T22:08:27.244Z"
   },
   {
    "duration": 232,
    "start_time": "2024-08-30T22:08:27.350Z"
   },
   {
    "duration": 237,
    "start_time": "2024-08-30T22:08:27.584Z"
   },
   {
    "duration": 268,
    "start_time": "2024-08-30T22:08:27.822Z"
   },
   {
    "duration": 94,
    "start_time": "2024-08-30T22:08:28.092Z"
   },
   {
    "duration": 1303,
    "start_time": "2024-08-30T22:08:28.188Z"
   },
   {
    "duration": 88,
    "start_time": "2024-08-30T22:08:29.493Z"
   },
   {
    "duration": 71,
    "start_time": "2024-08-30T22:08:29.585Z"
   },
   {
    "duration": 140,
    "start_time": "2024-08-30T22:08:29.658Z"
   },
   {
    "duration": 127,
    "start_time": "2024-08-30T22:08:29.800Z"
   },
   {
    "duration": 4,
    "start_time": "2024-08-30T22:08:29.928Z"
   },
   {
    "duration": 220,
    "start_time": "2024-08-30T22:08:29.934Z"
   },
   {
    "duration": 107,
    "start_time": "2024-08-30T22:08:30.157Z"
   },
   {
    "duration": 158,
    "start_time": "2024-08-30T22:08:30.266Z"
   },
   {
    "duration": 37,
    "start_time": "2024-08-30T22:08:30.426Z"
   },
   {
    "duration": 607,
    "start_time": "2024-08-30T22:08:30.465Z"
   },
   {
    "duration": 9842,
    "start_time": "2024-08-30T22:08:31.074Z"
   },
   {
    "duration": 10,
    "start_time": "2024-08-30T22:08:40.917Z"
   },
   {
    "duration": 82,
    "start_time": "2024-08-30T22:08:40.928Z"
   },
   {
    "duration": 248,
    "start_time": "2024-08-30T22:08:41.012Z"
   },
   {
    "duration": 0,
    "start_time": "2024-08-30T22:08:41.262Z"
   },
   {
    "duration": 13,
    "start_time": "2024-08-30T22:09:34.903Z"
   },
   {
    "duration": 4,
    "start_time": "2024-08-30T22:09:40.568Z"
   },
   {
    "duration": 377,
    "start_time": "2024-08-30T22:09:40.575Z"
   },
   {
    "duration": 11,
    "start_time": "2024-08-30T22:09:40.954Z"
   },
   {
    "duration": 70,
    "start_time": "2024-08-30T22:09:40.967Z"
   },
   {
    "duration": 93,
    "start_time": "2024-08-30T22:09:41.039Z"
   },
   {
    "duration": 54,
    "start_time": "2024-08-30T22:09:41.134Z"
   },
   {
    "duration": 101,
    "start_time": "2024-08-30T22:09:41.190Z"
   },
   {
    "duration": 204,
    "start_time": "2024-08-30T22:09:41.293Z"
   },
   {
    "duration": 217,
    "start_time": "2024-08-30T22:09:41.499Z"
   },
   {
    "duration": 247,
    "start_time": "2024-08-30T22:09:41.718Z"
   },
   {
    "duration": 93,
    "start_time": "2024-08-30T22:09:41.967Z"
   },
   {
    "duration": 1284,
    "start_time": "2024-08-30T22:09:42.062Z"
   },
   {
    "duration": 88,
    "start_time": "2024-08-30T22:09:43.348Z"
   },
   {
    "duration": 75,
    "start_time": "2024-08-30T22:09:43.438Z"
   },
   {
    "duration": 123,
    "start_time": "2024-08-30T22:09:43.515Z"
   },
   {
    "duration": 123,
    "start_time": "2024-08-30T22:09:43.640Z"
   },
   {
    "duration": 3,
    "start_time": "2024-08-30T22:09:43.765Z"
   },
   {
    "duration": 216,
    "start_time": "2024-08-30T22:09:43.771Z"
   },
   {
    "duration": 110,
    "start_time": "2024-08-30T22:09:43.989Z"
   },
   {
    "duration": 161,
    "start_time": "2024-08-30T22:09:44.110Z"
   },
   {
    "duration": 39,
    "start_time": "2024-08-30T22:09:44.273Z"
   },
   {
    "duration": 592,
    "start_time": "2024-08-30T22:09:44.314Z"
   },
   {
    "duration": 9910,
    "start_time": "2024-08-30T22:09:44.908Z"
   },
   {
    "duration": 3,
    "start_time": "2024-08-30T22:09:54.819Z"
   },
   {
    "duration": 1075,
    "start_time": "2024-09-02T17:57:02.317Z"
   },
   {
    "duration": 655,
    "start_time": "2024-09-02T17:57:03.397Z"
   },
   {
    "duration": 0,
    "start_time": "2024-09-02T17:57:04.056Z"
   },
   {
    "duration": 0,
    "start_time": "2024-09-02T17:57:04.057Z"
   },
   {
    "duration": 0,
    "start_time": "2024-09-02T17:57:04.058Z"
   },
   {
    "duration": 0,
    "start_time": "2024-09-02T17:57:04.060Z"
   },
   {
    "duration": 0,
    "start_time": "2024-09-02T17:57:04.061Z"
   },
   {
    "duration": 0,
    "start_time": "2024-09-02T17:57:04.070Z"
   },
   {
    "duration": 0,
    "start_time": "2024-09-02T17:57:04.071Z"
   },
   {
    "duration": 0,
    "start_time": "2024-09-02T17:57:04.073Z"
   },
   {
    "duration": 0,
    "start_time": "2024-09-02T17:57:04.075Z"
   },
   {
    "duration": 0,
    "start_time": "2024-09-02T17:57:04.076Z"
   },
   {
    "duration": 0,
    "start_time": "2024-09-02T17:57:04.077Z"
   },
   {
    "duration": 0,
    "start_time": "2024-09-02T17:57:04.078Z"
   },
   {
    "duration": 0,
    "start_time": "2024-09-02T17:57:04.079Z"
   },
   {
    "duration": 0,
    "start_time": "2024-09-02T17:57:04.080Z"
   },
   {
    "duration": 0,
    "start_time": "2024-09-02T17:57:04.081Z"
   },
   {
    "duration": 0,
    "start_time": "2024-09-02T17:57:04.082Z"
   },
   {
    "duration": 0,
    "start_time": "2024-09-02T17:57:04.084Z"
   },
   {
    "duration": 0,
    "start_time": "2024-09-02T17:57:04.085Z"
   },
   {
    "duration": 0,
    "start_time": "2024-09-02T17:57:04.086Z"
   },
   {
    "duration": 0,
    "start_time": "2024-09-02T17:57:04.088Z"
   },
   {
    "duration": 0,
    "start_time": "2024-09-02T17:57:04.089Z"
   },
   {
    "duration": 0,
    "start_time": "2024-09-02T17:57:04.090Z"
   },
   {
    "duration": 0,
    "start_time": "2024-09-02T17:57:04.092Z"
   },
   {
    "duration": 0,
    "start_time": "2024-09-02T17:57:04.093Z"
   },
   {
    "duration": 0,
    "start_time": "2024-09-02T17:57:04.094Z"
   },
   {
    "duration": 0,
    "start_time": "2024-09-02T17:57:04.099Z"
   },
   {
    "duration": 0,
    "start_time": "2024-09-02T17:57:04.101Z"
   },
   {
    "duration": 0,
    "start_time": "2024-09-02T17:57:04.102Z"
   },
   {
    "duration": 0,
    "start_time": "2024-09-02T17:57:04.103Z"
   },
   {
    "duration": 5,
    "start_time": "2024-09-02T17:57:14.013Z"
   },
   {
    "duration": 454,
    "start_time": "2024-09-02T17:57:14.020Z"
   },
   {
    "duration": 13,
    "start_time": "2024-09-02T17:57:14.476Z"
   },
   {
    "duration": 95,
    "start_time": "2024-09-02T17:57:14.490Z"
   },
   {
    "duration": 111,
    "start_time": "2024-09-02T17:57:14.589Z"
   },
   {
    "duration": 54,
    "start_time": "2024-09-02T17:57:14.702Z"
   },
   {
    "duration": 99,
    "start_time": "2024-09-02T17:57:14.758Z"
   },
   {
    "duration": 225,
    "start_time": "2024-09-02T17:57:14.859Z"
   },
   {
    "duration": 231,
    "start_time": "2024-09-02T17:57:15.086Z"
   },
   {
    "duration": 265,
    "start_time": "2024-09-02T17:57:15.319Z"
   },
   {
    "duration": 100,
    "start_time": "2024-09-02T17:57:15.586Z"
   },
   {
    "duration": 1325,
    "start_time": "2024-09-02T17:57:15.688Z"
   },
   {
    "duration": 93,
    "start_time": "2024-09-02T17:57:17.015Z"
   },
   {
    "duration": 77,
    "start_time": "2024-09-02T17:57:17.112Z"
   },
   {
    "duration": 131,
    "start_time": "2024-09-02T17:57:17.191Z"
   },
   {
    "duration": 127,
    "start_time": "2024-09-02T17:57:17.324Z"
   },
   {
    "duration": 3,
    "start_time": "2024-09-02T17:57:17.453Z"
   },
   {
    "duration": 216,
    "start_time": "2024-09-02T17:57:17.457Z"
   },
   {
    "duration": 102,
    "start_time": "2024-09-02T17:57:17.675Z"
   },
   {
    "duration": 158,
    "start_time": "2024-09-02T17:57:17.779Z"
   },
   {
    "duration": 44,
    "start_time": "2024-09-02T17:57:17.938Z"
   },
   {
    "duration": 3,
    "start_time": "2024-09-02T17:57:17.984Z"
   },
   {
    "duration": 582,
    "start_time": "2024-09-02T17:57:17.988Z"
   },
   {
    "duration": 10140,
    "start_time": "2024-09-02T17:57:18.571Z"
   }
  ],
  "kernelspec": {
   "display_name": "Python 3 (ipykernel)",
   "language": "python",
   "name": "python3"
  },
  "language_info": {
   "codemirror_mode": {
    "name": "ipython",
    "version": 3
   },
   "file_extension": ".py",
   "mimetype": "text/x-python",
   "name": "python",
   "nbconvert_exporter": "python",
   "pygments_lexer": "ipython3",
   "version": "3.11.7"
  },
  "toc": {
   "base_numbering": 1,
   "nav_menu": {},
   "number_sections": true,
   "sideBar": true,
   "skip_h1_title": true,
   "title_cell": "Table of Contents",
   "title_sidebar": "Contents",
   "toc_cell": false,
   "toc_position": {},
   "toc_section_display": true,
   "toc_window_display": false
  }
 },
 "nbformat": 4,
 "nbformat_minor": 2
}
